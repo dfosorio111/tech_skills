{
  "cells": [
    {
      "cell_type": "markdown",
      "metadata": {
        "id": "view-in-github",
        "colab_type": "text"
      },
      "source": [
        "<a href=\"https://colab.research.google.com/github/januverma/transformers-stuff/blob/main/GPT_Transformer.ipynb\" target=\"_parent\"><img src=\"https://colab.research.google.com/assets/colab-badge.svg\" alt=\"Open In Colab\"/></a>"
      ]
    },
    {
      "cell_type": "markdown",
      "source": [
        "Transformer model has emerged as one of the most powerful neural network architecture in past couple of years. These models have enabled the development of large language models (LLMs) aka foundation models like GPT-3 and BERT. Ealrier this month, ChatGPT took the world by storm which is a GPT model trained to generate text in response to a human provided prompt. There is hardly any area of deep learning which is not revolutionized by the transformer models. It is worthwhile to understand various components of the transformer architecture. In this notebook, we will implement a transformer encoder model to build our own GPT model using PyTorch."
      ],
      "metadata": {
        "id": "oFYeiwvXeByv"
      },
      "id": "oFYeiwvXeByv"
    },
    {
      "cell_type": "markdown",
      "source": [
        "Let's start with importing relevant python libraries."
      ],
      "metadata": {
        "id": "qUPx4hHqnDHP"
      },
      "id": "qUPx4hHqnDHP"
    },
    {
      "cell_type": "code",
      "execution_count": 2,
      "id": "972284fc",
      "metadata": {
        "id": "972284fc"
      },
      "outputs": [],
      "source": [
        "import torch\n",
        "import torch.nn as nn\n",
        "import torch.nn.functional as F\n",
        "\n",
        "import numpy as np\n",
        "import math\n",
        "import matplotlib.pyplot as plt"
      ]
    },
    {
      "cell_type": "markdown",
      "id": "89dcf3da",
      "metadata": {
        "id": "89dcf3da"
      },
      "source": [
        "At a high-level, a transformer encoder layer consists of multi-head self-attention layer and a point-wise feed-forward block.  \n"
      ]
    },
    {
      "cell_type": "markdown",
      "id": "64c419e0",
      "metadata": {
        "id": "64c419e0"
      },
      "source": [
        "## Multi-head self-attention block\n",
        "\n",
        "Self-attention provides a mechanism for tokens at different positions in the sequence to interact with each other and computes scores which quantify the relative importance of the tokens for each other. The output of the attention module is a vector representation of each token which is defined as the weighted sum of the input token embeddings of all the tokens in the sequence. The weighting is provided by the attention scores. \n",
        "\n",
        "In general, attention can be defined for a given query and a set of key-value pairs where query, keys and values are all vectors. The output of the attention is vector which is the weighted sum of the value vectors where the weight for each value  depends on the compatibility of the corresponding key with the query. In the orginal paper, the authors adopted scaled dot-product attention which uses dot-products of the keys and the query  to compute attention weights.Let $K, Q, V$ be matrices of Keys, Queries and Values, then the attention score is computed as \n",
        "$$Attention(Q, K, V) = softmax(\\frac{QK^T}{\\sqrt{d}}) V$$ \n",
        "\n",
        "Following the original paper, we use multi-headed attention i.e. rather than only computing the attention once, the multi-head mechanism runs through the scaled dot-product attention multiple times in parallel. The output of each head is then concatenated and linearly transformed to produce single embedding for each token. Multi-headed attention has evolved to be a standard in attention models since it allows the model to jointly attend to information from different representation sub-spaces at different positions. \n",
        "$$MultiHead(Q, K, V) = Concat(Head_1, Head_2, \\ldots Head_h)$$\n",
        "$$Head_i = Attention(QW_i^Q, KW_i^K, VW_i^V)$$\n",
        "where the projections are parameter matrices. \n",
        "\n",
        "In this tutorial, we will use PyTorch implementation of multi-head attention which comes as [`MultiheadAttention`](https://pytorch.org/docs/stable/generated/torch.nn.MultiheadAttention.html) layer. An advantage of using `MultiHeadAttention` layer is that it has support for adding masks which makes the architecture more flexible in terms on where to apply attention. There is a `key_mask` to choose tokens in the key to ignore (useful when e.g. padding is applied to sequences), and `attention_mask` which allows selection of positions to ignore (useful e.g. in autoregressive models where it is not okay to look forward or decoder models) while calculating the attention scores."
      ]
    },
    {
      "cell_type": "code",
      "execution_count": 53,
      "id": "38612993",
      "metadata": {
        "id": "38612993"
      },
      "outputs": [],
      "source": [
        "class MultiHeadSelfAttention(nn.Module):\n",
        "    '''\n",
        "    Implements MHSA using the PyTorch MultiheadAttention Layer.\n",
        "    '''\n",
        "    def __init__(self, hidden_dim, num_heads, dropout):\n",
        "        '''\n",
        "        Arguments:\n",
        "            hidden_dim: Dimension of the output of the self-attention.\n",
        "            num_heads: Number of heads for the multi-head attention. \n",
        "            dropout: Dropout probability for the self-attention. If `0.0` then no dropout will be used.\n",
        "            \n",
        "        Returns:\n",
        "            A tensor of shape `num_tokens x hidden_size` containing output of the MHSA for each token.\n",
        "        '''\n",
        "        super().__init__()\n",
        "        if hidden_dim % num_heads != 0:\n",
        "            print('The hidden size {} is not a multiple of the number of heads {}'.format(hidden_dim, num_heads))\n",
        "        self.attention_layer = nn.MultiheadAttention(hidden_dim, num_heads, dropout=dropout, batch_first=True)\n",
        "    def forward(self, x, key_padding_mask=None, attention_mask=None):\n",
        "        '''\n",
        "        Arguments:\n",
        "            x: Tensor containing input token embeddings.\n",
        "            key_padding_mask: Mask indicating which elements within the input sequence to be considered as padding and ignored for the computation of self-attention scores.  \n",
        "            attention_mask: Mask indicating which relative positions are allowed to attend.  \n",
        "        '''\n",
        "        return self.attention_layer(query=x, key=x, value=x, key_padding_mask=key_padding_mask, attn_mask=attention_mask)\n"
      ]
    },
    {
      "cell_type": "markdown",
      "id": "51f054f3",
      "metadata": {
        "id": "51f054f3"
      },
      "source": [
        "Let's explore the working of the `MultiHeadAttention` layer a bit. Consider a random tensor called `key` which can be thought of as representing a sequence of length 5 where each element in the sequence is encoded with a 8-dimensional embedding. For example, key could be representing a sentence of 5 words where each word has 8-dimensional word embedding.  "
      ]
    },
    {
      "cell_type": "code",
      "execution_count": 54,
      "id": "c13b87c8",
      "metadata": {
        "colab": {
          "base_uri": "https://localhost:8080/"
        },
        "id": "c13b87c8",
        "outputId": "e852fe7e-8d16-4e31-8338-5e0aab8a4029"
      },
      "outputs": [
        {
          "output_type": "execute_result",
          "data": {
            "text/plain": [
              "tensor([[[ 1.3666,  0.3002,  3.2257, -2.1703, -1.0573,  2.2189,  1.4424,\n",
              "          -0.7223],\n",
              "         [-0.5133, -0.2807, -0.2915,  0.3097,  2.2854, -0.4527,  2.0117,\n",
              "          -0.4278],\n",
              "         [ 1.2703,  0.4770, -0.3417,  1.5140,  1.0205, -0.0381,  0.8618,\n",
              "           1.5436],\n",
              "         [-0.5828,  1.4535,  0.6763, -0.7810, -0.0103, -0.9812,  0.4252,\n",
              "          -0.4465],\n",
              "         [-1.5193, -0.2806,  0.4602, -1.5507, -0.7799, -0.5019,  0.8581,\n",
              "           1.3342]]])"
            ]
          },
          "metadata": {},
          "execution_count": 54
        }
      ],
      "source": [
        "num_batches = 1\n",
        "seq_len = 5\n",
        "embed_dim = 8\n",
        "key = torch.randn(num_batches,seq_len,embed_dim)\n",
        "key"
      ]
    },
    {
      "cell_type": "code",
      "execution_count": 55,
      "id": "851be9a8",
      "metadata": {
        "id": "851be9a8"
      },
      "outputs": [],
      "source": [
        "attention_hidden_size = embed_dim\n",
        "num_heads = 1"
      ]
    },
    {
      "cell_type": "code",
      "execution_count": 56,
      "id": "744ffe70",
      "metadata": {
        "id": "744ffe70"
      },
      "outputs": [],
      "source": [
        "mhsa = MultiHeadSelfAttention(attention_hidden_size, num_heads, dropout=0.1)\n",
        "attention_output, attention_weights = mhsa(key)"
      ]
    },
    {
      "cell_type": "markdown",
      "id": "cf22b493",
      "metadata": {
        "id": "cf22b493"
      },
      "source": [
        "The output of the self-attention operator produces a vector output embedding for each token in the sequence of dimension `attention_hidden_size` which are fed to the subsequent (attention or otherwise) layers. "
      ]
    },
    {
      "cell_type": "code",
      "execution_count": 57,
      "id": "2adeda7e",
      "metadata": {
        "colab": {
          "base_uri": "https://localhost:8080/"
        },
        "id": "2adeda7e",
        "outputId": "12b53f23-41f8-4403-babf-e79d9010e2c1"
      },
      "outputs": [
        {
          "output_type": "execute_result",
          "data": {
            "text/plain": [
              "tensor([[[ 0.4408, -0.4671,  0.0352, -0.3119,  0.0832, -0.3746, -0.2145,\n",
              "          -0.2026],\n",
              "         [ 0.6960, -0.4267,  0.1504, -0.3524,  0.1847, -0.2938, -0.3021,\n",
              "          -0.4950],\n",
              "         [ 0.7830, -0.3058,  0.1768, -0.2435,  0.2469, -0.1573, -0.3238,\n",
              "          -0.6513],\n",
              "         [ 0.4041, -0.1362,  0.1217, -0.2706,  0.1599, -0.2396, -0.1533,\n",
              "          -0.3026],\n",
              "         [ 0.5041, -0.2543,  0.1512, -0.3539,  0.2130, -0.2330, -0.2164,\n",
              "          -0.4725]]], grad_fn=<TransposeBackward0>)"
            ]
          },
          "metadata": {},
          "execution_count": 57
        }
      ],
      "source": [
        "attention_output"
      ]
    },
    {
      "cell_type": "markdown",
      "id": "c5157856",
      "metadata": {
        "id": "c5157856"
      },
      "source": [
        "In addition, the `MultiHeadAttention` produces a tensor called `attention_weights` which contains the pair-wise attention-scores for the tokens i.e. their relative importance to each other. We get a `seq_length x seq_length` matrix."
      ]
    },
    {
      "cell_type": "code",
      "execution_count": 58,
      "id": "4788d5af",
      "metadata": {
        "colab": {
          "base_uri": "https://localhost:8080/"
        },
        "id": "4788d5af",
        "outputId": "ebd69e59-df90-4dbe-c39b-c739a42bf23e"
      },
      "outputs": [
        {
          "output_type": "execute_result",
          "data": {
            "text/plain": [
              "tensor([[[0.0857, 0.2108, 0.5293, 0.1330, 0.1523],\n",
              "         [0.2534, 0.2171, 0.3006, 0.1062, 0.2339],\n",
              "         [0.3358, 0.0000, 0.1740, 0.1888, 0.2020],\n",
              "         [0.1373, 0.0000, 0.2353, 0.2688, 0.2135],\n",
              "         [0.1969, 0.2445, 0.0000, 0.1988, 0.1941]]], grad_fn=<DivBackward0>)"
            ]
          },
          "metadata": {},
          "execution_count": 58
        }
      ],
      "source": [
        "attention_weights"
      ]
    },
    {
      "cell_type": "markdown",
      "source": [
        "Plotting the attention weights on a grid gives high-level understanding of correlation between the tokens. In language translation tasks, such a heatmap provides a coarse word level translation or at least which words in the source sequence are most relevant for a word in the target sequence. "
      ],
      "metadata": {
        "id": "gHxDEWsW_o_p"
      },
      "id": "gHxDEWsW_o_p"
    },
    {
      "cell_type": "code",
      "execution_count": 59,
      "id": "fd6f8702",
      "metadata": {
        "colab": {
          "base_uri": "https://localhost:8080/",
          "height": 265
        },
        "id": "fd6f8702",
        "outputId": "c6382fe2-edb0-4275-da15-5949886b0052"
      },
      "outputs": [
        {
          "output_type": "display_data",
          "data": {
            "text/plain": [
              "<Figure size 432x288 with 1 Axes>"
            ],
            "image/png": "[encoded data removed]"
          },
          "metadata": {
            "needs_background": "light"
          }
        }
      ],
      "source": [
        "attention_weights = attention_weights.squeeze()\n",
        "plt.imshow(attention_weights.detach(), cmap='YlOrBr')\n",
        "plt.show()"
      ]
    },
    {
      "cell_type": "markdown",
      "source": [
        "## Feed-forward block\n",
        "\n",
        "The output vector for each token in the sequence is fed to a neural network block consisting of feed-forward layers. "
      ],
      "metadata": {
        "id": "lNlDLuzRb3Mu"
      },
      "id": "lNlDLuzRb3Mu"
    },
    {
      "cell_type": "code",
      "execution_count": 60,
      "id": "3ef31f77",
      "metadata": {
        "id": "3ef31f77"
      },
      "outputs": [],
      "source": [
        "class FeedForward(nn.Module):\n",
        "    '''\n",
        "    Implements the feed-forward component of the transfomer model.\n",
        "    '''\n",
        "    def __init__(self, input_dim, hidden_dim, dropout=0.0):\n",
        "        '''\n",
        "        Arguments:\n",
        "            input_dim: Dimension of the token embedding, output of the MHSA layer.\n",
        "            hidden_dim: Hidden size of the Transformer that this feed-forward layer is part of.\n",
        "            dropout: Dropout probability to use for the projected activations. If `0.0` then no dropout will be used.\n",
        "        Returns:\n",
        "            A tensor of shape `num_tokens x hidden_dim` containing projections for each token.\n",
        "        '''\n",
        "        super().__init__()\n",
        "        self.activation = nn.ReLU()\n",
        "        self.dropout = nn.Dropout(dropout)\n",
        "        self.layer_1 = nn.Linear(input_dim, hidden_dim)\n",
        "        self.layer_2 = nn.Linear(hidden_dim, input_dim)\n",
        "    def forward(self, x):\n",
        "        x = self.layer_1(x)\n",
        "        x = self.activation(x)\n",
        "        x = self.dropout(x)\n",
        "        x = self.layer_2(x)\n",
        "        return x\n"
      ]
    },
    {
      "cell_type": "code",
      "execution_count": 61,
      "id": "e2d56368",
      "metadata": {
        "colab": {
          "base_uri": "https://localhost:8080/"
        },
        "id": "e2d56368",
        "outputId": "1eee2885-4c54-4017-b444-164197e7990a"
      },
      "outputs": [
        {
          "output_type": "execute_result",
          "data": {
            "text/plain": [
              "tensor([[[ 0.1737, -0.2318,  0.2350,  0.1964,  0.2446, -0.0070,  0.0463,\n",
              "          -0.2898],\n",
              "         [ 0.1651, -0.2303,  0.2282,  0.2182,  0.2526, -0.0022,  0.0394,\n",
              "          -0.2952],\n",
              "         [ 0.1665, -0.2345,  0.2275,  0.2146,  0.2520, -0.0010,  0.0427,\n",
              "          -0.2961],\n",
              "         [ 0.1863, -0.2666,  0.2316,  0.1678,  0.2380,  0.0014,  0.0725,\n",
              "          -0.2945],\n",
              "         [ 0.1715, -0.2526,  0.2236,  0.2008,  0.2501,  0.0049,  0.0569,\n",
              "          -0.3008]]], grad_fn=<ViewBackward0>)"
            ]
          },
          "metadata": {},
          "execution_count": 61
        }
      ],
      "source": [
        "ffn = FeedForward(embed_dim, hidden_dim=5)\n",
        "key = ffn(attention_output)\n",
        "key"
      ]
    },
    {
      "cell_type": "markdown",
      "id": "c3c01da0",
      "metadata": {
        "id": "c3c01da0"
      },
      "source": [
        "## Naive Transformer Layer\n",
        "\n",
        "We are now ready to put together our first version of a transformer encoder layer as a sequential model comprising of multi-head self attention layer and a point-wise feed-forward layer."
      ]
    },
    {
      "cell_type": "code",
      "execution_count": 62,
      "id": "fd3816c1",
      "metadata": {
        "id": "fd3816c1"
      },
      "outputs": [],
      "source": [
        "class TransformerLayer(nn.Module):\n",
        "    '''\n",
        "    Implements a transformer layer as a stack of MHSA and feed-forward blocks.\n",
        "\n",
        "    Arguments:\n",
        "      hidden_dim: Hidden dimension of the transformer layers.\n",
        "      num_heads: Number of attention heads.  \n",
        "      attn_dropout: Dropout for MHSA layers. \n",
        "        ffn_dropout: Dropout for feed-forward layers.\n",
        "\n",
        "    Returns:\n",
        "        A tensor containing attention scores for each token. \n",
        "        attn_weights: A tensor of shape `num_tokens x num_tokens` containing the attention weights.\n",
        "    '''\n",
        "    def __init__(self, hidden_dim, num_heads, attn_dropout=0.0, ffn_dropout=0.0):\n",
        "        super().__init__()\n",
        "        self.attn_layer = MultiHeadSelfAttention(hidden_dim, num_heads, dropout=attn_dropout)\n",
        "        self.ffn_layer = FeedForward(hidden_dim, hidden_dim, dropout=ffn_dropout)\n",
        "    def forward(self, x, key_padding_mask=None, attention_mask=None):\n",
        "        attn_out, attn_weights = self.attn_layer(x, key_padding_mask, attention_mask)\n",
        "        out = self.ffn_layer(attn_out)\n",
        "        return out, attn_weights"
      ]
    },
    {
      "cell_type": "code",
      "execution_count": 63,
      "id": "d0a442fa",
      "metadata": {
        "colab": {
          "base_uri": "https://localhost:8080/"
        },
        "id": "d0a442fa",
        "outputId": "52280eb6-7242-4ea6-89e8-01f06f0f89b3"
      },
      "outputs": [
        {
          "output_type": "execute_result",
          "data": {
            "text/plain": [
              "tensor([[[ 0.0452,  0.2929,  0.0269,  0.0169,  0.3146,  0.3038, -0.0533,\n",
              "           0.1584],\n",
              "         [ 0.0452,  0.2929,  0.0269,  0.0169,  0.3146,  0.3038, -0.0533,\n",
              "           0.1584],\n",
              "         [ 0.0452,  0.2929,  0.0269,  0.0169,  0.3146,  0.3038, -0.0533,\n",
              "           0.1584],\n",
              "         [ 0.0452,  0.2929,  0.0269,  0.0169,  0.3146,  0.3038, -0.0533,\n",
              "           0.1584],\n",
              "         [ 0.0452,  0.2929,  0.0269,  0.0169,  0.3146,  0.3038, -0.0533,\n",
              "           0.1584]]], grad_fn=<ViewBackward0>)"
            ]
          },
          "metadata": {},
          "execution_count": 63
        }
      ],
      "source": [
        "transfomer_layer = TransformerLayer(hidden_dim=embed_dim, num_heads=1)\n",
        "out, weights = transfomer_layer(key)\n",
        "out"
      ]
    },
    {
      "cell_type": "code",
      "execution_count": 64,
      "id": "7198fca5",
      "metadata": {
        "colab": {
          "base_uri": "https://localhost:8080/"
        },
        "id": "7198fca5",
        "outputId": "95b9f906-bf40-46a3-a1c5-e784d2e8e177"
      },
      "outputs": [
        {
          "output_type": "execute_result",
          "data": {
            "text/plain": [
              "tensor([[[0.2002, 0.1998, 0.1998, 0.2004, 0.1998],\n",
              "         [0.2002, 0.1998, 0.1998, 0.2004, 0.1998],\n",
              "         [0.2002, 0.1998, 0.1998, 0.2004, 0.1998],\n",
              "         [0.2002, 0.1998, 0.1998, 0.2004, 0.1998],\n",
              "         [0.2002, 0.1998, 0.1998, 0.2004, 0.1998]]], grad_fn=<DivBackward0>)"
            ]
          },
          "metadata": {},
          "execution_count": 64
        }
      ],
      "source": [
        "weights"
      ]
    },
    {
      "cell_type": "markdown",
      "id": "33d6fad4",
      "metadata": {
        "id": "33d6fad4"
      },
      "source": [
        "## Strategies for stable transformer models\n",
        "\n",
        "In the original paper, Attention is all you need, the authors adopted some techniques to achieve stability in the training process and allow for these models to learn complex relations. "
      ]
    },
    {
      "cell_type": "markdown",
      "id": "c7f444f7",
      "metadata": {
        "id": "c7f444f7"
      },
      "source": [
        "- ### Residual Connections\n",
        " Both the self-attention and feed-forward layers are equipped with residual connections around them. Residual connections work by adding the input of a layer to the output of the layer, thus providing an alternate path for the information to flow through the network. Residual connections were first used in ResNets to train very deep convolutional networks, and have since become standard in deep neural networks to provide a stable training. \n",
        " \n",
        " Mathematically, residual connections can simply be described as addition. \n",
        "$$X → X + MHSA(X)$$\n",
        "$$X → FFN(X)$$\n"
      ]
    },
    {
      "cell_type": "code",
      "execution_count": 65,
      "id": "89d28cef",
      "metadata": {
        "id": "89d28cef"
      },
      "outputs": [],
      "source": [
        "class TransformerLayer(nn.Module):\n",
        "    '''\n",
        "    '''\n",
        "    def __init__(self, embed_dim, num_heads, hidden_dim, attn_dropout=0.0, ffn_dropout=0.0):\n",
        "        super().__init__()\n",
        "        self.attn_layer = MultiHeadSelfAttention(embed_dim, num_heads, dropout=attn_dropout)\n",
        "        self.ffn_layer = FeedForward(embed_dim, hidden_dim, dropout=ffn_dropout)\n",
        "    def forward(self, x, key_padding_mask=None, attention_mask=None):\n",
        "        attn_out, attn_weights = self.attn_layer(x, key_padding_mask, attention_mask)\n",
        "        x = x + attn_out\n",
        "        ffn_out = self.ffn_layer(x)\n",
        "        out = x + ffn_out\n",
        "        return out, attn_weights"
      ]
    },
    {
      "cell_type": "code",
      "execution_count": 66,
      "id": "fa536de9",
      "metadata": {
        "id": "fa536de9",
        "colab": {
          "base_uri": "https://localhost:8080/"
        },
        "outputId": "0dba90d5-9012-4e4a-d41a-5ad963d3dbeb"
      },
      "outputs": [
        {
          "output_type": "execute_result",
          "data": {
            "text/plain": [
              "tensor([[[ 0.2494, -0.6382,  0.1762, -0.0437,  0.4116, -0.2612,  0.1003,\n",
              "          -0.1834],\n",
              "         [ 0.2402, -0.6386,  0.1717, -0.0222,  0.4177, -0.2570,  0.0897,\n",
              "          -0.1875],\n",
              "         [ 0.2415, -0.6429,  0.1715, -0.0260,  0.4168, -0.2558,  0.0923,\n",
              "          -0.1883],\n",
              "         [ 0.2620, -0.6742,  0.1768, -0.0739,  0.4030, -0.2531,  0.1223,\n",
              "          -0.1875],\n",
              "         [ 0.2463, -0.6622,  0.1701, -0.0407,  0.4137, -0.2503,  0.1030,\n",
              "          -0.1922]]], grad_fn=<AddBackward0>)"
            ]
          },
          "metadata": {},
          "execution_count": 66
        }
      ],
      "source": [
        "transfomer_layer = TransformerLayer(embed_dim=embed_dim, num_heads=1, hidden_dim=embed_dim)\n",
        "out, weights = transfomer_layer(key)\n",
        "out"
      ]
    },
    {
      "cell_type": "code",
      "execution_count": 67,
      "id": "c11533a3",
      "metadata": {
        "id": "c11533a3",
        "colab": {
          "base_uri": "https://localhost:8080/"
        },
        "outputId": "dae48f19-b067-444a-98b2-4f82f6257bc6"
      },
      "outputs": [
        {
          "output_type": "execute_result",
          "data": {
            "text/plain": [
              "tensor([[[0.2002, 0.2002, 0.2002, 0.1996, 0.1998],\n",
              "         [0.2002, 0.2002, 0.2002, 0.1996, 0.1998],\n",
              "         [0.2002, 0.2002, 0.2002, 0.1996, 0.1998],\n",
              "         [0.2002, 0.2002, 0.2002, 0.1996, 0.1998],\n",
              "         [0.2002, 0.2002, 0.2002, 0.1996, 0.1998]]], grad_fn=<DivBackward0>)"
            ]
          },
          "metadata": {},
          "execution_count": 67
        }
      ],
      "source": [
        "weights"
      ]
    },
    {
      "cell_type": "markdown",
      "id": "6969b964",
      "metadata": {
        "id": "6969b964"
      },
      "source": [
        "- ### Layer Normalization\n",
        "After each residual connection, a [Layer Normalization](https://arxiv.org/abs/1607.06450) has been applied to the output. This stablizes the training by decreasing the chances that the values start to go to extremes. Layer normalization achieves this by centering all the values relative to the mean. \n",
        "Mathematically, \n",
        "\n",
        "$$y = \\frac{x - \\mathrm{E}[x]}{ \\sqrt{\\mathrm{Var}[x] + \\epsilon}} * \\gamma + \\beta$$\n",
        "\n",
        "where $\\gamma$ and $\\beta$ are learnable affine parameters. "
      ]
    },
    {
      "cell_type": "code",
      "execution_count": 68,
      "id": "d5439541",
      "metadata": {
        "id": "d5439541"
      },
      "outputs": [],
      "source": [
        "class TransformerLayerNorm(nn.Module):\n",
        "    '''\n",
        "    Implements LayerNorm for self-attention and feed-forward networks.\n",
        "\n",
        "    Arguments:\n",
        "        input_dim: Input dimension.\n",
        "    \n",
        "    Returns:\n",
        "        A normalized tensor of the same dimension as the input. \n",
        "    '''\n",
        "    def __init__(self, input_dim):\n",
        "        super().__init__()\n",
        "        self.layer_norm = nn.LayerNorm(input_dim)\n",
        "    def forward(self, x):\n",
        "        x = x.to(self.layer_norm.weight.dtype)\n",
        "        return self.layer_norm(x) "
      ]
    },
    {
      "cell_type": "code",
      "execution_count": 69,
      "id": "e975048c",
      "metadata": {
        "colab": {
          "base_uri": "https://localhost:8080/"
        },
        "id": "e975048c",
        "outputId": "26444410-158f-405d-89a1-04ba4300073b"
      },
      "outputs": [
        {
          "output_type": "execute_result",
          "data": {
            "text/plain": [
              "tensor([[[ 0.6523, -1.4180,  0.9652,  0.7684,  1.0143, -0.2703,  0.0021,\n",
              "          -1.7140],\n",
              "         [ 0.5956, -1.3976,  0.9134,  0.8630,  1.0364, -0.2480, -0.0383,\n",
              "          -1.7245],\n",
              "         [ 0.6035, -1.4128,  0.9104,  0.8457,  1.0336, -0.2388, -0.0189,\n",
              "          -1.7227],\n",
              "         [ 0.7186, -1.5383,  0.9447,  0.6266,  0.9765, -0.2028,  0.1517,\n",
              "          -1.6771],\n",
              "         [ 0.6316, -1.4749,  0.8906,  0.7772,  1.0225, -0.1955,  0.0628,\n",
              "          -1.7143]]], grad_fn=<NativeLayerNormBackward0>)"
            ]
          },
          "metadata": {},
          "execution_count": 69
        }
      ],
      "source": [
        "layer_norm = TransformerLayerNorm(embed_dim)\n",
        "key = layer_norm(key)\n",
        "key"
      ]
    },
    {
      "cell_type": "markdown",
      "id": "c41c9c1e",
      "metadata": {
        "id": "c41c9c1e"
      },
      "source": [
        "This allows us to put together a transformer layer as a sequential model\n",
        "$$X → X + MHSA(X)$$\n",
        "$$X → LayerNorm(X)$$\n",
        "$$X → FFN(X)$$\n",
        "$$X → LayerNorm(X)$$"
      ]
    },
    {
      "cell_type": "code",
      "execution_count": 70,
      "id": "bc2f73fb",
      "metadata": {
        "id": "bc2f73fb"
      },
      "outputs": [],
      "source": [
        "class TransformerLayer(nn.Module):\n",
        "    '''\n",
        "    A transformer layer which is a sequential model consisting of self-attention, layer norm, residual connection, feed-forward projection, layer norm, residual connection. \n",
        "    \n",
        "    Arguments:\n",
        "        hidden_dim: Hidden dimension transformer layers.  \n",
        "        num_heads: Number of attention heads. \n",
        "        attn_dropout: Dropout for MHSA layers. \n",
        "        ffn_dropout: Dropout for feed-forward layers.\n",
        "    Returns:\n",
        "        A tensor containing attention scores for each token. \n",
        "        attn_weights: A tensor of shape `num_tokens x num_tokens` containing the attention weights. \n",
        "    '''\n",
        "    def __init__(self, hidden_dim, num_heads, attn_dropout=0.0, ffn_dropout=0.0):\n",
        "        super().__init__()\n",
        "        self.attn_layer = MultiHeadSelfAttention(hidden_dim, num_heads, dropout=attn_dropout)\n",
        "        self.ffn_layer = FeedForward(hidden_dim, hidden_dim, dropout=ffn_dropout)\n",
        "        self.layer_norm = TransformerLayerNorm(hidden_dim)\n",
        "    def forward(self, x, key_padding_mask=None, attention_mask=None):\n",
        "        attn_out, attn_weights = self.attn_layer(x, key_padding_mask, attention_mask)\n",
        "        x = self.layer_norm(x + attn_out)\n",
        "        ffn_out = self.ffn_layer(x)\n",
        "        x = self.layer_norm(x + ffn_out)\n",
        "        return x, attn_weights"
      ]
    },
    {
      "cell_type": "code",
      "execution_count": 71,
      "id": "de79594f",
      "metadata": {
        "colab": {
          "base_uri": "https://localhost:8080/"
        },
        "id": "de79594f",
        "outputId": "11c19ed2-01c4-4a56-cb1a-4fd3ff73f456"
      },
      "outputs": [
        {
          "output_type": "execute_result",
          "data": {
            "text/plain": [
              "tensor([[[-0.0717, -1.3824,  1.0876,  0.1094,  1.7286,  0.1873, -0.3345,\n",
              "          -1.3244],\n",
              "         [-0.1299, -1.3645,  1.0411,  0.1988,  1.7466,  0.2046, -0.3658,\n",
              "          -1.3309],\n",
              "         [-0.1194, -1.3775,  1.0383,  0.1796,  1.7440,  0.2159, -0.3521,\n",
              "          -1.3288],\n",
              "         [ 0.0144, -1.4843,  1.0664, -0.0423,  1.6944,  0.2670, -0.2255,\n",
              "          -1.2901],\n",
              "         [-0.0799, -1.4297,  1.0192,  0.1028,  1.7331,  0.2673, -0.2943,\n",
              "          -1.3185]]], grad_fn=<NativeLayerNormBackward0>)"
            ]
          },
          "metadata": {},
          "execution_count": 71
        }
      ],
      "source": [
        "transfomer_layer = TransformerLayer(hidden_dim=embed_dim, num_heads=1)\n",
        "out, weights = transfomer_layer(key)\n",
        "out"
      ]
    },
    {
      "cell_type": "code",
      "execution_count": 72,
      "id": "b3cf78a3",
      "metadata": {
        "colab": {
          "base_uri": "https://localhost:8080/"
        },
        "id": "b3cf78a3",
        "outputId": "99bb7fd6-c1e6-40e9-9181-b569e4d9a51e"
      },
      "outputs": [
        {
          "output_type": "execute_result",
          "data": {
            "text/plain": [
              "tensor([[[0.1999, 0.2029, 0.2022, 0.1953, 0.1996],\n",
              "         [0.1998, 0.2033, 0.2025, 0.1947, 0.1997],\n",
              "         [0.1998, 0.2033, 0.2025, 0.1947, 0.1997],\n",
              "         [0.2000, 0.2026, 0.2020, 0.1958, 0.1996],\n",
              "         [0.1999, 0.2032, 0.2024, 0.1948, 0.1997]]], grad_fn=<DivBackward0>)"
            ]
          },
          "metadata": {},
          "execution_count": 72
        }
      ],
      "source": [
        "weights"
      ]
    },
    {
      "cell_type": "markdown",
      "id": "76610706",
      "metadata": {
        "id": "76610706"
      },
      "source": [
        "#### Transformer Encoder\n",
        "Finally, a transformer encoder is a stacked block of transformer layers each with their own layer normalization and residual connection. "
      ]
    },
    {
      "cell_type": "code",
      "execution_count": 75,
      "id": "e2beb243",
      "metadata": {
        "id": "e2beb243"
      },
      "outputs": [],
      "source": [
        "class TransformerEncoder(nn.Module):\n",
        "    '''\n",
        "    Transformer Encoder which is composed for a stack of TransformerLayers. \n",
        "\n",
        "    Arguments:\n",
        "        num_layers: Number of Transformer layers in the encoder. \n",
        "        hidden_dim: Hidden dimension of the transformer layers.  \n",
        "        num_heads: Number of heads. \n",
        "        attn_dropout: Dropout for MHSA layers. \n",
        "        ffn_dropout: Dropout for feed-forward layers.\n",
        "    '''\n",
        "    def __init__(self, num_layers, hidden_dim, num_heads, attn_dropout=0.0, ffn_dropout=0.0):\n",
        "        super().__init__()\n",
        "        self.layers = nn.ModuleList([TransformerLayer(hidden_dim, num_heads, attn_dropout, ffn_dropout) for _ in range(num_layers)])\n",
        "        self.attn_weights = []\n",
        "    def forward(self, x, key_padding_mask=None, attention_mask=None):\n",
        "        for layer in self.layers:\n",
        "            x, weights = layer(x, key_padding_mask, attention_mask)\n",
        "            self.attn_weights.append(weights)\n",
        "        return x\n",
        "    def get_attention_weights(self):\n",
        "        if len(self.attn_weights) != 0:\n",
        "            return self.attn_weights\n",
        "        else:\n",
        "            print(\"The model hasn't been training yet\")"
      ]
    },
    {
      "cell_type": "code",
      "execution_count": 76,
      "id": "1a74ab28",
      "metadata": {
        "colab": {
          "base_uri": "https://localhost:8080/"
        },
        "id": "1a74ab28",
        "outputId": "4ef710da-a767-4e51-a039-d81638b74ae5"
      },
      "outputs": [
        {
          "output_type": "execute_result",
          "data": {
            "text/plain": [
              "tensor([[[ 0.4970, -0.6345,  0.4218,  1.0914,  1.2542, -1.1688,  0.2631,\n",
              "          -1.7242],\n",
              "         [ 0.4404, -0.5929,  0.3503,  1.1595,  1.2712, -1.1390,  0.2465,\n",
              "          -1.7359],\n",
              "         [ 0.4536, -0.6145,  0.3589,  1.1506,  1.2662, -1.1340,  0.2542,\n",
              "          -1.7349],\n",
              "         [ 0.5825, -0.7815,  0.4754,  1.0250,  1.2125, -1.1399,  0.3278,\n",
              "          -1.7019],\n",
              "         [ 0.4975, -0.6914,  0.3781,  1.1236,  1.2443, -1.1137,  0.2922,\n",
              "          -1.7306]]], grad_fn=<NativeLayerNormBackward0>)"
            ]
          },
          "metadata": {},
          "execution_count": 76
        }
      ],
      "source": [
        "encoder = TransformerEncoder(num_layers=5, num_heads=2, hidden_dim=embed_dim)\n",
        "attn_out = encoder(key)\n",
        "attn_out"
      ]
    },
    {
      "cell_type": "code",
      "execution_count": 77,
      "id": "92034a41",
      "metadata": {
        "colab": {
          "base_uri": "https://localhost:8080/"
        },
        "id": "92034a41",
        "outputId": "d9666755-24d1-4a86-e845-8de67827d7bf"
      },
      "outputs": [
        {
          "output_type": "execute_result",
          "data": {
            "text/plain": [
              "[tensor([[[0.1999, 0.1993, 0.1995, 0.2012, 0.2001],\n",
              "          [0.1997, 0.1995, 0.1996, 0.2009, 0.2003],\n",
              "          [0.1997, 0.1995, 0.1996, 0.2009, 0.2003],\n",
              "          [0.2001, 0.1992, 0.1994, 0.2013, 0.1999],\n",
              "          [0.1998, 0.1994, 0.1996, 0.2009, 0.2002]]], grad_fn=<DivBackward0>),\n",
              " tensor([[[0.2004, 0.2054, 0.2040, 0.1909, 0.1994],\n",
              "          [0.2004, 0.2055, 0.2040, 0.1907, 0.1993],\n",
              "          [0.2004, 0.2054, 0.2040, 0.1909, 0.1993],\n",
              "          [0.2004, 0.2045, 0.2033, 0.1923, 0.1995],\n",
              "          [0.2004, 0.2049, 0.2036, 0.1917, 0.1994]]], grad_fn=<DivBackward0>),\n",
              " tensor([[[0.2000, 0.2021, 0.2014, 0.1971, 0.1995],\n",
              "          [0.1999, 0.2023, 0.2015, 0.1967, 0.1996],\n",
              "          [0.1999, 0.2023, 0.2015, 0.1967, 0.1996],\n",
              "          [0.2002, 0.2021, 0.2013, 0.1971, 0.1993],\n",
              "          [0.2000, 0.2023, 0.2015, 0.1967, 0.1995]]], grad_fn=<DivBackward0>),\n",
              " tensor([[[0.1978, 0.2036, 0.2027, 0.1947, 0.2012],\n",
              "          [0.1978, 0.2035, 0.2026, 0.1950, 0.2012],\n",
              "          [0.1978, 0.2035, 0.2026, 0.1949, 0.2012],\n",
              "          [0.1982, 0.2038, 0.2028, 0.1944, 0.2009],\n",
              "          [0.1980, 0.2036, 0.2026, 0.1948, 0.2010]]], grad_fn=<DivBackward0>),\n",
              " tensor([[[0.1992, 0.1998, 0.1999, 0.2005, 0.2005],\n",
              "          [0.1992, 0.1998, 0.1999, 0.2006, 0.2006],\n",
              "          [0.1992, 0.1997, 0.1998, 0.2007, 0.2006],\n",
              "          [0.1994, 0.1995, 0.1997, 0.2010, 0.2003],\n",
              "          [0.1993, 0.1995, 0.1997, 0.2010, 0.2005]]], grad_fn=<DivBackward0>)]"
            ]
          },
          "metadata": {},
          "execution_count": 77
        }
      ],
      "source": [
        "encoder.get_attention_weights()"
      ]
    },
    {
      "cell_type": "code",
      "source": [
        "encoder"
      ],
      "metadata": {
        "colab": {
          "base_uri": "https://localhost:8080/"
        },
        "id": "bRF9Dbt3Babo",
        "outputId": "bc3af7a4-0c93-4bd5-e909-6fc59c264c5e"
      },
      "id": "bRF9Dbt3Babo",
      "execution_count": 78,
      "outputs": [
        {
          "output_type": "execute_result",
          "data": {
            "text/plain": [
              "TransformerEncoder(\n",
              "  (layers): ModuleList(\n",
              "    (0): TransformerLayer(\n",
              "      (attn_layer): MultiHeadSelfAttention(\n",
              "        (attention_layer): MultiheadAttention(\n",
              "          (out_proj): NonDynamicallyQuantizableLinear(in_features=8, out_features=8, bias=True)\n",
              "        )\n",
              "      )\n",
              "      (ffn_layer): FeedForward(\n",
              "        (activation): ReLU()\n",
              "        (dropout): Dropout(p=0.0, inplace=False)\n",
              "        (layer_1): Linear(in_features=8, out_features=8, bias=True)\n",
              "        (layer_2): Linear(in_features=8, out_features=8, bias=True)\n",
              "      )\n",
              "      (layer_norm): TransformerLayerNorm(\n",
              "        (layer_norm): LayerNorm((8,), eps=1e-05, elementwise_affine=True)\n",
              "      )\n",
              "    )\n",
              "    (1): TransformerLayer(\n",
              "      (attn_layer): MultiHeadSelfAttention(\n",
              "        (attention_layer): MultiheadAttention(\n",
              "          (out_proj): NonDynamicallyQuantizableLinear(in_features=8, out_features=8, bias=True)\n",
              "        )\n",
              "      )\n",
              "      (ffn_layer): FeedForward(\n",
              "        (activation): ReLU()\n",
              "        (dropout): Dropout(p=0.0, inplace=False)\n",
              "        (layer_1): Linear(in_features=8, out_features=8, bias=True)\n",
              "        (layer_2): Linear(in_features=8, out_features=8, bias=True)\n",
              "      )\n",
              "      (layer_norm): TransformerLayerNorm(\n",
              "        (layer_norm): LayerNorm((8,), eps=1e-05, elementwise_affine=True)\n",
              "      )\n",
              "    )\n",
              "    (2): TransformerLayer(\n",
              "      (attn_layer): MultiHeadSelfAttention(\n",
              "        (attention_layer): MultiheadAttention(\n",
              "          (out_proj): NonDynamicallyQuantizableLinear(in_features=8, out_features=8, bias=True)\n",
              "        )\n",
              "      )\n",
              "      (ffn_layer): FeedForward(\n",
              "        (activation): ReLU()\n",
              "        (dropout): Dropout(p=0.0, inplace=False)\n",
              "        (layer_1): Linear(in_features=8, out_features=8, bias=True)\n",
              "        (layer_2): Linear(in_features=8, out_features=8, bias=True)\n",
              "      )\n",
              "      (layer_norm): TransformerLayerNorm(\n",
              "        (layer_norm): LayerNorm((8,), eps=1e-05, elementwise_affine=True)\n",
              "      )\n",
              "    )\n",
              "    (3): TransformerLayer(\n",
              "      (attn_layer): MultiHeadSelfAttention(\n",
              "        (attention_layer): MultiheadAttention(\n",
              "          (out_proj): NonDynamicallyQuantizableLinear(in_features=8, out_features=8, bias=True)\n",
              "        )\n",
              "      )\n",
              "      (ffn_layer): FeedForward(\n",
              "        (activation): ReLU()\n",
              "        (dropout): Dropout(p=0.0, inplace=False)\n",
              "        (layer_1): Linear(in_features=8, out_features=8, bias=True)\n",
              "        (layer_2): Linear(in_features=8, out_features=8, bias=True)\n",
              "      )\n",
              "      (layer_norm): TransformerLayerNorm(\n",
              "        (layer_norm): LayerNorm((8,), eps=1e-05, elementwise_affine=True)\n",
              "      )\n",
              "    )\n",
              "    (4): TransformerLayer(\n",
              "      (attn_layer): MultiHeadSelfAttention(\n",
              "        (attention_layer): MultiheadAttention(\n",
              "          (out_proj): NonDynamicallyQuantizableLinear(in_features=8, out_features=8, bias=True)\n",
              "        )\n",
              "      )\n",
              "      (ffn_layer): FeedForward(\n",
              "        (activation): ReLU()\n",
              "        (dropout): Dropout(p=0.0, inplace=False)\n",
              "        (layer_1): Linear(in_features=8, out_features=8, bias=True)\n",
              "        (layer_2): Linear(in_features=8, out_features=8, bias=True)\n",
              "      )\n",
              "      (layer_norm): TransformerLayerNorm(\n",
              "        (layer_norm): LayerNorm((8,), eps=1e-05, elementwise_affine=True)\n",
              "      )\n",
              "    )\n",
              "  )\n",
              ")"
            ]
          },
          "metadata": {},
          "execution_count": 78
        }
      ]
    },
    {
      "cell_type": "markdown",
      "id": "bb307d55",
      "metadata": {
        "id": "bb307d55"
      },
      "source": [
        "#### Positional Encoding\n",
        "The transformer model that we have constructed is oblivious to the positions of the tokens in the sequence. The architecture is permutation-equivariant. In sequence modeling tasks, for example language understanding, position of tokens is important to interpret the input sequence. Past sequence modeling approaches like RNNs and CNNs have been crafted keeping the position in consideration. To be able to apply the transformer models to the sequence modeling tasks, it is important to have a mechanism to provide the positional information. In the original paper, Vaswani et al. proposed adding positional encoding to the input token embeddings before feeding them to the transformer model. The specific positional encoding employed are vectors of dimension same as the token embedding and are built using sine and cosine functions as\n",
        "\n",
        "$$PE_{(pos, 2i)} = sin(pos/10000^{2i/d})$$\n",
        "$$PE_{(pos, 2i+1)} = cos(pos/10000^{2i/d})$$\n",
        "\n",
        "where $pos$ is the position and $i$ is the hidden encoding dimension. Thus each dimension of the positional encoding corresponds to a sinusoidal. A motivation for this choice of encoding is that $PE_{(pos + k,)}$ can be represented as a linear function of $PE_{(pos,)}$ which might allow the model to easily attend to relative positions. \n",
        "\n",
        "\n",
        "Let's implement this positional encoding."
      ]
    },
    {
      "cell_type": "code",
      "execution_count": 79,
      "id": "b83af732",
      "metadata": {
        "id": "b83af732"
      },
      "outputs": [],
      "source": [
        "class PositionalEncoding(nn.Module):\n",
        "    '''\n",
        "    Implements the sinusoidal positional encoding for the input tokens. \n",
        "\n",
        "    Arguments:\n",
        "        embed_dim: Dimension of the positional encoding, should be the same as input token embedding. \n",
        "        dropout: Dropout probability to be used for positional encoding. \n",
        "        max_len: Maximum length of the input token sequences. \n",
        "    Returns:\n",
        "      A tensor containing positional embeddings for each token.\n",
        "    '''\n",
        "    def __init__(self, embed_dim, dropout=0.1, max_len=5000):\n",
        "        super().__init__()\n",
        "        self.dropout = nn.Dropout(dropout)\n",
        "        position = torch.arange(max_len).unsqueeze(1)\n",
        "        div_term = torch.exp(torch.arange(0, embed_dim, 2) * (-math.log(10000.0)/embed_dim))\n",
        "        self.pe = torch.zeros(max_len, 1, embed_dim)\n",
        "        self.pe[:, 0, 0::2] = torch.sin(position * div_term)\n",
        "        self.pe[:, 0, 1::2] = torch.cos(position * div_term)\n",
        "    def forward(self, x):\n",
        "        x = x + self.pe[:x.size(0)]\n",
        "        return self.dropout(x)"
      ]
    },
    {
      "cell_type": "code",
      "execution_count": 80,
      "id": "db086124",
      "metadata": {
        "colab": {
          "base_uri": "https://localhost:8080/"
        },
        "id": "db086124",
        "outputId": "d3feaa86-8468-488f-f280-01b6d78620cc"
      },
      "outputs": [
        {
          "output_type": "execute_result",
          "data": {
            "text/plain": [
              "tensor([[[ 0.7247, -0.4644,  1.0725,  1.9649,  1.1270,  0.8108,  0.0023,\n",
              "          -0.0000],\n",
              "         [ 0.6618, -0.4417,  1.0149,  2.0700,  1.1516,  0.8356, -0.0000,\n",
              "          -0.8050],\n",
              "         [ 0.6706, -0.4587,  1.0116,  2.0508,  1.1484,  0.8458, -0.0210,\n",
              "          -0.8031],\n",
              "         [ 0.7984, -0.5981,  0.0000,  1.8073,  1.0850,  0.8858,  0.0000,\n",
              "          -0.7523],\n",
              "         [ 0.7018, -0.5277,  0.9896,  1.9747,  0.0000,  0.8939,  0.0697,\n",
              "          -0.7937]]], grad_fn=<MulBackward0>)"
            ]
          },
          "metadata": {},
          "execution_count": 80
        }
      ],
      "source": [
        "pos_enc = PositionalEncoding(embed_dim)\n",
        "pos_enc(key)"
      ]
    },
    {
      "cell_type": "markdown",
      "source": [
        "To see how positional embeddings work, we can visualize the values that get added to each embedding in each dimension of the embedding. Here we generate a heatmap of the values of positional encoding over positions, each row corresponds to the positional encoding in a fixed hidden dimension over all the positions."
      ],
      "metadata": {
        "id": "GTjPzIkRfbkM"
      },
      "id": "GTjPzIkRfbkM"
    },
    {
      "cell_type": "code",
      "execution_count": 81,
      "id": "d2fa6895",
      "metadata": {
        "colab": {
          "base_uri": "https://localhost:8080/",
          "height": 241
        },
        "id": "d2fa6895",
        "outputId": "ac67f210-d99d-4893-8ccc-a319f9c5caab"
      },
      "outputs": [
        {
          "output_type": "display_data",
          "data": {
            "text/plain": [
              "<Figure size 576x216 with 2 Axes>"
            ],
            "image/png": "[encoded data removed]"
          },
          "metadata": {
            "needs_background": "light"
          }
        }
      ],
      "source": [
        "pos_enc = PositionalEncoding(100, max_len=200)\n",
        "pe = pos_enc.pe.squeeze().T.numpy()\n",
        "\n",
        "\n",
        "fig, ax = plt.subplots(nrows=1, ncols=1, figsize=(8, 3))\n",
        "pos = ax.imshow(pe, cmap=\"RdGy\", extent=(1, pe.shape[1] + 1, pe.shape[0] + 1, 1))\n",
        "fig.colorbar(pos, ax=ax)\n",
        "ax.set_xlabel(\"Position in sequence\")\n",
        "ax.set_ylabel(\"Hidden dimension\")\n",
        "ax.set_title(\"Positional encoding over hidden dimensions\")\n",
        "ax.set_xticks([1] + [i * 10 for i in range(1, 1 + pe.shape[1] // 10)])\n",
        "ax.set_yticks([1] + [i * 10 for i in range(1, 1 + pe.shape[0] // 10)])\n",
        "plt.show()"
      ]
    },
    {
      "cell_type": "markdown",
      "source": [
        "We can clearly see sine and cosine waves with different wavelenths that encode the positions in the hidden dimensions. "
      ],
      "metadata": {
        "id": "adZ4edCv5BbS"
      },
      "id": "adZ4edCv5BbS"
    },
    {
      "cell_type": "markdown",
      "source": [
        "Further, we visualize the positional encoding for the hidden dimension 1,2,3 and 4. "
      ],
      "metadata": {
        "id": "t54UG21m5Lzr"
      },
      "id": "t54UG21m5Lzr"
    },
    {
      "cell_type": "code",
      "execution_count": 82,
      "id": "ded8aa52",
      "metadata": {
        "colab": {
          "base_uri": "https://localhost:8080/",
          "height": 295
        },
        "id": "ded8aa52",
        "outputId": "9ac7ffec-7e23-4e39-c6a6-96a5bb284fcd"
      },
      "outputs": [
        {
          "output_type": "display_data",
          "data": {
            "text/plain": [
              "<Figure size 864x288 with 4 Axes>"
            ],
            "image/png": "[encoded data removed]"
          },
          "metadata": {
            "needs_background": "light"
          }
        }
      ],
      "source": [
        "fig, ax = plt.subplots(2, 2, figsize=(12, 4))\n",
        "ax = [a for a_list in ax for a in a_list]\n",
        "for i in range(len(ax)):\n",
        "    ax[i].plot(np.arange(1, 17), pe[i, :16], color=\"C%i\" % i, marker=\"o\", markersize=6, markeredgecolor=\"black\")\n",
        "    ax[i].set_title(\"Encoding in hidden dimension %i\" % (i + 1))\n",
        "    ax[i].set_xlabel(\"Position in sequence\", fontsize=10)\n",
        "    ax[i].set_ylabel(\"Positional encoding\", fontsize=10)\n",
        "    ax[i].set_xticks(np.arange(1, 17))\n",
        "    ax[i].tick_params(axis=\"both\", which=\"major\", labelsize=10)\n",
        "    ax[i].tick_params(axis=\"both\", which=\"minor\", labelsize=8)\n",
        "    ax[i].set_ylim(-1.2, 1.2)\n",
        "fig.subplots_adjust(hspace=0.8)"
      ]
    },
    {
      "cell_type": "code",
      "execution_count": 83,
      "id": "795c4b37",
      "metadata": {
        "id": "795c4b37"
      },
      "outputs": [],
      "source": [
        "class MyGPT(nn.Module):\n",
        "    '''\n",
        "    GPT-like language model.\n",
        "\n",
        "    Arguments:\n",
        "        vocab_size: Size of vocabulary.\n",
        "        embed_dim: Dimension of the input token embedding. \n",
        "        num_layers: Number of Transformer layers in the encoder. \n",
        "        hidden_dim: Hidden dimension of the transformer layers.  \n",
        "        ffn_hidden_dim: Hidden dimension of the Feed-forward layers. \n",
        "        num_heads: Number of heads. \n",
        "        attn_dropout: Dropout for MHSA layers. \n",
        "        ffn_dropout: Dropout for feed-forward layers.\n",
        "    '''\n",
        "    def __init__(self, vocab_size, embed_dim, num_layers, num_heads, attn_dropout, ffn_dropout):\n",
        "        super(MyGPT, self).__init__()\n",
        "        self.embedding_layer = nn.Embedding(vocab_size, embed_dim)\n",
        "        self.pos_encoder = PositionalEncoding(embed_dim)\n",
        "        self.transformer_encoder = TransformerEncoder(num_layers, embed_dim, num_heads, attn_dropout, ffn_dropout)\n",
        "        self.decoder = nn.Linear(embed_dim, vocab_size)\n",
        "        self.embed_layer_norm = nn.LayerNorm(embed_dim)\n",
        "        self.init_weights()\n",
        "\n",
        "    def init_weights(self):\n",
        "        init_range = 0.5\n",
        "        self.decoder.weight.data.uniform_(-init_range, init_range)\n",
        "        self.decoder.bias.data.zero_()\n",
        "        \n",
        "    \n",
        "    def forward(self, seqs, attn_mask=None, key_padding_mask=None):\n",
        "        embedded_seq = self.embedding_layer(seqs)\n",
        "        embedded_seq = self.pos_encoder(embedded_seq)\n",
        "        embedded_seq = self.embed_layer_norm(embedded_seq)\n",
        "        out = self.transformer_encoder(x=embedded_seq, key_padding_mask=key_padding_mask, attention_mask=attn_mask)\n",
        "        results = self.decoder(out)\n",
        "        return results\n",
        "      \n",
        "    def get_attn_weights(self):\n",
        "      return self.transformer_encoder.get_attention_weights()"
      ]
    },
    {
      "cell_type": "code",
      "source": [
        "vocabulary_size = 10\n",
        "seq_length = 8\n",
        "num_seqs = 5\n",
        "x = torch.randint(vocabulary_size, (num_seqs, seq_length))\n",
        "x.shape"
      ],
      "metadata": {
        "colab": {
          "base_uri": "https://localhost:8080/"
        },
        "id": "KotAU-LIGrXG",
        "outputId": "19675a4a-014d-4bc9-abc6-babc437644c1"
      },
      "id": "KotAU-LIGrXG",
      "execution_count": 84,
      "outputs": [
        {
          "output_type": "execute_result",
          "data": {
            "text/plain": [
              "torch.Size([5, 8])"
            ]
          },
          "metadata": {},
          "execution_count": 84
        }
      ]
    },
    {
      "cell_type": "code",
      "source": [
        "x"
      ],
      "metadata": {
        "colab": {
          "base_uri": "https://localhost:8080/"
        },
        "id": "5ykLMTlcGrKD",
        "outputId": "cc0d8b6d-5c5a-40e0-fe6b-45373b615607"
      },
      "id": "5ykLMTlcGrKD",
      "execution_count": 85,
      "outputs": [
        {
          "output_type": "execute_result",
          "data": {
            "text/plain": [
              "tensor([[2, 8, 0, 0, 9, 9, 9, 2],\n",
              "        [8, 0, 1, 8, 2, 9, 6, 3],\n",
              "        [7, 7, 0, 5, 1, 7, 2, 7],\n",
              "        [2, 3, 0, 6, 5, 3, 0, 3],\n",
              "        [3, 4, 0, 9, 8, 6, 2, 6]])"
            ]
          },
          "metadata": {},
          "execution_count": 85
        }
      ]
    },
    {
      "cell_type": "code",
      "source": [
        "model = MyGPT(vocab_size=vocabulary_size, embed_dim=64, num_layers=2, num_heads=2, attn_dropout=0.3, ffn_dropout=0.1)"
      ],
      "metadata": {
        "id": "ccHYtKXjGqcv"
      },
      "id": "ccHYtKXjGqcv",
      "execution_count": 86,
      "outputs": []
    },
    {
      "cell_type": "code",
      "source": [
        "y = model(x)"
      ],
      "metadata": {
        "id": "yzV_PARoGzU_"
      },
      "id": "yzV_PARoGzU_",
      "execution_count": 87,
      "outputs": []
    },
    {
      "cell_type": "code",
      "source": [
        "y"
      ],
      "metadata": {
        "colab": {
          "base_uri": "https://localhost:8080/"
        },
        "id": "kMHwo7PDJGUM",
        "outputId": "eec2553d-552f-4570-aab7-38a677824f6d"
      },
      "id": "kMHwo7PDJGUM",
      "execution_count": 88,
      "outputs": [
        {
          "output_type": "execute_result",
          "data": {
            "text/plain": [
              "tensor([[[ 0.5538, -0.9655, -0.2114,  0.3255,  3.7826, -2.0932,  2.4401,\n",
              "           1.9437,  1.6627, -1.1368],\n",
              "         [-0.4130,  1.4705,  0.4886,  2.3956,  1.0408,  4.6443, -0.0127,\n",
              "          -2.8765,  1.8967, -4.8898],\n",
              "         [-2.8881,  3.3545, -0.1635,  1.0542, -0.2818,  3.4571, -3.4251,\n",
              "           0.3699, -0.5231,  0.3577],\n",
              "         [-0.3912,  4.5304, -1.0740,  1.1999,  0.3905,  3.5423, -3.7838,\n",
              "          -0.3086,  0.6252,  1.1353],\n",
              "         [-2.4198,  2.9980,  1.7149, -1.6793,  1.8955,  4.2764, -4.9772,\n",
              "           1.2452, -4.0753, -1.3832],\n",
              "         [-1.6980,  0.4211,  1.1076, -0.7423,  2.7173,  4.0816, -4.2425,\n",
              "           3.4285, -3.9942, -0.8829],\n",
              "         [-3.7988,  1.1590,  1.2091, -1.2984,  1.7106,  3.4663, -3.6836,\n",
              "           2.7338, -4.1580,  0.1947],\n",
              "         [-0.4154, -1.3298, -0.0483,  0.3889,  4.0009, -0.8270,  2.8111,\n",
              "           2.1943,  2.2104, -0.6873]],\n",
              "\n",
              "        [[ 2.2071,  2.0732,  1.6402,  3.3526,  0.6989,  6.5105, -1.9483,\n",
              "          -4.4777, -0.4824, -4.3081],\n",
              "         [ 0.2699,  5.2672, -0.4237,  2.2563, -1.2875,  2.8786, -2.9976,\n",
              "          -0.3958,  0.9130, -0.3525],\n",
              "         [ 0.5133,  1.2900,  1.1764,  2.1020, -1.2602,  1.6165, -1.6208,\n",
              "          -2.2411,  2.5724, -0.6136],\n",
              "         [ 1.5686,  1.2818,  0.6864,  1.3597,  0.9574,  6.2771, -1.6993,\n",
              "          -2.5309,  1.0494, -4.6579],\n",
              "         [ 0.2782, -0.2744,  1.1670,  1.9694,  1.5752, -1.2876,  0.8324,\n",
              "          -0.5817,  2.7685, -1.1574],\n",
              "         [-3.2350,  1.2320,  3.4578, -0.9414, -0.1969,  1.7508, -6.1217,\n",
              "           2.1849, -3.3339,  1.3729],\n",
              "         [ 2.3168,  1.7557,  1.1014,  1.9820,  3.6183,  4.2904, -2.6521,\n",
              "           0.5969,  1.1746, -1.8326],\n",
              "         [ 2.4633, -0.8878, -0.8451, -1.1348,  1.3006,  0.0643, -3.3349,\n",
              "           0.8159,  0.1909, -0.1427]],\n",
              "\n",
              "        [[-1.4681, -1.4137, -1.7140,  1.2715, -2.0618, -1.2251,  1.2698,\n",
              "          -0.7530,  0.7711, -1.6539],\n",
              "         [-1.6459, -3.2051,  0.3891,  2.5847, -2.5356, -1.0783,  1.8088,\n",
              "          -0.2915,  2.4510, -0.3466],\n",
              "         [-0.0890,  3.3685,  0.8654,  2.4700, -4.0259,  1.9069, -3.1216,\n",
              "          -0.6018,  1.3947, -0.2882],\n",
              "         [ 0.6054, -1.4236, -2.4944,  2.1496,  0.4910,  2.1576, -4.7364,\n",
              "           3.0269, -1.8304, -1.8934],\n",
              "         [ 2.1089, -0.0594,  1.8763,  1.2158, -3.8350,  1.9505,  0.9856,\n",
              "          -1.0320,  4.0375, -1.3598],\n",
              "         [ 0.2434, -3.6705, -0.0099,  2.5119, -1.7988, -0.6003,  2.8470,\n",
              "           0.5341,  1.3363,  0.4964],\n",
              "         [ 2.3827, -1.3027, -0.2046,  0.2425,  1.4993, -1.2156,  1.3204,\n",
              "           1.7010,  3.9839, -2.2493],\n",
              "         [ 0.1210, -3.2145,  0.1939,  1.6334, -2.2636, -1.6308,  2.2783,\n",
              "           0.9681,  2.4870,  0.0176]],\n",
              "\n",
              "        [[ 2.0830, -1.5694,  0.9942,  0.9664,  2.8151,  1.3679,  1.5733,\n",
              "           0.4098,  4.3465, -4.5278],\n",
              "         [ 1.7100, -2.4208, -1.4045, -0.7590,  1.6494,  0.8879, -1.6423,\n",
              "           1.7318,  0.4329,  1.3643],\n",
              "         [ 0.5281,  4.2195, -1.5908,  1.8243, -2.2861,  3.3216, -3.7733,\n",
              "          -0.0743, -0.2276, -1.0618],\n",
              "         [ 3.3256,  1.4683, -0.7473,  2.2509,  1.5349,  0.8551,  0.2787,\n",
              "           0.7615,  4.4540, -3.0795],\n",
              "         [-0.0536, -1.5782, -1.9093,  2.8829,  1.1607,  2.8469, -6.0691,\n",
              "           1.1881, -1.7913, -3.3965],\n",
              "         [ 2.6587, -2.7874, -0.5143, -0.6277,  1.3039,  1.4380, -3.6707,\n",
              "           1.5632, -0.4785, -0.4136],\n",
              "         [ 0.6088,  4.2381, -0.1763,  1.8450, -0.6855,  3.8234, -3.7610,\n",
              "          -0.3107,  1.0479, -0.3213],\n",
              "         [ 2.0366, -2.6264, -0.2661, -0.2616,  1.1054,  0.2439, -1.6354,\n",
              "           0.4881, -0.1295, -1.5062]],\n",
              "\n",
              "        [[ 1.7014, -1.8605, -2.8326,  0.1682,  1.7750,  0.7944, -2.5822,\n",
              "           0.8861,  1.2336, -0.6760],\n",
              "         [ 0.6216, -0.2074, -2.8646,  3.7708,  0.2593,  3.1525, -1.6527,\n",
              "           0.9344,  2.0516, -0.0475],\n",
              "         [ 0.8070,  5.1272, -2.1955,  1.6184, -1.2714,  0.2192, -4.9431,\n",
              "           0.3086, -0.4605, -1.7532],\n",
              "         [-0.4143,  2.4398,  0.5253, -0.1655,  0.6852,  4.1020, -5.1620,\n",
              "           1.8527, -1.6058, -2.9006],\n",
              "         [ 1.6146,  2.5278,  0.3296,  1.9101,  1.5464,  5.2364, -3.6615,\n",
              "          -3.1202,  3.1145, -6.0291],\n",
              "         [ 2.2226,  3.2341,  0.1009,  1.5053,  2.1826,  0.2627, -1.1570,\n",
              "          -0.0585,  4.2143, -4.0395],\n",
              "         [ 1.4240, -1.1439, -1.4154,  0.7406,  2.8403, -2.7695,  1.7500,\n",
              "           1.5278,  3.5059, -2.7375],\n",
              "         [ 3.8535,  3.4508, -0.7909,  1.9856,  1.6611, -0.5643, -1.1824,\n",
              "           0.2980,  4.1873, -3.4158]]], grad_fn=<ViewBackward0>)"
            ]
          },
          "metadata": {},
          "execution_count": 88
        }
      ]
    },
    {
      "cell_type": "code",
      "source": [
        "y.shape"
      ],
      "metadata": {
        "colab": {
          "base_uri": "https://localhost:8080/"
        },
        "id": "AO6Jn7GPJGIc",
        "outputId": "f53742d7-9196-40c6-d461-f37bce6e78e1"
      },
      "id": "AO6Jn7GPJGIc",
      "execution_count": 89,
      "outputs": [
        {
          "output_type": "execute_result",
          "data": {
            "text/plain": [
              "torch.Size([5, 8, 10])"
            ]
          },
          "metadata": {},
          "execution_count": 89
        }
      ]
    },
    {
      "cell_type": "code",
      "source": [
        "attn_weights = model.get_attn_weights()\n",
        "len(attn_weights)"
      ],
      "metadata": {
        "colab": {
          "base_uri": "https://localhost:8080/"
        },
        "id": "OMEjNiTbfPLk",
        "outputId": "5a3a80c2-82d2-4a07-9a9d-e77465c4f800"
      },
      "id": "OMEjNiTbfPLk",
      "execution_count": 90,
      "outputs": [
        {
          "output_type": "execute_result",
          "data": {
            "text/plain": [
              "2"
            ]
          },
          "metadata": {},
          "execution_count": 90
        }
      ]
    },
    {
      "cell_type": "code",
      "source": [
        "attn_weights[1]"
      ],
      "metadata": {
        "colab": {
          "base_uri": "https://localhost:8080/"
        },
        "id": "BiB3JIdFfRI3",
        "outputId": "33dade9f-08c2-44f0-a0e4-1d7d7100aaed"
      },
      "id": "BiB3JIdFfRI3",
      "execution_count": 91,
      "outputs": [
        {
          "output_type": "execute_result",
          "data": {
            "text/plain": [
              "tensor([[[0.1372, 0.1781, 0.2368, 0.2057, 0.0000, 0.1790, 0.0697, 0.1454],\n",
              "         [0.2269, 0.0656, 0.1025, 0.0310, 0.1245, 0.1589, 0.0683, 0.2653],\n",
              "         [0.0000, 0.0852, 0.2156, 0.2704, 0.1579, 0.0879, 0.1205, 0.1530],\n",
              "         [0.0000, 0.0797, 0.3178, 0.2861, 0.1612, 0.1047, 0.1262, 0.1423],\n",
              "         [0.1785, 0.1505, 0.2558, 0.0000, 0.0000, 0.0569, 0.1406, 0.1966],\n",
              "         [0.2842, 0.0000, 0.1101, 0.1658, 0.0000, 0.0000, 0.0702, 0.2990],\n",
              "         [0.0960, 0.0000, 0.2226, 0.0000, 0.0340, 0.1563, 0.0558, 0.2279],\n",
              "         [0.0000, 0.0829, 0.0000, 0.0946, 0.1715, 0.0801, 0.1793, 0.0706]],\n",
              "\n",
              "        [[0.1075, 0.0394, 0.0467, 0.1653, 0.0646, 0.0805, 0.0618, 0.1547],\n",
              "         [0.1561, 0.4013, 0.0924, 0.0533, 0.0000, 0.0478, 0.0841, 0.1081],\n",
              "         [0.0681, 0.1508, 0.0716, 0.0524, 0.1282, 0.2920, 0.1886, 0.1863],\n",
              "         [0.2029, 0.1787, 0.2049, 0.1599, 0.1856, 0.0875, 0.1841, 0.0000],\n",
              "         [0.1666, 0.0997, 0.1611, 0.1481, 0.0000, 0.1931, 0.2731, 0.1449],\n",
              "         [0.1227, 0.1992, 0.0728, 0.1676, 0.1166, 0.1482, 0.1132, 0.0000],\n",
              "         [0.1458, 0.1172, 0.0686, 0.0705, 0.1469, 0.0765, 0.1581, 0.1426],\n",
              "         [0.0927, 0.0966, 0.1774, 0.1398, 0.1606, 0.0794, 0.0000, 0.0754]],\n",
              "\n",
              "        [[0.1667, 0.1940, 0.1510, 0.2547, 0.1463, 0.1397, 0.0606, 0.0463],\n",
              "         [0.1883, 0.1240, 0.0675, 0.1227, 0.1786, 0.0666, 0.1156, 0.0882],\n",
              "         [0.0000, 0.0000, 0.0813, 0.1159, 0.1460, 0.0488, 0.1065, 0.2049],\n",
              "         [0.0635, 0.1125, 0.2146, 0.2346, 0.1337, 0.1448, 0.1304, 0.0404],\n",
              "         [0.1581, 0.1698, 0.1946, 0.2340, 0.0000, 0.1815, 0.1809, 0.0835],\n",
              "         [0.1053, 0.2165, 0.0000, 0.0909, 0.1501, 0.1479, 0.0830, 0.0843],\n",
              "         [0.1676, 0.0000, 0.2330, 0.1898, 0.0814, 0.1715, 0.1651, 0.1733],\n",
              "         [0.2105, 0.2066, 0.1533, 0.1185, 0.1511, 0.0000, 0.1113, 0.1533]],\n",
              "\n",
              "        [[0.0000, 0.1357, 0.0513, 0.0826, 0.2493, 0.1789, 0.1078, 0.0852],\n",
              "         [0.1314, 0.0516, 0.0995, 0.2008, 0.2014, 0.1783, 0.1805, 0.1233],\n",
              "         [0.1607, 0.0924, 0.1172, 0.2330, 0.1517, 0.0866, 0.3432, 0.1061],\n",
              "         [0.1841, 0.0482, 0.1389, 0.0000, 0.1678, 0.0837, 0.2016, 0.1024],\n",
              "         [0.0957, 0.0948, 0.0362, 0.1412, 0.0000, 0.1077, 0.1329, 0.0000],\n",
              "         [0.0671, 0.0638, 0.0868, 0.0000, 0.1487, 0.0460, 0.0677, 0.1453],\n",
              "         [0.1356, 0.0526, 0.1334, 0.2354, 0.1456, 0.1013, 0.3523, 0.0000],\n",
              "         [0.0710, 0.1601, 0.0456, 0.2014, 0.1885, 0.2058, 0.0727, 0.1346]],\n",
              "\n",
              "        [[0.2002, 0.2128, 0.0514, 0.0418, 0.1238, 0.2147, 0.1024, 0.2739],\n",
              "         [0.1652, 0.2334, 0.0578, 0.0883, 0.0820, 0.1388, 0.1623, 0.1435],\n",
              "         [0.1183, 0.0625, 0.1721, 0.0702, 0.0894, 0.1749, 0.1460, 0.0361],\n",
              "         [0.1281, 0.1608, 0.1742, 0.1434, 0.1208, 0.1273, 0.1454, 0.1662],\n",
              "         [0.1837, 0.2986, 0.0000, 0.0910, 0.1786, 0.1737, 0.0684, 0.1906],\n",
              "         [0.1128, 0.0525, 0.0732, 0.0548, 0.1447, 0.2154, 0.0543, 0.1397],\n",
              "         [0.0390, 0.1914, 0.1637, 0.0615, 0.1651, 0.1191, 0.0360, 0.2666],\n",
              "         [0.1154, 0.1485, 0.2404, 0.1262, 0.1627, 0.1942, 0.0924, 0.1227]]],\n",
              "       grad_fn=<DivBackward0>)"
            ]
          },
          "metadata": {},
          "execution_count": 91
        }
      ]
    },
    {
      "cell_type": "code",
      "source": [
        "model"
      ],
      "metadata": {
        "colab": {
          "base_uri": "https://localhost:8080/"
        },
        "id": "biJEXmoRJx_i",
        "outputId": "553b2896-e1cd-4984-b378-ed49dbf6407d"
      },
      "id": "biJEXmoRJx_i",
      "execution_count": 92,
      "outputs": [
        {
          "output_type": "execute_result",
          "data": {
            "text/plain": [
              "MyGPT(\n",
              "  (embedding_layer): Embedding(10, 64)\n",
              "  (pos_encoder): PositionalEncoding(\n",
              "    (dropout): Dropout(p=0.1, inplace=False)\n",
              "  )\n",
              "  (transformer_encoder): TransformerEncoder(\n",
              "    (layers): ModuleList(\n",
              "      (0): TransformerLayer(\n",
              "        (attn_layer): MultiHeadSelfAttention(\n",
              "          (attention_layer): MultiheadAttention(\n",
              "            (out_proj): NonDynamicallyQuantizableLinear(in_features=64, out_features=64, bias=True)\n",
              "          )\n",
              "        )\n",
              "        (ffn_layer): FeedForward(\n",
              "          (activation): ReLU()\n",
              "          (dropout): Dropout(p=0.1, inplace=False)\n",
              "          (layer_1): Linear(in_features=64, out_features=64, bias=True)\n",
              "          (layer_2): Linear(in_features=64, out_features=64, bias=True)\n",
              "        )\n",
              "        (layer_norm): TransformerLayerNorm(\n",
              "          (layer_norm): LayerNorm((64,), eps=1e-05, elementwise_affine=True)\n",
              "        )\n",
              "      )\n",
              "      (1): TransformerLayer(\n",
              "        (attn_layer): MultiHeadSelfAttention(\n",
              "          (attention_layer): MultiheadAttention(\n",
              "            (out_proj): NonDynamicallyQuantizableLinear(in_features=64, out_features=64, bias=True)\n",
              "          )\n",
              "        )\n",
              "        (ffn_layer): FeedForward(\n",
              "          (activation): ReLU()\n",
              "          (dropout): Dropout(p=0.1, inplace=False)\n",
              "          (layer_1): Linear(in_features=64, out_features=64, bias=True)\n",
              "          (layer_2): Linear(in_features=64, out_features=64, bias=True)\n",
              "        )\n",
              "        (layer_norm): TransformerLayerNorm(\n",
              "          (layer_norm): LayerNorm((64,), eps=1e-05, elementwise_affine=True)\n",
              "        )\n",
              "      )\n",
              "    )\n",
              "  )\n",
              "  (decoder): Linear(in_features=64, out_features=10, bias=True)\n",
              "  (embed_layer_norm): LayerNorm((64,), eps=1e-05, elementwise_affine=True)\n",
              ")"
            ]
          },
          "metadata": {},
          "execution_count": 92
        }
      ]
    },
    {
      "cell_type": "markdown",
      "source": [
        "#### Auto-regressive Language Model"
      ],
      "metadata": {
        "id": "c7pUDNvNeulP"
      },
      "id": "c7pUDNvNeulP"
    },
    {
      "cell_type": "markdown",
      "source": [
        "For a autoregressive language model, the self-attention layers are only allowed to attend to earlier positions in the sequence, looking into the future is not allowed. We will require an attention mask which prevents peeking into future using upper-triangular matrix of ones. \n"
      ],
      "metadata": {
        "id": "5jIArPmmcXt_"
      },
      "id": "5jIArPmmcXt_"
    },
    {
      "cell_type": "code",
      "source": [
        "def generate_square_subsequent_mask(sz):\n",
        "    \"\"\"\n",
        "    Generates an upper-triangular matrix of ones, with zeros on diag.\n",
        "    Shape max_length * max_length\n",
        "    \"\"\"\n",
        "    return torch.triu(torch.ones(sz, sz, dtype=torch.bool), diagonal=1)"
      ],
      "metadata": {
        "id": "XkVScG_mOdUd"
      },
      "id": "XkVScG_mOdUd",
      "execution_count": 93,
      "outputs": []
    },
    {
      "cell_type": "code",
      "source": [
        "generate_square_subsequent_mask(5)"
      ],
      "metadata": {
        "colab": {
          "base_uri": "https://localhost:8080/"
        },
        "id": "jBa35kgcOIBB",
        "outputId": "208de61a-78da-4cd8-a277-eaff88144129"
      },
      "id": "jBa35kgcOIBB",
      "execution_count": 94,
      "outputs": [
        {
          "output_type": "execute_result",
          "data": {
            "text/plain": [
              "tensor([[False,  True,  True,  True,  True],\n",
              "        [False, False,  True,  True,  True],\n",
              "        [False, False, False,  True,  True],\n",
              "        [False, False, False, False,  True],\n",
              "        [False, False, False, False, False]])"
            ]
          },
          "metadata": {},
          "execution_count": 94
        }
      ]
    },
    {
      "cell_type": "markdown",
      "source": [
        "To follow the requirements of the PyTorch `MultiHeadAttention` layer, the `True` value at `(i,j)`-th place indicates that the self-attention for `i`-th position can not look at `j`-th position. "
      ],
      "metadata": {
        "id": "S8ihlr9vfvbs"
      },
      "id": "S8ihlr9vfvbs"
    },
    {
      "cell_type": "markdown",
      "source": [
        "Back to our GPT model, we would require an attention mask `attn_mask` "
      ],
      "metadata": {
        "id": "gds3YsC3gWNQ"
      },
      "id": "gds3YsC3gWNQ"
    },
    {
      "cell_type": "code",
      "source": [
        "attn_mask = generate_square_subsequent_mask(seq_length)\n",
        "attn_mask"
      ],
      "metadata": {
        "colab": {
          "base_uri": "https://localhost:8080/"
        },
        "id": "TwXpu7yDfWVx",
        "outputId": "c4e5659d-5fc9-496e-c3e9-45740cdbca9f"
      },
      "id": "TwXpu7yDfWVx",
      "execution_count": 95,
      "outputs": [
        {
          "output_type": "execute_result",
          "data": {
            "text/plain": [
              "tensor([[False,  True,  True,  True,  True,  True,  True,  True],\n",
              "        [False, False,  True,  True,  True,  True,  True,  True],\n",
              "        [False, False, False,  True,  True,  True,  True,  True],\n",
              "        [False, False, False, False,  True,  True,  True,  True],\n",
              "        [False, False, False, False, False,  True,  True,  True],\n",
              "        [False, False, False, False, False, False,  True,  True],\n",
              "        [False, False, False, False, False, False, False,  True],\n",
              "        [False, False, False, False, False, False, False, False]])"
            ]
          },
          "metadata": {},
          "execution_count": 95
        }
      ]
    },
    {
      "cell_type": "code",
      "source": [
        "y = model(x, attn_mask=attn_mask)"
      ],
      "metadata": {
        "id": "F_bXSH8pg583"
      },
      "id": "F_bXSH8pg583",
      "execution_count": 96,
      "outputs": []
    },
    {
      "cell_type": "code",
      "source": [
        "y"
      ],
      "metadata": {
        "colab": {
          "base_uri": "https://localhost:8080/"
        },
        "id": "S0wAF2OGg-Yd",
        "outputId": "89024d8e-506a-4a4a-92c0-84703455a566"
      },
      "id": "S0wAF2OGg-Yd",
      "execution_count": 97,
      "outputs": [
        {
          "output_type": "execute_result",
          "data": {
            "text/plain": [
              "tensor([[[ 1.7974e+00,  7.2112e-01, -7.8530e-02,  4.8879e-01,  3.5751e+00,\n",
              "          -2.4817e+00,  2.0186e+00,  1.4142e+00,  1.8569e+00, -1.3372e+00],\n",
              "         [ 3.0068e-01,  2.5702e+00,  6.7665e-01,  1.9813e+00,  1.6985e+00,\n",
              "           4.0547e+00, -4.8453e-01, -2.6835e+00,  1.9968e+00, -4.3766e+00],\n",
              "         [ 1.1401e+00,  5.4791e+00, -2.5561e+00, -1.1816e+00,  1.5839e+00,\n",
              "           1.5675e+00, -2.4823e+00, -6.4347e-02,  1.4122e+00,  1.0774e+00],\n",
              "         [-2.7872e-01,  4.5330e+00, -2.1399e+00,  1.6308e+00, -2.3378e+00,\n",
              "           2.9814e+00, -3.9714e+00,  1.6348e+00,  7.9497e-02,  1.0263e+00],\n",
              "         [-2.6267e+00,  3.2035e+00,  1.6754e+00, -1.9250e+00,  6.3431e-01,\n",
              "           3.4647e+00, -5.2544e+00,  2.2085e+00, -3.9343e+00, -9.9813e-01],\n",
              "         [-1.5112e+00,  2.5731e-01,  2.6547e+00, -3.5589e-01,  3.0056e-01,\n",
              "           5.2017e+00, -3.1953e+00,  2.0065e+00, -3.8659e+00, -1.0345e+00],\n",
              "         [-1.6251e+00,  2.6326e+00,  2.4651e+00, -1.4558e+00,  5.9543e-01,\n",
              "           3.0159e+00, -4.4720e+00,  1.9356e+00, -3.7138e+00, -1.5284e+00],\n",
              "         [ 9.9393e-01, -1.0201e+00, -8.7653e-01,  5.0938e-01,  3.4485e+00,\n",
              "          -1.7941e+00,  3.2256e+00,  2.5001e+00,  2.9418e+00, -1.7065e+00]],\n",
              "\n",
              "        [[ 1.2972e+00,  1.7809e+00,  2.2259e-01,  4.0713e+00, -1.3923e+00,\n",
              "           5.0530e+00, -5.9173e-01, -5.7630e-01,  2.5651e+00, -5.0136e+00],\n",
              "         [ 1.7957e+00,  4.7338e+00, -1.4630e+00,  2.7324e-01, -2.6355e+00,\n",
              "           1.8102e+00, -3.1467e+00,  9.2883e-01,  2.5225e+00, -1.0687e+00],\n",
              "         [ 1.1659e+00,  1.0025e+00,  2.5189e+00,  8.2368e-01,  3.2010e-01,\n",
              "           2.8865e+00,  1.1674e+00, -6.7550e-01,  4.1324e+00, -1.9171e-01],\n",
              "         [ 1.3453e+00,  3.2422e-01,  9.7951e-01,  2.0517e+00,  1.1150e-01,\n",
              "           7.2115e+00, -1.7067e+00, -3.0284e+00,  1.5352e+00, -4.2482e+00],\n",
              "         [ 2.5046e+00, -8.3965e-01,  7.3391e-01,  5.4281e-01,  3.0549e-01,\n",
              "          -2.7994e+00,  1.8647e+00,  1.1798e+00,  2.9781e+00, -2.4195e+00],\n",
              "         [-1.5474e+00,  2.2055e+00,  9.5698e-01, -1.9278e+00,  7.5805e-01,\n",
              "           2.7642e+00, -5.3858e+00,  1.6517e+00, -4.1315e+00, -8.7094e-01],\n",
              "         [ 2.2251e+00,  2.7917e+00, -8.2648e-01,  3.2241e-01,  1.1064e+00,\n",
              "           1.7454e+00, -6.1135e-01,  1.7613e+00,  2.8780e+00,  1.3759e+00],\n",
              "         [ 1.6068e+00, -1.3869e+00, -7.0506e-01,  3.5996e-01, -7.4280e-01,\n",
              "          -8.3293e-01, -1.9545e+00,  1.3852e+00, -1.0181e+00,  3.4577e-01]],\n",
              "\n",
              "        [[ 2.9072e-01, -2.6447e+00, -2.1548e+00, -6.7715e-01, -2.4994e+00,\n",
              "          -2.8646e+00,  3.5367e+00,  1.4947e+00,  2.7352e+00,  9.1368e-01],\n",
              "         [ 5.8099e-01, -3.8112e+00, -8.9899e-01,  1.1251e+00, -3.5072e+00,\n",
              "          -1.8817e+00,  2.3281e+00,  1.6787e+00,  2.6080e+00,  6.7121e-01],\n",
              "         [ 9.8971e-01,  3.0295e+00, -2.2957e+00,  1.0725e+00, -3.6283e+00,\n",
              "           2.4732e+00, -1.2905e+00,  5.2584e-01,  4.6304e-01,  4.6188e-01],\n",
              "         [ 1.2991e+00, -2.1469e+00, -3.5215e+00,  1.7984e+00, -2.1559e-01,\n",
              "           3.2255e+00, -3.7442e+00,  2.5582e+00, -1.8444e+00, -2.8118e+00],\n",
              "         [ 3.1826e+00,  1.5289e+00,  7.5584e-01, -1.8134e+00, -1.7065e+00,\n",
              "           2.7547e+00,  1.2757e+00, -5.7826e-01,  3.7539e+00, -6.9645e-01],\n",
              "         [ 5.1457e-01, -3.7497e+00, -1.0980e+00, -1.0582e-01, -1.2594e+00,\n",
              "          -2.0634e+00,  1.7537e+00,  8.0227e-01,  3.1019e+00, -8.2089e-01],\n",
              "         [ 2.5388e-03, -1.8444e+00,  9.7286e-01,  2.2546e+00,  2.0803e+00,\n",
              "           9.8846e-01,  3.6411e+00, -3.3194e-01,  2.9085e+00, -2.5998e+00],\n",
              "         [ 2.1220e+00, -2.3061e+00, -2.5418e-01,  1.7230e+00, -1.1573e+00,\n",
              "           2.5074e-01,  2.2669e+00, -4.8671e-01,  1.3498e+00, -5.3795e-01]],\n",
              "\n",
              "        [[ 1.0879e+00, -2.7159e-01, -1.2001e+00, -2.3982e-01,  2.3415e+00,\n",
              "          -1.3542e+00,  2.1319e+00, -1.5279e+00,  5.9089e-01, -6.9176e-01],\n",
              "         [ 9.0105e-01, -1.8679e+00, -9.7054e-01, -2.2430e+00,  2.8334e+00,\n",
              "           1.8911e+00, -6.2929e-01, -1.6273e+00,  5.1937e-01, -7.4379e-01],\n",
              "         [ 6.9679e-01,  4.4394e+00, -2.1656e+00,  4.8239e-01, -8.4581e-01,\n",
              "           2.1880e+00, -3.1517e+00, -4.3942e-01,  5.3157e-01, -1.0903e-01],\n",
              "         [ 2.0518e+00,  2.6689e+00, -3.7028e-01,  7.8054e-01,  1.5232e+00,\n",
              "           9.2498e-01, -1.1643e+00,  8.6966e-02,  3.8974e+00, -1.1714e+00],\n",
              "         [-5.2441e-01, -1.6114e+00, -4.3060e+00,  4.8746e-01,  3.2694e+00,\n",
              "           2.1724e+00, -3.7127e+00,  1.8971e+00, -4.7865e-01, -2.3590e+00],\n",
              "         [ 1.8061e+00, -2.7008e+00, -4.4506e-01,  3.2627e-01,  3.1759e-01,\n",
              "           1.4981e+00, -1.4191e+00,  5.4354e-01,  4.6201e-01, -1.4333e+00],\n",
              "         [ 1.6563e+00,  3.8308e+00, -1.3134e+00,  2.2575e+00, -1.7778e+00,\n",
              "           3.1901e+00, -3.0694e+00, -2.7204e-01,  6.8205e-01, -1.2625e+00],\n",
              "         [ 1.6860e+00, -1.2908e+00, -6.7974e-01, -5.6378e-01,  1.4824e+00,\n",
              "           1.2519e+00, -1.6680e+00,  1.1911e-01,  2.2795e+00, -2.0493e+00]],\n",
              "\n",
              "        [[ 2.2435e+00, -1.6707e+00, -1.1164e+00,  7.0716e-02,  4.8675e+00,\n",
              "           2.5648e+00, -3.7405e+00, -2.7535e+00, -2.2021e+00, -3.2192e+00],\n",
              "         [-1.1887e+00,  5.9713e-02, -1.8622e+00,  2.0445e+00,  1.3945e-01,\n",
              "           2.2778e+00, -1.4313e+00,  4.1265e-01,  1.4055e+00, -9.3456e-03],\n",
              "         [-1.3451e+00,  2.0949e+00, -2.6849e+00,  1.1009e+00, -7.9402e-02,\n",
              "           1.5857e+00, -2.2467e+00,  4.6415e-01,  8.0545e-02, -5.4830e-01],\n",
              "         [-6.8455e-01,  1.6310e+00,  2.8600e+00, -7.8365e-01,  1.9226e+00,\n",
              "           4.1351e+00, -4.2532e+00,  1.3880e+00, -2.2331e+00, -2.7638e-01],\n",
              "         [ 1.9721e+00,  1.0561e+00, -2.0927e-02,  3.5584e+00,  7.3948e-01,\n",
              "           6.0180e+00, -1.4645e+00, -2.6732e+00,  2.7344e+00, -5.8341e+00],\n",
              "         [ 3.9739e+00,  2.8463e+00, -5.5192e-01,  2.9045e-01,  1.8051e+00,\n",
              "           1.5901e+00, -1.2993e+00,  1.9012e-01,  3.4874e+00, -1.7532e+00],\n",
              "         [ 1.5217e+00, -2.2636e+00,  9.0962e-01,  1.4886e+00,  3.2783e+00,\n",
              "           3.5141e-01,  6.2888e-01,  9.8392e-01,  2.1973e+00, -2.7770e+00],\n",
              "         [ 3.0633e+00,  2.3021e+00, -1.8530e-01,  5.4145e-01,  3.2486e+00,\n",
              "           4.8144e-01, -1.3251e+00,  4.3953e-01,  4.3179e+00, -1.6688e+00]]],\n",
              "       grad_fn=<ViewBackward0>)"
            ]
          },
          "metadata": {},
          "execution_count": 97
        }
      ]
    },
    {
      "cell_type": "markdown",
      "source": [
        "This network produces a 10-dimensional output for each token, where 10 is the size of the vocabulary. It can be viewed as capturing the probabilities of the next token over the whole vocabulary. Such a network can be trained using well-crafted training data of sequences e.g, \n",
        "$$X = [A, B, C]$$\n",
        "$$Y = [B, C, D]$$"
      ],
      "metadata": {
        "id": "U_SiHtRXqKaF"
      },
      "id": "U_SiHtRXqKaF"
    },
    {
      "cell_type": "markdown",
      "source": [
        "Let's look at the attention weights. "
      ],
      "metadata": {
        "id": "8DyUITOwqMsO"
      },
      "id": "8DyUITOwqMsO"
    },
    {
      "cell_type": "code",
      "source": [
        "attn_weights = model.get_attn_weights()\n",
        "len(attn_weights)"
      ],
      "metadata": {
        "colab": {
          "base_uri": "https://localhost:8080/"
        },
        "id": "26hSj7EAdhF4",
        "outputId": "df717519-7682-4ffe-deb1-1b43a2ecdef3"
      },
      "id": "26hSj7EAdhF4",
      "execution_count": 99,
      "outputs": [
        {
          "output_type": "execute_result",
          "data": {
            "text/plain": [
              "4"
            ]
          },
          "metadata": {},
          "execution_count": 99
        }
      ]
    },
    {
      "cell_type": "code",
      "source": [
        "attn_weights[3]"
      ],
      "metadata": {
        "colab": {
          "base_uri": "https://localhost:8080/"
        },
        "id": "MKzBOwYqdjVg",
        "outputId": "0bd38c02-3e15-4b52-d305-c0b5cfd57e60"
      },
      "id": "MKzBOwYqdjVg",
      "execution_count": 100,
      "outputs": [
        {
          "output_type": "execute_result",
          "data": {
            "text/plain": [
              "tensor([[[1.4286, 0.0000, 0.0000, 0.0000, 0.0000, 0.0000, 0.0000, 0.0000],\n",
              "         [0.7654, 0.3419, 0.0000, 0.0000, 0.0000, 0.0000, 0.0000, 0.0000],\n",
              "         [0.4977, 0.2518, 0.5794, 0.0000, 0.0000, 0.0000, 0.0000, 0.0000],\n",
              "         [0.0000, 0.1874, 0.4689, 0.2164, 0.0000, 0.0000, 0.0000, 0.0000],\n",
              "         [0.1868, 0.0512, 0.2236, 0.1321, 0.2359, 0.0000, 0.0000, 0.0000],\n",
              "         [0.0000, 0.0000, 0.1915, 0.1258, 0.1056, 0.2487, 0.0000, 0.0000],\n",
              "         [0.2112, 0.0305, 0.3023, 0.1016, 0.1891, 0.2077, 0.1193, 0.0000],\n",
              "         [0.1667, 0.1038, 0.2294, 0.0949, 0.1713, 0.0000, 0.0835, 0.0000]],\n",
              "\n",
              "        [[1.4286, 0.0000, 0.0000, 0.0000, 0.0000, 0.0000, 0.0000, 0.0000],\n",
              "         [0.2348, 0.6909, 0.0000, 0.0000, 0.0000, 0.0000, 0.0000, 0.0000],\n",
              "         [0.0000, 0.4058, 0.2164, 0.0000, 0.0000, 0.0000, 0.0000, 0.0000],\n",
              "         [0.1172, 0.0590, 0.1789, 0.1317, 0.0000, 0.0000, 0.0000, 0.0000],\n",
              "         [0.0000, 0.0000, 0.1490, 0.1841, 0.0000, 0.0000, 0.0000, 0.0000],\n",
              "         [0.2091, 0.1518, 0.2202, 0.1757, 0.0000, 0.1581, 0.0000, 0.0000],\n",
              "         [0.1000, 0.1088, 0.1581, 0.1256, 0.2577, 0.0515, 0.3604, 0.0000],\n",
              "         [0.0446, 0.1618, 0.1638, 0.1098, 0.1470, 0.1211, 0.1770, 0.0658]],\n",
              "\n",
              "        [[1.4286, 0.0000, 0.0000, 0.0000, 0.0000, 0.0000, 0.0000, 0.0000],\n",
              "         [0.0000, 0.7212, 0.0000, 0.0000, 0.0000, 0.0000, 0.0000, 0.0000],\n",
              "         [0.3666, 0.1183, 0.6122, 0.0000, 0.0000, 0.0000, 0.0000, 0.0000],\n",
              "         [0.0000, 0.2285, 0.2820, 0.4649, 0.0000, 0.0000, 0.0000, 0.0000],\n",
              "         [0.2136, 0.2191, 0.4069, 0.4127, 0.0000, 0.0000, 0.0000, 0.0000],\n",
              "         [0.1778, 0.0000, 0.1030, 0.2571, 0.1127, 0.2319, 0.0000, 0.0000],\n",
              "         [0.0867, 0.1748, 0.2851, 0.2362, 0.0842, 0.1998, 0.1126, 0.0000],\n",
              "         [0.1878, 0.0000, 0.1287, 0.0000, 0.0594, 0.1911, 0.1408, 0.1125]],\n",
              "\n",
              "        [[1.4286, 0.0000, 0.0000, 0.0000, 0.0000, 0.0000, 0.0000, 0.0000],\n",
              "         [0.6704, 0.7582, 0.0000, 0.0000, 0.0000, 0.0000, 0.0000, 0.0000],\n",
              "         [0.2985, 0.3320, 0.3473, 0.0000, 0.0000, 0.0000, 0.0000, 0.0000],\n",
              "         [0.4081, 0.2323, 0.1597, 0.4707, 0.0000, 0.0000, 0.0000, 0.0000],\n",
              "         [0.3839, 0.2944, 0.2262, 0.2676, 0.0000, 0.0000, 0.0000, 0.0000],\n",
              "         [0.0670, 0.0462, 0.1775, 0.2018, 0.2766, 0.2349, 0.0000, 0.0000],\n",
              "         [0.1251, 0.0839, 0.2348, 0.0318, 0.1621, 0.1177, 0.3297, 0.0000],\n",
              "         [0.0000, 0.1731, 0.0820, 0.2748, 0.2419, 0.1068, 0.1561, 0.1305]],\n",
              "\n",
              "        [[1.4286, 0.0000, 0.0000, 0.0000, 0.0000, 0.0000, 0.0000, 0.0000],\n",
              "         [0.0000, 0.8339, 0.0000, 0.0000, 0.0000, 0.0000, 0.0000, 0.0000],\n",
              "         [0.0000, 0.2888, 0.3218, 0.0000, 0.0000, 0.0000, 0.0000, 0.0000],\n",
              "         [0.0000, 0.4347, 0.1244, 0.3073, 0.0000, 0.0000, 0.0000, 0.0000],\n",
              "         [0.0621, 0.4682, 0.0692, 0.1614, 0.2117, 0.0000, 0.0000, 0.0000],\n",
              "         [0.0294, 0.3112, 0.0000, 0.0000, 0.0749, 0.0000, 0.0000, 0.0000],\n",
              "         [0.0567, 0.1599, 0.1897, 0.1508, 0.0882, 0.1103, 0.0566, 0.0000],\n",
              "         [0.0830, 0.0755, 0.0730, 0.1119, 0.1338, 0.2375, 0.0489, 0.1074]]],\n",
              "       grad_fn=<DivBackward0>)"
            ]
          },
          "metadata": {},
          "execution_count": 100
        }
      ]
    },
    {
      "cell_type": "markdown",
      "source": [
        "Worth noting that the attention weight matrices are lower triangular which highlights the fact that the attention mask prohibits peeking into the future. "
      ],
      "metadata": {
        "id": "yO8ZIgn6pmEe"
      },
      "id": "yO8ZIgn6pmEe"
    },
    {
      "cell_type": "markdown",
      "source": [
        "This has been the first notebook in my series on transformer models. Next, we will implement data processing and training pipelines. "
      ],
      "metadata": {
        "id": "CoupRwcsIncQ"
      },
      "id": "CoupRwcsIncQ"
    }
  ],
  "metadata": {
    "kernelspec": {
      "display_name": "Python 3 (ipykernel)",
      "language": "python",
      "name": "python3"
    },
    "language_info": {
      "codemirror_mode": {
        "name": "ipython",
        "version": 3
      },
      "file_extension": ".py",
      "mimetype": "text/x-python",
      "name": "python",
      "nbconvert_exporter": "python",
      "pygments_lexer": "ipython3",
      "version": "3.7.13"
    },
    "colab": {
      "provenance": [],
      "include_colab_link": true
    }
  },
  "nbformat": 4,
  "nbformat_minor": 5
}