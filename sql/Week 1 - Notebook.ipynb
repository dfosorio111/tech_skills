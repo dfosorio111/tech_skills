{
 "cells": [
  {
   "cell_type": "code",
   "execution_count": 1,
   "id": "3e595bd4",
   "metadata": {},
   "outputs": [],
   "source": [
    "# import libraries\n",
    "# "
   ]
  },
  {
   "cell_type": "code",
   "execution_count": 2,
   "id": "2c54d367",
   "metadata": {},
   "outputs": [],
   "source": [
    "# Week 1: Intro to SQL: RDBMS = PostgreSQL\n",
    "# SQL-92 Standard\n",
    "# Course Intro\n",
    "# Relational Algebra\n",
    "# SQL Standards\n",
    "# Query Tuning"
   ]
  },
  {
   "cell_type": "code",
   "execution_count": null,
   "id": "36d2b8de",
   "metadata": {},
   "outputs": [],
   "source": []
  },
  {
   "cell_type": "code",
   "execution_count": 3,
   "id": "663ea080",
   "metadata": {},
   "outputs": [],
   "source": [
    "# Week1: Course Intro\n",
    "# intro to SQL \n",
    "# SELECT statement\n",
    "# GROUP BY functions\n",
    "# JOIN\n",
    "# DDL and DML\n",
    "# Advanced SQL commands"
   ]
  },
  {
   "cell_type": "code",
   "execution_count": null,
   "id": "eeba61ef",
   "metadata": {},
   "outputs": [],
   "source": []
  },
  {
   "cell_type": "code",
   "execution_count": 4,
   "id": "e6c1ad74",
   "metadata": {},
   "outputs": [],
   "source": [
    "# Week 1: Origins of SQL\n",
    "# data is stored in TABLES(relations)\n",
    "# TABLES are related to each other by KEYS\n",
    "# data in TABLES can be stored and retrieved using SQL\n",
    "# SQL is based in relational algebra"
   ]
  },
  {
   "cell_type": "code",
   "execution_count": null,
   "id": "174734af",
   "metadata": {},
   "outputs": [],
   "source": []
  },
  {
   "cell_type": "code",
   "execution_count": 5,
   "id": "708f9eee",
   "metadata": {},
   "outputs": [],
   "source": [
    "# Week 1: Relational Algebra\n",
    "# foundation of SQL language\n",
    "# operations against SETS of numbers\n",
    "# the SET of numbers is relation (rows and columns)"
   ]
  },
  {
   "cell_type": "code",
   "execution_count": 6,
   "id": "42ad4446",
   "metadata": {},
   "outputs": [],
   "source": [
    "# SQL  variables are RELATIONS(TABLES)\n",
    "# operations between variables(TABLES): \n",
    "# union(merge), intersection, difference, selection, projection, product, join\n",
    "\n",
    "# Relational Algebra operations:\n",
    "# A <UNINON> B,  all elements in A or B or both\n",
    "# A <INTERSECTION> B,  all elements in A and B \n",
    "# A <DIFFERENCE> B,  all elements in A  but not in B \n",
    "# <PROJECTION> att1,att2,att-n(A) , subset of columns of table A (pandas over-write)\n",
    "# <SELECTION><KEY_PARAM=CONDITION_VALUE>(A), subset of rows of table A, on a condition\n",
    "# product: multiply every row of A with every row of B, combination of all rows in 2 datasets\n",
    "# A <JOIN> B, combine columns of table A with columns of table B on key column ID "
   ]
  },
  {
   "cell_type": "code",
   "execution_count": null,
   "id": "dbb6ab35",
   "metadata": {},
   "outputs": [],
   "source": []
  },
  {
   "cell_type": "code",
   "execution_count": 7,
   "id": "32da87c4",
   "metadata": {},
   "outputs": [],
   "source": [
    "# Week 1: SQL Standards\n",
    "# RelationalDatabaseManagementSoftware  RDBMS: Oracle, MySQL, Microsoft SQL, PostgreSQL, IBM DB2\n",
    "# each software have its own unique SQL language syntax"
   ]
  },
  {
   "cell_type": "code",
   "execution_count": null,
   "id": "8a80731f",
   "metadata": {},
   "outputs": [],
   "source": []
  },
  {
   "cell_type": "code",
   "execution_count": null,
   "id": "3d2a2b04",
   "metadata": {},
   "outputs": [],
   "source": [
    "# Week 1: Query Tuning\n",
    "# SQL is NOT procedural, line by line\n",
    "# all inputs to SQL query(script) are TABLES(relations)\n",
    "# output from a query is another TABLE called answer set\n",
    "# some queries produce temporary answer sets, calculate subtotals, sort the output, apply functions to temporary answers\n",
    "# temporary answers sets do not see, but consume resources \n",
    "\n",
    "# SQL query running check-list\n",
    "# 1. parse (syntax checks) the code\n",
    "# 2. bind TABLES and columns\n",
    "# 3. create an executable, hand it to the optimizer\n",
    "# 4. optimizer calculates the most efficient execution plan\n",
    "# 5. execute the execution plan  ( produce an answer set)\n",
    "\n",
    "# server can do 1M CPU cyces in the time it takes to do 1 Disk I/O\n",
    "# optimizer calculates the least cost execution: fastest runtime, minimize use of resources, minimize disk I/O, use of indexes"
   ]
  }
 ],
 "metadata": {
  "kernelspec": {
   "display_name": "Python 3 (ipykernel)",
   "language": "python",
   "name": "python3"
  },
  "language_info": {
   "codemirror_mode": {
    "name": "ipython",
    "version": 3
   },
   "file_extension": ".py",
   "mimetype": "text/x-python",
   "name": "python",
   "nbconvert_exporter": "python",
   "pygments_lexer": "ipython3",
   "version": "3.8.10"
  }
 },
 "nbformat": 4,
 "nbformat_minor": 5
}
