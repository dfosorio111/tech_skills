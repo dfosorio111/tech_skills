{
 "cells": [
  {
   "cell_type": "code",
   "execution_count": 7,
   "id": "a3760772",
   "metadata": {},
   "outputs": [],
   "source": [
    "import numpy as np\n",
    "import socket"
   ]
  },
  {
   "cell_type": "code",
   "execution_count": 3,
   "id": "20345f67",
   "metadata": {},
   "outputs": [],
   "source": [
    "# Week 1: Unicode Characters and Strings\n",
    "# UTF-16: fixed length 2 bytes\n",
    "# UTF-32: fixed length 4 bytes\n",
    "\n",
    "# In Python 3, all strings are unicode "
   ]
  },
  {
   "cell_type": "code",
   "execution_count": 5,
   "id": "a78fb82a",
   "metadata": {},
   "outputs": [],
   "source": [
    "# decode "
   ]
  },
  {
   "cell_type": "code",
   "execution_count": 8,
   "id": "b48cd660",
   "metadata": {},
   "outputs": [
    {
     "data": {
      "text/plain": [
       "46"
      ]
     },
     "execution_count": 8,
     "metadata": {},
     "output_type": "execute_result"
    }
   ],
   "source": [
    "# decode operation\n",
    "\n",
    "# create socket \n",
    "mysock = socket.socket(socket.AF_INET, socket.SOCK_STREAM)\n",
    "\n",
    "# connect socket to website\n",
    "mysock.connect(('data.pr4e.org',80))\n",
    "\n",
    "# take strings from connect website, bytes encoded\n",
    "cmd = 'GET http://data.pr4e.org/romeo.txt  HTTP/1.0\\n\\n'.encode()\n",
    "\n",
    "# send encoded bytes by socket\n",
    "mysock.send(cmd)\n",
    "\n",
    "while True:\n",
    "    # recive encoded bytes data\n",
    "    data = mysock.recv(512)\n",
    "    if(len(data)<1):\n",
    "        break\n",
    "    # print decoded data bytes into string\n",
    "    print(data.decode())\n",
    "mysock.close()"
   ]
  },
  {
   "cell_type": "code",
   "execution_count": null,
   "id": "598f1330",
   "metadata": {},
   "outputs": [],
   "source": [
    "# Week 1: Object Oriented Concepts\n",
    "#"
   ]
  },
  {
   "cell_type": "code",
   "execution_count": 9,
   "id": "30f5cb8b",
   "metadata": {},
   "outputs": [],
   "source": [
    "# object: self-contained code and data\n",
    "\n",
    "# class: template of an object\n",
    "# attribute: feature of data of a class\n",
    "# method: function of a class\n",
    "# object: an instance of a class\n",
    "# constructor method: automatic initialization method when object is created\n",
    "# inheritance: heredar attributes and methods from another class"
   ]
  },
  {
   "cell_type": "code",
   "execution_count": null,
   "id": "4c82263f",
   "metadata": {},
   "outputs": [],
   "source": []
  },
  {
   "cell_type": "code",
   "execution_count": 16,
   "id": "8b54b00b",
   "metadata": {},
   "outputs": [],
   "source": [
    "# Week 1: First Class and Object\n",
    "# class new_class:  create new class template with\n",
    "# attributes: class features(variables)\n",
    "# methods: class functions\n",
    "# x = new_class(): create new instance of class \n",
    "\n",
    "# type(x): returns class of instance(object)\n",
    "# dir(x): returns methods and attributes of class"
   ]
  },
  {
   "cell_type": "code",
   "execution_count": 31,
   "id": "85de7fd5",
   "metadata": {},
   "outputs": [
    {
     "name": "stdout",
     "output_type": "stream",
     "text": [
      "1\n",
      "<class '__main__.party_animal'>\n",
      "['__class__', '__delattr__', '__dict__', '__dir__', '__doc__', '__eq__', '__format__', '__ge__', '__getattribute__', '__gt__', '__hash__', '__init__', '__init_subclass__', '__le__', '__lt__', '__module__', '__ne__', '__new__', '__reduce__', '__reduce_ex__', '__repr__', '__setattr__', '__sizeof__', '__str__', '__subclasshook__', '__weakref__', 'party', 'x']\n"
     ]
    }
   ],
   "source": [
    "# create new class\n",
    "class party_animal:\n",
    "    \n",
    "    # attributes: variables of classes\n",
    "    x = 0\n",
    "    \n",
    "    \n",
    "    # methods/functions of class\n",
    "    \n",
    "    # method: add 1 to x attribute\n",
    "    # parameter: self- class\n",
    "    def party(self):\n",
    "        # add 1 to x value\n",
    "        self.x = self.x + 1 \n",
    "\n",
    "# create instance (object) of party_animal\n",
    "an = party_animal()\n",
    "\n",
    "# add 1 to x attribute of object an\n",
    "an.party()\n",
    "\n",
    "# print x attribute \n",
    "print(an.x)\n",
    "\n",
    "# print type an object\n",
    "print(type(an))\n",
    "\n",
    "# print dir(an) methods and attributes of instance(object)  an\n",
    "print(dir(an))"
   ]
  },
  {
   "cell_type": "code",
   "execution_count": 29,
   "id": "fa3fdedd",
   "metadata": {
    "scrolled": true
   },
   "outputs": [
    {
     "name": "stdout",
     "output_type": "stream",
     "text": [
      "String class methods: ['__add__', '__class__', '__contains__', '__delattr__', '__dir__', '__doc__', '__eq__', '__format__', '__ge__', '__getattribute__', '__getitem__', '__getnewargs__', '__gt__', '__hash__', '__init__', '__init_subclass__', '__iter__', '__le__', '__len__', '__lt__', '__mod__', '__mul__', '__ne__', '__new__', '__reduce__', '__reduce_ex__', '__repr__', '__rmod__', '__rmul__', '__setattr__', '__sizeof__', '__str__', '__subclasshook__', 'capitalize', 'casefold', 'center', 'count', 'encode', 'endswith', 'expandtabs', 'find', 'format', 'format_map', 'index', 'isalnum', 'isalpha', 'isascii', 'isdecimal', 'isdigit', 'isidentifier', 'islower', 'isnumeric', 'isprintable', 'isspace', 'istitle', 'isupper', 'join', 'ljust', 'lower', 'lstrip', 'maketrans', 'partition', 'replace', 'rfind', 'rindex', 'rjust', 'rpartition', 'rsplit', 'rstrip', 'split', 'splitlines', 'startswith', 'strip', 'swapcase', 'title', 'translate', 'upper', 'zfill']\n",
      "\n",
      "Int class methods: ['__abs__', '__add__', '__and__', '__bool__', '__ceil__', '__class__', '__delattr__', '__dir__', '__divmod__', '__doc__', '__eq__', '__float__', '__floor__', '__floordiv__', '__format__', '__ge__', '__getattribute__', '__getnewargs__', '__gt__', '__hash__', '__index__', '__init__', '__init_subclass__', '__int__', '__invert__', '__le__', '__lshift__', '__lt__', '__mod__', '__mul__', '__ne__', '__neg__', '__new__', '__or__', '__pos__', '__pow__', '__radd__', '__rand__', '__rdivmod__', '__reduce__', '__reduce_ex__', '__repr__', '__rfloordiv__', '__rlshift__', '__rmod__', '__rmul__', '__ror__', '__round__', '__rpow__', '__rrshift__', '__rshift__', '__rsub__', '__rtruediv__', '__rxor__', '__setattr__', '__sizeof__', '__str__', '__sub__', '__subclasshook__', '__truediv__', '__trunc__', '__xor__', 'as_integer_ratio', 'bit_length', 'conjugate', 'denominator', 'from_bytes', 'imag', 'numerator', 'real', 'to_bytes']\n",
      "\n",
      "Boolean class methods: ['__abs__', '__add__', '__and__', '__bool__', '__ceil__', '__class__', '__delattr__', '__dir__', '__divmod__', '__doc__', '__eq__', '__float__', '__floor__', '__floordiv__', '__format__', '__ge__', '__getattribute__', '__getnewargs__', '__gt__', '__hash__', '__index__', '__init__', '__init_subclass__', '__int__', '__invert__', '__le__', '__lshift__', '__lt__', '__mod__', '__mul__', '__ne__', '__neg__', '__new__', '__or__', '__pos__', '__pow__', '__radd__', '__rand__', '__rdivmod__', '__reduce__', '__reduce_ex__', '__repr__', '__rfloordiv__', '__rlshift__', '__rmod__', '__rmul__', '__ror__', '__round__', '__rpow__', '__rrshift__', '__rshift__', '__rsub__', '__rtruediv__', '__rxor__', '__setattr__', '__sizeof__', '__str__', '__sub__', '__subclasshook__', '__truediv__', '__trunc__', '__xor__', 'as_integer_ratio', 'bit_length', 'conjugate', 'denominator', 'from_bytes', 'imag', 'numerator', 'real', 'to_bytes']\n",
      "\n",
      "List class methods: ['__add__', '__class__', '__contains__', '__delattr__', '__dir__', '__doc__', '__eq__', '__format__', '__ge__', '__getattribute__', '__getitem__', '__getnewargs__', '__gt__', '__hash__', '__init__', '__init_subclass__', '__iter__', '__le__', '__len__', '__lt__', '__mod__', '__mul__', '__ne__', '__new__', '__reduce__', '__reduce_ex__', '__repr__', '__rmod__', '__rmul__', '__setattr__', '__sizeof__', '__str__', '__subclasshook__', 'capitalize', 'casefold', 'center', 'count', 'encode', 'endswith', 'expandtabs', 'find', 'format', 'format_map', 'index', 'isalnum', 'isalpha', 'isascii', 'isdecimal', 'isdigit', 'isidentifier', 'islower', 'isnumeric', 'isprintable', 'isspace', 'istitle', 'isupper', 'join', 'ljust', 'lower', 'lstrip', 'maketrans', 'partition', 'replace', 'rfind', 'rindex', 'rjust', 'rpartition', 'rsplit', 'rstrip', 'split', 'splitlines', 'startswith', 'strip', 'swapcase', 'title', 'translate', 'upper', 'zfill']\n",
      "\n",
      "Dictionary class methods: ['__add__', '__class__', '__contains__', '__delattr__', '__dir__', '__doc__', '__eq__', '__format__', '__ge__', '__getattribute__', '__getitem__', '__getnewargs__', '__gt__', '__hash__', '__init__', '__init_subclass__', '__iter__', '__le__', '__len__', '__lt__', '__mod__', '__mul__', '__ne__', '__new__', '__reduce__', '__reduce_ex__', '__repr__', '__rmod__', '__rmul__', '__setattr__', '__sizeof__', '__str__', '__subclasshook__', 'capitalize', 'casefold', 'center', 'count', 'encode', 'endswith', 'expandtabs', 'find', 'format', 'format_map', 'index', 'isalnum', 'isalpha', 'isascii', 'isdecimal', 'isdigit', 'isidentifier', 'islower', 'isnumeric', 'isprintable', 'isspace', 'istitle', 'isupper', 'join', 'ljust', 'lower', 'lstrip', 'maketrans', 'partition', 'replace', 'rfind', 'rindex', 'rjust', 'rpartition', 'rsplit', 'rstrip', 'split', 'splitlines', 'startswith', 'strip', 'swapcase', 'title', 'translate', 'upper', 'zfill']\n",
      "\n"
     ]
    }
   ],
   "source": [
    "# dir() returns list of methods/functions of class\n",
    "# ignore las que tienen __,son internas\n",
    "x = str()\n",
    "y = int()\n",
    "z = bool()\n",
    "my_list = []\n",
    "my_dict = {}\n",
    "\n",
    "\n",
    "print(\"String class methods: \"+str(dir(x)))\n",
    "print(\"\")\n",
    "print(\"Int class methods: \"+str(dir(y)))\n",
    "print(\"\")\n",
    "print(\"Boolean class methods: \"+str(dir(z)))\n",
    "print(\"\")\n",
    "print(\"List class methods: \"+str(dir(x)))\n",
    "print(\"\")\n",
    "print(\"Dictionary class methods: \"+str(dir(x)))\n",
    "print(\"\")"
   ]
  },
  {
   "cell_type": "code",
   "execution_count": null,
   "id": "e5862481",
   "metadata": {},
   "outputs": [],
   "source": [
    "# Week 1: Object Life Cycle\n",
    "# constructor method: set up variables of class to have initial values when object is created\n",
    "\n",
    "# parameters: always self(class), other parameters\n",
    "# self.attribute = ...  to initialize attributes values of class\n",
    "def __init__(self,input_name,input_val):\n",
    "    # set initial values of class party_animal    \n",
    "    # self.attribute = new_attribute\n",
    "    self.x = input_val\n",
    "    self.name = input_name\n",
    "    print(\"party_animal object constructed\")"
   ]
  },
  {
   "cell_type": "code",
   "execution_count": 49,
   "id": "64eb7318",
   "metadata": {},
   "outputs": [
    {
     "name": "stdout",
     "output_type": "stream",
     "text": [
      "party_animal object constructed\n",
      "11\n"
     ]
    }
   ],
   "source": [
    "# create new class\n",
    "class party_animal:\n",
    "    \n",
    "    # attributes: variables of classes\n",
    "    x = 0\n",
    "    name = \"\"\n",
    "    \n",
    "    # constructor method: set up initial values of attributes of class\n",
    "    # constructor parameteres: self, parameters\n",
    "    def __init__(self,input_name,input_val):\n",
    "        \n",
    "        # set initial values of class party_animal\n",
    "        \n",
    "        # self.attribute = new_attribute\n",
    "        self.x = input_val\n",
    "        self.name = input_name\n",
    "        print(\"party_animal object constructed\")\n",
    "      \n",
    "    \n",
    "    # methods/functions of class\n",
    "    # always self as parameter\n",
    "    \n",
    "    \n",
    "    # method: add 1 to x attribute\n",
    "    def party(self):\n",
    "        # add 1 to x value\n",
    "        \n",
    "        # to change class attributes, call self.attribute = ...\n",
    "        self.x = self.x + 1 \n",
    "        \n",
    "        \n",
    "# create instance(object) of class party_animal \n",
    "obj1 = party_animal(\"Diego\",10)\n",
    "\n",
    "# call party() method of class party_animal, add 1 to attribute x\n",
    "obj1.party()\n",
    "\n",
    "# print x value of instance(object)\n",
    "print(obj1.x)\n"
   ]
  },
  {
   "cell_type": "code",
   "execution_count": 50,
   "id": "8f550346",
   "metadata": {},
   "outputs": [],
   "source": [
    "# Week 1 - Object Inheritance\n",
    "\n",
    "# class FootballFan(party_animal)\n",
    "# create class FootballFan(party_animal)\n",
    "# inheritance: attributes and methods from class party_animal\n",
    "# attributes: points/ party_animal[int x, str name]\n",
    "# methods: touchdown/ party_animal[party()]"
   ]
  },
  {
   "cell_type": "code",
   "execution_count": 57,
   "id": "6872152b",
   "metadata": {},
   "outputs": [
    {
     "name": "stdout",
     "output_type": "stream",
     "text": [
      "party_animal object constructed\n",
      "The party Tiger has a party count: 11\n",
      "party_animal object constructed\n",
      "The party Jackson has a party count: 21\n",
      "The party Jackson has a party count: 22\n",
      "Jackson points: 7\n"
     ]
    }
   ],
   "source": [
    "# create new class party_animal()\n",
    "# class attributes: int x, str name\n",
    "# class methods: party()\n",
    "\n",
    "class party_animal:\n",
    "    \n",
    "    # attributes: variables of classes\n",
    "    x = 0\n",
    "    name = \"\"\n",
    "    \n",
    "    # constructor method: set up initial values of attributes of class\n",
    "    # constructor parameteres: self, parameters\n",
    "    def __init__(self,input_name,input_val):\n",
    "        \n",
    "        # set initial values of class party_animal\n",
    "        \n",
    "        # self.attribute = new_attribute\n",
    "        self.x = input_val\n",
    "        self.name = input_name\n",
    "        print(\"party_animal object constructed\")\n",
    "      \n",
    "    \n",
    "    # methods/functions of class\n",
    "    # always self as parameter\n",
    "    \n",
    "    \n",
    "    # method: add 1 to x attribute\n",
    "    def party(self):\n",
    "        # add 1 to x value\n",
    "        \n",
    "        # to change class attributes, call self.attribute = ...\n",
    "        self.x = self.x + 1 \n",
    "        print(\"The party\",self.name,\"has a party count:\",self.x)\n",
    "        \n",
    "# create class FootballFan(party_animal)\n",
    "# inheritance: attributes and methods from class party_animal\n",
    "# attributes: points/ party_animal[int x, str name]\n",
    "# methods: touchdown/ party_animal[party()]\n",
    "\n",
    "class FootballFan(party_animal):\n",
    "    # attributes\n",
    "    \n",
    "    # int points\n",
    "    points = 0\n",
    "    \n",
    "    # method: adds 7 points, add 1 to x inherited attribute\n",
    "    def touchdown(self):\n",
    "        self.points = self.points + 7\n",
    "        self.party()\n",
    "        print(self.name,\"points:\",self.points)\n",
    "\n",
    "# create party_animal instance object\n",
    "animal1 = party_animal(\"Tiger\",10)\n",
    "# adds 1 to attribute x of object animal1 \n",
    "animal1.party()\n",
    "\n",
    "fan1 =  FootballFan(\"Jackson\",20)\n",
    "fan1.party()\n",
    "fan1.touchdown()\n",
    "    "
   ]
  },
  {
   "cell_type": "code",
   "execution_count": null,
   "id": "24c5d047",
   "metadata": {},
   "outputs": [],
   "source": []
  }
 ],
 "metadata": {
  "kernelspec": {
   "display_name": "Python 3 (ipykernel)",
   "language": "python",
   "name": "python3"
  },
  "language_info": {
   "codemirror_mode": {
    "name": "ipython",
    "version": 3
   },
   "file_extension": ".py",
   "mimetype": "text/x-python",
   "name": "python",
   "nbconvert_exporter": "python",
   "pygments_lexer": "ipython3",
   "version": "3.8.10"
  }
 },
 "nbformat": 4,
 "nbformat_minor": 5
}
