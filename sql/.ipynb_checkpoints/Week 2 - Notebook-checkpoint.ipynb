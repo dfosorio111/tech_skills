{
 "cells": [
  {
   "cell_type": "code",
   "execution_count": null,
   "id": "6e318530",
   "metadata": {},
   "outputs": [],
   "source": [
    "# import libraries\n",
    "import sqlite3 as sql"
   ]
  },
  {
   "cell_type": "code",
   "execution_count": null,
   "id": "62766844",
   "metadata": {},
   "outputs": [],
   "source": [
    "# connect Python to SQL database\n",
    "conn = sql.connect('database1.sqlite')\n",
    "\n",
    "# SQL Python handle\n",
    "cur = conn.cursor()"
   ]
  },
  {
   "cell_type": "code",
   "execution_count": null,
   "id": "0eab5899",
   "metadata": {},
   "outputs": [],
   "source": [
    "# Week 2: SQL Basics"
   ]
  },
  {
   "cell_type": "code",
   "execution_count": null,
   "id": "76d82a2a",
   "metadata": {},
   "outputs": [],
   "source": [
    "# Week 2: SELECT\n",
    "# SELECT column1, column2, column3, CONCAT(colx, ' ', coly)\n",
    "#     function/expresion = column_operation\n",
    "# FROM table_A;\n",
    "\n",
    "\n",
    "# SQL code may be embedded in a programming language\n",
    "# queries may be stored in a repository\n",
    "# code belongs to employer enterprise\n",
    "# good to comment the code  /* */\n"
   ]
  },
  {
   "cell_type": "code",
   "execution_count": null,
   "id": "8249313f",
   "metadata": {},
   "outputs": [],
   "source": [
    "# /* SELECT *(all)  FROM TABLE; */ \n",
    "cur.SELECT * FROM \"alanparadise/nw\".\"employees\";"
   ]
  },
  {
   "cell_type": "code",
   "execution_count": null,
   "id": "94fb7622",
   "metadata": {},
   "outputs": [],
   "source": [
    "# /* SELECT column1, column2, column-n FROM TABLE_A; */ \n",
    "SELECT employeeid, lastname, firstname FROM \"alanparadise/nw\".\"employees\"; "
   ]
  },
  {
   "cell_type": "code",
   "execution_count": null,
   "id": "63fb5d8f",
   "metadata": {},
   "outputs": [],
   "source": [
    "# /* SELECT column1, column2, column-n, expression, function(params) FROM TABLE; */ \n",
    "SELECT lastname, firstname, hiredate,\n",
    "    current_date, date_part('month', hiredate)\n",
    "FROM \"alanparadise/nw\".\"employees\"; "
   ]
  },
  {
   "cell_type": "code",
   "execution_count": null,
   "id": "ac97fabb",
   "metadata": {},
   "outputs": [],
   "source": [
    "# /* SELECT column1, column2, column-n, operation as \"name_operation\"  FROM TABLE; \n",
    "SELECT orderid, unitprice, quantity,\n",
    "    unitprice*quantity  as \"Total Value\"\n",
    "FROM \"alanparadise/nw\".\"orderdetails\"; "
   ]
  },
  {
   "cell_type": "code",
   "execution_count": null,
   "id": "520bc63c",
   "metadata": {},
   "outputs": [],
   "source": [
    "# /* SELECT column1, column2, column-n, function=to_char(parms)  FROM TABLE; */\n",
    "SELECT lastname, firstname,\n",
    "    to_char(hiredate, 'month') as \"Hire Month\"\n",
    "FROM \"alanparadise/nw\".\"employees\"; "
   ]
  },
  {
   "cell_type": "code",
   "execution_count": null,
   "id": "eb0ede72",
   "metadata": {},
   "outputs": [],
   "source": [
    "# /* SELECT CONCAT(column1,' ',column2,column-n) as \"name_concat\" FROM TABLE; */\n",
    "SELECT CONCAT(firstname,' ', lastname) as \"Name\"\n",
    "FROM \"alanparadise/nw\".\"employees\"; "
   ]
  },
  {
   "cell_type": "code",
   "execution_count": null,
   "id": "33b5f38d",
   "metadata": {},
   "outputs": [],
   "source": [
    "# /* SELECT column1 || ' ' || column2 || ' ' || column3 || ' ' || column4 as  \"name_concat\" FROM TABLE; */\n",
    "\n",
    "SELECT firstname || ' ' || lastname as \"Name\"\n",
    "FROM \"alanparadise/nw\".\"employees\"; "
   ]
  },
  {
   "cell_type": "code",
   "execution_count": null,
   "id": "a11ef3e4",
   "metadata": {},
   "outputs": [],
   "source": []
  },
  {
   "cell_type": "code",
   "execution_count": null,
   "id": "291cc798",
   "metadata": {},
   "outputs": [],
   "source": [
    "# Week 2: WHERE \n",
    "# WHERE clause of the SELECT statement to set a CONDITION \n",
    "# to determine if a row from the input TABLE appears in the answer set\n",
    "# if CONDITION is TRUE, the row appears in answer set\n",
    "\n",
    "\n",
    "# SELECT column1, column2, column3, CONCAT(colx, ' ', coly),\n",
    "#     function/expresion = column_operation\n",
    "# FROM table_A \n",
    "# WHERE column-n = condition_val;\n",
    "\n",
    "\n",
    "# CONDITION in WHERE has format: <operand> <operator> <operand>\n",
    "# operands are columns, functions, expressions\n",
    "\n",
    "# operators are: \n",
    "# =, != <>\n",
    "# like, between, in\n",
    "# >, >=, <, <="
   ]
  },
  {
   "cell_type": "code",
   "execution_count": null,
   "id": "1aba0a87",
   "metadata": {},
   "outputs": [],
   "source": [
    "# /* select customerid, contactname, country\n",
    "#from table customers in \"alanparadise/nw\"\n",
    "# */\n",
    "SELECT customerid, contactname, country\n",
    "FROM \"alanparadise/nw\".\"customers\"; "
   ]
  },
  {
   "cell_type": "code",
   "execution_count": null,
   "id": "37294996",
   "metadata": {},
   "outputs": [],
   "source": [
    "# /* select customerid, contactname, country\n",
    "#from table customers in \"alanparadise/nw\"\n",
    "#where condition on rows: country='Brazil';\n",
    "# */\n",
    "SELECT customerid, contactname, country\n",
    "FROM \"alanparadise/nw\".\"customers\"\n",
    "    WHERE country = 'Brazil';"
   ]
  },
  {
   "cell_type": "code",
   "execution_count": null,
   "id": "5f3be8c2",
   "metadata": {},
   "outputs": [],
   "source": [
    "# /* select customerid, contactname, country\n",
    "# from table customers in \"alanparadise/nw\"\n",
    "# where condition on rows: country<>'Brazil' (less than, greater than/not);\n",
    "# */\n",
    "SELECT customerid, contactname, country\n",
    "FROM \"alanparadise/nw\".\"customers\"\n",
    "    WHERE country <> 'Brazil';"
   ]
  },
  {
   "cell_type": "code",
   "execution_count": null,
   "id": "bfd59205",
   "metadata": {},
   "outputs": [],
   "source": [
    "# /* select columns productid, productname, unitprice\n",
    "# from table 'products' in \"alanparadise/nw\"\n",
    "# where condition on rows: unitprice > 60;\n",
    "# */\n",
    "SELECT productid, productname, unitprice\n",
    "FROM \"alanparadise/nw\".\"products\"\n",
    "    WHERE unitprice > 60;"
   ]
  },
  {
   "cell_type": "code",
   "execution_count": null,
   "id": "7c719fa6",
   "metadata": {},
   "outputs": [],
   "source": [
    "# Week 2: LIKE \n",
    "# used for text/strings only (not numeric columns)\n",
    "# '%':  zero or more of any characte \n",
    "# '_': exactly one of any character "
   ]
  },
  {
   "cell_type": "code",
   "execution_count": null,
   "id": "b6e39079",
   "metadata": {},
   "outputs": [],
   "source": [
    "# /* select columns customerid, contactname, country\n",
    "# from table 'customers' in \"alanparadise/nw\"\n",
    "# where condition on rows: contactname like 'M%'; ('param%' starts with param)\n",
    "# */\n",
    "\n",
    "SELECT customerid, contactname, country\n",
    "FROM \"alanparadise/nw\".\"customers\"\n",
    "    WHERE contactname like 'M%';"
   ]
  },
  {
   "cell_type": "code",
   "execution_count": null,
   "id": "d547a960",
   "metadata": {},
   "outputs": [],
   "source": [
    "# /* select columns customerid, contactname, country\n",
    "# from table 'customers' in \"alanparadise/nw\"\n",
    "# where condition on rows: contactname like '_a%'; ('_param%' followd by )\n",
    "# */\n",
    "\n",
    "SELECT customerid, contactname, country\n",
    "FROM \"alanparadise/nw\".\"customers\"\n",
    "    WHERE contactname like '_a%';\n",
    "    "
   ]
  },
  {
   "cell_type": "code",
   "execution_count": null,
   "id": "78877d70",
   "metadata": {},
   "outputs": [],
   "source": [
    "# Week 2: IN\n",
    "\n",
    "# WHERE <operand> in (<val1>, <val2>, <val-n>,)\n",
    "# <operand> = <val1> OR\n",
    "# <operand> = <val2> OR\n",
    "# <operand> = <val-n>\n",
    "\n",
    "\n",
    "# value can be literal or column\n",
    "# value must match data type of operand"
   ]
  },
  {
   "cell_type": "code",
   "execution_count": null,
   "id": "8c67af83",
   "metadata": {},
   "outputs": [],
   "source": [
    "# /* select columns productid, productname, unitprice, supplierid\n",
    "# from table 'products' in \"alanparadise/nw\"\n",
    "# where condition on columns(in): supplierid in (2, 4, 6, 8); entries is column matches condition\n",
    "# */\n",
    "SELECT productid, productname, unitprice, supplierid\n",
    "FROM \"alanparadise/nw\".\"products\"\n",
    "    WHERE supplierid in (2, 4, 6, 8);  "
   ]
  },
  {
   "cell_type": "code",
   "execution_count": null,
   "id": "8904c999",
   "metadata": {},
   "outputs": [],
   "source": [
    "# /* select columns supplierid, companyname, region\n",
    "# from table 'region' in \"alanparadise/nw\"\n",
    "# where condition on columns(in): region in ('LA', 'MI', 'OR'); entries is column matches condition\n",
    "# */\n",
    "SELECT supplierid, companyname, region\n",
    "FROM \"alanparadise/nw\".\"suppliers\"\n",
    "    WHERE region in ('LA', 'MI', 'OR');    "
   ]
  },
  {
   "cell_type": "code",
   "execution_count": null,
   "id": "60ddc045",
   "metadata": {},
   "outputs": [],
   "source": [
    "# Week 2: BETWEEN\n",
    "\n",
    "# WHERE <operand> between (<val1>, <val2>)\n",
    "# WHERE <operand> >= <val1> AND <= <val2>\n",
    "\n",
    "# between is inclusive\n",
    "# value must match data type of operand"
   ]
  },
  {
   "cell_type": "code",
   "execution_count": null,
   "id": "dd8b2208",
   "metadata": {},
   "outputs": [],
   "source": [
    "# /* select columns productid, productname, unitprice\n",
    "# from table 'products' in \"alanparadise/nw\"\n",
    "# where condition on columns(between): unitprice between 20 and 30; entries if column matches condition between values\n",
    "# */\n",
    "SELECT productid, productname, unitprice\n",
    "FROM \"alanparadise/nw\".\"products\"\n",
    "    WHERE unitprice between 20 and 30;"
   ]
  },
  {
   "cell_type": "code",
   "execution_count": null,
   "id": "5f0948b5",
   "metadata": {},
   "outputs": [],
   "source": [
    "# /* select lastname, firstname\n",
    "# from table 'employees' in \"alanparadise/nw\"\n",
    "# where condition on columns(between): lastname between 'A' and 'M'; entries if column matches condition between values\n",
    "# */\n",
    "SELECT lastname, firstname\n",
    "FROM \"alanparadise/nw\".\"employees\"\n",
    "    WHERE lastname between 'A' and 'M';"
   ]
  },
  {
   "cell_type": "code",
   "execution_count": null,
   "id": "60435197",
   "metadata": {},
   "outputs": [],
   "source": [
    "# Week 2: BOOLEAN\n",
    "\n",
    "# multiple conditions in a WHERE clause combined\n",
    "# AND, OR, NOT"
   ]
  },
  {
   "cell_type": "code",
   "execution_count": null,
   "id": "a57d8f19",
   "metadata": {},
   "outputs": [],
   "source": [
    "# /* select columns customerid, contactname, region, country\n",
    "# from table 'customers' in \"alanparadise/nw\"\n",
    "#    where condition on columns(NOT): NOT country = 'Brazil'; entries if column matches condition NOT value\n",
    "# */\n",
    "\n",
    "SELECT customerid, contactname, region, country\n",
    "FROM \"alanparadise/nw\".\"customers\"\n",
    "    WHERE NOT country = 'Brazil';    "
   ]
  },
  {
   "cell_type": "code",
   "execution_count": null,
   "id": "db50b619",
   "metadata": {},
   "outputs": [],
   "source": [
    "# /* select columns productname, supplierid, categoryid, unitprice, unitsinstock\n",
    "# from table 'products' in \"alanparadise/nw\"\n",
    "#    where condition on columns(AND/OR):\n",
    "#    supplierid = 1 AND\n",
    "#    (categoryid = 2 OR categoryid = 3 AND unitprice > 20) OR\n",
    "#    unitsinstock < 12; use parenthesis in AND/OR expressions\n",
    "# */\n",
    "\n",
    "SELECT productname, supplierid, categoryid, unitprice, unitsinstock\n",
    "FROM \"alanparadise/nw\".\"products\"\n",
    "    WHERE supplierid = 1 AND\n",
    "    (categoryid = 2 OR categoryid=3 AND unitprice > 20) OR\n",
    "    unitsinstock < 12; "
   ]
  },
  {
   "cell_type": "code",
   "execution_count": null,
   "id": "11648c9a",
   "metadata": {},
   "outputs": [],
   "source": []
  },
  {
   "cell_type": "code",
   "execution_count": null,
   "id": "8ac7bd23",
   "metadata": {},
   "outputs": [],
   "source": [
    "# Week 2: DISTINCT \n",
    "# DISTINCT clause before column in the SELECT removes cuplicates from the answer set"
   ]
  },
  {
   "cell_type": "code",
   "execution_count": null,
   "id": "9f20ee84",
   "metadata": {},
   "outputs": [],
   "source": [
    "# Week 2: COUNT\n",
    "# counts how many rows are in the table"
   ]
  },
  {
   "cell_type": "code",
   "execution_count": null,
   "id": "45c2da3c",
   "metadata": {},
   "outputs": [],
   "source": [
    "# /* select columns *(all)\n",
    "# from table 'customers' in \"alanparadise/nw\"\n",
    "# */\n",
    "\n",
    "SELECT COUNT(*)\n",
    "FROM \"alanparadise/nw\".\"customers\";"
   ]
  },
  {
   "cell_type": "code",
   "execution_count": null,
   "id": "e1cdbe7e",
   "metadata": {},
   "outputs": [],
   "source": [
    "# /* select columns country\n",
    "# from table 'customers' in \"alanparadise/nw\"\n",
    "# */\n",
    "\n",
    "SELECT COUNT(country)\n",
    "FROM \"alanparadise/nw\".\"customers\";"
   ]
  },
  {
   "cell_type": "code",
   "execution_count": null,
   "id": "e4250e53",
   "metadata": {},
   "outputs": [],
   "source": [
    "# /* select distinc columns country (DONT repeat output)\n",
    "# from table 'customers' in \"alanparadise/nw\"\n",
    "# */\n",
    "\n",
    "SELECT DISTINCT country\n",
    "FROM \"alanparadise/nw\".\"customers\";"
   ]
  },
  {
   "cell_type": "code",
   "execution_count": null,
   "id": "481dbfe2",
   "metadata": {},
   "outputs": [],
   "source": [
    "# Week 2: ORDER BY\n",
    "# ORDER BY (default descending desc)\n",
    "# sorts the rows in the answer set"
   ]
  },
  {
   "cell_type": "code",
   "execution_count": null,
   "id": "95007abc",
   "metadata": {},
   "outputs": [],
   "source": [
    "# /* select distinc columns country (DONT repeat output)\n",
    "# from table 'customers' in \"alanparadise/nw\"\n",
    "# order by(sort)  country\n",
    "# */\n",
    "\n",
    "SELECT DISTINCT country\n",
    "FROM \"alanparadise/nw\".\"customers\"\n",
    "    ORDER BY  country;"
   ]
  },
  {
   "cell_type": "code",
   "execution_count": null,
   "id": "c0e2b062",
   "metadata": {},
   "outputs": [],
   "source": [
    "# /* select columns productname, unitprice\n",
    "# from table 'products' in \"alanparadise/nw\"\n",
    "# order by(sort)  productname;\n",
    "# */\n",
    "\n",
    "SELECT productname, unitprice\n",
    "FROM \"alanparadise/nw\".\"products\"\n",
    "    ORDER BY  productname;"
   ]
  },
  {
   "cell_type": "code",
   "execution_count": null,
   "id": "01a4a36a",
   "metadata": {},
   "outputs": [],
   "source": [
    "# /* select columns productname, unitprice\n",
    "# from table 'products' in \"alanparadise/nw\"\n",
    "# order by(sort)  unitprice asc;\n",
    "# */\n",
    "\n",
    "SELECT productname, unitprice\n",
    "FROM \"alanparadise/nw\".\"products\"\n",
    "    ORDER BY  unitprice asc;"
   ]
  },
  {
   "cell_type": "code",
   "execution_count": null,
   "id": "80ca3fc7",
   "metadata": {},
   "outputs": [],
   "source": [
    "# # Week 2: LIMIT\n",
    "# LIMIT X (repleaces TOP in MsSQL and FETCH in Oracle)\n",
    "# limits the answers set output rows to X "
   ]
  },
  {
   "cell_type": "code",
   "execution_count": null,
   "id": "0ed4d4b7",
   "metadata": {},
   "outputs": [],
   "source": [
    "# /* select columns productname, unitprice\n",
    "# from table 'products' in \"alanparadise/nw\"\n",
    "# order by(sort)  unitprice desc limit 5;\n",
    "# */\n",
    "\n",
    "SELECT productname, unitprice\n",
    "FROM \"alanparadise/nw\".\"products\"\n",
    "    ORDER BY  unitprice desc limit 5;"
   ]
  },
  {
   "cell_type": "code",
   "execution_count": null,
   "id": "95af8ed7",
   "metadata": {},
   "outputs": [],
   "source": []
  },
  {
   "cell_type": "code",
   "execution_count": null,
   "id": "0e0962d4",
   "metadata": {},
   "outputs": [],
   "source": [
    "# Week 2: DATES\n",
    "# when creating/inserting a date column in PostgreSQL, specify the date type\n",
    "\n",
    "# DATE TYPES:\n",
    "# date: stores a data as YYYY-MM-DD without time\n",
    "# timestamp: stores date as YYYY-MM-DD:HH:mm:SS.ssss with timezone\n",
    "# time: stores as times of day HH:mm:SS.ssss\n",
    "# interval: stores the difference between 2 dates as years-months-days"
   ]
  },
  {
   "cell_type": "code",
   "execution_count": null,
   "id": "9463fc80",
   "metadata": {},
   "outputs": [],
   "source": [
    "# PostgreSQL converts string into a binary number\n",
    "# date/time value as UTC\n",
    "# timestamp - 8bytes\n",
    "# date - 4bytes"
   ]
  },
  {
   "cell_type": "code",
   "execution_count": null,
   "id": "b6c68e5e",
   "metadata": {},
   "outputs": [],
   "source": []
  },
  {
   "cell_type": "code",
   "execution_count": null,
   "id": "fafee347",
   "metadata": {},
   "outputs": [],
   "source": [
    "# CAST\n",
    "# convert a column or expression to a different data type\n",
    "# CAST (val1 as type)\n",
    "# value1::type"
   ]
  },
  {
   "cell_type": "code",
   "execution_count": null,
   "id": "9f444fd6",
   "metadata": {},
   "outputs": [],
   "source": [
    "/* select lastname, firstname\n",
    "    function age( hiredate, birthdate)::text as \"Hire Age\"\n",
    "from table 'employees' in \"alanparadise/nw\";\n",
    "*/\n",
    "\n",
    "SELECT lastname, firstname, \n",
    "    age( hiredate, birthdate)::text as \"Hire Age\"\n",
    "FROM \"alanparadise/nw\".\"employees\";"
   ]
  },
  {
   "cell_type": "code",
   "execution_count": null,
   "id": "8b1adbe7",
   "metadata": {},
   "outputs": [],
   "source": [
    "# PostgreSQL date functions\n",
    "\n",
    "# age(val1, val2): calculates difference between 2 dates as interval\n",
    "# current_date:  returns today's date\n",
    "# current_time:  time right now\n",
    "# current_timestamp:  current date and time\n",
    "# extract:  returns part of a date as interval\n",
    "# date_part: returns part of a date as interval\n",
    "# date_trunc: returns part of a date truncated to a precision\n",
    "# now: return time right now\n",
    "# to_date: converts a string to date format\n",
    "# to_timestamp: convert a string to timestamp format"
   ]
  },
  {
   "cell_type": "code",
   "execution_count": null,
   "id": "06fe003d",
   "metadata": {},
   "outputs": [],
   "source": [
    "# /* select employeeid, lastname, firstname,\n",
    "#     function:  extract(year from hiredate)\n",
    "# from table 'employees' in \"alanparadise/nw\";\n",
    "# */\n",
    "\n",
    "SELECT employeeid, lastname, firstname, \n",
    "    extract(year from hiredate)\n",
    "FROM \"alanparadise/nw\".\"employees\";"
   ]
  },
  {
   "cell_type": "code",
   "execution_count": null,
   "id": "e952e7c2",
   "metadata": {},
   "outputs": [],
   "source": [
    "# /* select employeeid, lastname, firstname,\n",
    "#     function:  date_part('year', hiredate)\n",
    "# from table 'employees' in \"alanparadise/nw\";\n",
    "# */\n",
    "\n",
    "SELECT employeeid, lastname, firstname, \n",
    "    date_part('year', hiredate)\n",
    "FROM \"alanparadise/nw\".\"employees\";"
   ]
  },
  {
   "cell_type": "code",
   "execution_count": null,
   "id": "da9b3c24",
   "metadata": {},
   "outputs": [],
   "source": [
    "# /*convert input string date to format  */\n",
    "SELECT to_date('20201211', 'YYYYMMDD')"
   ]
  },
  {
   "cell_type": "code",
   "execution_count": null,
   "id": "664fd6ea",
   "metadata": {},
   "outputs": [],
   "source": []
  },
  {
   "cell_type": "code",
   "execution_count": null,
   "id": "90a62615",
   "metadata": {},
   "outputs": [],
   "source": [
    "# NULL: the cell(column/row) has NO value\n",
    "# not blanks, not zeros\n",
    "# NULL in a cell can affect calculations\n",
    "# cell with NULL will NOT affect an average\n",
    "# cell with zeros will affect an average\n",
    "# "
   ]
  },
  {
   "cell_type": "code",
   "execution_count": null,
   "id": "74897f27",
   "metadata": {},
   "outputs": [],
   "source": [
    "# /* select productid, productname, discontinued\n",
    "# from table 'products' in \"alanparadise/nw\";\n",
    "#     where discontinued = '0'\n",
    "# */\n",
    "SELECT productid, productname, discontinued\n",
    "FROM \"alanparadise/nw\".\"products\"\n",
    "    WHERE discontinued = '0';"
   ]
  },
  {
   "cell_type": "code",
   "execution_count": null,
   "id": "e2eac783",
   "metadata": {},
   "outputs": [],
   "source": [
    "# /* update productid, productname, discontinued\n",
    "# from table 'products' in \"alanparadise/nw\";\n",
    "#     where discontinued is NULL;\n",
    "# */\n",
    "UPDATE \"alanparadise/nw\".\"products\"\n",
    "    SET discontinued = NULL\n",
    "    WHERE discontinued = '1';"
   ]
  },
  {
   "cell_type": "code",
   "execution_count": null,
   "id": "4be8e42e",
   "metadata": {},
   "outputs": [],
   "source": [
    "# commit SQL commands\n",
    "conn.commit()\n",
    "\n",
    "# close SQL handle\n",
    "cur.close()"
   ]
  }
 ],
 "metadata": {
  "kernelspec": {
   "display_name": "Python 3 (ipykernel)",
   "language": "python",
   "name": "python3"
  },
  "language_info": {
   "codemirror_mode": {
    "name": "ipython",
    "version": 3
   },
   "file_extension": ".py",
   "mimetype": "text/x-python",
   "name": "python",
   "nbconvert_exporter": "python",
   "pygments_lexer": "ipython3",
   "version": "3.8.10"
  }
 },
 "nbformat": 4,
 "nbformat_minor": 5
}
