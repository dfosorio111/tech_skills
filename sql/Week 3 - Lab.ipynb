{
 "cells": [
  {
   "cell_type": "code",
   "execution_count": null,
   "id": "ab786435",
   "metadata": {},
   "outputs": [],
   "source": [
    "# Lab 4: Practicar SELECT queries con GROUP functions y GROUP BY"
   ]
  },
  {
   "cell_type": "code",
   "execution_count": null,
   "id": "335a0ef5",
   "metadata": {},
   "outputs": [],
   "source": [
    "# /* \n",
    "# READ/SELECT columna\n",
    "#     SUM(column1*column-n) as \"variable auxiliar\"\n",
    "# FROM \"database\".\"table\"\n",
    "# GROUP BY columna\n",
    "# ORDER BY num DESC  LIMIT num_lim;\n",
    "# \n",
    "# */\n",
    "\n",
    "# SELECT/READ leer orderid, crear variable \"Total Value\" como suma de (unitprice*quantity)\n",
    "# GROUP BY agrupar por columna orderid\n",
    "# ORDER BY ordenar 2 de manera descendiente, dar 5 rows\n",
    "SELECT orderid,\n",
    "    SUM(unitprice*quantity) as \"Total Value\"\n",
    "FROM \"alanparadise/nw\".\"orderdetails\"\n",
    "GROUP BY orderid\n",
    "ORDER BY 2 DESC LIMIT 5 ;"
   ]
  },
  {
   "cell_type": "code",
   "execution_count": null,
   "id": "0c9175e3",
   "metadata": {},
   "outputs": [],
   "source": [
    "# /* \n",
    "# SELECT  COUNT(col1)\n",
    "# \n",
    "# FROM \"database\".\"table\"\n",
    "# WHERE col > condition; \n",
    "# \n",
    "# */\n",
    "\n",
    "# leer COUNT(contar) columnas productid - contar productos, on condition unitstock > 0\n",
    "\n",
    "SELECT COUNT(productid)\n",
    "FROM \"alanparadise/nw\".\"products\"\n",
    "WHERE unitsinstock > 0;\n"
   ]
  },
  {
   "cell_type": "code",
   "execution_count": null,
   "id": "9a271b52",
   "metadata": {},
   "outputs": [],
   "source": [
    "# /* \n",
    "# SELECT  COUNT(col1)\n",
    "# \n",
    "# FROM \"database\".\"table\"\n",
    "# WHERE col = 0; \n",
    "# \n",
    "# */\n",
    "\n",
    "# leer COUNT(contar) columnas productid - contar productos, on condition unitstock = 0\n",
    "SELECT COUNT(productid)\n",
    "FROM \"alanparadise/nw\".\"products\"\n",
    "WHERE unitsinstock = 0;"
   ]
  },
  {
   "cell_type": "code",
   "execution_count": null,
   "id": "7bba22c8",
   "metadata": {},
   "outputs": [],
   "source": [
    "# /* \n",
    "# SELECT  col1, COUNT(col)\n",
    "# FROM \"database\".\"table\"\n",
    "# GROUP BY col\n",
    "# ORDER BY num; \n",
    "# \n",
    "# */\n",
    "\n",
    "\n",
    "# leer supplierid, contar(productid) numero de productos\n",
    "# GROUP BY agrupar por supplierid\n",
    "# ORDER BY ordenar por 2\n",
    "\n",
    "SELECT supplierid, COUNT(productid) \n",
    "\t    FROM \"alanparadise/nw\".\"products\"\n",
    "\tGROUP BY supplierid \n",
    "\tORDER BY 2;"
   ]
  },
  {
   "cell_type": "code",
   "execution_count": null,
   "id": "545666a1",
   "metadata": {},
   "outputs": [],
   "source": [
    "# /* \n",
    "# SELECT  col1, COUNT(col) AS \"var_aux\"\n",
    "# FROM \"database\".\"table\"\n",
    "# GROUP BY col\n",
    "# HAVING COUNT(col) > num\n",
    "# ORDER BY  num; \n",
    "# */\n",
    "\n",
    "# leer employeeid, COUNT contar(orderid) como variable auxiliar \"Orders\"\n",
    "# GROUP BY agrupar por employeeid\n",
    "# HAVING(WHERE con funcion) orderid >100\n",
    "# ORDER BY (sort by) ordenar 2 descendiente\n",
    "\n",
    "SELECT employeeid, COUNT(orderid) AS \"Orders\"\n",
    "    FROM \"alanparadise/nw\".\"orders\"\n",
    "GROUP BY employeeid\n",
    "HAVING COUNT(orderid) > 100\n",
    "ORDER BY 2 DESC;\n"
   ]
  },
  {
   "cell_type": "code",
   "execution_count": null,
   "id": "fe59e2f0",
   "metadata": {},
   "outputs": [],
   "source": []
  },
  {
   "cell_type": "code",
   "execution_count": null,
   "id": "47015d83",
   "metadata": {},
   "outputs": [],
   "source": []
  }
 ],
 "metadata": {
  "kernelspec": {
   "display_name": "Python 3 (ipykernel)",
   "language": "python",
   "name": "python3"
  },
  "language_info": {
   "codemirror_mode": {
    "name": "ipython",
    "version": 3
   },
   "file_extension": ".py",
   "mimetype": "text/x-python",
   "name": "python",
   "nbconvert_exporter": "python",
   "pygments_lexer": "ipython3",
   "version": "3.8.10"
  }
 },
 "nbformat": 4,
 "nbformat_minor": 5
}
