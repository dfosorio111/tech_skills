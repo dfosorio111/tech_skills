{
 "cells": [
  {
   "cell_type": "code",
   "execution_count": null,
   "id": "eb707c41",
   "metadata": {},
   "outputs": [],
   "source": [
    "# import libraries\n",
    "\n",
    "import sqlite3 as sql\n",
    "import numpy as np\n",
    "import pandas as pd"
   ]
  },
  {
   "cell_type": "code",
   "execution_count": null,
   "id": "bf7ff78b",
   "metadata": {},
   "outputs": [],
   "source": [
    "# Week 3: \n",
    "#\n",
    "# "
   ]
  },
  {
   "cell_type": "code",
   "execution_count": null,
   "id": "aa093764",
   "metadata": {},
   "outputs": [],
   "source": [
    "# Week 3: GROUP FUNCTIONS\n",
    "# Mis-match Error: el nivel de la GROUP FUNCTION tiene que ser el mismo del SELECT "
   ]
  },
  {
   "cell_type": "code",
   "execution_count": null,
   "id": "4e174a10",
   "metadata": {},
   "outputs": [],
   "source": [
    "# # Week 3: Group Functions\n",
    "# SQL crea un answer set intermedio \n",
    "# SQL procesa el group function con el answer set intermedio\n",
    "# El answer set final contiene solo resultado para la funcion\n",
    "# WHERE determina el numero de rows en el answer set INTERMEDIO\n",
    "# GROUP calcula contra las  rows en el INTERMEDIO después del filtro WHERE \n",
    "\n",
    "\n",
    "# Five GROUP functions: todas las funciones GROUP  IGNORAN los Nulls (no hacen nada)\n",
    "\n",
    "# SUM: suma todos los valores en la columna ( solo numerico )\n",
    "# AVG: promedio(average) de los valores de la columna  ( solo numerico )\n",
    "# COUNT: cuenta cuantas rows tienen valores no nulos en al columna (*, para solo rows)\n",
    "# MIN: returns el min value en una columna\n",
    "# MAX: returns el max value en una columna "
   ]
  },
  {
   "cell_type": "code",
   "execution_count": null,
   "id": "8923ea13",
   "metadata": {},
   "outputs": [],
   "source": [
    "# /* \n",
    "# READ/SELECT COUNT (*) solo rows  as \"Staff Size\"\n",
    "# FROM \"alanparadise/nw\".\"employees\";\n",
    "# */\n",
    "\n",
    "SELECT COUNT(*) as \"Staff Size\"\n",
    "FROM \"alanparadise/nw\".\"employees\";"
   ]
  },
  {
   "cell_type": "code",
   "execution_count": null,
   "id": "3901f35b",
   "metadata": {},
   "outputs": [],
   "source": [
    "# /* \n",
    "# READ/SELECT COUNT (DISTINCT columna) as  \"variable\"\n",
    "# FROM \"database\".\"table\";\n",
    "# */\n",
    "\n",
    "SELECT COUNT(DISTINCT Country) as \"Countries\"\n",
    "FROM \"alanparadise/nw\".\"customers\";"
   ]
  },
  {
   "cell_type": "code",
   "execution_count": null,
   "id": "209c506b",
   "metadata": {},
   "outputs": [],
   "source": [
    "# /* \n",
    "# READ/SELECT COUNT (DISTINCT columna) as  \"variable\"\n",
    "# FROM \"database\".\"table\";\n",
    "# */\n",
    "\n",
    "SELECT COUNT(DISTINCT Country) as \"Countries\"\n",
    "FROM \"alanparadise/nw\".\"customers\";"
   ]
  },
  {
   "cell_type": "code",
   "execution_count": null,
   "id": "d5e04011",
   "metadata": {},
   "outputs": [],
   "source": [
    "# /* \n",
    "# READ/SELECT SUM (columna) as  \"variable auxiliar\"\n",
    "# FROM \"database\".\"table\";\n",
    "# */\n",
    "\n",
    "SELECT SUM(unitsinstock) as \"Inventory\"\n",
    "FROM \"alanparadise/nw\".\"products\";"
   ]
  },
  {
   "cell_type": "code",
   "execution_count": null,
   "id": "a2255391",
   "metadata": {},
   "outputs": [],
   "source": [
    "# /* \n",
    "# READ/SELECT MAX (columna) as  \"variable auxiliar\"\n",
    "# FROM \"database\".\"table\";\n",
    "# */\n",
    "\n",
    "SELECT MAX(unitprice) as \"High Price\"\n",
    "FROM \"alanparadise/nw\".\"products\";"
   ]
  },
  {
   "cell_type": "code",
   "execution_count": null,
   "id": "2d449e4f",
   "metadata": {},
   "outputs": [],
   "source": [
    "# /* \n",
    "# READ/SELECT MIN (columna) as  \"variable auxiliar\"\n",
    "# FROM \"database\".\"table\";\n",
    "# */\n",
    "\n",
    "SELECT MIN(unitprice) as \"Low Price\"\n",
    "FROM \"alanparadise/nw\".\"products\";"
   ]
  },
  {
   "cell_type": "code",
   "execution_count": null,
   "id": "643217c2",
   "metadata": {},
   "outputs": [],
   "source": [
    "# /* \n",
    "# READ/SELECT AVG  promedio (columna) as  \"variable auxiliar\"\n",
    "# FROM \"database\".\"table\";\n",
    "# */\n",
    "\n",
    "SELECT AVG(unitprice) as \"Average Price\"\n",
    "FROM \"alanparadise/nw\".\"products\";"
   ]
  },
  {
   "cell_type": "code",
   "execution_count": null,
   "id": "21d60d58",
   "metadata": {},
   "outputs": [],
   "source": [
    "# /* \n",
    "# READ/SELECT to_char (columna, val) as  \"variable auxiliar\"\n",
    "# FROM \"database\".\"table\";\n",
    "# */ to_char(columna, 'formato')\n",
    "\n",
    "# funcion de PostgreSQL: convertir  a char \n",
    "\n",
    "SELECT to_char(AVG(UnitPrice), '999,999.99') as \"Average Price\"\n",
    "FROM \"alanparadise/nw\".\"products\";"
   ]
  },
  {
   "cell_type": "code",
   "execution_count": null,
   "id": "29506182",
   "metadata": {},
   "outputs": [],
   "source": [
    "# /* \n",
    "# READ/SELECT COUNT (*) as  \"variable auxiliar\"\n",
    "# FROM \"database\".\"table\";\n",
    "# */\n",
    "\n",
    "SELECT COUNT(*) as \"Staff Size\"\n",
    "FROM \"alanparadise/nw\".\"employees\";"
   ]
  },
  {
   "cell_type": "code",
   "execution_count": null,
   "id": "c69548da",
   "metadata": {},
   "outputs": [],
   "source": [
    "# /* \n",
    "# READ/SELECT COUNT (columna) as  \"variable auxiliar\"\n",
    "# FROM \"database\".\"table\";\n",
    "# */\n",
    "\n",
    "SELECT COUNT(employeeid) as \"Staff Size\"\n",
    "FROM \"alanparadise/nw\".\"employees\";"
   ]
  },
  {
   "cell_type": "code",
   "execution_count": null,
   "id": "e6a51097",
   "metadata": {},
   "outputs": [],
   "source": [
    "# Week 3: Creating Totals and Subtotals\n",
    "# "
   ]
  },
  {
   "cell_type": "code",
   "execution_count": null,
   "id": "875e1453",
   "metadata": {},
   "outputs": [],
   "source": [
    "# TOTALS AND SUBTOTALS\n",
    "# GROUP BY genera subtotales de tablas en SQL\n",
    "# GROUP BY agrupa con la funcion group sobre un subset de rows de la answer intermedia\n",
    "# provee una respuesta total para cada subset de rows "
   ]
  },
  {
   "cell_type": "code",
   "execution_count": null,
   "id": "b8d815df",
   "metadata": {},
   "outputs": [],
   "source": [
    "# /* \n",
    "# READ/SELECT columna, SUM(columna) as  \"variable auxiliar\",\n",
    "#     SUM(columna) as \"variable auxiliar\"  \n",
    "# FROM \"database\".\"table\"\n",
    "# WHERE columna in (rango)\n",
    "# GROUP BY columna;\n",
    "# \n",
    "# */\n",
    "\n",
    "SELECT OrderID, SUM(UnitPrice) as \"Total Price\",\n",
    "    SUM(Quantity) as \"Total Quantity\"\n",
    "FROM \"alanparadise/nw\".\"orderdetails\"\n",
    "WHERE OrderID in (10248, 10249, 10250, 10251)\n",
    "GROUP BY OrderID;"
   ]
  },
  {
   "cell_type": "code",
   "execution_count": null,
   "id": "ff872af9",
   "metadata": {},
   "outputs": [],
   "source": [
    "# para evitar el mismatch entonces\n",
    "# cuando usando GROUP BY, cada columna en el SELECT debe ser: \n",
    "# GROUP function o columna agrupada"
   ]
  },
  {
   "cell_type": "code",
   "execution_count": null,
   "id": "ef7e46b1",
   "metadata": {},
   "outputs": [],
   "source": [
    "# /* \n",
    "# READ/SELECT columna, COUNT(columna) as  \"variable auxiliar\",\n",
    "# FROM \"database\".\"table\"\n",
    "# GROUP BY columna;\n",
    "# \n",
    "# */\n",
    "\n",
    "SELECT country, COUNT(customerid) as \"Total\"\n",
    "FROM \"alanparadise/nw\".\"customers\"\n",
    "GROUP BY country;"
   ]
  },
  {
   "cell_type": "code",
   "execution_count": null,
   "id": "02d5bf60",
   "metadata": {},
   "outputs": [],
   "source": [
    "# /* \n",
    "# READ/SELECT columna, AVG(columna) as  \"variable auxiliar\",\n",
    "# FROM \"database\".\"table\"\n",
    "# GROUP BY columna;\n",
    "# \n",
    "# */\n",
    "\n",
    "SELECT supplierid, AVG(unitprice) as \"Total\"\n",
    "FROM \"alanparadise/nw\".\"products\"\n",
    "GROUP BY supplierid;"
   ]
  },
  {
   "cell_type": "code",
   "execution_count": null,
   "id": "f0b2691d",
   "metadata": {},
   "outputs": [],
   "source": [
    "# /* \n",
    "# READ/SELECT columna, AVG(columna) as  \"variable auxiliar\",\n",
    "# FROM \"database\".\"table\"\n",
    "# GROUP BY columna\n",
    "# ORDER BY num1 DESC LIMIT num2;\n",
    "# \n",
    "# */\n",
    "\n",
    "# ORDER BY:  sort by el answer set, parametros DESC/ASC y LIMIT num numero de rows en la respuesta\n",
    "SELECT supplierid, SUM(unitsinstock) as \"Inventory\"\n",
    "FROM \"alanparadise/nw\".\"products\"\n",
    "GROUP BY supplierid\n",
    "ORDER BY 2 DESC LIMIT 1;"
   ]
  },
  {
   "cell_type": "code",
   "execution_count": null,
   "id": "9050e874",
   "metadata": {},
   "outputs": [],
   "source": [
    "# HAVING\n",
    "# define una condicion sobre rows del answer set basado en GROUP function\n",
    "# con GROUP BY,  HAVING es como un WHERE sobre el answer intermedio \n",
    "# "
   ]
  },
  {
   "cell_type": "code",
   "execution_count": null,
   "id": "6438f0eb",
   "metadata": {},
   "outputs": [],
   "source": [
    "# /* \n",
    "# READ/SELECT columna, COUNT(columna) as  \"variable auxiliar\"\n",
    "# FROM \"database\".\"table\"\n",
    "# GROUP BY columna\n",
    "#     HAVING COUNT(columna)>num\n",
    "# ORDER BY num  DESC;\n",
    "# \n",
    "# */\n",
    "\n",
    "SELECT country, COUNT(customerid) as \"Total\"\n",
    "FROM \"alanparadise/nw\".\"customers\"\n",
    "GROUP BY country\n",
    "    HAVING COUNT(customerid)>5\n",
    "ORDER BY 2 DESC ;"
   ]
  },
  {
   "cell_type": "code",
   "execution_count": null,
   "id": "753e6dc8",
   "metadata": {},
   "outputs": [],
   "source": [
    "# WHERE escoge sub-set de rows del input chart, luego se hace la FUNCTION\n",
    "# HAVING escoge sub-set de rows del answer intermedio, después de hacer la FUNCTION"
   ]
  },
  {
   "cell_type": "code",
   "execution_count": null,
   "id": "e4de4799",
   "metadata": {},
   "outputs": [],
   "source": []
  },
  {
   "cell_type": "code",
   "execution_count": null,
   "id": "1cf6587f",
   "metadata": {},
   "outputs": [],
   "source": [
    "# Week 3: Sub Queries\n",
    "\n",
    "# query dentro de query\n",
    "# siempre tiene que estar en parentesis\n",
    "\n",
    "# WHERE: \n",
    "# SELECT: \n",
    "# FROM:"
   ]
  },
  {
   "cell_type": "code",
   "execution_count": null,
   "id": "b149a3e7",
   "metadata": {},
   "outputs": [],
   "source": [
    "# WHERE SUB-QUERY\n",
    "# /* \n",
    "# SELECT  col1, col2, col3 \n",
    "# FROM \"database\".\"table\"\n",
    "# WHERE col = ( \n",
    "# --SUB-QUERY\n",
    "#     SELECT MAX(col)\n",
    "# \tFROM \"database\".\"table\"\n",
    "# )\n",
    "# */\n",
    "\n",
    "# leer productid, productname, unitprice\n",
    "\n",
    "# WHERE unitprice = (SUBQUERY\n",
    "# SELECT MAX(unitprice)\n",
    ")\n",
    "\n",
    "SELECT productid, productname, unitprice\n",
    "FROM \"alanparadise/nw\".\"products\"\n",
    "WHERE unitprice = (\n",
    "\tSELECT MAX(unitprice)\n",
    "\tFROM \"alanparadise/nw\".\"products\"\n",
    "\n",
    ")"
   ]
  },
  {
   "cell_type": "code",
   "execution_count": null,
   "id": "53187830",
   "metadata": {},
   "outputs": [],
   "source": []
  }
 ],
 "metadata": {
  "kernelspec": {
   "display_name": "Python 3 (ipykernel)",
   "language": "python",
   "name": "python3"
  },
  "language_info": {
   "codemirror_mode": {
    "name": "ipython",
    "version": 3
   },
   "file_extension": ".py",
   "mimetype": "text/x-python",
   "name": "python",
   "nbconvert_exporter": "python",
   "pygments_lexer": "ipython3",
   "version": "3.8.10"
  }
 },
 "nbformat": 4,
 "nbformat_minor": 5
}
