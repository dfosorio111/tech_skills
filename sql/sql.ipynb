{
 "cells": [
  {
   "attachments": {},
   "cell_type": "markdown",
   "metadata": {},
   "source": [
    "# SQL"
   ]
  },
  {
   "cell_type": "code",
   "execution_count": null,
   "metadata": {},
   "outputs": [],
   "source": [
    "# libreria SQL\n",
    "import sqlite3 as sql\n",
    "import pandas as pd"
   ]
  },
  {
   "cell_type": "code",
   "execution_count": null,
   "metadata": {},
   "outputs": [],
   "source": [
    "# cargar bases de datos\n",
    "employees = pd.read_csv('C:/Users/Diego/OneDrive/Documents/GitHub/tesis_maestria/tesis_maestria/employees.csv')\n",
    "employees"
   ]
  },
  {
   "cell_type": "code",
   "execution_count": null,
   "metadata": {},
   "outputs": [],
   "source": [
    "# conectar SQLite3 a base de datos\n",
    "conn = sql.connect('employees.db')\n",
    "\n",
    "# convertir bases de datos a \n",
    "# \n",
    "# db SQL\n",
    "#employees.to_sql('employees.db1', conn)\n",
    "# crear cursos para ejectuar SQL queries\n",
    "# cursor.execute(\"SQL QUERY\")\n",
    "cursor = conn.cursor()\n",
    "\n",
    "conn.commit()"
   ]
  },
  {
   "attachments": {},
   "cell_type": "markdown",
   "metadata": {},
   "source": [
    "# Basic Clauses"
   ]
  },
  {
   "attachments": {},
   "cell_type": "markdown",
   "metadata": {},
   "source": [
    "## SELECT\n",
    "\n",
    "Seleccionar columans de tabla \n",
    "\n",
    "* operaciones matematicas\n",
    "* convertir a char\n",
    "* crear nuevas columnas"
   ]
  },
  {
   "cell_type": "code",
   "execution_count": null,
   "metadata": {},
   "outputs": [],
   "source": [
    "SELECT <columna1>, <columna2>, <columna3>,\n",
    "    <literal>, <expression>\n",
    "FROM <tabla1>"
   ]
  },
  {
   "cell_type": "code",
   "execution_count": null,
   "metadata": {},
   "outputs": [],
   "source": [
    "CONCAT(column1, 'literal', column2)\n",
    "OR\n",
    "<column> || <column>\n",
    "<literal> || <literal> \n"
   ]
  },
  {
   "cell_type": "code",
   "execution_count": null,
   "metadata": {},
   "outputs": [],
   "source": [
    "# seleccionar * todas las columnas y filas de tabla \"employees\"\n",
    "\n",
    "SELECT * FROM \"alanparadise/nw\".\"employees\";\n"
   ]
  },
  {
   "cell_type": "code",
   "execution_count": null,
   "metadata": {},
   "outputs": [],
   "source": [
    "# seleccionar columnas 'employeeid', 'lastname', 'firstname' de tabla 'employees\"\n",
    "SELECT employeeid, lastname, firstname \n",
    "FROM \"alanparadise/nw\".\"employees\";\n"
   ]
  },
  {
   "cell_type": "code",
   "execution_count": null,
   "metadata": {},
   "outputs": [],
   "source": [
    "\n",
    "# seleccionar columnas 'lastname', 'firstname', 'hiredate', 'current_date', 'date_part' de tabla \"employees\"\n",
    "SELECT lastname, firstname, hiredate, current_date, date_part('month',hiredate)\n",
    "FROM \"alanparadise/nw\".\"employees\";\n",
    "\n"
   ]
  },
  {
   "cell_type": "code",
   "execution_count": null,
   "metadata": {},
   "outputs": [],
   "source": [
    "# seleccionar columnas orderid, unitprice, quantity\n",
    "# expresion \"Total Value\"=unitprice*quantity\n",
    "# de tabla \"orderdetails\"\n",
    "SELECT orderid, unitprice, quantity, \n",
    "    unitprice*quantity as \"Total Value\"\n",
    "FROM \"alanparadise/nw\".\"orderdetails\";"
   ]
  },
  {
   "cell_type": "code",
   "execution_count": null,
   "metadata": {},
   "outputs": [],
   "source": [
    "# seleccionar columnas lastname, firstname,\n",
    "# expresion \"Hire Month\"= char(hiredate, 'month')\n",
    "# de tabla \"employees\"\n",
    "SELECT lastname, firstname,\n",
    "    to_char(hiredate, 'month') as \"Hire Month\"\n",
    "FROM \"alanparadise/nw\".\"employees\";\n"
   ]
  },
  {
   "cell_type": "code",
   "execution_count": null,
   "metadata": {},
   "outputs": [],
   "source": [
    "# concatenar(unir) por columnas \"Full Name\"= firstname,' ',lastname  \n",
    "# de tabla \"employees\"\n",
    "SELECT concat(firstname,' ',lastname) as \"Full Name\"\n",
    "FROM \"alanparadise/nw\".\"employees\";\n"
   ]
  },
  {
   "cell_type": "code",
   "execution_count": null,
   "metadata": {},
   "outputs": [],
   "source": [
    "# 2.1 List all the products in the Northwinds database showing productid, productname, quantity per unit, unitprice, and unitsinstock.\n",
    "SELECT  productid, productname, quantityperunit, unitprice, unitsinstock\n",
    "FROM \"alanparadise/nw\".\"products \";"
   ]
  },
  {
   "cell_type": "code",
   "execution_count": null,
   "metadata": {},
   "outputs": [],
   "source": [
    "# 2.2 For all employees at Northwinds, list the first name and last name concatenated together with a blank space in-between, and the YEAR when they were hired.  \n",
    "SELECT concat(firstname,' ',lastname) as \"Full Name\",\n",
    "to_char(hiredate, 'year') as \"Hire Year\"\n",
    "FROM \"alanparadise/nw\".\"employees\";"
   ]
  },
  {
   "cell_type": "code",
   "execution_count": null,
   "metadata": {},
   "outputs": [],
   "source": [
    " # 2.3 For all products in the Northwinds database, list the productname, unitprice, unitsinstock,  and the total value of the inventory of that product as “Total Value”.  (HINT:  total value = unitsinstock * unitprice.) \n",
    "SELECT  productname, unitprice, unitsinstock,\n",
    "    unitsinstock*unitprice as \"Total Value\"\n",
    "FROM \"alanparadise/nw\".\"products\";"
   ]
  },
  {
   "cell_type": "code",
   "execution_count": null,
   "metadata": {},
   "outputs": [],
   "source": [
    "#  2.4 For all employees at Northwinds, list the first name and last name concatenated together with a blank space in-between with a column header “Name”, and the name of the month (spelled out) for each employee’s birthday.  \n",
    "SELECT concat(firstname,' ',lastname) as \"Name\",\n",
    "    to_char(birthdate, 'month') as \"Birthdate Month\"\n",
    "FROM \"alanparadise/nw\".\"employees\";"
   ]
  },
  {
   "attachments": {},
   "cell_type": "markdown",
   "metadata": {},
   "source": [
    "## WHERE \n",
    "\n",
    "Definir condición sobre las columnas seleccionadas SELECT para filtrar las filas"
   ]
  },
  {
   "attachments": {},
   "cell_type": "markdown",
   "metadata": {},
   "source": [
    "Operands son: columnas, literales y expresiones\n",
    "\n",
    "Operator son:\n",
    "\n",
    "* = Igual\n",
    "* != NO igual\n",
    "* <> NO igual\n",
    "* > mayor que\n",
    "* >= mayor o igual que \n",
    "* < menor que\n",
    "* <= menor o igual que \n",
    "* like \n",
    "* between\n",
    "* in \n"
   ]
  },
  {
   "cell_type": "code",
   "execution_count": null,
   "metadata": {},
   "outputs": [],
   "source": [
    "SELECT <column1>, <column2>, <column3>,\n",
    "<literal>, <expression> AS <alias>\n",
    "FROM <table>\n",
    "WHERE < operand > < operator > < operand >;"
   ]
  },
  {
   "cell_type": "code",
   "execution_count": null,
   "metadata": {},
   "outputs": [],
   "source": [
    "# seleccionar columnas customerid, contactname, country\n",
    "# de tabla \"customers\"\n",
    "SELECT customerid, contactname, country\n",
    "FROM  \"alanparadise/nw\".\"customers\";"
   ]
  },
  {
   "cell_type": "code",
   "execution_count": null,
   "metadata": {},
   "outputs": [],
   "source": [
    "# seleccionar columnas customerid, contactname, country\n",
    "# de tabla \"customers\"\n",
    "# condicion(donde) pais igual 'Brazil'\n",
    "SELECT customerid, contactname, country\n",
    "FROM \"alanparadise/nw\".\"customers\"\n",
    "WHERE country = 'Brazil'; "
   ]
  },
  {
   "cell_type": "code",
   "execution_count": null,
   "metadata": {},
   "outputs": [],
   "source": [
    "# seleccionar columnas customerid, contactname, country\n",
    "# de tabla \"customers\"\n",
    "# condicion(donde) pais NO igual 'Brazil'\n",
    "SELECT customerid, contactname, country\n",
    "FROM \"alanparadise/nw\".\"customers\"\n",
    "WHERE country <> 'Brazil'; "
   ]
  },
  {
   "cell_type": "code",
   "execution_count": null,
   "metadata": {},
   "outputs": [],
   "source": [
    "# seleccionar columnas: productid, productname, unitprice\n",
    "# de tabla \"products\"\n",
    "# condicion(where) unitprice mayor que igual 60\n",
    "SELECT productid, productname, unitprice\n",
    "FROM \"alanparadise/nw\".\"products\"\n",
    "WHERE unitprice > 60;"
   ]
  },
  {
   "attachments": {},
   "cell_type": "markdown",
   "metadata": {},
   "source": [
    "### LIKE operator\n",
    "Igual que para columnas tipo texto/string \n",
    "\n",
    "* % 0 o más caracteres\n",
    "* _ exactamente 1 de cualquier caracter "
   ]
  },
  {
   "cell_type": "code",
   "execution_count": null,
   "metadata": {},
   "outputs": [],
   "source": [
    "# seleccionar columnas: customerid, contactname, country\n",
    "# tabla \"customers\"\n",
    "# condicion(where) contactname like(string/text) 'M%', 0 o más caratereres M en texto\n",
    "\n",
    "SELECT customerid, contactname, country\n",
    "FROM \"alanparadise/nw\".\"customers\"\n",
    "WHERE contactname like 'M%';"
   ]
  },
  {
   "cell_type": "code",
   "execution_count": null,
   "metadata": {},
   "outputs": [],
   "source": [
    "# seleccionar columnas: customerid, contactname, country\n",
    "# tabla \"customers\"\n",
    "# condicion(where) contactname like(string/text) 'M%', exactamente 1 caracter M en texto\n",
    "\n",
    "SELECT customerid, contactname, country\n",
    "FROM \"alanparadise/nw\".\"customers\"\n",
    "WHERE contactname like '%M%';"
   ]
  },
  {
   "cell_type": "code",
   "execution_count": null,
   "metadata": {},
   "outputs": [],
   "source": [
    "# seleccionar columnas: customerid, contactname, country\n",
    "# tabla \"customers\"\n",
    "# condicion(where) contactname like(string/text) '_a%', exactamente 1  o más caracteres a en texto\n",
    "\n",
    "SELECT customerid, contactname, country\n",
    "FROM \"alanparadise/nw\".\"customers\"\n",
    "WHERE contactname like '_a%';"
   ]
  },
  {
   "attachments": {},
   "cell_type": "markdown",
   "metadata": {},
   "source": [
    "### IN operator\n",
    "\n",
    "Definir condición de pertenencia sobre las columnas o literales\n",
    "TRUE/FALSE \n",
    "\n",
    "WHERE operand IN (value, value, value)\n",
    "\n",
    "WHERE operand = value1 OR\n",
    "operand = value2 OR\n",
    "operand = value3 \n",
    "\n",
    "\n",
    "* value debe ser columna o literal \n",
    "* value debe tener misma estructura de dato de operand "
   ]
  },
  {
   "cell_type": "code",
   "execution_count": null,
   "metadata": {},
   "outputs": [],
   "source": [
    "# seleccionar columnas: productid, productname, unitprice, supplierid\n",
    "# tabla \"products\"\n",
    "# condicion(where) supplierid in(pertenencia)  (2, 4, 6, 8)\n",
    "SELECT productid, productname, unitprice, supplierid\n",
    "FROM \"alanparadise/nw\".\"products\"\n",
    "WHERE supplierid IN (2, 4, 6, 8);"
   ]
  },
  {
   "cell_type": "code",
   "execution_count": null,
   "metadata": {},
   "outputs": [],
   "source": [
    "# seleccionar columnas: supplierid, companyname, region\n",
    "# tabla \"suppliers\"\n",
    "# condicion(where) region in(pertenencia)  ('LA', 'MI', 'OR')\n",
    "SELECT supplierid, companyname, region\n",
    "FROM \"alanparadise/nw\".\"suppliers\"\n",
    "WHERE region IN ('LA', 'MI', 'OR');"
   ]
  },
  {
   "attachments": {},
   "cell_type": "markdown",
   "metadata": {},
   "source": [
    "### BETWEEN operator\n",
    "\n",
    "Definir condición de pertenencia a un rango sobre las columnas\n",
    "TRUE/FALSE \n",
    "\n",
    "WHERE operand between value1 and value2\n",
    "\n",
    "WHERE operand >= value1 AND\n",
    "operand <= value2\n",
    "\n",
    "* BETWEEN es inclusivo\n",
    "* value debe tener la misma estructura de dato que operand \n"
   ]
  },
  {
   "cell_type": "code",
   "execution_count": null,
   "metadata": {},
   "outputs": [],
   "source": [
    "# seleccionar columnas: ProductID, ProductName, UnitPrice\n",
    "# tabla \"products\"\n",
    "# condicion(where) UnitPrice BETWEEN(entre)  20 y 30\n",
    "\n",
    "SELECT ProductID, ProductName, UnitPrice\n",
    "FROM \"alanparadise/nw\".\"products\"\n",
    "WHERE UnitPrice BETWEEN 20 and 30;"
   ]
  },
  {
   "cell_type": "code",
   "execution_count": null,
   "metadata": {},
   "outputs": [],
   "source": [
    "# seleccionar columnas: Lastname, Firstname\n",
    "# tabla \"employees\"\n",
    "# condicion(where) Lastname BETWEEN(entre)  'A' y 'B'\n",
    "SELECT Lastname, Firstname\n",
    "FROM \"alanparadise/nw\".\"employees\"\n",
    "WHERE Lastname BETWEEN 'A' and 'M';"
   ]
  },
  {
   "cell_type": "code",
   "execution_count": null,
   "metadata": {},
   "outputs": [],
   "source": [
    "# seleccionar columnas: customerid, contactname, region, country\n",
    "# tabla \"customers\"\n",
    "# condicion(where) NOT country 'Brazil'\n",
    "SELECT customerid, contactname, region, country\n",
    "FROM \"alanparadise/nw\".\"customers\"\n",
    "WHERE NOT country = 'Brazil';"
   ]
  },
  {
   "cell_type": "code",
   "execution_count": null,
   "metadata": {},
   "outputs": [],
   "source": [
    "# seleccionar columnas: Productname, SupplierID, CategoryID,UnitPrice, UnitsInStock\n",
    "# tabla \"products\"\n",
    "# condicion(where) AND/OR\n",
    "SELECT Productname, SupplierID, CategoryID,UnitPrice, UnitsInStock\n",
    "FROM \"alanparadise/nw\".\"products\"\n",
    "\n",
    "WHERE SupplierID = 1 AND CategoryID = 2 OR\n",
    "CategoryID = 3 AND UnitPrice > 20 OR\n",
    "UnitsInStock < 12;"
   ]
  },
  {
   "cell_type": "code",
   "execution_count": null,
   "metadata": {},
   "outputs": [],
   "source": [
    "# seleccionar columnas: Productname, SupplierID, CategoryID,UnitPrice, UnitsInStock\n",
    "# tabla \"products\"\n",
    "# condicion(where) AND/OR\n",
    "SELECT Productname, SupplierID, CategoryID,UnitPrice, UnitsInStock\n",
    "FROM \"alanparadise/nw\".\"products\"\n",
    "WHERE SupplierID = 1 AND \n",
    "(CategoryID = 2 OR CategoryID = 3 AND UnitPrice > 20) OR\n",
    "UnitsInStock < 12;"
   ]
  },
  {
   "attachments": {},
   "cell_type": "markdown",
   "metadata": {},
   "source": [
    "Multiple conditions in a WHERE clause can be combined with\n",
    "\"AND\", \"OR\"\n",
    "Any condition in a WHERE clause can be negated with\n",
    "\"NOT\""
   ]
  },
  {
   "cell_type": "code",
   "execution_count": null,
   "metadata": {},
   "outputs": [],
   "source": [
    "#2.1 List the customerid, companyname, and country for all customers NOT in the U.S.A.\n",
    "SELECT customerid, companyname, country\n",
    "FROM \"alanparadise/nw\".\"customers\"\n",
    "WHERE NOT country = 'USA';"
   ]
  },
  {
   "cell_type": "code",
   "execution_count": null,
   "metadata": {},
   "outputs": [],
   "source": [
    "#2.2 For all products in the Northwinds database, list the productname, unitprice, unitsinstock,  and the total value of the inventory of that product as “Total Value” for all products with a Total Value greater than $1000.  (HINT:  total value = unitsinstock * unitprice) \n",
    "SELECT productname, unitprice, unitsinstock,\n",
    "    unitsinstock*unitprice as \"Total Value\"\n",
    "FROM  \"alanparadise/nw\".\"products\"\n",
    "WHERE (unitsinstock*unitprice) > 1000;\n",
    "\n"
   ]
  },
  {
   "cell_type": "code",
   "execution_count": null,
   "metadata": {},
   "outputs": [],
   "source": [
    "#2.3 List the productid, productname, and quantityperunit for all products that come in bottles.  \n",
    "\n",
    "SELECT productid, productname, quantityperunit\n",
    "FROM  \"alanparadise/nw\".\"products\"\n",
    "WHERE quantityperunit LIKE '%bottles%';\n",
    "\n"
   ]
  },
  {
   "cell_type": "code",
   "execution_count": null,
   "metadata": {},
   "outputs": [],
   "source": [
    "#2.4 List the productid, productname, and unitprice for all products whose categoryid is an ODD number.   (HINT:  categoryid is a one digit integer less than 9 …) \n",
    "SELECT categoryid, productid, productname, unitprice\n",
    "FROM \"alanparadise/nw\".\"products\"\n",
    "WHERE categoryid IN (1,3,5,7);"
   ]
  },
  {
   "cell_type": "code",
   "execution_count": null,
   "metadata": {},
   "outputs": [],
   "source": [
    "#2.5 List the orderid,  customerid, and shippeddate for orders that shipped to Canada  in December 1996 through the end of  January 1997.\n",
    "\n",
    "SELECT orderid,  customerid, shippeddate\n",
    "FROM \"alanparadise/nw\".\"orders\"\n",
    "\n",
    "WHERE shipcountry LIKE '%Canada%' AND \n",
    "shippeddate BETWEEN '1996-12-01 00:00:00' and '1997-01-31 00:00:00';\n"
   ]
  },
  {
   "attachments": {},
   "cell_type": "markdown",
   "metadata": {},
   "source": [
    "## ORDERBY\n",
    "Ordenar filas ASC-DESC \n"
   ]
  },
  {
   "cell_type": "code",
   "execution_count": null,
   "metadata": {},
   "outputs": [],
   "source": [
    "# seleccionar columnas: productname, unitprice\n",
    "# tabla \"products\"\n",
    "# ordenar (order by) productname\n",
    "\n",
    "SELECT productname, unitprice\n",
    "FROM \"alanparadise/nw\".\"products\"\n",
    "ORDER BY productname;"
   ]
  },
  {
   "cell_type": "code",
   "execution_count": null,
   "metadata": {},
   "outputs": [],
   "source": [
    "# seleccionar columnas: productname, unitprice\n",
    "# tabla \"products\"\n",
    "# ordenar (order by) unitprice DESC descendente\n",
    "\n",
    "SELECT productname, unitprice\n",
    "FROM \"alanparadise/nw\".\"products\"\n",
    "ORDER BY unitprice DESC;"
   ]
  },
  {
   "cell_type": "code",
   "execution_count": null,
   "metadata": {},
   "outputs": [],
   "source": [
    "# seleccionar columnas: productname, unitprice\n",
    "# tabla \"products\"\n",
    "# ordenar (order by) columna 2 DESC descendente\n",
    "\n",
    "SELECT productname, unitprice\n",
    "FROM \"alanparadise/nw\".\"products\"\n",
    "ORDER BY 2 desc;"
   ]
  },
  {
   "attachments": {},
   "cell_type": "markdown",
   "metadata": {},
   "source": [
    "### DISTINCT \n",
    "\n",
    "Quita valores duplicados "
   ]
  },
  {
   "attachments": {},
   "cell_type": "markdown",
   "metadata": {},
   "source": [
    "### COUNT ()\n",
    "\n",
    "Cuenta filas o valores NO-Nulos en columna"
   ]
  },
  {
   "cell_type": "code",
   "execution_count": null,
   "metadata": {},
   "outputs": [],
   "source": [
    "# contar todas las filas\n",
    "# tabla \"customers\"\n",
    "SELECT COUNT(*)\n",
    "FROM \"alanparadise/nw\".\"customers\";"
   ]
  },
  {
   "cell_type": "code",
   "execution_count": null,
   "metadata": {},
   "outputs": [],
   "source": [
    "# contar paises \n",
    "# tabla \"customers\"\n",
    "SELECT COUNT(country)\n",
    "FROM \"alanparadise/nw\".\"customers\";"
   ]
  },
  {
   "cell_type": "code",
   "execution_count": null,
   "metadata": {},
   "outputs": [],
   "source": [
    "# contar paises distintos\n",
    "# tabla \"customers\"\n",
    "SELECT COUNT(DISTINCT country)\n",
    "FROM \"alanparadise/nw\".\"customers\";"
   ]
  },
  {
   "attachments": {},
   "cell_type": "markdown",
   "metadata": {},
   "source": [
    "### LIMIT\n",
    "\n",
    "Limita el número de filas "
   ]
  },
  {
   "cell_type": "code",
   "execution_count": null,
   "metadata": {},
   "outputs": [],
   "source": [
    "# seleccionar columnas: productname, unitprice\n",
    "# tabla \"products\"\n",
    "# ordenar (order by) unitprice descendente limitar a 5 filas\n",
    "\n",
    "SELECT productname, unitprice\n",
    "FROM \"alanparadise/nw\".\"products\"\n",
    "ORDER BY unitprice DESC LIMIT 5;"
   ]
  },
  {
   "attachments": {},
   "cell_type": "markdown",
   "metadata": {},
   "source": [
    "## GROUP FUNCTIONS\n",
    "\n",
    "* crea tabla intermedia\n",
    "* procesa la función GROUP con la respuesta intermedia\n",
    "* WHERE determina el número de filas en la respuesta intermedia\n",
    "* GROUP hace el calculo con las filas en al respuesta intermedia DESPUES del WHERE \n",
    " \n"
   ]
  },
  {
   "attachments": {},
   "cell_type": "markdown",
   "metadata": {},
   "source": [
    "* SUM: suma valores NO-Null en columna (solo columnas numericas)\n",
    "* AVG: promedio de valores NO-Null en columna (solo columnas numericas)\n",
    "* COUNT: cuenta valores NO-Null en columna\n",
    "* MIN: fila mínima  NO-Null en columna\n",
    "* MAX: fila máxima NO-Null en columna"
   ]
  },
  {
   "cell_type": "code",
   "execution_count": null,
   "metadata": {},
   "outputs": [],
   "source": [
    "# contar todos los empleados = \"Staff Size\"\n",
    "# tabla \"employees\"\n",
    "SELECT COUNT(*) as \"Staff Size\"\n",
    "from \"alanparadise/nw\".\"employees\";"
   ]
  },
  {
   "cell_type": "code",
   "execution_count": null,
   "metadata": {},
   "outputs": [],
   "source": [
    "# contar paises distintos  = \"Countries\"\n",
    "# tabla \"customers\"\n",
    "SELECT COUNT(Distinct Country) as \"Countries\"\n",
    "FROM  \"alanparadise/nw\".\"customers\";"
   ]
  },
  {
   "cell_type": "code",
   "execution_count": null,
   "metadata": {},
   "outputs": [],
   "source": [
    "# sumar unitsinstock = \"Inventory\"\n",
    "# tabla \"products\"\n",
    "SELECT SUM(unitsinstock) as \"Inventory\"\n",
    "FROM \"alanparadise/nw\".\"products\";"
   ]
  },
  {
   "cell_type": "code",
   "execution_count": null,
   "metadata": {},
   "outputs": [],
   "source": [
    "# maximo unitprice = \"High Price\"\n",
    "# tabla \"products\" \n",
    "SELECT MAX(unitprice) as \"High Price\"\n",
    "FROM \"alanparadise/nw\".\"products\";\n"
   ]
  },
  {
   "cell_type": "code",
   "execution_count": null,
   "metadata": {},
   "outputs": [],
   "source": [
    "# minimo unitprice = \"Low Price\"\n",
    "# tabla \"products\" \n",
    "SELECT MIN(unitPrice) as \"Low Price\"\n",
    "from \"alanparadise/nw\".\"products\";"
   ]
  },
  {
   "cell_type": "code",
   "execution_count": null,
   "metadata": {},
   "outputs": [],
   "source": [
    "# promedio unitprice =  \"Average Price\"\n",
    "# tabla \"products\"\n",
    "SELECT AVG(unitprice) as \"Average Price\"\n",
    "FROM \"alanparadise/nw\".\"products\";"
   ]
  },
  {
   "cell_type": "code",
   "execution_count": null,
   "metadata": {},
   "outputs": [],
   "source": [
    "# convertir a char \n",
    "# promedio de UnitPrice = \"Average Price\"\n",
    "# tabla \"products\"\n",
    "SELECT to_char(avg(UnitPrice),'999,999.99') as \"Average Price\"\n",
    "FROM \"alanparadise/nw\".\"products\";\n"
   ]
  },
  {
   "cell_type": "code",
   "execution_count": null,
   "metadata": {},
   "outputs": [],
   "source": [
    "# contar empleados = \"Staff Size\" \n",
    "# tabla \"employees\"\n",
    "SELECT COUNT(*) as \"Staff Size\"\n",
    "FROM \"alanparadise/nw\".\"employees\";"
   ]
  },
  {
   "cell_type": "code",
   "execution_count": null,
   "metadata": {},
   "outputs": [],
   "source": [
    "# contar employeeid  = \"Staff Size\"\n",
    "SELECT COUNT(employeeid) as \"Staff Size\"\n",
    "FROM \"alanparadise/nw\".\"employees\";\n"
   ]
  },
  {
   "attachments": {},
   "cell_type": "markdown",
   "metadata": {},
   "source": [
    "## GROUP BY\n",
    "\n",
    "Genera sub totales.\n",
    "Agrupa un subset de filas de la tabla intermedia"
   ]
  },
  {
   "cell_type": "code",
   "execution_count": null,
   "metadata": {},
   "outputs": [],
   "source": [
    "# seleccionar columnas: OrderID\n",
    "# sumar(UnitPrice) = \"Total Price\"\n",
    "# sumar(Quantity) = \"Total Quantity\" \n",
    "# tabla \"orderdetails\"\n",
    "# condicion(donde) OrderID EN (10248, 10249, 10250, 10251)\n",
    "# agrupar por columna OrderID\n",
    "SELECT OrderID, SUM(UnitPrice) as \"Total Price\",\n",
    "SUM(Quantity) as \"Total Quantity\"\n",
    "\n",
    "FROM \"alanparadise/nw\".\"orderdetails\"\n",
    "WHERE OrderID in (10248, 10249, 10250, 10251)\n",
    "GROUP BY OrderID;"
   ]
  },
  {
   "attachments": {},
   "cell_type": "markdown",
   "metadata": {},
   "source": [
    "\n",
    "Cuando se usa GROUP BY, cada columna/expresión de SELECT debe:\n",
    "* aplicar una group function\n",
    "* columna agrupada con group by"
   ]
  },
  {
   "cell_type": "code",
   "execution_count": null,
   "metadata": {},
   "outputs": [],
   "source": [
    "# seleccionar columnas: country\n",
    "# contar customerid = \"Total\"\n",
    "# tabla \"customers\"\n",
    "# agrupar por pais\n",
    "SELECT country, count(customerid) as \"Total\"\n",
    "FROM \"alanparadise/nw\".\"customers\"\n",
    "GROUP BY country;"
   ]
  },
  {
   "cell_type": "code",
   "execution_count": null,
   "metadata": {},
   "outputs": [],
   "source": [
    "# seleccionar columnas: supplierid\n",
    "# promedio unitprice = \"Total\"\n",
    "# tabla \"products\"\n",
    "# agrupar por supplierid \n",
    "SELECT supplierid, avg(unitprice) as \"Total\"\n",
    "FROM \"alanparadise/nw\".\"products\"\n",
    "GROUP BY supplierid;\n"
   ]
  },
  {
   "cell_type": "code",
   "execution_count": null,
   "metadata": {},
   "outputs": [],
   "source": [
    "# seleccionar columnas: SupplierID\n",
    "# sumar UnitsInStock = \"Inventory\"\n",
    "# tabla \"products\"\n",
    "# agrupar por supplierid \n",
    "# ordenar por SUM(UnitsInStock) descendente, limite 1\n",
    "\n",
    "SELECT SupplierID, SUM(UnitsInStock)AS \"Inventory\"\n",
    "FROM \"alanparadise/nw\".\"products\"\n",
    "GROUP BY SupplierID\n",
    "ORDER BY 2 DESC LIMIT 1;"
   ]
  },
  {
   "attachments": {},
   "cell_type": "markdown",
   "metadata": {},
   "source": [
    "### HAVING\n",
    "\n",
    "Condicion sobre subset de filas de tabla con funciones group.\n",
    "\n",
    "\n",
    "Usar GROUP BY, HAVING es como WHERE contra la tabla intermedia.\n"
   ]
  },
  {
   "cell_type": "code",
   "execution_count": null,
   "metadata": {},
   "outputs": [],
   "source": [
    "# seleccionar columnas: country\n",
    "# contar customerid = \"Total\"\n",
    "# tabla \"customers\"\n",
    "# agrupar por country\n",
    "# condicion (HAVING+GROUP BY) count(customerid) mayor a 5\n",
    "# ordenar por  count(customerid) descendente \n",
    "SELECT country, count(customerid) as \"Total\"\n",
    "FROM \"alanparadise/nw\".\"customers\"\n",
    "GROUP BY country\n",
    "HAVING count(customerid) > 5\n",
    "ORDER BY 2 DESC;"
   ]
  },
  {
   "cell_type": "code",
   "execution_count": null,
   "metadata": {},
   "outputs": [],
   "source": [
    "# 2.1 List the total (unitprice * quantity) as “Total Value”  by orderid for the top 5 orders.  (That is, the five orders with the highest Total Value.) \n",
    "SELECT SUM(unitprice*quantity) as \"Total Value\"\n",
    "FROM \"alanparadise/nw\".\"orderdetails\"\n",
    "GROUP BY (unitprice*quantity) DESC LIMIT 5;\n"
   ]
  },
  {
   "cell_type": "code",
   "execution_count": null,
   "metadata": {},
   "outputs": [],
   "source": [
    "# 2.2 How many products does Northwinds have in inventory?\n",
    "SELECT COUNT(unitsinstock)\n",
    "FROM \"alanparadise/nw\".\"products\"\n",
    "WHERE unitsinstock <> 0"
   ]
  },
  {
   "cell_type": "code",
   "execution_count": null,
   "metadata": {},
   "outputs": [],
   "source": [
    "# 2.3 How many products are out of stock? \n",
    "SELECT COUNT(productid)\n",
    "FROM \"alanparadise/nw\".\"products\"\n",
    "WHERE unitsinstock=0;"
   ]
  },
  {
   "cell_type": "code",
   "execution_count": null,
   "metadata": {},
   "outputs": [],
   "source": [
    "# 2.4 From which supplier(s) does Northwinds carry the fewest products? \n",
    "\n",
    "SELECT supplierid, unitsinstock\n",
    "FROM \"alanparadise/nw\".\"products\"\n",
    "ORDER BY unitsinstock ASC LIMIT 10;\n"
   ]
  },
  {
   "cell_type": "code",
   "execution_count": null,
   "metadata": {},
   "outputs": [],
   "source": [
    "# 2.5 Which Northwinds employees (just show their employeeid) had over 100 orders ? \n",
    "\n",
    "SELECT employeeid, count(orderid) AS \"Orders\" \n",
    "FROM \"alanparadise/nw\".\"orders\"\n",
    "       GROUP BY employeeid\n",
    "       HAVING count(orderid) > 100\n",
    "       ORDER BY 2 desc;"
   ]
  },
  {
   "attachments": {},
   "cell_type": "markdown",
   "metadata": {},
   "source": [
    "## Sub Queries\n",
    "\n",
    "Query dentro de un Query\n",
    "\n",
    "* WHERE: La tabla 'interna' se aplica un where(condición) a la tabla 'externa'\n",
    "* SELECT: la tabla 'interna' se usa como columna en SELECT\n",
    "* FROM: la tabla 'interna' se usa como tabla 'virtual' de FROM \n"
   ]
  },
  {
   "cell_type": "code",
   "execution_count": null,
   "metadata": {},
   "outputs": [],
   "source": [
    "# QUERY EXTERNO\n",
    "# seleccionar columnas: productID, productname, unitprice\n",
    "# tabla \"products\"\n",
    "\n",
    "# QUERY INTERNO\n",
    "# condicion(where) maximo UnitPrice \n",
    "# seleccionar maximo UnitPrice\n",
    "# tabla \"products\"\n",
    "SELECT productID, productname, unitprice\n",
    "FROM \"alanparadise/nw\".\"products\"\n",
    "\n",
    "WHERE UnitPrice = (\n",
    "SELECT MAX(UnitPrice)\n",
    "FROM \"alanparadise/nw\".\"products\" )"
   ]
  },
  {
   "cell_type": "code",
   "execution_count": null,
   "metadata": {},
   "outputs": [],
   "source": [
    "# QUERY EXTERNO\n",
    "# seleccionar customerID, orderID\n",
    "# tabla \"orders\"\n",
    "\n",
    "# QUERY INTERNO\n",
    "# seleccionar orderID tabla  \"orders\" en   orderID tabla \"orderdetails\" (2 tablas)\n",
    "# tabla \"orderdetails\"\n",
    "# condicion(where) quantity mayor a 100\n",
    "# ordenar por CustomerID\n",
    "\n",
    "SELECT customerID, orderID\n",
    "FROM \"alanparadise/nw\".\"orders\"\n",
    "\n",
    "WHERE orderID in (\n",
    "SELECT orderID\n",
    "FROM \"alanparadise/nw\".\"orderdetails\"\n",
    "WHERE quantity > 100 )\n",
    "ORDER BY CustomerID"
   ]
  },
  {
   "cell_type": "code",
   "execution_count": null,
   "metadata": {},
   "outputs": [],
   "source": [
    "# QUERY EXTERNO\n",
    "# seleccionar columnas productname\n",
    "\n",
    "# QUERY INTERNO\n",
    "#  sumar (UnitPrice * quantity)\n",
    "# tabla \"orderdetails\"\n",
    "# condicion(where) \"orderdetails\".productid =\"products\".productid = \"Total\"\n",
    "# tabla \"products\"\n",
    "SELECT productname, (select sum(UnitPrice * quantity)\n",
    "FROM \"alanparadise/nw\".\"orderdetails\"\n",
    "WHERE \"alanparadise/nw\".\"orderdetails\".productid =\n",
    "\"alanparadise/nw\".\"products\".productid) as \"Total\"\n",
    "FROM \"alanparadise/nw\".\"products\""
   ]
  },
  {
   "cell_type": "code",
   "execution_count": null,
   "metadata": {},
   "outputs": [],
   "source": [
    "# QUERY EXTERNO\n",
    "# columnas: orderID\n",
    "\n",
    "# QUERY INTERNO\n",
    "# seleccionar columnas orderID, sumar quantity\n",
    "# tabla \"orderdetails\"\n",
    "# agrupar por columna OrderID (regla)\n",
    "# condicion(having) suma(quantity) <100 = DetailCount\n",
    "\n",
    "SELECT orderID\n",
    "FROM (SELECT orderID, SUM(quantity)\n",
    "FROM \"alanparadise/nw\".\"orderdetails\"\n",
    "GROUP BY OrderID\n",
    "HAVING SUM(quantity) < 100) AS DetailCount"
   ]
  },
  {
   "attachments": {},
   "cell_type": "markdown",
   "metadata": {},
   "source": [
    "Co-Related SubQuery\n",
    "\n",
    "Tipo especial de subquery\n",
    "* Query interno hace referencia a value de  Query externo\n",
    "* Query interno se ejecuta cada vez que Query externo retorna otra fila \n"
   ]
  },
  {
   "cell_type": "code",
   "execution_count": null,
   "metadata": {},
   "outputs": [],
   "source": [
    "# QUERY EXTERNO \n",
    "# seleccionar columnas O.employeeID, orderID, shipcity, customerID\n",
    "# tabla \"orders\"\n",
    "# QUERY INTERNO \n",
    "# condicion(where) employeeID en columnas employeeID FROM \"alanparadise/nw\".\"employees\" E\n",
    "# condicion(where) E.City = O.shipcity  empleados donde empleado envio ordenes a ciudad de residencia de empleado\n",
    "\n",
    "SELECT O.employeeID, orderID, shipcity, customerID\n",
    "FROM \"alanparadise/nw\".\"orders\" O\n",
    "WHERE employeeID IN\n",
    "(SELECT employeeID FROM \"alanparadise/nw\".\"employees\" E\n",
    "WHERE E.City = O.shipcity);"
   ]
  },
  {
   "attachments": {},
   "cell_type": "markdown",
   "metadata": {},
   "source": [
    "# JOIN\n",
    "\n",
    "Unir tablas con key-columna (foreign key) en 2 tablas.\n",
    "\n",
    "Las keys/columnas no deben tener el mismo nombre, sino el mismo tipo de dato y tamaño.\n",
    "\n",
    "\n",
    "\n"
   ]
  },
  {
   "attachments": {},
   "cell_type": "markdown",
   "metadata": {},
   "source": [
    "## Inner Join\n",
    "\n"
   ]
  },
  {
   "cell_type": "code",
   "execution_count": null,
   "metadata": {},
   "outputs": [],
   "source": [
    "# seleccionar columnas:LastName, Firstname\n",
    "# contar OrderID= \"Order Total\"\n",
    "# 2 tablas: \"employees\",\"orders\"\n",
    "# condicion(where) \"employees\".\"employeeid\"=\"orders\".\"employeeid\"\n",
    "# agrupar por LastName, FirstName\n",
    "# ordenar por 3=count(OrderID) descendente\n",
    "\n",
    "SELECT LastName, Firstname, count(OrderID) as \"Order Total\"\n",
    "from \"alanparadise/nw\".\"employees\",\"alanparadise/nw\".\"orders\"\n",
    "where \"alanparadise/nw\".\"employees\".\"employeeid\" =\"alanparadise/nw\".\"orders\".\"employeeid\"\n",
    "GROUP BY LastName, FirstName\n",
    "Order By 3 desc;"
   ]
  },
  {
   "cell_type": "code",
   "execution_count": null,
   "metadata": {},
   "outputs": [],
   "source": [
    "# seleccionar columnas:LastName, Firstname, \"employees\".employeeid\n",
    "# contar OrderID= \"Order Total\"\n",
    "# 2 tablas: \"employees\",\"orders\"\n",
    "# condicion(where) \"employees\".\"employeeid\"=\"orders\".\"employeeid\"\n",
    "# agrupar por LastName, FirstName\n",
    "# ordenar por 3=count(OrderID) descendente\n",
    "SELECT \"alanparadise/nw\".\"employees\".employeeid, LastName, Firstname,count(OrderID) as \"Order Total\"\n",
    "FROM \"alanparadise/nw\".\"employees\",\"alanparadise/nw\".\"orders\"\n",
    "WHERE \"alanparadise/nw\".\"employees\".\"employeeid\" =\n",
    "\"alanparadise/nw\".\"orders\".\"employeeid\"\n",
    "GROUP BY \"alanparadise/nw\".\"employees\".employeeid, LastName, FirstName\n",
    "Order By 3 desc;"
   ]
  },
  {
   "cell_type": "code",
   "execution_count": null,
   "metadata": {},
   "outputs": [],
   "source": [
    "\n",
    "# agregar 'alias' a las tablas por el Query para simplificar relation de bases\n",
    "SELECT LastName, Firstname, count(OrderID) as \"Order Total\"\n",
    "FROM \"alanparadise/nw\".\"employees\" E,\n",
    "\"alanparadise/nw\".\"orders\" O\n",
    "where E.employeeid = O.employeeid\n",
    "GROUP BY LastName, FirstName\n",
    "Order By 3 desc;"
   ]
  },
  {
   "attachments": {},
   "cell_type": "markdown",
   "metadata": {},
   "source": [
    "Inner Join explicito:\n",
    "\n",
    "\n",
    "where E.employeeid = O.employeeid"
   ]
  },
  {
   "cell_type": "code",
   "execution_count": null,
   "metadata": {},
   "outputs": [],
   "source": [
    "SELECT LastName, Firstname, count(OrderID) as \"Order Total\"\n",
    "from \"alanparadise/nw\".\"employees\" E,\n",
    "\"alanparadise/nw\".\"orders\" O\n",
    "where E.employeeid = O.employeeid\n",
    "GROUP BY LastName, FirstName\n",
    "Order By 3 desc;"
   ]
  },
  {
   "attachments": {},
   "cell_type": "markdown",
   "metadata": {},
   "source": [
    "Inner Join implicito\n",
    "\n",
    "FROM \"alanparadise/nw\".\"employees\" E JOIN\n",
    "\"alanparadise/nw\".\"orders\" O\n",
    "on E.employeeid = O.employeeid"
   ]
  },
  {
   "cell_type": "code",
   "execution_count": null,
   "metadata": {},
   "outputs": [],
   "source": [
    "SELECT LastName, Firstname, count(OrderID) as \"Order Total\"\n",
    "FROM \"alanparadise/nw\".\"employees\" E JOIN\n",
    "\"alanparadise/nw\".\"orders\" O\n",
    "on E.employeeid = O.employeeid\n",
    "GROUP BY LastName, FirstName\n",
    "Order By 3 desc;"
   ]
  },
  {
   "cell_type": "code",
   "execution_count": null,
   "metadata": {},
   "outputs": [],
   "source": [
    "# 2.1 List each order and its Total Value (unitprice * quantity) for all orders shipping into France in descending Total Value order.\n",
    "\n",
    "# seleccionar O.orderID\n",
    "# sumar (unitprice * quantity) = \"Total Value\"\n",
    "# tablas: \"orders\" O  JOIN \"orderdetails\" D, key: O.orderid = D.orderid\n",
    "# condicion(where) shipcountry = 'France'\n",
    "# agrupar por O.orderID\n",
    "# ordenar por \"Total Value\" descendente\n",
    "\n",
    "SELECT O.orderID, sum(unitprice * quantity) as \"Total Value\" \n",
    "FROM \"alanparadise/nw\".\"orders\" O  JOIN \"alanparadise/nw\".\"orderdetails\" D \n",
    "ON O.orderid = D.orderid\n",
    "            \n",
    "WHERE shipcountry = 'France'\n",
    "GROUP BY O.orderid\n",
    "ORDER BY 2 DESC;\n"
   ]
  },
  {
   "cell_type": "code",
   "execution_count": null,
   "metadata": {},
   "outputs": [],
   "source": [
    "# 2.2 Create a Suppliers List showing Supplier CompanyName, and names of all the products sold by each supplier located in Japan. \n",
    "# seleccionar columnas: companyname, productname \n",
    "# 2 tablas: \"suppliers\" S  JOIN \"products\" P, key: S.supplierid = P.supplierid\n",
    "# condicion(where) country = 'Japan'\n",
    "\n",
    "SELECT companyname, productname \n",
    "FROM \"alanparadise/nw\".\"suppliers\" S  JOIN \"alanparadise/nw\".\"products\" P \n",
    "ON S.supplierid = P.supplierid\n",
    "WHERE country = 'Japan';\n"
   ]
  },
  {
   "cell_type": "code",
   "execution_count": null,
   "metadata": {},
   "outputs": [],
   "source": [
    "# 2.3 Create a “Low Performers” list showing the employees who have less than $100,000 in total sales.  List the employee’s LastName, FirstName followed by their total sales volume (the total dollar value of their orders.)    \n",
    "\n",
    "# seleccionar columnas: LastName, FirstName, \"Total Sales\"=sum(unitprice * quantity) (regla group by)\n",
    "# tablas: \"employees\" E  JOIN1 \"orders\" O, key(on): E.employeeid = O.employeeid JOIN2 \"orderdetails\" D, key: O.orderid = D.orderid\n",
    "# agrupar por(regla): LastName, FirstName\n",
    "# condicion(having/group by) (unitprice * quantity) < 100000\n",
    "\n",
    "SELECT LastName, FirstName, sum(unitprice * quantity) as \"Total Sales\"\n",
    "FROM \"alanparadise/nw\".\"employees\" E  JOIN \"alanparadise/nw\".\"orders\" O \n",
    "ON E.employeeid = O.employeeid JOIN \"alanparadise/nw\".\"orderdetails\" D\n",
    "ON O.orderid = D.orderid\n",
    "GROUP BY LastName, FirstName\n",
    "HAVING SUM(unitprice * quantity) < 100000\n",
    "\n"
   ]
  },
  {
   "attachments": {},
   "cell_type": "markdown",
   "metadata": {},
   "source": [
    "## 3 Way JOIN\n",
    "\n",
    "* JOIN tablas \"Employees\" y \"Orders\", key: EmployeeID\n",
    "* JOIN tablas \"Orders\" y \"Order Details\", key: OrderID\n",
    "* (unitprice*quantity) = \"Sales Volume\"\n",
    "\n"
   ]
  },
  {
   "cell_type": "code",
   "execution_count": null,
   "metadata": {},
   "outputs": [],
   "source": [
    "# seleccionar tablas LastName, Firstname, sumar (unitprice * quantity)=\"Total Sales\" (regla group by)\n",
    "# tablas: \"employees\" E JOIN1 \"orders\" O, key:E.employeeid = O.employeeid JOIN2 \"orderdetails\" D, key:O.orderid = D.orderid\n",
    "# agrupar por: LastName, FirstName (regla group by)\n",
    "# ordenar por \"Total Sales\" descendente, limite 5\n",
    "\n",
    "SELECT LastName, Firstname,\n",
    "sum(unitprice * quantity) as\"Total Sales\"\n",
    "FROM \"alanparadise/nw\".\"employees\" E JOIN\"alanparadise/nw\".\"orders\" O ON E.employeeid = O.employeeid JOIN \"alanparadise/nw\".\"orderdetails\" D ON O.orderid = D.orderid\n",
    "GROUP BY LastName, FirstName\n",
    "Order By 3 desc LIMIT 5;"
   ]
  },
  {
   "attachments": {},
   "cell_type": "markdown",
   "metadata": {},
   "source": [
    "## Outer JOIN\n",
    "\n",
    "* Left Outer JOIN: selecciona todas las columnas en intersección + columnas de la tabla izquierda\n",
    "\n",
    "* Right Outer JOIN: selecciona todas las columnas en intersección + columnas de la tabla derecha\n"
   ]
  },
  {
   "cell_type": "code",
   "execution_count": null,
   "metadata": {},
   "outputs": [],
   "source": [
    "# seleccionar columnas: LastName, Firstname, contar 'OrderID'=\"Order Total\"\n",
    "# tablas: \"employees\" E LEFT OUTER JOIN \"orders\", key:E.employeeid = O.employeeid, columnas en intersección  \"employees\"-\"orders\" + columnas de tabla \"employees\"\n",
    "# agrupar por: LastName, FirstName (regla group by)\n",
    "# ordenar por: contar 'OrderID'\n",
    "\n",
    "SELECT LastName, Firstname, count(OrderID) as \"Order Total\"\n",
    "FROM \"alanparadise/nw\".\"employees\" E LEFT OUTER JOIN \"alanparadise/nw\".\"orders\" O on E.employeeid = O.employeeid\n",
    "GROUP BY LastName, FirstName\n",
    "Order By 3 desc;\n"
   ]
  },
  {
   "cell_type": "code",
   "execution_count": null,
   "metadata": {},
   "outputs": [],
   "source": [
    "# QUERY EXTERNO\n",
    "# seleccionar columnas: (unica) customerid\n",
    "# tabla \"orders\"\n",
    "# condicion(where): customerid no en tabla \n",
    "\n",
    "# QUERY INTERNO\n",
    "# seleccionar columnas: customerID\n",
    "# tabla \"customers\"\n",
    "\n",
    "SELECT DISTINCT customerid\n",
    "FROM \"alanparadise/nw\".\"orders\"\n",
    "WHERE customerid NOT IN (\n",
    "SELECT customerID FROM \"alanparadise/nw\".\"customers\");\n",
    "\n",
    "\n",
    "# seleccionar columnas: (unica) O.customerid\n",
    "# tabla \"orders\" O LEFT OUTER JOIN \"customers\" C  columnas  en intersección + columnas tabla \"orders\", key: C.customerid = O.customerid \n",
    "# condicion(where) C.customerid es NULL \n",
    "SELECT DISTINCT O.customerid\n",
    "FROM \"alanparadise/nw\".\"orders\" O LEFT OUTER JOIN\n",
    "\"alanparadise/nw\".\"customers\" C on\n",
    "C.customerid = O.customerid\n",
    "WHERE C.customerid is NULL"
   ]
  },
  {
   "cell_type": "code",
   "execution_count": null,
   "metadata": {},
   "outputs": [],
   "source": [
    "\n",
    "# seleccionar columnas: (caracter) sumar (unitprice * quantity) = \"Total Sales\"\n",
    "# tablas: \"customers\" C JOIN \"orders\" O, key: C.customerid = O.customerid JOIN \"orderdetails\" D, key: O.orderid = D.orderid\n",
    "\n",
    "SELECT to_char(sum(unitprice * quantity),'999,999.99') as\"Total Sales\"\n",
    "FROM \"alanparadise/nw\".\"customers\" C JOIN \"alanparadise/nw\".\"orders\" O ON C.customerid = O.customerid JOIN \"alanparadise/nw\".\"orderdetails\" D ON O.orderid = D.orderid"
   ]
  },
  {
   "cell_type": "code",
   "execution_count": null,
   "metadata": {},
   "outputs": [],
   "source": [
    "# 2.1 Are there any Northwinds employees that have no orders?    \n",
    "\n",
    "# seleccionar  columnas: E.employeeid, lastname, firstname, contar (orderid) \n",
    "# tablas: \"employees\" E LEFT OUTER JOIN \"orders\" O, key: E.employeeid = O.employeeid \n",
    "# agrupar por: E.employeeid, lastname, firstname (regla group by)\n",
    "# ordenar por: E.employeeid\n",
    "\n",
    "SELECT E.employeeid, lastname, firstname, count(orderid) \n",
    "FROM \"alanparadise/nw\".\"employees\" E LEFT OUTER JOIN \"alanparadise/nw\".\"orders\" O  ON E.employeeid = O.employeeid \n",
    "GROUP BY E.employeeid, lastname, firstname\n",
    "ORDER BY E.employeeid;\n"
   ]
  },
  {
   "cell_type": "code",
   "execution_count": null,
   "metadata": {},
   "outputs": [],
   "source": [
    "# 2.2 Are there any Northwinds customers that have no orders?  \n",
    "\n",
    "# seleccionar columnas: C.customerid, companyname, contar(orderid)\n",
    "# tablas: \"customers\" C  LEFT OUTER JOIN \"orders\", key:C.customerid = O.customerid \n",
    "# agrupar por: C.customerid, companyname (regla group by)\n",
    "# condicion(having) count(orderid) = 0\n",
    "\n",
    "SELECT C.customerid, companyname, count(orderid)\n",
    "FROM \"alanparadise/nw\".\"customers\" C  LEFT OUTER JOIN \"alanparadise/nw\".\"orders\" O  ON C.customerid = O.customerid \n",
    "GROUP BY C.customerid, companyname\n",
    "HAVING count(orderid) = 0;\n"
   ]
  },
  {
   "cell_type": "code",
   "execution_count": null,
   "metadata": {},
   "outputs": [],
   "source": [
    "# Are there any Northwinds orders that have bad (not on file) customer numbers? \n",
    "\n",
    "# seleccionar columnas: (unicas) O.customerid, contar(orderid)\n",
    "# tablas: \"orders\" O LEFT OUTER JOIN \"customers\" C, key:C.customerid = O.customerid\n",
    "# condicion(where)  C.customerid es NULL\n",
    "# agrupar por  O.customerid (regla grou by)\n",
    "\n",
    "SELECT DISTINCT O.customerid, count(orderid)\n",
    "FROM \"alanparadise/nw\".\"orders\" O LEFT OUTER JOIN \"alanparadise/nw\".\"customers\" C on C.customerid = O.customerid \n",
    "WHERE C.customerid is NULL\n",
    "GROUP BY O.customerid;"
   ]
  },
  {
   "cell_type": "code",
   "execution_count": null,
   "metadata": {},
   "outputs": [],
   "source": [
    "# 2.4 Are there any Shippers that have shipped no Northwinds orders?   \n",
    "\n",
    "# seleccionar columnas: S.shipperid, companyname, contar (orderid)\n",
    "# tablas: \"shippers\" S  LEFT OUTER JOIN  \"orders\" O, key: S.shipperid = O.shipvia \n",
    "# agrupar por: S.shipperid, companyname (regla group by)\n",
    "\n",
    "SELECT S.shipperid, companyname, count(orderid)\n",
    "FROM \"alanparadise/nw\".\"shippers\" S  LEFT OUTER JOIN \"alanparadise/nw\".\"orders\" O  ON  S.shipperid = O.shipvia \n",
    "GROUP BY S.shipperid, companyname;\n",
    "\n"
   ]
  },
  {
   "attachments": {},
   "cell_type": "markdown",
   "metadata": {},
   "source": [
    "# DDL y DML \n",
    "\n"
   ]
  },
  {
   "attachments": {},
   "cell_type": "markdown",
   "metadata": {},
   "source": [
    "## DDL\n",
    "\n",
    "CREATE: crear nueva tabla o vista\n",
    "* Define el nombre de la tabla y las columnas\n",
    "* Define el tipo de dato y tamaño de cada columna\n",
    "* Define restricciones para cada columna\n",
    "* Se hace DROP  a la tabla (si existe) antes de crear una nueva \n",
    "\n",
    "DROP TABLE IF EXISTS \"alanparadise/nw\".\"shippers\"\n",
    "\n",
    "ALTER \n",
    "\n",
    "DROP"
   ]
  },
  {
   "attachments": {},
   "cell_type": "markdown",
   "metadata": {},
   "source": [
    "## DML: crear, quitar y modificar valores\n",
    "\n",
    "* INSERT INTO: \n",
    "* UPDATE:\n",
    "* DELETE:\n",
    "* TRUNCATE:"
   ]
  },
  {
   "cell_type": "code",
   "execution_count": null,
   "metadata": {},
   "outputs": [],
   "source": [
    "CREATE TABLE <table name>\n",
    "(<column name> <DATATYPE(L)>,\n",
    "<column name> <DATATYPE(L)> NOT NULL,\n",
    "<column name> <DATATYPE> NOT NULL Default 0,\n",
    "<column name> <DATATYPE> CONSTRAINT <constraint name> <TYPE>,\n",
    "<column name> <DATATYPE(L)>)"
   ]
  },
  {
   "cell_type": "code",
   "execution_count": null,
   "metadata": {},
   "outputs": [],
   "source": [
    "DROP TABLE IF EXISTS \"alanparadise/nw\".\"shippers\""
   ]
  },
  {
   "cell_type": "code",
   "execution_count": null,
   "metadata": {},
   "outputs": [],
   "source": [
    "# crear tabla: \"shippers\"\n",
    "# columnas: ShipperID tipo int NONULL, CompanyName caracteres (40) NOT NULL, Phone caracteres (20) NOT NULL default=0\n",
    "\n",
    "CREATE TABLE \"alanparadise/nw\".\"shippers\"\n",
    "(\n",
    "ShipperID int NOT NULL ,\n",
    "CompanyName varchar(40) NOT NULL ,\n",
    "Phone varchar(20) NOT NULL DEFAULT '0'\n",
    ");"
   ]
  },
  {
   "attachments": {},
   "cell_type": "markdown",
   "metadata": {},
   "source": [
    "INSERT INTO <tabla> VALUES (val1,val2,val3);"
   ]
  },
  {
   "cell_type": "code",
   "execution_count": null,
   "metadata": {},
   "outputs": [],
   "source": [
    "# insertar valores\n",
    "# tabla: \"shippers\"\n",
    "# valores\n",
    "INSERT INTO \"alanparadise/nw\".\"shippers\" VALUES (1, 'Speedy Express', '(503) 555-9831');\n",
    "\n",
    "INSERT INTO \"alanparadise/nw\".\"shippers\" VALUES (2, 'United Package', '(503) 555-3199');\n",
    "\n",
    "INSERT INTO \"alanparadise/nw\".\"shippers\" VALUES (3, 'Federal Shipping');"
   ]
  },
  {
   "cell_type": "code",
   "execution_count": null,
   "metadata": {},
   "outputs": [],
   "source": [
    "# crear tabla: \"items\" \n",
    "# columnas: itemID int no null, itemcode caracteres=5 NULL, itemname caracteres=40 NO NULL default='', quantity int NO NULL default=0, price real  NOT NULL default=0\n",
    "\n",
    "\n",
    "CREATE TABLE \"your_bit.io_account/demo_repo\".\"items\" \n",
    "( \n",
    "    itemID     INT         NOT NULL ,\n",
    "    itemcode   VARCHAR(5)  NULL,\n",
    "    itemname   VARCHAR(40) NOT NULL DEFAULT ' ',\n",
    "    quantity   INT         NOT NULL DEFAULT 0,\n",
    "    price      REAL\t    NOT NULL DEFAULT 0\n",
    "  );"
   ]
  },
  {
   "cell_type": "code",
   "execution_count": null,
   "metadata": {},
   "outputs": [],
   "source": [
    "# insertar en tabla: \"items\"\n",
    "# seleccionar columnas productid, concat(supplierid, categoryid,discontinued), productname, unitsinstock, unitprice\n",
    "# tabla: \"products\"\n",
    "INSERT INTO \"your_bit.io_account/demo_repo\".\"items\"\n",
    "(SELECT productid, concat(supplierid, categoryid,discontinued), productname, unitsinstock, unitprice \n",
    "FROM \"alanparadise/nw\".\"products\");"
   ]
  },
  {
   "attachments": {},
   "cell_type": "markdown",
   "metadata": {},
   "source": [
    "## CONSTRAINTS\n",
    "\n",
    "Regla o restricción para mantener integridad de los datos en la base de datos\n",
    "\n",
    "Se puede aplicar restricciones a nivel de la tabla o de la columna\n"
   ]
  },
  {
   "attachments": {},
   "cell_type": "markdown",
   "metadata": {},
   "source": [
    "Restricciones de tabla:\n",
    "\n",
    "* Primary Key\n",
    "* Foreign Key\n",
    "\n",
    "\n",
    "Restricciones de columna:\n",
    "* NOT NULL\n",
    "* Cheack: aplica una condición sobre la columna\n",
    "* Default\n",
    "* Unique: previene insertar una fila con valor duplicado\n",
    "* Primary  Key: incluye una restricción UNIQUE"
   ]
  },
  {
   "attachments": {},
   "cell_type": "markdown",
   "metadata": {},
   "source": [
    "## ALTER\n",
    "Cambiar las características de la base de datos \n",
    "\n",
    "Tabla\n",
    "* Renombrar tabla, columna o restriccion\n",
    "* agregar o eliminar columna o restriccion\n",
    "\n",
    "\n",
    "Columna\n",
    "* set o eliminar default\n",
    "* set un tipo de dato\n",
    "\n",
    "\n"
   ]
  },
  {
   "cell_type": "code",
   "execution_count": null,
   "metadata": {},
   "outputs": [],
   "source": [
    "# quitar tabla \"items\"\n",
    "# crear tabla \"items\"\n",
    "# columnas: itemID NO NULL, itemcode string 5 NULL,itemname string 40 NOT NULL default='',quantity int NOT NULL default=0, price REAL NOT NULL default=0\n",
    "\n",
    "DROP TABLE IF EXISTS \"alanparadise/nw\".\"items\";\n",
    "CREATE TABLE \"alanparadise/nw\".\"items\"\n",
    "(\n",
    "itemID INT NOT NULL ,\n",
    "itemcode VARCHAR(5) NULL,\n",
    "itemname VARCHAR(40) NOT NULL DEFAULT ' ',\n",
    "quantity INT NOT NULL DEFAULT 0,\n",
    "price REAL NOT NULL DEFAULT 0\n",
    ");\n",
    "\n",
    "\n",
    "# insertar en tabla: \"items\"\n",
    "# seleccionar columnas: productid, concat(supplierid, categoryid, discontinued, productname, unitsinstock, unitprice\n",
    "# tabla: \"products\"\n",
    "\n",
    "INSERT INTO \"alanparadise/nw\".\"items\"\n",
    "(SELECT productid, concat(supplierid, categoryid, discontinued),\n",
    "productname, unitsinstock, unitprice\n",
    "from \"alanparadise/nw\".\"products\");"
   ]
  },
  {
   "cell_type": "code",
   "execution_count": null,
   "metadata": {},
   "outputs": [],
   "source": [
    "# cambiar tabla: \"items\"\n",
    "# renombrar tabla: \"alters\"\n",
    "ALTER TABLE \"alanparadise/nw\".\"items\"\n",
    "RENAME TO \"alters\";"
   ]
  },
  {
   "cell_type": "code",
   "execution_count": null,
   "metadata": {},
   "outputs": [],
   "source": [
    "# cambiar tabla: \"alters\"\n",
    "# renombrar columna: \"itemcode\" a \"itemref\"\n",
    "ALTER TABLE \"alanparadise/nw\".\"alters\"\n",
    "RENAME COLUMN \"itemcode\" TO \"itemref\"; "
   ]
  },
  {
   "cell_type": "code",
   "execution_count": null,
   "metadata": {},
   "outputs": [],
   "source": [
    "# cambiar tabla: \"alters\"\n",
    "# agregar columna: itemcode, string 5, NULL\n",
    "ALTER TABLE \"alanparadise/nw\".\"alters\"\n",
    "ADD COLUMN \"itemcode\" VARCHAR(5) NULL;"
   ]
  },
  {
   "cell_type": "code",
   "execution_count": null,
   "metadata": {},
   "outputs": [],
   "source": [
    "# actualizar tabla \"alters\"\n",
    "# set \"itemcode\" = \"itemref\" \n",
    "UPDATE \"alanparadise/nw\".\"alters\"\n",
    "SET \"itemcode\" = \"itemref\";"
   ]
  },
  {
   "cell_type": "code",
   "execution_count": null,
   "metadata": {},
   "outputs": [],
   "source": [
    "# cambiar tabla: \"alters\"\n",
    "# cambiar columna: itemcode set tipo de dato char 4\n",
    "ALTER TABLE \"alanparadise/nw\".\"alters\"\n",
    "ALTER COLUMN \"itemcode\" SET DATA TYPE char(4); \n"
   ]
  },
  {
   "cell_type": "code",
   "execution_count": null,
   "metadata": {},
   "outputs": [],
   "source": [
    "# cambiar tabla: alters\n",
    "# quitar columna: itemcode\n",
    "ALTER TABLE \"alanparadise/nw\".\"alters\"\n",
    "DROP COLUMN \"itemcode\"; "
   ]
  },
  {
   "cell_type": "code",
   "execution_count": null,
   "metadata": {},
   "outputs": [],
   "source": [
    "# cambiar tabla:\"items\" \n",
    "# renombrar tabla:\"demo\"\n",
    "ALTER TABLE \"your_bit.io_account/demo_repo\".\"items\" \n",
    "RENAME TO \"demo\";"
   ]
  },
  {
   "cell_type": "code",
   "execution_count": null,
   "metadata": {},
   "outputs": [],
   "source": [
    "# cambiar tabla: \"demo\" \n",
    "# renombrar columna: itemcode TO itemclass\n",
    "ALTER TABLE \"your_bit.io_account/demo_repo\".\"demo\" \n",
    "RENAME COLUMN \"itemcode\" TO \"itemclass\";"
   ]
  },
  {
   "cell_type": "code",
   "execution_count": null,
   "metadata": {},
   "outputs": [],
   "source": [
    "# cambiar tabla: \"demo\" \n",
    "# agregar columna: iteminfo strin 5 NULL \n",
    "ALTER TABLE \"your_bit.io_account/demo_repo\".\"demo\" \n",
    "ADD COLUMN \"iteminfo\" VARCHAR(5) NULL;"
   ]
  },
  {
   "cell_type": "code",
   "execution_count": null,
   "metadata": {},
   "outputs": [],
   "source": [
    "# actualizar tabla: \"demo\" \n",
    "# set: iteminfo = itemclass\n",
    "UPDATE \"your_bit.io_account/demo_repo\".\"demo\" \n",
    "SET \"iteminfo\" = \"itemclass\";\t\n",
    "      "
   ]
  },
  {
   "attachments": {},
   "cell_type": "markdown",
   "metadata": {},
   "source": [
    "## INSERT\n"
   ]
  },
  {
   "cell_type": "code",
   "execution_count": null,
   "metadata": {},
   "outputs": [],
   "source": [
    "# si no se especifican columnas o valores, entonces NULL o default se asignan\n",
    "INSERT INTO <table name> (column, column, column)\n",
    "VALUES (value, value, value)"
   ]
  },
  {
   "cell_type": "code",
   "execution_count": null,
   "metadata": {},
   "outputs": [],
   "source": [
    "# debe especificar valor o NULL para cada columna\n",
    "INSERT INTO <table name>\n",
    "VALUES (value, value, value, value)"
   ]
  },
  {
   "cell_type": "code",
   "execution_count": null,
   "metadata": {},
   "outputs": [],
   "source": [
    "# insertar en tabla: \"employees\"\n",
    "# columnas: \n",
    "# valores\n",
    "INSERT INTO \"alanparadise/nw\".\"employees\"\n",
    "(employeeid, LastName, FirstName, Title, TitleOfCourtesy, BirthDate, HireDate,\n",
    "Address, City, Region, PostalCode, Country, HomePhone, Extension)\n",
    "VALUES\n",
    "(10,'Dunn','Nat','Sales Representative', 'Mr.', '1970-02-19', '2014-01-15',\n",
    "'4933 Jamesville Rd.','Jamesville','NY', '13078','USA',\n",
    "'315-555-5555','130');"
   ]
  },
  {
   "cell_type": "code",
   "execution_count": null,
   "metadata": {},
   "outputs": [],
   "source": [
    "# insertar en tabla: \"employees\"\n",
    "# columnas: NO especificado\n",
    "# valores: NULL obligatorio para columnas NULL \n",
    "\n",
    "INSERT INTO \"alanparadise/nw\".\"employees\"\n",
    "VALUES\n",
    "('20','Thomas','Tammy','Data Scientist','Ms.','1990-08-27',\n",
    "'2017-06-18', '5012 Arapahoe St.','Boulder','CO', '80304','USA');\n",
    "INSERT INTO \"alanparadise/nw\".\"employees\"\n",
    "VALUES\n",
    "('21','Thomas','Tommy','Data Analyst', 'Mr.','1991-09-28', '2017-06-18',\n",
    "'5014 Arapahoe St.','Boulder','CO', '80304','USA',NULL,NULL,NULL,NULL,NULL);"
   ]
  },
  {
   "attachments": {},
   "cell_type": "markdown",
   "metadata": {},
   "source": [
    "## UPDATE\n",
    "Asigna valores nuevos a columnas por  condicion"
   ]
  },
  {
   "cell_type": "code",
   "execution_count": null,
   "metadata": {},
   "outputs": [],
   "source": [
    "UPDATE <table name>\n",
    "SET <column> = <new value>"
   ]
  },
  {
   "cell_type": "code",
   "execution_count": null,
   "metadata": {},
   "outputs": [],
   "source": [
    "# actualizar tabla:\"employees\"\n",
    "# set: firstname = 'Timmy', titleofcourtesy = 'Mr.'\n",
    "# condicion(where)  employeeid = 20\n",
    "UPDATE \"alanparadise/nw\".\"employees\"\n",
    "SET firstname = 'Timmy',\n",
    "titleofcourtesy = 'Mr.'\n",
    "WHERE employeeid = 20"
   ]
  },
  {
   "attachments": {},
   "cell_type": "markdown",
   "metadata": {},
   "source": [
    "## TRUNCATE\n",
    "Quitar todas las filas, mantiene estructura"
   ]
  },
  {
   "cell_type": "code",
   "execution_count": null,
   "metadata": {},
   "outputs": [],
   "source": [
    "TRUNCATE TABLE <table name>"
   ]
  },
  {
   "attachments": {},
   "cell_type": "markdown",
   "metadata": {},
   "source": [
    "## DROP\n",
    "Quita toda las filas, quita estructura\n"
   ]
  },
  {
   "cell_type": "code",
   "execution_count": null,
   "metadata": {},
   "outputs": [],
   "source": [
    "DROP TABLE <table name>"
   ]
  },
  {
   "attachments": {},
   "cell_type": "markdown",
   "metadata": {},
   "source": [
    "## DELETE\n",
    "\n",
    "Quitar filas por condicion\n",
    "\n"
   ]
  },
  {
   "cell_type": "code",
   "execution_count": null,
   "metadata": {},
   "outputs": [],
   "source": [
    "DELETE FROM <table name>\n",
    "WHERE <condition>"
   ]
  },
  {
   "cell_type": "code",
   "execution_count": null,
   "metadata": {},
   "outputs": [],
   "source": [
    "# quitar tabla: \"employees\"\n",
    "# condicion(where): employeeid in (10, 20, 21)\n",
    "DELETE FROM \"alanparadise/nw\".\"employees\"\n",
    "WHERE employeeid in (10, 20, 21)"
   ]
  },
  {
   "cell_type": "code",
   "execution_count": null,
   "metadata": {},
   "outputs": [],
   "source": [
    "NSERT INTO \"alanparadise/nw\".\"items\"\n",
    "(SELECT productid, concat(supplierid, categoryid, discontinued),\n",
    "productname, unitsinstock, unitprice\n",
    "from \"alanparadise/nw\".\"products\")"
   ]
  },
  {
   "cell_type": "code",
   "execution_count": null,
   "metadata": {},
   "outputs": [],
   "source": [
    "# insertar en tabla: \"demo\"\n",
    "# columnas: itemid, itemclass, itemname, quantity, price, iteminfo\n",
    "# valores: \n",
    "INSERT INTO \"your_bit.io_account/demo_repo\".\"demo\"\n",
    "    \t\t(itemid, itemclass, itemname, quantity, price, iteminfo)\n",
    "VALUES \n",
    "  \t\t(101,'1234','Spicy Grillmate', 12, 1.99, '1234');\n",
    "\n"
   ]
  },
  {
   "cell_type": "code",
   "execution_count": null,
   "metadata": {},
   "outputs": [],
   "source": [
    "# insertar en tabla:\n",
    "# valores\n",
    "INSERT INTO \"your_bit.io_account/demo_repo\".\"demo\"\n",
    "    \t  VALUES \n",
    "(102,'6789','GlobalWarmer', 24, 42.99, '6789');"
   ]
  },
  {
   "cell_type": "code",
   "execution_count": null,
   "metadata": {},
   "outputs": [],
   "source": [
    "# actualizar tabla: \"demo\" \n",
    "# set: iteminfo = '0000'\n",
    "# condicion(where) itemid > 100\n",
    "UPDATE \"your_bit.io_account/demo_repo\".\"demo\" \n",
    "    \t\tSET \"iteminfo\" = '0000'\n",
    "\t\tWHERE itemid > 100;\t"
   ]
  },
  {
   "cell_type": "code",
   "execution_count": null,
   "metadata": {},
   "outputs": [],
   "source": [
    "# quitar de tabla:\"demo\" \n",
    "# condicion:itemid > 100\n",
    "DELETE FROM \"your_bit.io_account/demo_repo\".\"demo\" \n",
    "WHERE itemid > 100;"
   ]
  },
  {
   "cell_type": "code",
   "execution_count": null,
   "metadata": {},
   "outputs": [],
   "source": [
    "# quitar tabla: \"demo\"\n",
    "DROP TABLE \"your_bit.io_account/demo_repo\".\"demo\";"
   ]
  },
  {
   "attachments": {},
   "cell_type": "markdown",
   "metadata": {},
   "source": [
    "## SQL VIEWS \n",
    "\n",
    "Tabla virtual. Cada vez que se hace Query sobre VIEW se re-ejecuta el query"
   ]
  },
  {
   "cell_type": "code",
   "execution_count": null,
   "metadata": {},
   "outputs": [],
   "source": [
    "CREATE VIEW <view name> AS\n",
    "SELECT <col1>, <col2>, <col3>\n",
    "FROM <table1>\n",
    "WHERE <condition>"
   ]
  },
  {
   "cell_type": "code",
   "execution_count": null,
   "metadata": {},
   "outputs": [],
   "source": [
    "\n",
    "# crear VIEW: \"TopEmployeesOrders\" AS\n",
    "# seleccionar columnas: LastName, Firstname, sumar(unitprice * quantity) =\"Total Sales\" (regla group by )\n",
    "# tablas:  \"employees\" E  JOIN \"orders\" O, key: E.employeeid = O.employeeid,  JOIN \"orderdetails\" D, key: O.orderid = D.orderid\n",
    "# agrupar por: LastName, FirstName (regla group by)\n",
    "# ordenar por \"Total Sales\"descendiente limite 5\n",
    "\n",
    "CREATE VIEW \"alanparadise/nw\".\"TopEmployeesOrders\" AS\n",
    "SELECT LastName, Firstname, sum(unitprice * quantity) as\"Total Sales\"\n",
    "FROM \"alanparadise/nw\".\"employees\" E  JOIN \"alanparadise/nw\".\"orders\" O ON E.employeeid = O.employeeid JOIN \"alanparadise/nw\".\"orderdetails\" D ON O.orderid = D.orderid\n",
    "GROUP BY LastName, FirstName\n",
    "Order By 3 desc LIMIT 5;"
   ]
  },
  {
   "cell_type": "code",
   "execution_count": null,
   "metadata": {},
   "outputs": [],
   "source": [
    "# seleccionar columnas: TODAS\n",
    "# tabla: VIEW \"TopEmployeesOrders\"\n",
    "Select * \n",
    "from \"alanparadise/nw\".\"TopEmployeesOrders\";\n",
    "\n"
   ]
  },
  {
   "attachments": {},
   "cell_type": "markdown",
   "metadata": {},
   "source": [
    "## CASE\n",
    " Condicionales (if, elif, else)"
   ]
  },
  {
   "attachments": {},
   "cell_type": "markdown",
   "metadata": {},
   "source": [
    "CASE\n",
    "WHEN <condition_1> THEN <result_1>\n",
    "WHEN <condition_2> THEN <result_2>\n",
    "WHEN <condition_3> THEN <result_3>\n",
    "ELSE <else_result> (this results if the prior conditions are all false)\n",
    "END"
   ]
  },
  {
   "cell_type": "code",
   "execution_count": null,
   "metadata": {},
   "outputs": [],
   "source": [
    "# seleccionar columnas: productid, productname, unitprice\n",
    "# CASE: \n",
    "# if unitprice <20,  'Economy'\n",
    "# if unitprice <80, 'Standard'\n",
    "# else 'Premium'\n",
    "# end columna: category\n",
    "# tabla:  \"products\"\n",
    "\n",
    "SELECT productid, productname, unitprice,\n",
    "CASE\n",
    "WHEN unitprice < 20 THEN 'Economy'\n",
    "WHEN unitprice < 80 THEN 'Standard'\n",
    "ELSE 'Premium'\n",
    "END category\n",
    "FROM \"alanparadise/nw\".\"products\"; \n",
    "\n"
   ]
  },
  {
   "cell_type": "code",
   "execution_count": null,
   "metadata": {},
   "outputs": [],
   "source": [
    "# crear VIEW: \"TopCustomers\" as\n",
    "# seleccionar columnas: companyname, sumar(unitprice * quantity)=\"Total Sales\" (regla group by)\n",
    "# CASE:\n",
    "# if  sum(unitprice * quantity) < 60000, 'NeedsFocus'\n",
    "# if sum(unitprice * quantity)<110000, 'Average'\n",
    "# else 'Outstanding'\n",
    "# end column: Assessment\n",
    "# tablas: \"customers\" C JOIN \"orders\" O, key: C.customerid  =  O.customerid, JOIN \"orderdetails\" D, key: O.orderid  =  D.orderid\n",
    "# agrupar por: companyname (regla group by)\n",
    "# ordenar por \"Total Sales\" descendiente limite 5\n",
    "\n",
    "create view \"your_bit.io_account/demo_repo\".\"TopCustomers\" as \n",
    "SELECT companyname, sum(unitprice * quantity) as \"Total Sales\",\n",
    "CASE  \n",
    "    WHEN sum(unitprice * quantity) < 60000 THEN 'NeedsFocus'\n",
    "    WHEN sum(unitprice * quantity) < 110000 THEN 'Average'\n",
    "    ELSE 'Outstanding'\n",
    "END  Assessment\n",
    "\n",
    "FROM \"alanparadise/nw\".\"customers\" C JOIN \"alanparadise/nw\".\"orders\" O ON C.customerid  =  O.customerid JOIN  \"alanparadise/nw\".\"orderdetails\" D ON O.orderid  =  D.orderid\n",
    "GROUP BY companyname \n",
    "Order By 2 desc LIMIT 5;\n",
    "\n"
   ]
  },
  {
   "attachments": {},
   "cell_type": "markdown",
   "metadata": {},
   "source": [
    "## UNION\n",
    "\n",
    "Combinar múltiples tablas en una sola\n",
    "\n",
    "Ambas tablas deben tener el mismo número de columnas y columnas de tablas en UNION deben ser del mismo tipo"
   ]
  },
  {
   "cell_type": "code",
   "execution_count": null,
   "metadata": {},
   "outputs": [],
   "source": [
    "# seleccionar columnas: categoryname, sumar(unitsinstock)  (regla group by)\n",
    "# tablas:\"categories\" C JOIN  \"products\" P , key: C.categoryid = P.categoryid\n",
    "# group by categoryname (regla group by)\n",
    "\n",
    "SELECT categoryname, sum(unitsinstock)\n",
    "FROM \"alanparadise/nw\".\"categories\" C JOIN \"alanparadise/nw\".\"products\" P ON C.categoryid = P.categoryid\n",
    "GROUP BY categoryname;"
   ]
  },
  {
   "cell_type": "code",
   "execution_count": null,
   "metadata": {},
   "outputs": [],
   "source": [
    "# seleccionar: 'Total', sumar(unitsinstock)\n",
    "# tabla: \"products\"\n",
    "SELECT 'Total', sum(unitsinstock)\n",
    "FROM \"alanparadise/nw\".\"products\";"
   ]
  },
  {
   "cell_type": "code",
   "execution_count": null,
   "metadata": {},
   "outputs": [],
   "source": [
    "# seleccionar columnas: categoryname, sumar(unitsinstock)=CategoryTotal\n",
    "# tablas: \"categories\" C JOIN \"products\" P, key: C.categoryid = P.categoryid\n",
    "# group by  categoryname (regla group by)\n",
    "# UNION\n",
    "\n",
    "# seleccionar columnas 'Total', sumar (unitsinstock)\n",
    "# tabla: \"products\"\n",
    "# ordenar por 'Total'\n",
    "\n",
    "SELECT categoryname, sum(unitsinstock) as CategoryTotal\n",
    "FROM \"alanparadise/nw\".\"categories\" C JOIN \"alanparadise/nw\".\"products\" P ON C.categoryid = P.categoryid\n",
    "GROUP BY categoryname\n",
    "\n",
    "UNION\n",
    "\n",
    "SELECT 'Total', sum(unitsinstock)\n",
    "FROM \"alanparadise/nw\".\"products\"\n",
    "ORDER BY 1;"
   ]
  },
  {
   "cell_type": "code",
   "execution_count": null,
   "metadata": {},
   "outputs": [],
   "source": [
    "# 1. List  the names of the cities in alphabetical order where Classic Models has offices. (7)\n",
    "\n",
    "\n",
    "FALTA TERMINAR "
   ]
  },
  {
   "cell_type": "code",
   "execution_count": null,
   "metadata": {},
   "outputs": [],
   "source": [
    "# 2. List the EmployeeNumber, LastName, FirstName, Extension for all employees working out of the Paris office. (5) \n",
    "\n",
    "SELECT E.officecode,EmployeeNumber, LastName, FirstName, Extension\n",
    "FROM \"alanparadise/cm\".\"employees\" E JOIN  \"alanparadise/cm\".\"offices\" O ON E.officecode = O.officecode \n",
    "WHERE NOT O.city like 'Paris'; \n"
   ]
  },
  {
   "cell_type": "code",
   "execution_count": null,
   "metadata": {},
   "outputs": [],
   "source": [
    "# 3. List the ProductCode, ProductName, ProductVendor, QuantityInStock and ProductLine for all products with a QuantityInStock between 200 and 1200. (11) \n",
    "SELECT  ProductCode, ProductName, ProductVendor, QuantityInStock, ProductLine\n",
    "FROM \"alanparadise/cm\".\"products\"\n",
    "WHERE QuantityInStock BETWEEN 200 AND 1200;"
   ]
  },
  {
   "cell_type": "code",
   "execution_count": null,
   "metadata": {},
   "outputs": [],
   "source": [
    "# 4. (Use a SUBQUERY) List the ProductCode, ProductName, ProductVendor, BuyPrice and MSRP for the least expensive (lowest MSRP) product sold by ClassicModels.  (“MSRP” is the Manufacturer’s Suggested Retail Price.)  (1)    \n",
    "# seleccionar columnas: Productcode, ProductName,  productvendor, buyprice, MSRP\n",
    "# tabla: \"products\"\n",
    "# condicion(where)\n",
    "\n",
    "# SUBQUERY \n",
    "# seleccionar columnas: minimo (msrp) \n",
    "# tabla: \"products\"\n",
    "SELECT Productcode, ProductName,  productvendor, buyprice, MSRP   \n",
    "FROM products  \n",
    "WHERE MSRP = ( \n",
    " \t    SELECT min(msrp) from products)\n",
    "\n"
   ]
  },
  {
   "cell_type": "code",
   "execution_count": null,
   "metadata": {},
   "outputs": [],
   "source": [
    "# 5. What is the ProductName and Profit of the product that has the highest profit (profit = MSRP minus BuyPrice). (1)\n",
    "\n",
    "# selecionar columnas: ProductName,  PROFIT=(MSRP – BuyPrice)\n",
    "# tabla: \"alanparadise/cm\".\"products\"\n",
    "# ordenar por: profit descendiente limite 1 \n",
    "SELECT ProductName, (MSRP – BuyPrice) as PROFIT   \n",
    "FROM \"alanparadise/cm\".\"products\"\n",
    "order by profit desc limit 1;"
   ]
  },
  {
   "cell_type": "code",
   "execution_count": null,
   "metadata": {},
   "outputs": [],
   "source": [
    "# List the country and the number of customers from that country for all countries having just two  customers.  List the countries sorted in ascending alphabetical order. Title the column heading for the count of customers as “Customers”. (7) \n",
    "\n",
    "# seleccionar columnas: (unicas) , country, customers = COUNT(*) (regla group by)\n",
    "# tabla: \"Customers\"\n",
    "# group by country\n",
    "# condicion (having) contar(*) = 2 clientes\n",
    "# ordenar por country ascendente\n",
    "Select DISTINCT country, count(*) as customers\n",
    "FROM \"alanparadise/cm\".\"Customers\"\n",
    "GROUP BY country\n",
    "HAVING count(*) = 2 \n",
    "ORDER BY 1 asc; \n"
   ]
  },
  {
   "cell_type": "code",
   "execution_count": null,
   "metadata": {},
   "outputs": [],
   "source": [
    "# List the ProductCode, ProductName, and number of orders for the products with exactly 25 orders.  Title the column heading for the count of orders as “OrderCount”.  (12)  \n",
    "\n",
    "SELECT P.productcode, productname, count(ordernumber) as OrderCount  \t\n",
    "FROM products P join orderdetails O ON p.productcode = o.productcode     \n",
    "GROUP BY productcode, productname \n",
    "HAVING OrderCount = 25;\n"
   ]
  },
  {
   "cell_type": "code",
   "execution_count": null,
   "metadata": {},
   "outputs": [],
   "source": [
    "# List the EmployeeNumber, Firstname + Lastname  (concatenated into one column in the answer set, separated by a blank and referred to as ‘name’) for all the employees reporting to Diane Murphy or Gerard Bondur. (8)  \n",
    "SELECT EmployeeNumber, concat(firstname,' ',lastname) as \"Name\"\n",
    "FROM \"alanparadise/cm\".\"employees\"\n",
    "WHERE reportsto in (1002, 1102);\n"
   ]
  },
  {
   "cell_type": "code",
   "execution_count": null,
   "metadata": {},
   "outputs": [],
   "source": [
    "# List the EmployeeNumber, LastName, FirstName of the president of the company (the one employee with no boss.)  (1)  \n",
    "SELECT EmployeeNumber, LastName, FirstName\n",
    "FROM \"alanparadise/cm\".\"employees\"\n",
    "WHERE reportsto IS null; "
   ]
  },
  {
   "cell_type": "code",
   "execution_count": null,
   "metadata": {},
   "outputs": [],
   "source": [
    "# List the ProductName for all products in the “Classic Cars” product line from the 1950’s.  (6)\n",
    "\n",
    "Select Productname, Productline  \n",
    "FROM \"alanparadise/cm\".\"products\"\n",
    "WHERE productline = \"Classic Cars\" AND \n",
    "productname like \"195%\" \n",
    "ORDER BY productname;"
   ]
  },
  {
   "cell_type": "code",
   "execution_count": null,
   "metadata": {},
   "outputs": [],
   "source": [
    "\n",
    "# List the month name and the total number of orders for the month in 2004 in which ClassicModels customers placed the most orders. (1)  \n",
    "# seleeccionar columnas:  contar(ordernumber), ordermonth  = monthname(orderdate)\n",
    "# \"alanparadise/cm\".\"orders \"\n",
    "# condicion(where) extraer year from orderdate = 2004\n",
    "# agrupar  ordermonth \n",
    "# ordenar por 1 desc limit 1\n",
    "\n",
    "\n",
    "SELECT COUNT(ordernumber), monthname(orderdate) as ordermonth  \n",
    "FROM orders  \n",
    "WHERE extract(year from orderdate) = '2004' \n",
    "group by ordermonth \n",
    "order by 1 desc limit 1;\n",
    "\n"
   ]
  },
  {
   "cell_type": "code",
   "execution_count": null,
   "metadata": {},
   "outputs": [],
   "source": [
    "# List the firstname, lastname of employees who are Sales Reps who have no assigned customers.  (2) \n",
    "\n",
    "# seleccionar columnas: firstname, lastname\n",
    "# tablas: \"employees\" E LEFT OUTER JOIN \"Customers\" C   employees+interseccion, key: E.employeenumber = C.salesrepemployeenumber\n",
    "# condicion(where): customername is null \n",
    "#  condicion(where): jobtitle  = \"Sales Rep\"\n",
    "SELECT firstname, lastname\n",
    "FROM \"alanparadise/cm\".\"employees\" E LEFT OUTER JOIN \"alanparadise/cm\".\"Customers\" C ON E.employeenumber = C.salesrepemployeenumber \n",
    "WHERE customername is null and\n",
    "jobtitle  = \"Sales Rep\"\n",
    "\n",
    "\n"
   ]
  },
  {
   "cell_type": "code",
   "execution_count": null,
   "metadata": {},
   "outputs": [],
   "source": [
    "# List the customername of customers from Switzerland with no orders. (2)  \n",
    "# seleccionar columnas: customername\n",
    "# tablas: \"Customers\" C LEFT OUTER JOIN \"orders\" O  customers+interseccion, key: C.customernumber = O.customernumber \n",
    "# condicion(where): country  = 'Switzerland\n",
    "# condicion(where): O.customernumber is null\n",
    "\n",
    "SELECT customername\n",
    "FROM \"alanparadise/cm\".\"Customers\" C LEFT OUTER JOIN \"alanparadise/cm\".\"orders\" O ON C.customernumber = O.customernumber \n",
    "WHERE country  = 'Switzerland' and O.customernumber is null;\n"
   ]
  },
  {
   "cell_type": "code",
   "execution_count": null,
   "metadata": {},
   "outputs": [],
   "source": [
    "# List the customername and total quantity of products ordered for customers who have ordered more than 1650 products across all their orders.  (8) \n",
    "\n",
    "# seleccionar columnas: customername, totalq =sumar(quantityordered) (regla group by)\n",
    "# tablas: c join orders o, key: c.customernumber = o.customernumber, JOIN orderdetails d, key: o.ordernumber = d.ordernumber\n",
    "# group by:customername\n",
    "# condicion(having) totalq > 1650\n",
    "\n",
    "SELECT customername, sum(quantityordered) as totalq \n",
    "FROM customers c join orders o on c.customernumber = o.customernumber join orderdetails d on o.ordernumber = d.ordernumber \n",
    "GROUP BY customername  \n",
    "HAVING totalq > 1650;\n"
   ]
  },
  {
   "cell_type": "code",
   "execution_count": null,
   "metadata": {},
   "outputs": [],
   "source": [
    "conn.close()"
   ]
  }
 ],
 "metadata": {
  "kernelspec": {
   "display_name": "base",
   "language": "python",
   "name": "python3"
  },
  "language_info": {
   "codemirror_mode": {
    "name": "ipython",
    "version": 3
   },
   "file_extension": ".py",
   "mimetype": "text/x-python",
   "name": "python",
   "nbconvert_exporter": "python",
   "pygments_lexer": "ipython3",
   "version": "3.8.16"
  },
  "orig_nbformat": 4
 },
 "nbformat": 4,
 "nbformat_minor": 2
}
