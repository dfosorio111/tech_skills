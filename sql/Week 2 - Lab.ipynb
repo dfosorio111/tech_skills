{
 "cells": [
  {
   "cell_type": "code",
   "execution_count": null,
   "id": "3682a7d8",
   "metadata": {},
   "outputs": [],
   "source": [
    "# SELECT PRACTICE"
   ]
  },
  {
   "cell_type": "code",
   "execution_count": null,
   "id": "f8823f8f",
   "metadata": {},
   "outputs": [],
   "source": [
    "#/* select all columns (and rows) from table \"employees\" in \"alanparadise/nw\" \n",
    "#*/\n",
    "SELECT * FROM \"alanparadise/nw\". \"employees\";"
   ]
  },
  {
   "cell_type": "code",
   "execution_count": null,
   "id": "9aeb2597",
   "metadata": {},
   "outputs": [],
   "source": [
    "#/* select columns  productid, productname, quantity per unit, unitprice, and unitsinstock \n",
    "#from table \"products\" in  \"alanparadise/nw\" \n",
    "#*/\n",
    "SELECT productid, productname, quantityperunit, unitprice, unitsinstock\n",
    "FROM \"alanparadise/nw\". \"products\";"
   ]
  },
  {
   "cell_type": "code",
   "execution_count": null,
   "id": "c89ff70b",
   "metadata": {},
   "outputs": [],
   "source": [
    "# /* select concatenate firstname and lastname,\n",
    "#    function = year when hired \n",
    "# from table employees in \"alanparadise/nw\"\n",
    "# */\n",
    "\n",
    "SELECT firstname || ' ' || lastname as \"Name\",\n",
    "    to_char(hiredate, 'year') as \"Hire Year\"\n",
    "FROM \"alanparadise/nw\".\"employees\"; \n",
    "\n",
    "#/* select concatenate firstname and lastname,\n",
    "#    function = year when hired \n",
    "#from table employees in \"alanparadise/nw\"\n",
    "#*/\n",
    "\n",
    "SELECT CONCAT(firstname,' ', lastname) as \"Name\",\n",
    "    to_char(hiredate, 'year') as \"Hire Year\"\n",
    "FROM \"alanparadise/nw\".\"employees\"; "
   ]
  },
  {
   "cell_type": "code",
   "execution_count": null,
   "id": "f7feb855",
   "metadata": {},
   "outputs": [],
   "source": [
    "#/* select productname, unitprice, unitsinstock,\n",
    "#    function = total value= unitsinstock*unitprice\n",
    "#from table products in \"alanparadise/nw\"\n",
    "#*/\n",
    "SELECT productname, unitprice, unitsinstock,\n",
    "    unitsinstock*unitprice as \"Total Value\"\n",
    "FROM \"alanparadise/nw\".\"products\"; "
   ]
  },
  {
   "cell_type": "code",
   "execution_count": null,
   "id": "56401bfe",
   "metadata": {},
   "outputs": [],
   "source": [
    "#/* select concatenate(firstname,' ', lastname) as \"Name\",\n",
    "#    function = to_char(birthdate, 'month') as \"Birthday Month\"\n",
    "#from table employees in \"alanparadise/nw\"\n",
    "#*/\n",
    "\n",
    "SELECT firstname || ' ' || lastname as \"Name\",\n",
    "    to_char(birthdate, 'month') as \"Birthday Month\"\n",
    "FROM \"alanparadise/nw\".\"employees\"; "
   ]
  },
  {
   "cell_type": "code",
   "execution_count": null,
   "id": "bf39623d",
   "metadata": {},
   "outputs": [],
   "source": []
  },
  {
   "cell_type": "code",
   "execution_count": null,
   "id": "60dd8546",
   "metadata": {},
   "outputs": [],
   "source": [
    "# Week 2: Lab 2\n",
    "# SELECT STATEMENT"
   ]
  },
  {
   "cell_type": "code",
   "execution_count": null,
   "id": "eeb3b9ff",
   "metadata": {},
   "outputs": [],
   "source": [
    "# /* select columns  customerid, companyname, country\n",
    "# from table 'customers' in \"alanparadise/nw\"\n",
    "#     where condition on columns(NOT):\n",
    "#     NOT country  = 'USA'\n",
    "# */\n",
    "SELECT customerid, companyname, country\n",
    "FROM \"alanparadise/nw\".\"customers\"\n",
    "    WHERE NOT country = 'USA';"
   ]
  },
  {
   "cell_type": "code",
   "execution_count": null,
   "id": "53621673",
   "metadata": {},
   "outputs": [],
   "source": [
    "# /* \n",
    "# select columns  productname, unitprice, unitsinstock,\n",
    "#     function:  unitsinstock*uniprice as \"totalvalue\"\n",
    "# from table 'products' in \"alanparadise/nw\"\n",
    "#    where condition on columns(>):\n",
    "#     totalvalue > 100\n",
    "# */\n",
    "SELECT productname, unitprice, unitsinstock,\n",
    "    unitsinstock*unitprice as \"totalvalue\"\n",
    "FROM \"alanparadise/nw\".\"products\"\n",
    "    WHERE unitsinstock*unitprice > 100;"
   ]
  },
  {
   "cell_type": "code",
   "execution_count": null,
   "id": "86de4506",
   "metadata": {},
   "outputs": [],
   "source": [
    "# /* \n",
    "# select columns  productid, productname, quantityperunit\n",
    "# from table 'products' in \"alanparadise/nw\"\n",
    "#     where condition on columns(like  '%jars%', has word):\n",
    "#     quantityperunit like '%jars%';\n",
    "# */\n",
    "\n",
    "SELECT productid, productname, quantityperunit \n",
    "    FROM \"alanparadise/nw\".\"products\"\n",
    "    WHERE quantityperunit like '%jars%';"
   ]
  },
  {
   "cell_type": "code",
   "execution_count": null,
   "id": "a2fcf1b5",
   "metadata": {},
   "outputs": [],
   "source": [
    "# /* \n",
    "# select columns  productid, productname, unitprice\n",
    "# from table 'products' in \"alanparadise/nw\"\n",
    "#     where condition on columns(in):\n",
    "#     categoryid in (1, 3, 5, 7);\n",
    "# */\n",
    "\n",
    "SELECT productid, productname, unitprice, categoryid\n",
    "FROM \"alanparadise/nw\".\"products\"\n",
    "    WHERE categoryid in (1, 3, 5, 7);"
   ]
  },
  {
   "cell_type": "code",
   "execution_count": null,
   "id": "070cc93a",
   "metadata": {},
   "outputs": [],
   "source": [
    "# /* \n",
    "# select columns  orderid,  customerid, shippeddate\n",
    "# from table 'orders' in \"alanparadise/nw\"\n",
    "#     where condition on columns(between):\n",
    "#     shippeddate between 1996-12-01 and 1997-01-31\n",
    "# */\n",
    "\n",
    "SELECT orderid,  customerid, shippeddate\n",
    "FROM \"alanparadise/nw\".\"orders\"\n",
    "    WHERE shippeddate between '1996-12-01' and '1997-01-31' AND\n",
    "    shipcountry = 'Canada';"
   ]
  },
  {
   "cell_type": "code",
   "execution_count": null,
   "id": "cc7b477f",
   "metadata": {},
   "outputs": [],
   "source": []
  },
  {
   "cell_type": "code",
   "execution_count": null,
   "id": "c7e9d1e0",
   "metadata": {},
   "outputs": [],
   "source": [
    "# import libraries\n",
    "import sqlite3 as sql"
   ]
  },
  {
   "cell_type": "code",
   "execution_count": null,
   "id": "00650d4f",
   "metadata": {},
   "outputs": [],
   "source": [
    "conn = sql.connect('database1.sqlite')\n",
    "cur = conn.cursor()"
   ]
  },
  {
   "cell_type": "code",
   "execution_count": null,
   "id": "c237491a",
   "metadata": {},
   "outputs": [],
   "source": [
    "# /* select concatenate(firstname,' ', lastname) as \"Employee\",\n",
    "#     function: age(hiredate, birthdate)::text as \"Hire age\"\n",
    "# from table 'employee' in \"alanparadise/nw\";\n",
    "# */\n",
    "\n",
    "SELECT employeeid, CONCAT(firstname,' ', lastname) as \"Employee\",\n",
    "    CAST(age(hiredate, birthdate)::text)  as \"Hire age\"\n",
    "FROM \"alanparadise/nw\".\"employees\";"
   ]
  },
  {
   "cell_type": "code",
   "execution_count": null,
   "id": "77e01563",
   "metadata": {},
   "outputs": [],
   "source": [
    "# /* select cast(convert) age difference between today's date and birthday, as text\n",
    "# /*\n",
    "SELECT CAST(age(now(),'1998-03-22')as text);"
   ]
  },
  {
   "cell_type": "code",
   "execution_count": null,
   "id": "f0c9370a",
   "metadata": {},
   "outputs": [],
   "source": [
    "# /* select customerid, companyname, country\n",
    "# from table 'customers' in \"alanparadise/nw\"\n",
    "#     where condition on columns (NULL):\n",
    "#     region = NULL;\n",
    "# */\n",
    "\n",
    "SELECT customerid, companyname, country\n",
    "FROM \"alanparadise/nw\".\"customers\"\n",
    "    WHERE region is NULL;"
   ]
  },
  {
   "cell_type": "code",
   "execution_count": null,
   "id": "6768036e",
   "metadata": {},
   "outputs": [],
   "source": [
    "# commit SQL commands\n",
    "conn.commit()\n",
    "\n",
    "# close SQL handle\n",
    "cur.close()"
   ]
  }
 ],
 "metadata": {
  "kernelspec": {
   "display_name": "Python 3 (ipykernel)",
   "language": "python",
   "name": "python3"
  },
  "language_info": {
   "codemirror_mode": {
    "name": "ipython",
    "version": 3
   },
   "file_extension": ".py",
   "mimetype": "text/x-python",
   "name": "python",
   "nbconvert_exporter": "python",
   "pygments_lexer": "ipython3",
   "version": "3.8.10"
  }
 },
 "nbformat": 4,
 "nbformat_minor": 5
}
