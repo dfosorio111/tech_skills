{
 "cells": [
  {
   "cell_type": "markdown",
   "metadata": {},
   "source": [
    "# Azure"
   ]
  },
  {
   "cell_type": "markdown",
   "metadata": {},
   "source": [
    "# Operaciones"
   ]
  },
  {
   "cell_type": "markdown",
   "metadata": {},
   "source": [
    "## Crear y Restaurar Snapshots de Archivos Compartidos"
   ]
  },
  {
   "cell_type": "markdown",
   "metadata": {},
   "source": [
    "### Crear Cuenta de Almacenamiento y Archivos Compartidos"
   ]
  },
  {
   "cell_type": "code",
   "execution_count": null,
   "metadata": {},
   "outputs": [],
   "source": [
    "# acceder a Storage accounts\n",
    "# clic en Create storage account\n",
    "# Subscription: predeterminado, Resource Group: predeterminado, Storage account name: nombre unico, Location: misma region que grupo de recursos, Performance: Estandar\n",
    "# clic en  Review, luego Create\n",
    "# clic en Go to resource\n",
    "# clic en menu File shares\n",
    "# clic en + File share\n",
    "# nombre del archivo compartido fileshare1\n",
    "# clic en  Review + create , luego en Create"
   ]
  },
  {
   "cell_type": "markdown",
   "metadata": {},
   "source": [
    "### Conectar Archivos Compartidos a VM"
   ]
  },
  {
   "cell_type": "code",
   "execution_count": null,
   "metadata": {},
   "outputs": [],
   "source": [
    "# abrir resource group\n",
    "# clic en VM winVM\n",
    "# copiar Public IP address en porta papeles\n",
    "# abrir escritorio remoto (Remote Desktop)\n",
    "# conectar a VM con direccion IP publica\n",
    "# login a VM winvm con credenciales\n",
    "# en VM acceder a Windows Firewall with Advanced Security\n",
    "# right-click en Windows Firewall with Advanced Security on Local Computer -> Properties\n",
    "# desactivar  Firewall state a Off\n",
    "# clic en Apply -> Ok\n",
    "# en VM acceder a Windows PowerShell, acceder como administrador\n",
    "# en Azure Portal, acceder a  resource group\n",
    "# abrir  storage account\n",
    "# clic en  File shares\n",
    "# seleccionar  fileshare1\n",
    "# clic en  Connect\n",
    "# clic en  Show Script\n",
    "# copiar PowerShell script a portapapeles\n",
    "# pegar  PowerShell script en VM Windows  PowerShell para conectar el archivo compartido a VM"
   ]
  },
  {
   "cell_type": "markdown",
   "metadata": {},
   "source": [
    "### Crear Snapshot y Restaurar Datos"
   ]
  },
  {
   "cell_type": "code",
   "execution_count": null,
   "metadata": {},
   "outputs": [],
   "source": [
    "# en VM acceder a File Explorer (explorador de archivos)\n",
    "# clic en  This PC\n",
    "# abrir fileshare1\n",
    "# right-click en  fileshare1\n",
    "# clic en New > Text Document\n",
    "# nombre de archivo  acg.txt\n",
    "# abrir documento acg.txt, escribir  Hello world!\n",
    "# clic en  File > Save\n",
    "# regresar a  Azure Portal\n",
    "# clic en menu Browse, verificar que acg.txt esta visible\n",
    "# clic en Snapshots\n",
    "# clic en  Add Snapshot, dar nombre  ACGSnapshot en comentarios\n",
    "# clic en OK\n",
    "# en la VM, agrega texto random a archivo acg.txt\n",
    "# clic en File > Save\n",
    "# acceder a This PC, Right-click en fileshare1\n",
    "# clic en Restore previous versions\n",
    "# clic en Restore -> OK\n",
    "# abrir documento acg.txt, corroborar que se restauró la versión original\n"
   ]
  },
  {
   "cell_type": "markdown",
   "metadata": {},
   "source": [
    "## Restaurar Archivos Compartidos de Backup a Otra Cuenta de Almacenamiento"
   ]
  },
  {
   "cell_type": "markdown",
   "metadata": {},
   "source": [
    "### Crear Cuenta de Almacenamiento"
   ]
  },
  {
   "cell_type": "code",
   "execution_count": null,
   "metadata": {},
   "outputs": [],
   "source": [
    "# acceder a  Storage accounts\n",
    "# copiar nombre de storage account predeterminada a portapapeles\n",
    "# crear nueva cuenta de almacenamiento\n",
    "# seleccionar  resource group predeterminado\n",
    "# seleccionar misma region que   resource group\n",
    "# en menu File Service, seleccionar  File shares\n",
    "# agregar nuevo File Share\n",
    "# Name: fileshare1, Quota: 5"
   ]
  },
  {
   "cell_type": "markdown",
   "metadata": {},
   "source": [
    "### Hacer Backup y Restaurar Datos"
   ]
  },
  {
   "cell_type": "code",
   "execution_count": null,
   "metadata": {},
   "outputs": [],
   "source": [
    "# acceder a  All resources\n",
    "# acceder a Recover Services vault  vault1\n",
    "# clic en Backup\n",
    "# Where is your workload running: Azure, What do you want to backup: Azure FileShare\n",
    "# clic en  Backup\n",
    "# seleccionar  storage account predeterminada que comienza con \"stor\"\n",
    "# en seccion FileShares to Backup section, clic en Add\n",
    "# seleccionar  \"records\" file share\n",
    "# clic en  Enable Backup\n",
    "# en menu  Protected items, en  vault1, seleccionar Backup items\n",
    "# seleccionar  Azure Storage (Azure Files)\n",
    "# clic en 3 puntos a la izquierda en   records\n",
    "# clic en Backup now\n",
    "# dejar Retain Backup Till con fecha predeterminada\n",
    "# clic en OK\n",
    "# actualizar pagina\n",
    "# en menu Backup items\n",
    "# clic en Azure Storage (Azure Files)\n",
    "# clic en 3 puntos a la izquierda en records\n",
    "# clic en Restore Share\n",
    "# Restore Point, seleccionar backup creado \n",
    "# seleccionar Alternate Location\n",
    "#  Storage Account seleccionar  storage account  creada al principio\n",
    "#  Select FileShare, seleccionar fileshare1\n",
    "# clic en Restore \n",
    "\n"
   ]
  },
  {
   "cell_type": "markdown",
   "metadata": {},
   "source": [
    "## Crear y Test Aplicación ASP.Net Core en Azure Pipelines"
   ]
  },
  {
   "cell_type": "code",
   "execution_count": null,
   "metadata": {},
   "outputs": [],
   "source": [
    "# ingresar a Azure portal con crendenciales\n",
    "# ingresar a Linux VM con Instant Terminal"
   ]
  },
  {
   "cell_type": "markdown",
   "metadata": {},
   "source": [
    "### Crear Proyecto DevOps y Push Codigo a Azure Repos"
   ]
  },
  {
   "cell_type": "code",
   "execution_count": null,
   "metadata": {},
   "outputs": [],
   "source": [
    "# en Azure Portal acceder a  Azure DevOps organizations\n",
    "# Scroll down y hacer clic en  My Azure DevOps Organizations\n",
    "# seleeccionar pais/region de lista\n",
    "# clic en  Continue\n",
    "# seleccionar  Create new organization > Continue > Continue\n",
    "# Project name: MyFirstProject\n",
    "# Visibility: Private\n",
    "# clic en + Create project\n",
    "# hacer clic en Azure DevOps\n",
    "# en esquina izquierda inferior, clic en Organization settings\n",
    "# scroll down a Pipelines, clic en Settings\n",
    "# Toggle off Disable creation of classic build pipelines\n",
    "# Toggle off Disable creation of classic release pipelines \n",
    "# regresar a proyecto haciendo clic en  Azure DevOps y seleccionado el proyecto\n",
    "\n",
    "# desde terminal instantanea, ingresar por ssh a VM de Linux\n",
    "# hacer pull de codigo de unit-test con URL dado\n",
    "# git clone -b unit-test https://github.com/ACloudGuru-Resources/content-az400-lab-resources.git\n",
    "# cambiar a directorio \n",
    "# cd content-az400-lab-resources/\n",
    "# quitar origen remoto de archivo\n",
    "# git remote remove origin\n",
    "\n",
    "# en Azure Portal, seleccionar menu Repos\n",
    "# en seccion  Push an existing repository from command line\n",
    "# copiar comando\n",
    "# regresar a terminal de VM Linux y pegar comando\n",
    "# *esperar \n",
    "\n",
    "# en Azure Portal, regresar a  Azure DevOps\n",
    "# hacer clic en User settings icon > Personal access tokens\n",
    "# hacer clic en + New Token\n",
    "# Name: linuxvm\n",
    "# Scopes: Full access\n",
    "# clic en Create\n",
    "# copiar token de linuxvm, guardar en portapapeles\n",
    "# clic en Close\n",
    "# regresar a terminal de VM Linux y pegar token de acceso\n",
    "# en Azure DevOps, clic en Azure DevOps \n",
    "# seleccionar proyecto\n",
    "# seleccionar menu Repos\n",
    "# verificar que se hizo commit/push al codigo en Azure Repos"
   ]
  },
  {
   "cell_type": "markdown",
   "metadata": {},
   "source": [
    "### Crear Nuevo  Azure DevOps Pipeline"
   ]
  },
  {
   "cell_type": "code",
   "execution_count": null,
   "metadata": {},
   "outputs": [],
   "source": [
    "# en Azure Portal, clic en Azure DevOps\n",
    "# seleccionar proyecto\n",
    "# en esquina inferior izquierda, clic en Project settings\n",
    "# Scroll down the left-hand pane a seccion Pipelines\n",
    "# seleccionar Agent pools\n",
    "# seleccionar pool  Default \n",
    "# clic en New agent\n",
    "# seleccionar pestaña  Linux\n",
    "# clic en Copy para copiar URL del agente a portapapeles\n",
    "# desde terminal VM Linux ir a directorio root\n",
    "# cd ~\n",
    "# hacer y navegar a directorio Downloads\n",
    "# mkdir Downloads && cd Downloads\n",
    "# ejecutar wget con agente URL\n",
    "# wget <AGENT_URL>\n",
    "# cambiar a directorio root\n",
    "# cd ~\n",
    "# hacer y navegar a directorio myagent\n",
    "# mkdir myagent && cd myagent\n",
    "# descomprimir el paquete descargado \n",
    "# tar zxvf <PACKAGE>\n",
    "\n",
    "# configurar agente\n",
    "# ejecutar script de configuracion\n",
    "# ./config.sh\n",
    "# y:yes\n",
    "# prompted for your server URL, copiar URL de  Azure DevOps hasta antes de /MyFirstProject\n",
    "# pegar en termianl\n",
    "# Press Enter\n",
    "# personal access token, pegar token de acceso creado\n",
    "# Press Enter para default agent pool\n",
    "# Press Enter para default name\n",
    "# Press Enter para default work folder\n",
    "# ejecutar script de agente en tiempo real\n",
    "# ./run.sh\n",
    "\n",
    "# crear nuevo Pipeline\n",
    "# en Azure DevOps, regresar a proyecto MyFirstProject\n",
    "# seleccionar menu Pipelines\n",
    "# clic en Create Pipeline\n",
    "# clic en Use the classic editor\n",
    "# en  Select a source, seleccionar Azure Repos Git\n",
    "# Team project: MyFirstProject\n",
    "# Repository: MyFirstProject\n",
    "# Default branch: unit-test\n",
    "# clic en Continue\n",
    "# Scroll down y seleccionar   ASP.NET Core template\n",
    "# clic en  Apply\n",
    "# en panel de la derecha, en Agent pool seleccionar  Default\n",
    "# en  Project(s) to test: **/*[Tt]est/*.csproj\n",
    "# en  Agent job 1, seleccionar + para agregar una tarea\n",
    "# buscar  Use .NET Core ,clic en Add\n",
    "# subir tarea Use .NET Core a top de tareas en Pipeline\n",
    "# con tarea Use .NET Core seleccionada, cambiar Version a  3.1.x\n",
    "# en la barra top,  click Save & queue > Save > Save\n",
    "# seleccionar pestaña Triggers, check the box for Enable continuous integration\n",
    "# en la barra top,  click Save & queue > Save > Save\n",
    "\n",
    "# actualizar branch de repo\n",
    "# seleccionar menu Repos\n",
    "# seleccionar carpeta AspNetCoreWebApplication\n",
    "# navegar a Views > Home\n",
    "# abrir archivo Index.cshtml\n",
    "# clic en Edit\n",
    "# cambiar heading\n",
    "# <h1> Congratulations! You Did It!</h1>\n",
    "# en top, click Commit > Commit\n",
    "\n",
    "# ejecutar Azure Pipeline y verificar\n",
    "# seleccionar menu Pipelines\n",
    "# seleccionar Pipeline mostrado\n",
    "# seleccionar job actual\n",
    "# seleccionar   Agent job 1 para ver progreso\n",
    "# seleccionar pestaña Tests para verificar progreso "
   ]
  },
  {
   "cell_type": "markdown",
   "metadata": {},
   "source": [
    "# Almacenamiento"
   ]
  },
  {
   "cell_type": "markdown",
   "metadata": {},
   "source": [
    "# Contenedores"
   ]
  },
  {
   "cell_type": "markdown",
   "metadata": {},
   "source": [
    "## Construir y Ejecutar Contenedor con Azure ACR Tasks"
   ]
  },
  {
   "cell_type": "markdown",
   "metadata": {},
   "source": [
    "### Crear Nuevo Registro de Contenedor"
   ]
  },
  {
   "cell_type": "code",
   "execution_count": null,
   "metadata": {},
   "outputs": [],
   "source": [
    "# clic en icono Cloud Shell icon (>_)\n",
    "# seleccionar Bash\n",
    "# clic en  Show advanced settings\n",
    "# cambiar regiona  la misma region de existing resource group\n",
    "#  Storage account, seleccionar  Use existing\n",
    "# File share, seleccionar Create new\n",
    "# dar nombre 'fileshare'\n",
    "# clic en Create storage"
   ]
  },
  {
   "cell_type": "markdown",
   "metadata": {},
   "source": [
    "### Construir Imagen y hacer Push en ACR"
   ]
  },
  {
   "cell_type": "code",
   "execution_count": null,
   "metadata": {},
   "outputs": [],
   "source": [
    "# desde Azure Portal\n",
    "# clic en listed resource group name\n",
    "# copiar nombre de grupo de recusos en portapapeles\n",
    "# crear nuevo  container registry\n",
    "# az acr create --resource-group <RESOURCE_GROUP_NAME> \\\n",
    "# --name acrbuildcontainer11 --sku Basic --admin-enabled true\n",
    "# cambiar a directorio clouddrive\n",
    "# cd /home/cloud/clouddrive\n",
    "# crear Dockerfile\n",
    "# echo \"FROM hello-world\" > Dockerfile\n",
    "\n",
    "# construir y hacer push la imagen a  Azure Container Registry con archivo docker\n",
    "#az acr build --image sample/hello-world:v1 --registry acrbuildcontainer11 \\ --file Dockerfile .\n",
    "# ejecutar contenedor\n",
    "# az acr run --registry acrbuildcontainer11 --cmd '$Registry/sample/hello-world:v1' /dev/null"
   ]
  },
  {
   "cell_type": "markdown",
   "metadata": {},
   "source": [
    "# Seguridad"
   ]
  },
  {
   "cell_type": "markdown",
   "metadata": {},
   "source": [
    "# Networking"
   ]
  },
  {
   "cell_type": "markdown",
   "metadata": {},
   "source": [
    "# Serverless"
   ]
  },
  {
   "cell_type": "markdown",
   "metadata": {},
   "source": [
    "# Machine Learning"
   ]
  },
  {
   "cell_type": "markdown",
   "metadata": {},
   "source": [
    "## Crear Azure Virtual Machine (VM)\n"
   ]
  },
  {
   "cell_type": "markdown",
   "metadata": {},
   "source": [
    "### Crear VM"
   ]
  },
  {
   "cell_type": "code",
   "execution_count": null,
   "metadata": {},
   "outputs": [],
   "source": [
    "# Entrar a Azure Portal\n",
    "\n",
    "# ir a Virtual Machine dashboard\n",
    "\n",
    "# + crear un recurso \n",
    "\n",
    "# virtual machine\n",
    "\n",
    "Resource group: Select the pre-provisioned group from the dropdown\n",
    "Virtual machine name: acg-firstdeploy\n",
    "Region: Select the same region as the lab-provided resource group\n",
    "Image: Windows Server 2016 Datacenter - Gen 2\n",
    "Size: Leave as the default size\n",
    "Username: acg-admin\n",
    "Password: Admin123456!\n",
    "\n",
    "# Next : Disks >.\n",
    "# Next : Networking >.\n",
    "Click Next : Management >.\n",
    "Click Next : Advanced >.\n",
    "Click Next : Tags >.\n",
    "Click Next : Review + create >.\n",
    "\n",
    "clic en crera\n",
    "\n",
    "# clic icono de notificaciones para ver despliegue\n",
    "# clic Ir a recurso "
   ]
  },
  {
   "cell_type": "markdown",
   "metadata": {},
   "source": [
    "### Conectar a VM"
   ]
  },
  {
   "cell_type": "code",
   "execution_count": null,
   "metadata": {},
   "outputs": [],
   "source": [
    "\n",
    "# clic dropdown menu Connect\n",
    "\n",
    "# clic a menu Conectar\n",
    "# descargar archivo RDP en escritorio local\n",
    "# clic Conectar\n",
    "# ingresar credenciales de VM(username/pass) y clic continuar\n",
    "# continuar\n"
   ]
  },
  {
   "cell_type": "markdown",
   "metadata": {},
   "source": [
    "### Eliminar VM"
   ]
  },
  {
   "cell_type": "code",
   "execution_count": null,
   "metadata": {},
   "outputs": [],
   "source": [
    "# clic en Cuenta de Usuario\n",
    "# salir (sign out)\n",
    "\n",
    "# en VM overview clic en Detener (Stop)\n",
    "yes\n",
    "\n",
    "# verificar status  (Stopped (deallocated) )\n",
    "# clic en Delete (eliminar)\n",
    "# Seleccionar  OS disk, Network Interfaces, and Public IP addresses resources.\n",
    "# eliminar Vm"
   ]
  },
  {
   "cell_type": "markdown",
   "metadata": {},
   "source": [
    "## Agregar Data Disk a una VM"
   ]
  },
  {
   "cell_type": "markdown",
   "metadata": {},
   "source": [
    "### Decomisionar WinVM2 y retener el Almacenamiento"
   ]
  },
  {
   "cell_type": "code",
   "execution_count": null,
   "metadata": {},
   "outputs": [],
   "source": [
    "# entra en Azure Portal\n",
    "\n",
    "# seleccionar winVM2 en lista de recursos \n",
    "# eliminar\n",
    "\n",
    "# en panel Eliminar WinVM2, seleccionar Network interfaces Y Public IP addresses\n",
    "\n",
    "# clic en acknowledgement statement\n",
    "\n",
    "# clic en Eliminar\n",
    "\n",
    "# clic en Notificaciones, confirmar que se eliminó VM WinVM2 con éxito\n",
    "\n",
    "# Refrescar/actualizar\n",
    "\n",
    "\n"
   ]
  },
  {
   "cell_type": "markdown",
   "metadata": {},
   "source": [
    "### Adjuntar Data Disk WinVM2  a  WinVM1"
   ]
  },
  {
   "cell_type": "code",
   "execution_count": null,
   "metadata": {},
   "outputs": [],
   "source": [
    "# seleccionar WinVM1 en Lista de Recursos\n",
    "\n",
    "# en menú de navegación, seleccionar Discos\n",
    "\n",
    "# seleccionar Attach existing disks\n",
    "\n",
    "# seleccionar menu desplegable en Disk name\n",
    "# seleccionar WinVM2\n",
    "\n",
    "# guardar, para adjuntar el disco de VM WinVM2 a WinVM1 "
   ]
  },
  {
   "cell_type": "markdown",
   "metadata": {},
   "source": [
    "### Verificar disco en WinVM1"
   ]
  },
  {
   "cell_type": "code",
   "execution_count": null,
   "metadata": {},
   "outputs": [],
   "source": [
    "# seleccionar  Overview\n",
    "\n",
    "# seleccionar  Conectar\n",
    "\n",
    "# Descargar  Download RDP File (acceso local remoto a VM)\n",
    "\n",
    "# conectar a VM con RDP client\n",
    "# pop-up  Redesyes \n",
    "\n",
    "# cerrar Server Manager \n",
    "\n",
    "# en la barra de tareas, clic en archivo File Explorer\n",
    "\n",
    "# seleccionar Este Equipo\n",
    "\n",
    "# seleccionar Windows (G:)\n",
    "\n",
    "# corroborar que archivos de WinVM2 en WinVM1 \n"
   ]
  }
 ],
 "metadata": {
  "kernelspec": {
   "display_name": "base",
   "language": "python",
   "name": "python3"
  },
  "language_info": {
   "name": "python",
   "version": "3.11.4"
  },
  "orig_nbformat": 4
 },
 "nbformat": 4,
 "nbformat_minor": 2
}
