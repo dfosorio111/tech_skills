{
 "cells": [
  {
   "cell_type": "markdown",
   "metadata": {},
   "source": [
    "# Azure Cloud Shell"
   ]
  },
  {
   "cell_type": "markdown",
   "metadata": {},
   "source": [
    "## Intro a Azure Cloud Shell "
   ]
  },
  {
   "cell_type": "markdown",
   "metadata": {},
   "source": [
    "### Ejecutar comandos Azure CLI en Cloud Shell"
   ]
  },
  {
   "cell_type": "code",
   "execution_count": null,
   "metadata": {
    "vscode": {
     "languageId": "plaintext"
    }
   },
   "outputs": [],
   "source": [
    "#  entrar a azure\n",
    "username\n",
    "pass\n",
    "\n",
    "# entrar a PowerShell \n",
    "\n",
    "\n",
    "# en cloud shell ver recursos disponibles\n",
    "az group list\n",
    "\n",
    "# copiar name para  <RG_NAME>\n",
    "<RG_NAME>: 72-d4b863d6-accessing-and-using-the-azure-cloud-sh\n",
    "\n",
    "# ver cuentas de almacenamiento disponibles \n",
    "az vm list\n",
    "\n"
   ]
  },
  {
   "cell_type": "markdown",
   "metadata": {},
   "source": [
    "### Crear VM con Azure CLI"
   ]
  },
  {
   "cell_type": "code",
   "execution_count": null,
   "metadata": {
    "vscode": {
     "languageId": "plaintext"
    }
   },
   "outputs": [],
   "source": [
    "# crear maquina virtual\n",
    "# cambiar \n",
    "az vm create `\n",
    "--resource-group \"<RG_NAME>\" `\n",
    "--name LabVM `\n",
    "--image debian `\n",
    "--size Standard_B1ms `\n",
    "--admin-username azureuser `\n",
    "--generate-ssh-keys `\n",
    "--public-ip-sku Standard\n",
    "\n"
   ]
  },
  {
   "cell_type": "markdown",
   "metadata": {},
   "source": [
    "### Ejecutar PowerShell cmdlets en Cloud Shell"
   ]
  },
  {
   "cell_type": "code",
   "execution_count": null,
   "metadata": {
    "vscode": {
     "languageId": "plaintext"
    }
   },
   "outputs": [],
   "source": [
    "# ver lista de groupos de recursos disponibles\n",
    "Get-AzResourceGroup\n",
    "\n",
    "# ver lista de cuentas de almacenamiento disponibles\n",
    "Get-AzStorageAccount\n",
    "\n",
    "# ver lista de VMs \n",
    "Get-AzVM\n",
    "\n",
    "# ver todos los recursos disponibles \n",
    "Get-AzResource | ft"
   ]
  },
  {
   "cell_type": "markdown",
   "metadata": {},
   "source": [
    "### Quitar VM"
   ]
  },
  {
   "cell_type": "code",
   "execution_count": null,
   "metadata": {
    "vscode": {
     "languageId": "plaintext"
    }
   },
   "outputs": [],
   "source": [
    "# quitar VM\n",
    "Remove-AzVM -Name LabVM -ResourceGroupName <RG_NAME>\n",
    "yes\n",
    "\n",
    "# verificar que se quitó VM\n",
    "Get-AzVM\n",
    "\n",
    "# salir de PowerShell\n",
    "exit"
   ]
  },
  {
   "cell_type": "markdown",
   "metadata": {},
   "source": [
    "## Crear Azure Virtual Machine (VM)\n"
   ]
  },
  {
   "cell_type": "markdown",
   "metadata": {},
   "source": [
    "### Crear VM"
   ]
  },
  {
   "cell_type": "code",
   "execution_count": null,
   "metadata": {
    "vscode": {
     "languageId": "plaintext"
    }
   },
   "outputs": [],
   "source": [
    "# Entrar a Azure Portal\n",
    "\n",
    "# ir a Virtual Machine dashboard\n",
    "\n",
    "# + crear un recurso \n",
    "\n",
    "# virtual machine\n",
    "\n",
    "Resource group: Select the pre-provisioned group from the dropdown\n",
    "Virtual machine name: acg-firstdeploy\n",
    "Region: Select the same region as the lab-provided resource group\n",
    "Image: Windows Server 2016 Datacenter - Gen 2\n",
    "Size: Leave as the default size\n",
    "Username: acg-admin\n",
    "Password: Admin123456!\n",
    "\n",
    "# Next : Disks >.\n",
    "\n",
    "# Next : Networking >.\n",
    "\n",
    "Click Next : Management >.\n",
    "Click Next : Advanced >.\n",
    "Click Next : Tags >.\n",
    "Click Next : Review + create >.\n",
    "Click Create. \n",
    "\n",
    "# clic icono de notificaciones para ver despliegue\n",
    "# clic Go to resource\n"
   ]
  },
  {
   "cell_type": "markdown",
   "metadata": {},
   "source": [
    "### Conectar a VM"
   ]
  },
  {
   "cell_type": "code",
   "execution_count": null,
   "metadata": {
    "vscode": {
     "languageId": "plaintext"
    }
   },
   "outputs": [],
   "source": [
    "\n",
    "# clic dropdown menu Connect\n",
    "# RDP\n",
    "# descargar archivo RDP\n",
    "# clic Connect\n",
    "# ingresar credenciales de Vm y clic continuar\n",
    "# continuar\n"
   ]
  },
  {
   "cell_type": "markdown",
   "metadata": {},
   "source": [
    "### Eliminar VM"
   ]
  },
  {
   "cell_type": "code",
   "execution_count": null,
   "metadata": {
    "vscode": {
     "languageId": "plaintext"
    }
   },
   "outputs": [],
   "source": [
    "# clic en Cuenta\n",
    "# salir (sign out)\n",
    "# en VM overview clic en Stop\n",
    "yes\n",
    "\n",
    "# verificar status  (Stopped (deallocated) )\n",
    "# clic en Delete (eliminar)\n",
    "# OS disk, Network Interfaces, and Public IP addresses resources.\n",
    "# delete\n"
   ]
  }
 ],
 "metadata": {
  "language_info": {
   "name": "python"
  },
  "orig_nbformat": 4
 },
 "nbformat": 4,
 "nbformat_minor": 2
}
