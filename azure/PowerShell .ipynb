{
 "cells": [
  {
   "cell_type": "markdown",
   "metadata": {},
   "source": [
    "# Azure Cloud Shell"
   ]
  },
  {
   "cell_type": "markdown",
   "metadata": {},
   "source": [
    "## Accessing and Using the Azure Cloud Shell"
   ]
  },
  {
   "cell_type": "markdown",
   "metadata": {},
   "source": [
    "### Ejecutar comandos Azure CLI en Cloud Shell"
   ]
  },
  {
   "cell_type": "code",
   "execution_count": null,
   "metadata": {
    "vscode": {
     "languageId": "plaintext"
    }
   },
   "outputs": [],
   "source": [
    "#  entrar a azure\n",
    "username\n",
    "pass\n",
    "\n",
    "# entrar a PowerShell \n",
    "\n",
    "\n",
    "# en cloud shell ver recursos disponibles\n",
    "az group list\n",
    "\n",
    "# copiar name para  <RG_NAME>\n",
    "NAME\n",
    "\n",
    "# ver cuentas de almacenamiento disponibles \n",
    "az vm list\n",
    "\n"
   ]
  },
  {
   "cell_type": "markdown",
   "metadata": {},
   "source": [
    "### Crear VM con Azure CLI"
   ]
  },
  {
   "cell_type": "code",
   "execution_count": null,
   "metadata": {
    "vscode": {
     "languageId": "plaintext"
    }
   },
   "outputs": [],
   "source": [
    "# crear maquina virtual\n",
    "# cambiar \n",
    "az vm create `\n",
    "--resource-group \"<RG_NAME>\" `\n",
    "--name LabVM `\n",
    "--image debian `\n",
    "--size Standard_B1ms `\n",
    "--admin-username azureuser `\n",
    "--generate-ssh-keys `\n",
    "--public-ip-sku Standard\n",
    "\n",
    "\n",
    "\n"
   ]
  }
 ],
 "metadata": {
  "language_info": {
   "name": "python"
  },
  "orig_nbformat": 4
 },
 "nbformat": 4,
 "nbformat_minor": 2
}
