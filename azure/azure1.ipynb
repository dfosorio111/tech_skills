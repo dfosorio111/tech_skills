{
 "cells": [
  {
   "cell_type": "markdown",
   "metadata": {},
   "source": [
    "# Azure"
   ]
  },
  {
   "cell_type": "markdown",
   "metadata": {},
   "source": [
    "## Crear Azure Virtual Machine (VM)\n"
   ]
  },
  {
   "cell_type": "markdown",
   "metadata": {},
   "source": [
    "### Crear VM"
   ]
  },
  {
   "cell_type": "code",
   "execution_count": null,
   "metadata": {},
   "outputs": [],
   "source": [
    "# Entrar a Azure Portal\n",
    "\n",
    "# ir a Virtual Machine dashboard\n",
    "\n",
    "# + crear un recurso \n",
    "\n",
    "# virtual machine\n",
    "\n",
    "Resource group: Select the pre-provisioned group from the dropdown\n",
    "Virtual machine name: acg-firstdeploy\n",
    "Region: Select the same region as the lab-provided resource group\n",
    "Image: Windows Server 2016 Datacenter - Gen 2\n",
    "Size: Leave as the default size\n",
    "Username: acg-admin\n",
    "Password: Admin123456!\n",
    "\n",
    "# Next : Disks >.\n",
    "# Next : Networking >.\n",
    "Click Next : Management >.\n",
    "Click Next : Advanced >.\n",
    "Click Next : Tags >.\n",
    "Click Next : Review + create >.\n",
    "\n",
    "clic en crera\n",
    "\n",
    "# clic icono de notificaciones para ver despliegue\n",
    "# clic Ir a recurso "
   ]
  },
  {
   "cell_type": "markdown",
   "metadata": {},
   "source": [
    "### Conectar a VM"
   ]
  },
  {
   "cell_type": "code",
   "execution_count": null,
   "metadata": {},
   "outputs": [],
   "source": [
    "\n",
    "# clic dropdown menu Connect\n",
    "\n",
    "# clic a menu Conectar\n",
    "# descargar archivo RDP en escritorio local\n",
    "# clic Conectar\n",
    "# ingresar credenciales de VM(username/pass) y clic continuar\n",
    "# continuar\n"
   ]
  },
  {
   "cell_type": "markdown",
   "metadata": {},
   "source": [
    "### Eliminar VM"
   ]
  },
  {
   "cell_type": "code",
   "execution_count": null,
   "metadata": {},
   "outputs": [],
   "source": [
    "# clic en Cuenta de Usuario\n",
    "# salir (sign out)\n",
    "\n",
    "# en VM overview clic en Detener (Stop)\n",
    "yes\n",
    "\n",
    "# verificar status  (Stopped (deallocated) )\n",
    "# clic en Delete (eliminar)\n",
    "# Seleccionar  OS disk, Network Interfaces, and Public IP addresses resources.\n",
    "# eliminar Vm"
   ]
  },
  {
   "cell_type": "markdown",
   "metadata": {},
   "source": [
    "## Agregar Data Disk a una VM"
   ]
  },
  {
   "cell_type": "markdown",
   "metadata": {},
   "source": [
    "### Decomisionar WinVM2 y retener el Almacenamiento"
   ]
  },
  {
   "cell_type": "code",
   "execution_count": null,
   "metadata": {},
   "outputs": [],
   "source": [
    "# entra en Azure Portal\n",
    "\n",
    "# seleccionar winVM2 en lista de recursos \n",
    "# eliminar\n",
    "\n",
    "# en panel Eliminar WinVM2, seleccionar Network interfaces Y Public IP addresses\n",
    "\n",
    "# clic en acknowledgement statement\n",
    "\n",
    "# clic en Eliminar\n",
    "\n",
    "# clic en Notificaciones, confirmar que se eliminó VM WinVM2 con éxito\n",
    "\n",
    "# Refrescar/actualizar\n",
    "\n",
    "\n"
   ]
  },
  {
   "cell_type": "markdown",
   "metadata": {},
   "source": [
    "### Adjuntar Data Disk WinVM2  a  WinVM1"
   ]
  },
  {
   "cell_type": "code",
   "execution_count": null,
   "metadata": {},
   "outputs": [],
   "source": [
    "# seleccionar WinVM1 en Lista de Recursos\n",
    "\n",
    "# en menú de navegación, seleccionar Discos\n",
    "\n",
    "# seleccionar Attach existing disks\n",
    "\n",
    "# seleccionar menu desplegable en Disk name\n",
    "# seleccionar WinVM2\n",
    "\n",
    "# guardar, para adjuntar el disco de VM WinVM2 a WinVM1 "
   ]
  },
  {
   "cell_type": "markdown",
   "metadata": {},
   "source": [
    "### Verificar disco en WinVM1"
   ]
  },
  {
   "cell_type": "code",
   "execution_count": null,
   "metadata": {},
   "outputs": [],
   "source": [
    "# seleccionar  Overview\n",
    "\n",
    "# seleccionar  Conectar\n",
    "\n",
    "# Descargar  Download RDP File (acceso local remoto a VM)\n",
    "\n",
    "# conectar a VM con RDP client\n",
    "# pop-up  Redesyes \n",
    "\n",
    "# cerrar Server Manager \n",
    "\n",
    "# en la barra de tareas, clic en archivo File Explorer\n",
    "\n",
    "# seleccionar Este Equipo\n",
    "\n",
    "# seleccionar Windows (G:)\n",
    "\n",
    "# corroborar que archivos de WinVM2 en WinVM1 \n"
   ]
  }
 ],
 "metadata": {
  "kernelspec": {
   "display_name": "base",
   "language": "python",
   "name": "python3"
  },
  "language_info": {
   "name": "python",
   "version": "3.11.4"
  },
  "orig_nbformat": 4
 },
 "nbformat": 4,
 "nbformat_minor": 2
}
