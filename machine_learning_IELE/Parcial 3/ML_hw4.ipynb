{
 "cells": [
  {
   "cell_type": "markdown",
   "metadata": {},
   "source": [
    "# Predicción de Potabilidad del Agua\n",
    "\n",
    "En esta ocasión se busca desarrollar un proceso de GridSearch con el fin de buscar los mejores hiperparámetros de distintos modelos dentro de un rango de valores definidos por nosotros mismos. Igualmente, se busca que usted aplique y comprenda los siguientes modelos:\n",
    "\n",
    "- Árboles de decisión\n",
    "- Bosques de decisión\n",
    "- AdaBoost\n",
    "- XGBoost\n",
    "- Bagging\n",
    "\n",
    "Se sugiere fuertemente leer la documentación entregada en los artículos de los links.\n",
    "\n",
    "Debe completar las celdas vacías y seguir las instrucciones anotadas en el cuaderno. "
   ]
  },
  {
   "cell_type": "code",
   "execution_count": 8,
   "metadata": {},
   "outputs": [],
   "source": [
    "import pandas as pd\n",
    "import numpy as np\n",
    "import sklearn\n",
    "from sklearn.preprocessing import OrdinalEncoder, MinMaxScaler, RobustScaler\n",
    "import matplotlib.pyplot as plt"
   ]
  },
  {
   "cell_type": "markdown",
   "metadata": {},
   "source": [
    "Lectura de CSV y borrado de filas incompletas."
   ]
  },
  {
   "cell_type": "code",
   "execution_count": 9,
   "metadata": {},
   "outputs": [
    {
     "data": {
      "text/html": [
       "<div>\n",
       "<style scoped>\n",
       "    .dataframe tbody tr th:only-of-type {\n",
       "        vertical-align: middle;\n",
       "    }\n",
       "\n",
       "    .dataframe tbody tr th {\n",
       "        vertical-align: top;\n",
       "    }\n",
       "\n",
       "    .dataframe thead th {\n",
       "        text-align: right;\n",
       "    }\n",
       "</style>\n",
       "<table border=\"1\" class=\"dataframe\">\n",
       "  <thead>\n",
       "    <tr style=\"text-align: right;\">\n",
       "      <th></th>\n",
       "      <th>ph</th>\n",
       "      <th>Hardness</th>\n",
       "      <th>Solids</th>\n",
       "      <th>Chloramines</th>\n",
       "      <th>Sulfate</th>\n",
       "      <th>Conductivity</th>\n",
       "      <th>Organic_carbon</th>\n",
       "      <th>Trihalomethanes</th>\n",
       "      <th>Turbidity</th>\n",
       "      <th>Potability</th>\n",
       "    </tr>\n",
       "  </thead>\n",
       "  <tbody>\n",
       "    <tr>\n",
       "      <th>3</th>\n",
       "      <td>8.316766</td>\n",
       "      <td>214.373394</td>\n",
       "      <td>22018.417441</td>\n",
       "      <td>8.059332</td>\n",
       "      <td>356.886136</td>\n",
       "      <td>363.266516</td>\n",
       "      <td>18.436524</td>\n",
       "      <td>100.341674</td>\n",
       "      <td>4.628771</td>\n",
       "      <td>0</td>\n",
       "    </tr>\n",
       "    <tr>\n",
       "      <th>4</th>\n",
       "      <td>9.092223</td>\n",
       "      <td>181.101509</td>\n",
       "      <td>17978.986339</td>\n",
       "      <td>6.546600</td>\n",
       "      <td>310.135738</td>\n",
       "      <td>398.410813</td>\n",
       "      <td>11.558279</td>\n",
       "      <td>31.997993</td>\n",
       "      <td>4.075075</td>\n",
       "      <td>0</td>\n",
       "    </tr>\n",
       "    <tr>\n",
       "      <th>5</th>\n",
       "      <td>5.584087</td>\n",
       "      <td>188.313324</td>\n",
       "      <td>28748.687739</td>\n",
       "      <td>7.544869</td>\n",
       "      <td>326.678363</td>\n",
       "      <td>280.467916</td>\n",
       "      <td>8.399735</td>\n",
       "      <td>54.917862</td>\n",
       "      <td>2.559708</td>\n",
       "      <td>0</td>\n",
       "    </tr>\n",
       "    <tr>\n",
       "      <th>6</th>\n",
       "      <td>10.223862</td>\n",
       "      <td>248.071735</td>\n",
       "      <td>28749.716544</td>\n",
       "      <td>7.513408</td>\n",
       "      <td>393.663396</td>\n",
       "      <td>283.651634</td>\n",
       "      <td>13.789695</td>\n",
       "      <td>84.603556</td>\n",
       "      <td>2.672989</td>\n",
       "      <td>0</td>\n",
       "    </tr>\n",
       "    <tr>\n",
       "      <th>7</th>\n",
       "      <td>8.635849</td>\n",
       "      <td>203.361523</td>\n",
       "      <td>13672.091764</td>\n",
       "      <td>4.563009</td>\n",
       "      <td>303.309771</td>\n",
       "      <td>474.607645</td>\n",
       "      <td>12.363817</td>\n",
       "      <td>62.798309</td>\n",
       "      <td>4.401425</td>\n",
       "      <td>0</td>\n",
       "    </tr>\n",
       "    <tr>\n",
       "      <th>...</th>\n",
       "      <td>...</td>\n",
       "      <td>...</td>\n",
       "      <td>...</td>\n",
       "      <td>...</td>\n",
       "      <td>...</td>\n",
       "      <td>...</td>\n",
       "      <td>...</td>\n",
       "      <td>...</td>\n",
       "      <td>...</td>\n",
       "      <td>...</td>\n",
       "    </tr>\n",
       "    <tr>\n",
       "      <th>3267</th>\n",
       "      <td>8.989900</td>\n",
       "      <td>215.047358</td>\n",
       "      <td>15921.412018</td>\n",
       "      <td>6.297312</td>\n",
       "      <td>312.931022</td>\n",
       "      <td>390.410231</td>\n",
       "      <td>9.899115</td>\n",
       "      <td>55.069304</td>\n",
       "      <td>4.613843</td>\n",
       "      <td>1</td>\n",
       "    </tr>\n",
       "    <tr>\n",
       "      <th>3268</th>\n",
       "      <td>6.702547</td>\n",
       "      <td>207.321086</td>\n",
       "      <td>17246.920347</td>\n",
       "      <td>7.708117</td>\n",
       "      <td>304.510230</td>\n",
       "      <td>329.266002</td>\n",
       "      <td>16.217303</td>\n",
       "      <td>28.878601</td>\n",
       "      <td>3.442983</td>\n",
       "      <td>1</td>\n",
       "    </tr>\n",
       "    <tr>\n",
       "      <th>3269</th>\n",
       "      <td>11.491011</td>\n",
       "      <td>94.812545</td>\n",
       "      <td>37188.826022</td>\n",
       "      <td>9.263166</td>\n",
       "      <td>258.930600</td>\n",
       "      <td>439.893618</td>\n",
       "      <td>16.172755</td>\n",
       "      <td>41.558501</td>\n",
       "      <td>4.369264</td>\n",
       "      <td>1</td>\n",
       "    </tr>\n",
       "    <tr>\n",
       "      <th>3270</th>\n",
       "      <td>6.069616</td>\n",
       "      <td>186.659040</td>\n",
       "      <td>26138.780191</td>\n",
       "      <td>7.747547</td>\n",
       "      <td>345.700257</td>\n",
       "      <td>415.886955</td>\n",
       "      <td>12.067620</td>\n",
       "      <td>60.419921</td>\n",
       "      <td>3.669712</td>\n",
       "      <td>1</td>\n",
       "    </tr>\n",
       "    <tr>\n",
       "      <th>3271</th>\n",
       "      <td>4.668102</td>\n",
       "      <td>193.681735</td>\n",
       "      <td>47580.991603</td>\n",
       "      <td>7.166639</td>\n",
       "      <td>359.948574</td>\n",
       "      <td>526.424171</td>\n",
       "      <td>13.894419</td>\n",
       "      <td>66.687695</td>\n",
       "      <td>4.435821</td>\n",
       "      <td>1</td>\n",
       "    </tr>\n",
       "  </tbody>\n",
       "</table>\n",
       "<p>2011 rows × 10 columns</p>\n",
       "</div>"
      ],
      "text/plain": [
       "             ph    Hardness        Solids  Chloramines     Sulfate  \\\n",
       "3      8.316766  214.373394  22018.417441     8.059332  356.886136   \n",
       "4      9.092223  181.101509  17978.986339     6.546600  310.135738   \n",
       "5      5.584087  188.313324  28748.687739     7.544869  326.678363   \n",
       "6     10.223862  248.071735  28749.716544     7.513408  393.663396   \n",
       "7      8.635849  203.361523  13672.091764     4.563009  303.309771   \n",
       "...         ...         ...           ...          ...         ...   \n",
       "3267   8.989900  215.047358  15921.412018     6.297312  312.931022   \n",
       "3268   6.702547  207.321086  17246.920347     7.708117  304.510230   \n",
       "3269  11.491011   94.812545  37188.826022     9.263166  258.930600   \n",
       "3270   6.069616  186.659040  26138.780191     7.747547  345.700257   \n",
       "3271   4.668102  193.681735  47580.991603     7.166639  359.948574   \n",
       "\n",
       "      Conductivity  Organic_carbon  Trihalomethanes  Turbidity  Potability  \n",
       "3       363.266516       18.436524       100.341674   4.628771           0  \n",
       "4       398.410813       11.558279        31.997993   4.075075           0  \n",
       "5       280.467916        8.399735        54.917862   2.559708           0  \n",
       "6       283.651634       13.789695        84.603556   2.672989           0  \n",
       "7       474.607645       12.363817        62.798309   4.401425           0  \n",
       "...            ...             ...              ...        ...         ...  \n",
       "3267    390.410231        9.899115        55.069304   4.613843           1  \n",
       "3268    329.266002       16.217303        28.878601   3.442983           1  \n",
       "3269    439.893618       16.172755        41.558501   4.369264           1  \n",
       "3270    415.886955       12.067620        60.419921   3.669712           1  \n",
       "3271    526.424171       13.894419        66.687695   4.435821           1  \n",
       "\n",
       "[2011 rows x 10 columns]"
      ]
     },
     "execution_count": 9,
     "metadata": {},
     "output_type": "execute_result"
    }
   ],
   "source": [
    "# cargar bases\n",
    "# quitar na's de las observaciones\n",
    "df = pd.read_csv('waterPotability/water_potability.csv').dropna()\n",
    "df"
   ]
  },
  {
   "cell_type": "markdown",
   "metadata": {},
   "source": [
    "Gráfica de proporción de clases. A continuación puede observar una desproporción entre los datos, por lo que se está lidiando con un problema desbalanceado."
   ]
  },
  {
   "cell_type": "code",
   "execution_count": 10,
   "metadata": {},
   "outputs": [
    {
     "data": {
      "text/plain": [
       "<AxesSubplot:ylabel='Potability'>"
      ]
     },
     "execution_count": 10,
     "metadata": {},
     "output_type": "execute_result"
    },
    {
     "data": {
      "image/png": "[encoded data removed]",
      "text/plain": [
       "<Figure size 640x480 with 1 Axes>"
      ]
     },
     "metadata": {},
     "output_type": "display_data"
    }
   ],
   "source": [
    "# generar grafica de proporcion de clases\n",
    "df['Potability'].value_counts().plot(kind='pie')"
   ]
  },
  {
   "cell_type": "markdown",
   "metadata": {},
   "source": [
    "### Manejo de Datos Desbalanceados: Remuestreo\n",
    "\n",
    "Utilizaremos la función `resample` de SciKit-Learn para remuestrear algunas muestras entre la clase '1'."
   ]
  },
  {
   "cell_type": "code",
   "execution_count": 11,
   "metadata": {},
   "outputs": [
    {
     "data": {
      "text/html": [
       "<div>\n",
       "<style scoped>\n",
       "    .dataframe tbody tr th:only-of-type {\n",
       "        vertical-align: middle;\n",
       "    }\n",
       "\n",
       "    .dataframe tbody tr th {\n",
       "        vertical-align: top;\n",
       "    }\n",
       "\n",
       "    .dataframe thead th {\n",
       "        text-align: right;\n",
       "    }\n",
       "</style>\n",
       "<table border=\"1\" class=\"dataframe\">\n",
       "  <thead>\n",
       "    <tr style=\"text-align: right;\">\n",
       "      <th></th>\n",
       "      <th>ph</th>\n",
       "      <th>Hardness</th>\n",
       "      <th>Solids</th>\n",
       "      <th>Chloramines</th>\n",
       "      <th>Sulfate</th>\n",
       "      <th>Conductivity</th>\n",
       "      <th>Organic_carbon</th>\n",
       "      <th>Trihalomethanes</th>\n",
       "      <th>Turbidity</th>\n",
       "      <th>Potability</th>\n",
       "    </tr>\n",
       "  </thead>\n",
       "  <tbody>\n",
       "    <tr>\n",
       "      <th>1107</th>\n",
       "      <td>6.799376</td>\n",
       "      <td>239.057680</td>\n",
       "      <td>7986.493239</td>\n",
       "      <td>10.365680</td>\n",
       "      <td>419.881175</td>\n",
       "      <td>373.232137</td>\n",
       "      <td>18.828594</td>\n",
       "      <td>43.440644</td>\n",
       "      <td>3.819985</td>\n",
       "      <td>1</td>\n",
       "    </tr>\n",
       "    <tr>\n",
       "      <th>2329</th>\n",
       "      <td>7.136103</td>\n",
       "      <td>186.582706</td>\n",
       "      <td>19502.538967</td>\n",
       "      <td>8.095427</td>\n",
       "      <td>305.430011</td>\n",
       "      <td>355.937238</td>\n",
       "      <td>15.645130</td>\n",
       "      <td>73.885612</td>\n",
       "      <td>2.574192</td>\n",
       "      <td>1</td>\n",
       "    </tr>\n",
       "    <tr>\n",
       "      <th>1972</th>\n",
       "      <td>5.892413</td>\n",
       "      <td>139.362253</td>\n",
       "      <td>11006.048507</td>\n",
       "      <td>5.311990</td>\n",
       "      <td>339.327905</td>\n",
       "      <td>446.494394</td>\n",
       "      <td>10.567071</td>\n",
       "      <td>89.692883</td>\n",
       "      <td>3.311813</td>\n",
       "      <td>1</td>\n",
       "    </tr>\n",
       "    <tr>\n",
       "      <th>2307</th>\n",
       "      <td>9.808258</td>\n",
       "      <td>220.049574</td>\n",
       "      <td>34132.067979</td>\n",
       "      <td>9.752751</td>\n",
       "      <td>233.870327</td>\n",
       "      <td>367.044379</td>\n",
       "      <td>13.498665</td>\n",
       "      <td>62.954260</td>\n",
       "      <td>4.481261</td>\n",
       "      <td>1</td>\n",
       "    </tr>\n",
       "    <tr>\n",
       "      <th>1181</th>\n",
       "      <td>9.792728</td>\n",
       "      <td>161.057881</td>\n",
       "      <td>30249.170845</td>\n",
       "      <td>5.214315</td>\n",
       "      <td>258.038852</td>\n",
       "      <td>413.155466</td>\n",
       "      <td>12.493388</td>\n",
       "      <td>76.225580</td>\n",
       "      <td>3.729120</td>\n",
       "      <td>1</td>\n",
       "    </tr>\n",
       "    <tr>\n",
       "      <th>...</th>\n",
       "      <td>...</td>\n",
       "      <td>...</td>\n",
       "      <td>...</td>\n",
       "      <td>...</td>\n",
       "      <td>...</td>\n",
       "      <td>...</td>\n",
       "      <td>...</td>\n",
       "      <td>...</td>\n",
       "      <td>...</td>\n",
       "      <td>...</td>\n",
       "    </tr>\n",
       "    <tr>\n",
       "      <th>1104</th>\n",
       "      <td>7.746343</td>\n",
       "      <td>212.274645</td>\n",
       "      <td>21670.593663</td>\n",
       "      <td>8.458103</td>\n",
       "      <td>361.381325</td>\n",
       "      <td>457.014121</td>\n",
       "      <td>21.430293</td>\n",
       "      <td>43.188803</td>\n",
       "      <td>3.678686</td>\n",
       "      <td>1</td>\n",
       "    </tr>\n",
       "    <tr>\n",
       "      <th>687</th>\n",
       "      <td>5.898726</td>\n",
       "      <td>198.310020</td>\n",
       "      <td>21148.241905</td>\n",
       "      <td>9.124900</td>\n",
       "      <td>326.254282</td>\n",
       "      <td>312.388586</td>\n",
       "      <td>13.042948</td>\n",
       "      <td>74.311619</td>\n",
       "      <td>4.899815</td>\n",
       "      <td>1</td>\n",
       "    </tr>\n",
       "    <tr>\n",
       "      <th>2826</th>\n",
       "      <td>6.354038</td>\n",
       "      <td>227.232895</td>\n",
       "      <td>16174.433739</td>\n",
       "      <td>7.567419</td>\n",
       "      <td>411.285251</td>\n",
       "      <td>355.527307</td>\n",
       "      <td>9.969701</td>\n",
       "      <td>82.492595</td>\n",
       "      <td>4.935240</td>\n",
       "      <td>1</td>\n",
       "    </tr>\n",
       "    <tr>\n",
       "      <th>781</th>\n",
       "      <td>5.352566</td>\n",
       "      <td>150.495214</td>\n",
       "      <td>27795.732041</td>\n",
       "      <td>5.464058</td>\n",
       "      <td>445.938391</td>\n",
       "      <td>422.422509</td>\n",
       "      <td>16.144510</td>\n",
       "      <td>78.374845</td>\n",
       "      <td>4.779187</td>\n",
       "      <td>1</td>\n",
       "    </tr>\n",
       "    <tr>\n",
       "      <th>288</th>\n",
       "      <td>6.552847</td>\n",
       "      <td>198.806940</td>\n",
       "      <td>34006.420733</td>\n",
       "      <td>8.691206</td>\n",
       "      <td>274.904351</td>\n",
       "      <td>477.163907</td>\n",
       "      <td>14.369630</td>\n",
       "      <td>78.173063</td>\n",
       "      <td>4.687986</td>\n",
       "      <td>1</td>\n",
       "    </tr>\n",
       "  </tbody>\n",
       "</table>\n",
       "<p>1200 rows × 10 columns</p>\n",
       "</div>"
      ],
      "text/plain": [
       "            ph    Hardness        Solids  Chloramines     Sulfate  \\\n",
       "1107  6.799376  239.057680   7986.493239    10.365680  419.881175   \n",
       "2329  7.136103  186.582706  19502.538967     8.095427  305.430011   \n",
       "1972  5.892413  139.362253  11006.048507     5.311990  339.327905   \n",
       "2307  9.808258  220.049574  34132.067979     9.752751  233.870327   \n",
       "1181  9.792728  161.057881  30249.170845     5.214315  258.038852   \n",
       "...        ...         ...           ...          ...         ...   \n",
       "1104  7.746343  212.274645  21670.593663     8.458103  361.381325   \n",
       "687   5.898726  198.310020  21148.241905     9.124900  326.254282   \n",
       "2826  6.354038  227.232895  16174.433739     7.567419  411.285251   \n",
       "781   5.352566  150.495214  27795.732041     5.464058  445.938391   \n",
       "288   6.552847  198.806940  34006.420733     8.691206  274.904351   \n",
       "\n",
       "      Conductivity  Organic_carbon  Trihalomethanes  Turbidity  Potability  \n",
       "1107    373.232137       18.828594        43.440644   3.819985           1  \n",
       "2329    355.937238       15.645130        73.885612   2.574192           1  \n",
       "1972    446.494394       10.567071        89.692883   3.311813           1  \n",
       "2307    367.044379       13.498665        62.954260   4.481261           1  \n",
       "1181    413.155466       12.493388        76.225580   3.729120           1  \n",
       "...            ...             ...              ...        ...         ...  \n",
       "1104    457.014121       21.430293        43.188803   3.678686           1  \n",
       "687     312.388586       13.042948        74.311619   4.899815           1  \n",
       "2826    355.527307        9.969701        82.492595   4.935240           1  \n",
       "781     422.422509       16.144510        78.374845   4.779187           1  \n",
       "288     477.163907       14.369630        78.173063   4.687986           1  \n",
       "\n",
       "[1200 rows x 10 columns]"
      ]
     },
     "execution_count": 11,
     "metadata": {},
     "output_type": "execute_result"
    }
   ],
   "source": [
    "from sklearn.utils import resample\n",
    "from sklearn.utils import shuffle\n",
    "\n",
    "# observaciones de cada clase de y target\n",
    "zero  = df[df['Potability']==0]   # clase 0\n",
    "one = df[df['Potability']==1]  # clase 1 (clase minoritaria)\n",
    "\n",
    "# generar base con nuevas observaciones de resampleo de clase minoritaria a agregar a la base de datos\n",
    "df_minority_upsampled = resample(one, replace = True, n_samples = 1200)\n",
    "\n",
    "# concatenar observaciones(filas) de la clase 0 y la clae 1 con resampleo\n",
    "df = pd.concat([zero, df_minority_upsampled])\n",
    "\n",
    "df = shuffle(df) # shuffling so that there is particular sequence\n",
    "\n",
    "# nueva base con muestras resampleadas de la clase minoritaria 1\n",
    "df_minority_upsampled"
   ]
  },
  {
   "cell_type": "code",
   "execution_count": 12,
   "metadata": {},
   "outputs": [
    {
     "data": {
      "text/plain": [
       "<AxesSubplot:ylabel='Potability'>"
      ]
     },
     "execution_count": 12,
     "metadata": {},
     "output_type": "execute_result"
    },
    {
     "data": {
      "image/png": "[encoded data removed]",
      "text/plain": [
       "<Figure size 640x480 with 1 Axes>"
      ]
     },
     "metadata": {},
     "output_type": "display_data"
    }
   ],
   "source": [
    "# pie plot para ver proporcion de clases balanceada\n",
    "df['Potability'].value_counts().plot(kind='pie')"
   ]
  },
  {
   "cell_type": "code",
   "execution_count": null,
   "metadata": {},
   "outputs": [],
   "source": [
    "# generar X predictores/variables, y target\n",
    "X = df.drop(['Potability'], axis = 1)\n",
    "y = df['Potability']\n",
    "\n",
    "X"
   ]
  },
  {
   "cell_type": "markdown",
   "metadata": {},
   "source": [
    "## Parte 1: Prueba de Modelos y GridSearch/RandomizedSearch\n",
    "\n",
    "A continuación, realizaremos un procedimiento de búsqueda del mejor modelo y sus correspondientes hiperparámetros. Estos procedimientos se conocen como GridSearch/RandomizedSearch. Puede encontrar más información en los siguientes enlaces:\n",
    "\n",
    "- [GridSearch SciKit-Learn](https://scikit-learn.org/stable/modules/generated/sklearn.model_selection.GridSearchCV.html)\n",
    "- [RandomizedSearch SciKit-Learn](https://scikit-learn.org/stable/modules/generated/sklearn.model_selection.RandomizedSearchCV.html)\n",
    "- [GridSearchCV](https://www.mygreatlearning.com/blog/gridsearchcv/)\n",
    "- [Medium Article: GridSearch & RandomizedSearch](https://towardsdatascience.com/machine-learning-gridsearchcv-randomizedsearchcv-d36b89231b10)"
   ]
  },
  {
   "cell_type": "code",
   "execution_count": null,
   "metadata": {},
   "outputs": [],
   "source": [
    "from sklearn.linear_model import LogisticRegression\n",
    "from sklearn.tree import DecisionTreeClassifier\n",
    "from sklearn.metrics import accuracy_score, recall_score, precision_score,roc_auc_score, f1_score \n",
    "from sklearn.metrics import make_scorer, plot_confusion_matrix, confusion_matrix \n",
    "from sklearn.neural_network import MLPClassifier\n",
    "from sklearn.ensemble import RandomForestClassifier\n",
    "from sklearn.linear_model import LogisticRegression\n",
    "from sklearn.neighbors import KNeighborsClassifier\n",
    "from sklearn.ensemble import AdaBoostClassifier\n",
    "from sklearn.ensemble import BaggingClassifier\n",
    "from xgboost import XGBClassifier\n",
    "\n",
    "from sklearn.model_selection import train_test_split\n",
    "from sklearn.model_selection import RandomizedSearchCV, GridSearchCV\n",
    "\n",
    "from sklearn.metrics import classification_report"
   ]
  },
  {
   "cell_type": "markdown",
   "metadata": {},
   "source": [
    "Partición de datos de prueba/entrenamiento."
   ]
  },
  {
   "cell_type": "code",
   "execution_count": null,
   "metadata": {},
   "outputs": [],
   "source": [
    "# dividir base en train-set y test-set\n",
    "X_train,X_test,y_train,y_test=train_test_split(X,y,test_size=0.20,random_state=100)\n",
    "x_train"
   ]
  },
  {
   "cell_type": "markdown",
   "metadata": {},
   "source": [
    "## Parte 1A\n",
    "\n",
    "### Definición de Parámetros de GridSearch/RandomizedSearch\n",
    "\n",
    "Basado en la documentación de las funciones, defina los siguientes parámetros para los casos:\n",
    "\n",
    "- GridSearch:\n",
    "    - Árbol de Decisión (GridSearch):\n",
    "        - 'criterion': 'gini' y 'entropy'\n",
    "        - 'max_depth': vector de valores enteros entre 1 y 50\n",
    "        - 'min_samples_leaf': 10 valores seleccionados por usted entre 1 y 100\n",
    "    \n",
    "    - Random Forest (GridSearch):\n",
    "        - 'n_estimators': 4 valores seleccionados por usted entre 100 y 500\n",
    "        - 'min_samples_leaf': 3 valores seleccionados por usted entre 2 y 30\n",
    "        \n",
    "    - AdaBoost (GridSearch):\n",
    "        - 'n_estimators': 6 valores seleccionados por usted entre 50 y 600\n",
    "        - 'learning_rate': 5 valores de tasas de aprendizaje entre 0 y 1\n",
    "        \n",
    "    - XGBoost (RandomizedSearch):\n",
    "        - 'n_estimators': 8 valores seleccionados por usted entre 50 y 600\n",
    "        - 'learning_rate': 5 valores de tasas de aprendizaje entre 0 y 1\n",
    "    "
   ]
  },
  {
   "cell_type": "code",
   "execution_count": 36,
   "metadata": {},
   "outputs": [
    {
     "data": {
      "text/plain": [
       "array([[ 1.84574814, -0.38387147,  0.11347475, ...,  0.45265172,\n",
       "        -1.48883286, -0.01692123],\n",
       "       [-0.20726299, -0.2962279 , -0.35312111, ..., -0.38852169,\n",
       "        -1.17408127, -0.41284694],\n",
       "       [-1.17406987,  0.07659319,  2.36927807, ...,  0.93389786,\n",
       "        -0.1087477 , -0.0431721 ],\n",
       "       ...,\n",
       "       [ 0.17699511,  0.85943045,  0.74896354, ..., -0.10107661,\n",
       "        -1.24104823, -0.21877026],\n",
       "       [-2.91614471,  0.76816827, -0.64765951, ..., -0.48425806,\n",
       "        -0.22713452,  0.91490581],\n",
       "       [-1.20656913, -0.45244885,  0.15716247, ...,  0.81144814,\n",
       "         0.96410706, -0.11600203]])"
      ]
     },
     "execution_count": 36,
     "metadata": {},
     "output_type": "execute_result"
    }
   ],
   "source": [
    "# crear escalador MinMaxScaler() sobre los predictores X para train-set y test-set\n",
    "scaler = RobustScaler() # Utilice un MinMaxScaler #\n",
    "X_train_scaled = scaler.fit_transform(x_train) # Aplique el Escalamiento (función fit_transform) # \n",
    "X_test_scaled =  scaler.transform(x_test) # Aplique el Escalamiento (función fit_transform) #\n",
    "\n",
    "X_test_scaled"
   ]
  },
  {
   "cell_type": "code",
   "execution_count": 37,
   "metadata": {
    "scrolled": true
   },
   "outputs": [
    {
     "data": {
      "text/plain": [
       "RandomizedSearchCV(cv=5,\n",
       "                   estimator=XGBClassifier(base_score=None, booster=None,\n",
       "                                           colsample_bylevel=None,\n",
       "                                           colsample_bynode=None,\n",
       "                                           colsample_bytree=None,\n",
       "                                           enable_categorical=False, gamma=None,\n",
       "                                           gpu_id=None, importance_type=None,\n",
       "                                           interaction_constraints=None,\n",
       "                                           learning_rate=None,\n",
       "                                           max_delta_step=None, max_depth=7,\n",
       "                                           min_child_weight=None, missing=nan,\n",
       "                                           monotone_constraints=No...\n",
       "                                           predictor=None, random_state=100,\n",
       "                                           reg_alpha=None, reg_lambda=None,\n",
       "                                           scale_pos_weight=None,\n",
       "                                           subsample=None, tree_method=None,\n",
       "                                           validate_parameters=None,\n",
       "                                           verbosity=3),\n",
       "                   n_jobs=-1,\n",
       "                   param_distributions={'booster': ['gbtree', 'dart'],\n",
       "                                        'learning_rate': array([0.01  , 0.2575, 0.505 , 0.7525, 1.    ]),\n",
       "                                        'n_estimators': array([ 50, 128, 207, 285, 364, 442, 521, 600])},\n",
       "                   scoring=make_scorer(recall_score, pos_label=0), verbose=3)"
      ]
     },
     "execution_count": 37,
     "metadata": {},
     "output_type": "execute_result"
    }
   ],
   "source": [
    "# Búsqueda de Hiperparámetros\n",
    "# crear modelo de ML de ensamble\n",
    "lr = LogisticRegression(n_jobs=-1, random_state=100)\n",
    "\n",
    "dt = DecisionTreeClassifier(splitter='best', random_state=100)\n",
    "\n",
    "#  max_depth = 7\n",
    "rf = RandomForestClassifier(n_jobs=-1, max_features = 3, verbose = 1, random_state=100)\n",
    "\n",
    "ada = AdaBoostClassifier(random_state=100)\n",
    "\n",
    "xgb = XGBClassifier(max_depth = 7, verbosity=3, random_state=100)\n",
    "\n",
    "\n",
    "#Regresión Logística\n",
    "para_lr = { 'penalty': ['l1','l2','elasticnet'], 'C':np.linspace(0.01,50,num=20,dtype=float) }\n",
    "grid_lr = GridSearchCV(lr, param_grid=para_lr, scoring= make_scorer(recall_score,pos_label=0), n_jobs=-1, cv=5, verbose = 3)\n",
    "\n",
    "#Árbol de Decisión\n",
    "para_dt = { 'criterion': ['gini','entropy'], 'max_depth': np.linspace(1,50,num=20,dtype=int), 'min_samples_split': np.linspace(9,20,num=5,dtype=int), 'min_samples_leaf': np.linspace(1,100,num=10,dtype=int)}\n",
    "grid_dt = GridSearchCV(dt, param_grid=para_dt, scoring= make_scorer(recall_score,pos_label=0), n_jobs=-1, cv=5, verbose = 3)\n",
    "\n",
    "#Random Forest\n",
    "# hiperparametros \n",
    "params_rf = {'n_estimators':np.linspace(100,500,num=4,dtype=int),'criterion':['gini','entropy'], 'max_depth': np.linspace(1,50,num=20,dtype=int), 'min_samples_split': np.linspace(9,20,num=5,dtype=int), 'min_samples_leaf':np.linspace(2,30,num=3,dtype=int), 'max_features':[3,6,9], 'oob_score':[True,False] }\n",
    "grid_rf = GridSearchCV(rf, param_grid=params_rf, scoring= make_scorer(recall_score,pos_label=0), n_jobs=-1, cv=5, verbose = 3)\n",
    "\n",
    "#AdaBoost\n",
    "params_ada = {'n_estimators':np.linspace(50,600,num=6,dtype=int), 'learning_rate':np.linspace(0.01,1,num=5,dtype=float) }\n",
    "grid_ada =  GridSearchCV(ada, param_grid=params_ada, scoring= make_scorer(recall_score,pos_label=0), n_jobs=-1, cv=5, verbose = 3)\n",
    "\n",
    "#XGBoost\n",
    "params_xgb = {'n_estimators':np.linspace(50,600,num=8,dtype=int), 'learning_rate':np.linspace(0.01,1,num=5,dtype=float), 'booster':['gbtree','dart']}\n",
    "rs_xgb =  RandomizedSearchCV(xgb, param_distributions=params_xgb, scoring= make_scorer(recall_score,pos_label=0), n_jobs=-1, cv=5, verbose = 3)\n",
    "\n",
    "rs_xgb"
   ]
  },
  {
   "cell_type": "markdown",
   "metadata": {},
   "source": [
    "### Búsqueda de Hiperparámetros\n",
    "\n",
    "A continuación se debe realizar el proceso de GridSearch. Esta operación puede tardar."
   ]
  },
  {
   "cell_type": "code",
   "execution_count": null,
   "metadata": {
    "scrolled": true
   },
   "outputs": [
    {
     "name": "stdout",
     "output_type": "stream",
     "text": [
      "Fitting 5 folds for each of 60 candidates, totalling 300 fits\n"
     ]
    },
    {
     "name": "stderr",
     "output_type": "stream",
     "text": [
      "C:\\Users\\Diego\\miniconda3\\lib\\site-packages\\sklearn\\model_selection\\_validation.py:372: FitFailedWarning: \n",
      "200 fits failed out of a total of 300.\n",
      "The score on these train-test partitions for these parameters will be set to nan.\n",
      "If these failures are not expected, you can try to debug them by setting error_score='raise'.\n",
      "\n",
      "Below are more details about the failures:\n",
      "--------------------------------------------------------------------------------\n",
      "100 fits failed with the following error:\n",
      "Traceback (most recent call last):\n",
      "  File \"C:\\Users\\Diego\\miniconda3\\lib\\site-packages\\sklearn\\model_selection\\_validation.py\", line 680, in _fit_and_score\n",
      "    estimator.fit(X_train, y_train, **fit_params)\n",
      "  File \"C:\\Users\\Diego\\miniconda3\\lib\\site-packages\\sklearn\\linear_model\\_logistic.py\", line 1461, in fit\n",
      "    solver = _check_solver(self.solver, self.penalty, self.dual)\n",
      "  File \"C:\\Users\\Diego\\miniconda3\\lib\\site-packages\\sklearn\\linear_model\\_logistic.py\", line 447, in _check_solver\n",
      "    raise ValueError(\n",
      "ValueError: Solver lbfgs supports only 'l2' or 'none' penalties, got l1 penalty.\n",
      "\n",
      "--------------------------------------------------------------------------------\n",
      "100 fits failed with the following error:\n",
      "Traceback (most recent call last):\n",
      "  File \"C:\\Users\\Diego\\miniconda3\\lib\\site-packages\\sklearn\\model_selection\\_validation.py\", line 680, in _fit_and_score\n",
      "    estimator.fit(X_train, y_train, **fit_params)\n",
      "  File \"C:\\Users\\Diego\\miniconda3\\lib\\site-packages\\sklearn\\linear_model\\_logistic.py\", line 1461, in fit\n",
      "    solver = _check_solver(self.solver, self.penalty, self.dual)\n",
      "  File \"C:\\Users\\Diego\\miniconda3\\lib\\site-packages\\sklearn\\linear_model\\_logistic.py\", line 447, in _check_solver\n",
      "    raise ValueError(\n",
      "ValueError: Solver lbfgs supports only 'l2' or 'none' penalties, got elasticnet penalty.\n",
      "\n",
      "  warnings.warn(some_fits_failed_message, FitFailedWarning)\n",
      "C:\\Users\\Diego\\miniconda3\\lib\\site-packages\\sklearn\\model_selection\\_search.py:969: UserWarning: One or more of the test scores are non-finite: [       nan 0.63589744        nan        nan 0.59384615        nan\n",
      "        nan 0.59384615        nan        nan 0.59384615        nan\n",
      "        nan 0.59384615        nan        nan 0.59384615        nan\n",
      "        nan 0.59384615        nan        nan 0.59384615        nan\n",
      "        nan 0.59384615        nan        nan 0.59384615        nan\n",
      "        nan 0.59384615        nan        nan 0.59384615        nan\n",
      "        nan 0.59384615        nan        nan 0.59384615        nan\n",
      "        nan 0.59384615        nan        nan 0.59384615        nan\n",
      "        nan 0.59384615        nan        nan 0.59384615        nan\n",
      "        nan 0.59384615        nan        nan 0.59384615        nan]\n",
      "  warnings.warn(\n"
     ]
    },
    {
     "name": "stdout",
     "output_type": "stream",
     "text": [
      "Fitting 5 folds for each of 2000 candidates, totalling 10000 fits\n",
      "Fitting 5 folds for each of 14400 candidates, totalling 72000 fits\n"
     ]
    }
   ],
   "source": [
    "# ajustar/entrenar los optimizador de hiperparametros GridSearchCV de cada modelo\n",
    "grid_lr.fit(x_train_scaled, y_train)\n",
    "grid_dt.fit(X_train, y_train)\n",
    "grid_rf.fit(X_train, y_train)\n",
    "grid_ada.fit(X_train, y_train)\n",
    "rs_xgb.fit(X_train, y_train)"
   ]
  },
  {
   "cell_type": "code",
   "execution_count": 71,
   "metadata": {},
   "outputs": [
    {
     "data": {
      "text/plain": [
       "LogisticRegression(C=2.641052631578947, n_jobs=-1, random_state=100)"
      ]
     },
     "execution_count": 71,
     "metadata": {},
     "output_type": "execute_result"
    }
   ],
   "source": [
    "# retornar los mejores modelos de la sintonización con GridSearchCV\n",
    "grid_lr.best_estimator_"
   ]
  },
  {
   "cell_type": "code",
   "execution_count": 87,
   "metadata": {},
   "outputs": [
    {
     "name": "stdout",
     "output_type": "stream",
     "text": [
      "Mejores parámetros Regresión Logistica: {'C': 2.641052631578947, 'penalty': 'l2'}\n",
      "Mejores parámetros Árbol de Decisión: {'criterion': 'gini', 'max_depth': 1, 'min_samples_leaf': 1}\n",
      "Mejores parámetros Random Forest: {'criterion': 'entropy', 'min_samples_leaf': 2, 'n_estimators': 100}\n",
      "Mejores parámetros AdaBoost: {'learning_rate': 0.01, 'n_estimators': 50}\n",
      "Mejores parámetros XGBoost: {'n_estimators': 521, 'learning_rate': 0.01, 'booster': 'gbtree'}\n",
      "\n",
      "Mejores score de Promedio K-Fold Regresión Logistica: 0.5464223385689355\n",
      "Mejores score de Promedio K-Fold Árbol de Decisión: 0.9572698516579405\n",
      "Mejores score de Promedio K-Fold Random Forest: 0.7861965532286213\n",
      "Mejores score de Promedio K-Fold AdaBoost: 0.8383780541012216\n",
      "Mejores score de Promedio K-Fold XGBoost: 0.7507471640488657\n"
     ]
    }
   ],
   "source": [
    "###Resultados de optimizador de hiperparámetros GridSearchCV/RandomizedSearch\n",
    "# retornar los resultados de la K-Fold (cv=5) sobre los datos de entrenamientot\n",
    "grid_lr.cv_results_\n",
    "\n",
    "# print los mejores hiper parametros de cada modelo\n",
    "print(\"Mejores parámetros Regresión Logistica:\", grid_lr.best_params_)\n",
    "print(\"Mejores parámetros Árbol de Decisión:\", grid_dt.best_params_)\n",
    "print(\"Mejores parámetros Random Forest:\", grid_rf.best_params_)\n",
    "print(\"Mejores parámetros AdaBoost:\", grid_ada.best_params_)\n",
    "print(\"Mejores parámetros XGBoost:\", rs_xgb.best_params_)\n",
    "print('')\n",
    "\n",
    "# mejores modelos obtenidos por sintonización mediante GridSearchCV y Randomized Search para cada modelo\n",
    "lr_op = grid_lr.best_estimator_\n",
    "dt_op = grid_dt.best_estimator_\n",
    "rf_op = grid_rf.best_estimator_\n",
    "ada_op = grid_ada.best_estimator_\n",
    "xgb_op = rs_xgb.best_estimator_\n",
    "\n",
    "# calcular el promedio de la métrica de evaluación a maximizar \n",
    "mean_lr_spec = grid_lr.best_score_\n",
    "mean_dt_spec = grid_dt.best_score_\n",
    "mean_rf_spec = grid_rf.best_score_\n",
    "mean_ada_spec = grid_ada.best_score_\n",
    "mean_xgb_spec = rs_xgb.best_score_\n",
    "\n",
    "# print los mejores hiper parametros de cada modelo\n",
    "print(\"Mejores score de Promedio K-Fold Regresión Logistica:\", mean_lr_spec)\n",
    "print(\"Mejores score de Promedio K-Fold Árbol de Decisión:\", mean_dt_spec )\n",
    "print(\"Mejores score de Promedio K-Fold Random Forest:\", mean_rf_spec)\n",
    "print(\"Mejores score de Promedio K-Fold AdaBoost:\", mean_ada_spec)\n",
    "print(\"Mejores score de Promedio K-Fold XGBoost:\", mean_xgb_spec)\n",
    "\n"
   ]
  },
  {
   "cell_type": "code",
   "execution_count": 88,
   "metadata": {},
   "outputs": [
    {
     "data": {
      "text/plain": [
       "{'criterion': 'gini', 'max_depth': 1, 'min_samples_leaf': 1}"
      ]
     },
     "execution_count": 88,
     "metadata": {},
     "output_type": "execute_result"
    }
   ],
   "source": [
    "grid_dt.best_params_"
   ]
  },
  {
   "cell_type": "markdown",
   "metadata": {},
   "source": [
    "## Parte 1B\n",
    "\n",
    "### Boosting & Bagging\n",
    "\n",
    "Para este caso utilice 100 clasificadores de Árbol de Decisión con los mejores parámetros obtenidos a partir del GridSearch realizado anteriormente."
   ]
  },
  {
   "cell_type": "code",
   "execution_count": 93,
   "metadata": {},
   "outputs": [
    {
     "name": "stdout",
     "output_type": "stream",
     "text": [
      "Fitting 5 folds for each of 120 candidates, totalling 600 fits\n"
     ]
    },
    {
     "name": "stderr",
     "output_type": "stream",
     "text": [
      "[Parallel(n_jobs=4)]: Using backend LokyBackend with 4 concurrent workers.\n",
      "[Parallel(n_jobs=4)]: Done   2 out of   4 | elapsed:    0.0s remaining:    0.0s\n",
      "[Parallel(n_jobs=4)]: Done   4 out of   4 | elapsed:    0.0s finished\n"
     ]
    },
    {
     "name": "stdout",
     "output_type": "stream",
     "text": [
      "Mejores parámetros Bagging Classifier: {'max_features': 1, 'max_samples': 1, 'oob_score': True}\n",
      "Mejores score de Promedio K-Fold Bagging Classifier: 0.8\n"
     ]
    },
    {
     "data": {
      "text/plain": [
       "BaggingClassifier(max_features=1, max_samples=1, n_estimators=100, n_jobs=-1,\n",
       "                  oob_score=True, random_state=100, verbose=1)"
      ]
     },
     "execution_count": 93,
     "metadata": {},
     "output_type": "execute_result"
    }
   ],
   "source": [
    "####Bagging\n",
    "# crear modelo de Bagging ( arboles de decision ajustados/fit con bootstrap)\n",
    "bagging = BaggingClassifier(n_estimators = 100, n_jobs=-1, random_state= 100, verbose = 3)\n",
    "\n",
    "#XGBoost\n",
    "# crear GridSearchCV de hiperparametros\n",
    "params_bagg = { 'oob_score':[True,False] }\n",
    "grid_bagg =  GridSearchCV(bagging, param_grid=params_bagg, scoring= make_scorer(recall_score,pos_label=0), cv=5, verbose = 3)\n",
    "\n",
    "# ajustar/entrenar optimizar de hiper parametros con datos de entrenamiento\n",
    "grid_bagg.fit(X_train, y_train)\n",
    "\n",
    "# print los mejores hiper parametros de modelo\n",
    "print(\"Mejores parámetros Bagging Classifier:\", grid_bagg.best_params_)\n",
    "\n",
    "# contruir el mejor modelo obtenido de GridSearchCV\n",
    "bagg_op = grid_bagg.best_estimator_\n",
    "\n",
    "# calcular el promedio de la métrica de evaluación a maximizar \n",
    "mean_bagg_spec = grid_bagg.best_score_\n",
    "\n",
    "# print los mejores hiper parametros de cada modelo\n",
    "print(\"Mejores score de Promedio K-Fold Bagging Classifier:\", mean_bagg_spec)\n",
    "\n",
    "bagg_op"
   ]
  },
  {
   "cell_type": "markdown",
   "metadata": {},
   "source": [
    "### Métricas de Evaluación\n",
    "\n",
    "A continuación podrá observar un resumen con las precisiones de cada modelo y posteriormente su representación gráfica."
   ]
  },
  {
   "cell_type": "code",
   "execution_count": 94,
   "metadata": {},
   "outputs": [
    {
     "data": {
      "text/plain": [
       "[('Regresión Logística',\n",
       "  LogisticRegression(C=2.641052631578947, n_jobs=-1, random_state=100)),\n",
       " ('Árbol de Decisión', DecisionTreeClassifier(max_depth=1, random_state=100)),\n",
       " ('Random Forest',\n",
       "  RandomForestClassifier(criterion='entropy', max_depth=7, max_features=3,\n",
       "                         min_samples_leaf=2, n_jobs=-1, random_state=100,\n",
       "                         verbose=1)),\n",
       " ('AdaBoost', AdaBoostClassifier(learning_rate=0.01, random_state=100)),\n",
       " ('Bagging',\n",
       "  BaggingClassifier(max_features=1, max_samples=1, n_estimators=100, n_jobs=-1,\n",
       "                    oob_score=True, random_state=100, verbose=1)),\n",
       " ('XGBoost',\n",
       "  XGBClassifier(base_score=0.5, booster='gbtree', colsample_bylevel=1,\n",
       "                colsample_bynode=1, colsample_bytree=1, enable_categorical=False,\n",
       "                gamma=0, gpu_id=-1, importance_type=None,\n",
       "                interaction_constraints='', learning_rate=0.01, max_delta_step=0,\n",
       "                max_depth=7, min_child_weight=1, missing=nan,\n",
       "                monotone_constraints='()', n_estimators=521, n_jobs=4,\n",
       "                num_parallel_tree=1, predictor='auto', random_state=100,\n",
       "                reg_alpha=0, reg_lambda=1, scale_pos_weight=1, subsample=1,\n",
       "                tree_method='exact', validate_parameters=1, verbosity=3))]"
      ]
     },
     "execution_count": 94,
     "metadata": {},
     "output_type": "execute_result"
    }
   ],
   "source": [
    "classifiers = [('Regresión Logística', lr_op),\n",
    "               ('Árbol de Decisión', dt_op), ('Random Forest', rf_op), ('AdaBoost', ada_op),\n",
    "               ('Bagging', bagg_op), ('XGBoost', xgb_op)]\n",
    "\n",
    "classifiers"
   ]
  },
  {
   "cell_type": "code",
   "execution_count": 109,
   "metadata": {},
   "outputs": [
    {
     "name": "stdout",
     "output_type": "stream",
     "text": [
      "     0    1\n",
      "0  126  115\n",
      "1  104  135\n",
      "\n",
      "Regresión Logística : 0.56\n",
      "Regresión Logística : 0.54\n",
      "Regresión Logística : 0.56\n",
      "Regresión Logística : 0.54\n",
      "Regresión Logística : 0.55\n",
      "     0   1\n",
      "0  238   3\n",
      "1  226  13\n",
      "\n",
      "Árbol de Decisión : 0.05\n",
      "Árbol de Decisión : 0.52\n",
      "Árbol de Decisión : 0.05\n",
      "Árbol de Decisión : 0.81\n",
      "Árbol de Decisión : 0.10\n"
     ]
    },
    {
     "name": "stderr",
     "output_type": "stream",
     "text": [
      "[Parallel(n_jobs=-1)]: Using backend ThreadingBackend with 4 concurrent workers.\n",
      "[Parallel(n_jobs=-1)]: Done  42 tasks      | elapsed:    0.3s\n",
      "[Parallel(n_jobs=-1)]: Done 100 out of 100 | elapsed:    0.5s finished\n",
      "[Parallel(n_jobs=4)]: Using backend ThreadingBackend with 4 concurrent workers.\n",
      "[Parallel(n_jobs=4)]: Done  42 tasks      | elapsed:    0.0s\n",
      "[Parallel(n_jobs=4)]: Done 100 out of 100 | elapsed:    0.0s finished\n"
     ]
    },
    {
     "name": "stdout",
     "output_type": "stream",
     "text": [
      "     0    1\n",
      "0  200   41\n",
      "1   81  158\n",
      "\n",
      "Random Forest : 0.66\n",
      "Random Forest : 0.75\n",
      "Random Forest : 0.66\n",
      "Random Forest : 0.79\n",
      "Random Forest : 0.72\n",
      "     0   1\n",
      "0  222  19\n",
      "1  198  41\n",
      "\n",
      "AdaBoost : 0.17\n",
      "AdaBoost : 0.55\n",
      "AdaBoost : 0.17\n",
      "AdaBoost : 0.68\n",
      "AdaBoost : 0.27\n"
     ]
    },
    {
     "name": "stderr",
     "output_type": "stream",
     "text": [
      "[Parallel(n_jobs=4)]: Using backend LokyBackend with 4 concurrent workers.\n",
      "[Parallel(n_jobs=4)]: Done   2 out of   4 | elapsed:    0.5s remaining:    0.5s\n",
      "[Parallel(n_jobs=4)]: Done   4 out of   4 | elapsed:    1.6s finished\n",
      "[Parallel(n_jobs=4)]: Using backend LokyBackend with 4 concurrent workers.\n",
      "[Parallel(n_jobs=4)]: Done   2 out of   4 | elapsed:    0.0s remaining:    0.0s\n",
      "[Parallel(n_jobs=4)]: Done   4 out of   4 | elapsed:    0.0s finished\n"
     ]
    },
    {
     "name": "stdout",
     "output_type": "stream",
     "text": [
      "   0    1\n",
      "0  0  241\n",
      "1  0  239\n",
      "\n",
      "Bagging : 1.00\n",
      "Bagging : 0.50\n",
      "Bagging : 1.00\n",
      "Bagging : 0.50\n",
      "Bagging : 0.66\n"
     ]
    },
    {
     "name": "stderr",
     "output_type": "stream",
     "text": [
      "C:\\Users\\Diego\\miniconda3\\lib\\site-packages\\xgboost\\sklearn.py:1224: UserWarning: The use of label encoder in XGBClassifier is deprecated and will be removed in a future release. To remove this warning, do the following: 1) Pass option use_label_encoder=False when constructing XGBClassifier object; and 2) Encode your labels (y) as integers starting with 0, i.e. 0, 1, 2, ..., [num_class - 1].\n",
      "  warnings.warn(label_encoder_deprecation_msg, UserWarning)\n"
     ]
    },
    {
     "name": "stdout",
     "output_type": "stream",
     "text": [
      "[17:58:46] INFO: C:\\Windows\\Temp\\abs_557yfx631l\\croots\\recipe\\xgboost-split_1659548953302\\work\\src\\tree\\updater_prune.cc:101: tree pruning end, 88 extra nodes, 0 pruned nodes, max_depth=7\n",
      "[17:58:46] WARNING: C:\\Windows\\Temp\\abs_557yfx631l\\croots\\recipe\\xgboost-split_1659548953302\\work\\src\\learner.cc:1115: Starting in XGBoost 1.3.0, the default evaluation metric used with the objective 'binary:logistic' was changed from 'error' to 'logloss'. Explicitly set eval_metric if you'd like to restore the old behavior.\n",
      "[17:58:46] INFO: C:\\Windows\\Temp\\abs_557yfx631l\\croots\\recipe\\xgboost-split_1659548953302\\work\\src\\tree\\updater_prune.cc:101: tree pruning end, 78 extra nodes, 0 pruned nodes, max_depth=7\n",
      "[17:58:46] INFO: C:\\Windows\\Temp\\abs_557yfx631l\\croots\\recipe\\xgboost-split_1659548953302\\work\\src\\tree\\updater_prune.cc:101: tree pruning end, 78 extra nodes, 0 pruned nodes, max_depth=7\n",
      "[17:58:46] INFO: C:\\Windows\\Temp\\abs_557yfx631l\\croots\\recipe\\xgboost-split_1659548953302\\work\\src\\tree\\updater_prune.cc:101: tree pruning end, 72 extra nodes, 0 pruned nodes, max_depth=7\n",
      "[17:58:46] INFO: C:\\Windows\\Temp\\abs_557yfx631l\\croots\\recipe\\xgboost-split_1659548953302\\work\\src\\tree\\updater_prune.cc:101: tree pruning end, 78 extra nodes, 0 pruned nodes, max_depth=7\n",
      "[17:58:46] INFO: C:\\Windows\\Temp\\abs_557yfx631l\\croots\\recipe\\xgboost-split_1659548953302\\work\\src\\tree\\updater_prune.cc:101: tree pruning end, 78 extra nodes, 0 pruned nodes, max_depth=7\n",
      "[17:58:46] INFO: C:\\Windows\\Temp\\abs_557yfx631l\\croots\\recipe\\xgboost-split_1659548953302\\work\\src\\tree\\updater_prune.cc:101: tree pruning end, 72 extra nodes, 0 pruned nodes, max_depth=7\n",
      "[17:58:46] INFO: C:\\Windows\\Temp\\abs_557yfx631l\\croots\\recipe\\xgboost-split_1659548953302\\work\\src\\tree\\updater_prune.cc:101: tree pruning end, 78 extra nodes, 0 pruned nodes, max_depth=7\n",
      "[17:58:46] INFO: C:\\Windows\\Temp\\abs_557yfx631l\\croots\\recipe\\xgboost-split_1659548953302\\work\\src\\tree\\updater_prune.cc:101: tree pruning end, 78 extra nodes, 0 pruned nodes, max_depth=7\n",
      "[17:58:46] INFO: C:\\Windows\\Temp\\abs_557yfx631l\\croots\\recipe\\xgboost-split_1659548953302\\work\\src\\tree\\updater_prune.cc:101: tree pruning end, 76 extra nodes, 0 pruned nodes, max_depth=7\n",
      "[17:58:46] INFO: C:\\Windows\\Temp\\abs_557yfx631l\\croots\\recipe\\xgboost-split_1659548953302\\work\\src\\tree\\updater_prune.cc:101: tree pruning end, 74 extra nodes, 0 pruned nodes, max_depth=7\n",
      "[17:58:46] INFO: C:\\Windows\\Temp\\abs_557yfx631l\\croots\\recipe\\xgboost-split_1659548953302\\work\\src\\tree\\updater_prune.cc:101: tree pruning end, 88 extra nodes, 0 pruned nodes, max_depth=7\n",
      "[17:58:46] INFO: C:\\Windows\\Temp\\abs_557yfx631l\\croots\\recipe\\xgboost-split_1659548953302\\work\\src\\tree\\updater_prune.cc:101: tree pruning end, 76 extra nodes, 0 pruned nodes, max_depth=7\n",
      "[17:58:46] INFO: C:\\Windows\\Temp\\abs_557yfx631l\\croots\\recipe\\xgboost-split_1659548953302\\work\\src\\tree\\updater_prune.cc:101: tree pruning end, 88 extra nodes, 0 pruned nodes, max_depth=7\n",
      "[17:58:46] INFO: C:\\Windows\\Temp\\abs_557yfx631l\\croots\\recipe\\xgboost-split_1659548953302\\work\\src\\tree\\updater_prune.cc:101: tree pruning end, 84 extra nodes, 0 pruned nodes, max_depth=7\n",
      "[17:58:46] INFO: C:\\Windows\\Temp\\abs_557yfx631l\\croots\\recipe\\xgboost-split_1659548953302\\work\\src\\tree\\updater_prune.cc:101: tree pruning end, 88 extra nodes, 0 pruned nodes, max_depth=7\n",
      "[17:58:46] INFO: C:\\Windows\\Temp\\abs_557yfx631l\\croots\\recipe\\xgboost-split_1659548953302\\work\\src\\tree\\updater_prune.cc:101: tree pruning end, 82 extra nodes, 0 pruned nodes, max_depth=7\n",
      "[17:58:46] INFO: C:\\Windows\\Temp\\abs_557yfx631l\\croots\\recipe\\xgboost-split_1659548953302\\work\\src\\tree\\updater_prune.cc:101: tree pruning end, 92 extra nodes, 0 pruned nodes, max_depth=7\n",
      "[17:58:46] INFO: C:\\Windows\\Temp\\abs_557yfx631l\\croots\\recipe\\xgboost-split_1659548953302\\work\\src\\tree\\updater_prune.cc:101: tree pruning end, 88 extra nodes, 0 pruned nodes, max_depth=7\n",
      "[17:58:46] INFO: C:\\Windows\\Temp\\abs_557yfx631l\\croots\\recipe\\xgboost-split_1659548953302\\work\\src\\tree\\updater_prune.cc:101: tree pruning end, 90 extra nodes, 0 pruned nodes, max_depth=7\n",
      "[17:58:46] INFO: C:\\Windows\\Temp\\abs_557yfx631l\\croots\\recipe\\xgboost-split_1659548953302\\work\\src\\tree\\updater_prune.cc:101: tree pruning end, 84 extra nodes, 0 pruned nodes, max_depth=7\n",
      "[17:58:46] INFO: C:\\Windows\\Temp\\abs_557yfx631l\\croots\\recipe\\xgboost-split_1659548953302\\work\\src\\tree\\updater_prune.cc:101: tree pruning end, 88 extra nodes, 0 pruned nodes, max_depth=7\n",
      "[17:58:46] INFO: C:\\Windows\\Temp\\abs_557yfx631l\\croots\\recipe\\xgboost-split_1659548953302\\work\\src\\tree\\updater_prune.cc:101: tree pruning end, 90 extra nodes, 0 pruned nodes, max_depth=7\n",
      "[17:58:46] INFO: C:\\Windows\\Temp\\abs_557yfx631l\\croots\\recipe\\xgboost-split_1659548953302\\work\\src\\tree\\updater_prune.cc:101: tree pruning end, 86 extra nodes, 0 pruned nodes, max_depth=7\n",
      "[17:58:46] INFO: C:\\Windows\\Temp\\abs_557yfx631l\\croots\\recipe\\xgboost-split_1659548953302\\work\\src\\tree\\updater_prune.cc:101: tree pruning end, 92 extra nodes, 0 pruned nodes, max_depth=7\n",
      "[17:58:46] INFO: C:\\Windows\\Temp\\abs_557yfx631l\\croots\\recipe\\xgboost-split_1659548953302\\work\\src\\tree\\updater_prune.cc:101: tree pruning end, 86 extra nodes, 0 pruned nodes, max_depth=7\n",
      "[17:58:46] INFO: C:\\Windows\\Temp\\abs_557yfx631l\\croots\\recipe\\xgboost-split_1659548953302\\work\\src\\tree\\updater_prune.cc:101: tree pruning end, 92 extra nodes, 0 pruned nodes, max_depth=7\n",
      "[17:58:46] INFO: C:\\Windows\\Temp\\abs_557yfx631l\\croots\\recipe\\xgboost-split_1659548953302\\work\\src\\tree\\updater_prune.cc:101: tree pruning end, 88 extra nodes, 0 pruned nodes, max_depth=7\n",
      "[17:58:46] INFO: C:\\Windows\\Temp\\abs_557yfx631l\\croots\\recipe\\xgboost-split_1659548953302\\work\\src\\tree\\updater_prune.cc:101: tree pruning end, 92 extra nodes, 0 pruned nodes, max_depth=7\n",
      "[17:58:46] INFO: C:\\Windows\\Temp\\abs_557yfx631l\\croots\\recipe\\xgboost-split_1659548953302\\work\\src\\tree\\updater_prune.cc:101: tree pruning end, 90 extra nodes, 0 pruned nodes, max_depth=7\n",
      "[17:58:46] INFO: C:\\Windows\\Temp\\abs_557yfx631l\\croots\\recipe\\xgboost-split_1659548953302\\work\\src\\tree\\updater_prune.cc:101: tree pruning end, 94 extra nodes, 0 pruned nodes, max_depth=7\n",
      "[17:58:46] INFO: C:\\Windows\\Temp\\abs_557yfx631l\\croots\\recipe\\xgboost-split_1659548953302\\work\\src\\tree\\updater_prune.cc:101: tree pruning end, 94 extra nodes, 0 pruned nodes, max_depth=7\n",
      "[17:58:46] INFO: C:\\Windows\\Temp\\abs_557yfx631l\\croots\\recipe\\xgboost-split_1659548953302\\work\\src\\tree\\updater_prune.cc:101: tree pruning end, 86 extra nodes, 0 pruned nodes, max_depth=7\n",
      "[17:58:46] INFO: C:\\Windows\\Temp\\abs_557yfx631l\\croots\\recipe\\xgboost-split_1659548953302\\work\\src\\tree\\updater_prune.cc:101: tree pruning end, 86 extra nodes, 0 pruned nodes, max_depth=7\n",
      "[17:58:46] INFO: C:\\Windows\\Temp\\abs_557yfx631l\\croots\\recipe\\xgboost-split_1659548953302\\work\\src\\tree\\updater_prune.cc:101: tree pruning end, 94 extra nodes, 0 pruned nodes, max_depth=7\n",
      "[17:58:46] INFO: C:\\Windows\\Temp\\abs_557yfx631l\\croots\\recipe\\xgboost-split_1659548953302\\work\\src\\tree\\updater_prune.cc:101: tree pruning end, 94 extra nodes, 0 pruned nodes, max_depth=7\n",
      "[17:58:46] INFO: C:\\Windows\\Temp\\abs_557yfx631l\\croots\\recipe\\xgboost-split_1659548953302\\work\\src\\tree\\updater_prune.cc:101: tree pruning end, 90 extra nodes, 0 pruned nodes, max_depth=7\n",
      "[17:58:46] INFO: C:\\Windows\\Temp\\abs_557yfx631l\\croots\\recipe\\xgboost-split_1659548953302\\work\\src\\tree\\updater_prune.cc:101: tree pruning end, 84 extra nodes, 0 pruned nodes, max_depth=7\n",
      "[17:58:46] INFO: C:\\Windows\\Temp\\abs_557yfx631l\\croots\\recipe\\xgboost-split_1659548953302\\work\\src\\tree\\updater_prune.cc:101: tree pruning end, 92 extra nodes, 0 pruned nodes, max_depth=7\n",
      "[17:58:46] INFO: C:\\Windows\\Temp\\abs_557yfx631l\\croots\\recipe\\xgboost-split_1659548953302\\work\\src\\tree\\updater_prune.cc:101: tree pruning end, 88 extra nodes, 0 pruned nodes, max_depth=7\n",
      "[17:58:46] INFO: C:\\Windows\\Temp\\abs_557yfx631l\\croots\\recipe\\xgboost-split_1659548953302\\work\\src\\tree\\updater_prune.cc:101: tree pruning end, 94 extra nodes, 0 pruned nodes, max_depth=7\n",
      "[17:58:46] INFO: C:\\Windows\\Temp\\abs_557yfx631l\\croots\\recipe\\xgboost-split_1659548953302\\work\\src\\tree\\updater_prune.cc:101: tree pruning end, 86 extra nodes, 0 pruned nodes, max_depth=7\n",
      "[17:58:46] INFO: C:\\Windows\\Temp\\abs_557yfx631l\\croots\\recipe\\xgboost-split_1659548953302\\work\\src\\tree\\updater_prune.cc:101: tree pruning end, 94 extra nodes, 0 pruned nodes, max_depth=7\n",
      "[17:58:46] INFO: C:\\Windows\\Temp\\abs_557yfx631l\\croots\\recipe\\xgboost-split_1659548953302\\work\\src\\tree\\updater_prune.cc:101: tree pruning end, 94 extra nodes, 0 pruned nodes, max_depth=7\n",
      "[17:58:46] INFO: C:\\Windows\\Temp\\abs_557yfx631l\\croots\\recipe\\xgboost-split_1659548953302\\work\\src\\tree\\updater_prune.cc:101: tree pruning end, 88 extra nodes, 0 pruned nodes, max_depth=7\n",
      "[17:58:46] INFO: C:\\Windows\\Temp\\abs_557yfx631l\\croots\\recipe\\xgboost-split_1659548953302\\work\\src\\tree\\updater_prune.cc:101: tree pruning end, 78 extra nodes, 0 pruned nodes, max_depth=7\n",
      "[17:58:46] INFO: C:\\Windows\\Temp\\abs_557yfx631l\\croots\\recipe\\xgboost-split_1659548953302\\work\\src\\tree\\updater_prune.cc:101: tree pruning end, 78 extra nodes, 0 pruned nodes, max_depth=7\n",
      "[17:58:46] INFO: C:\\Windows\\Temp\\abs_557yfx631l\\croots\\recipe\\xgboost-split_1659548953302\\work\\src\\tree\\updater_prune.cc:101: tree pruning end, 80 extra nodes, 0 pruned nodes, max_depth=7\n",
      "[17:58:46] INFO: C:\\Windows\\Temp\\abs_557yfx631l\\croots\\recipe\\xgboost-split_1659548953302\\work\\src\\tree\\updater_prune.cc:101: tree pruning end, 78 extra nodes, 0 pruned nodes, max_depth=7\n",
      "[17:58:46] INFO: C:\\Windows\\Temp\\abs_557yfx631l\\croots\\recipe\\xgboost-split_1659548953302\\work\\src\\tree\\updater_prune.cc:101: tree pruning end, 84 extra nodes, 0 pruned nodes, max_depth=7\n",
      "[17:58:46] INFO: C:\\Windows\\Temp\\abs_557yfx631l\\croots\\recipe\\xgboost-split_1659548953302\\work\\src\\tree\\updater_prune.cc:101: tree pruning end, 80 extra nodes, 0 pruned nodes, max_depth=7\n",
      "[17:58:46] INFO: C:\\Windows\\Temp\\abs_557yfx631l\\croots\\recipe\\xgboost-split_1659548953302\\work\\src\\tree\\updater_prune.cc:101: tree pruning end, 68 extra nodes, 0 pruned nodes, max_depth=7\n",
      "[17:58:46] INFO: C:\\Windows\\Temp\\abs_557yfx631l\\croots\\recipe\\xgboost-split_1659548953302\\work\\src\\tree\\updater_prune.cc:101: tree pruning end, 80 extra nodes, 0 pruned nodes, max_depth=7\n",
      "[17:58:46] INFO: C:\\Windows\\Temp\\abs_557yfx631l\\croots\\recipe\\xgboost-split_1659548953302\\work\\src\\tree\\updater_prune.cc:101: tree pruning end, 108 extra nodes, 0 pruned nodes, max_depth=7\n",
      "[17:58:46] INFO: C:\\Windows\\Temp\\abs_557yfx631l\\croots\\recipe\\xgboost-split_1659548953302\\work\\src\\tree\\updater_prune.cc:101: tree pruning end, 68 extra nodes, 0 pruned nodes, max_depth=7\n",
      "[17:58:46] INFO: C:\\Windows\\Temp\\abs_557yfx631l\\croots\\recipe\\xgboost-split_1659548953302\\work\\src\\tree\\updater_prune.cc:101: tree pruning end, 68 extra nodes, 0 pruned nodes, max_depth=7\n",
      "[17:58:46] INFO: C:\\Windows\\Temp\\abs_557yfx631l\\croots\\recipe\\xgboost-split_1659548953302\\work\\src\\tree\\updater_prune.cc:101: tree pruning end, 108 extra nodes, 0 pruned nodes, max_depth=7\n",
      "[17:58:46] INFO: C:\\Windows\\Temp\\abs_557yfx631l\\croots\\recipe\\xgboost-split_1659548953302\\work\\src\\tree\\updater_prune.cc:101: tree pruning end, 76 extra nodes, 0 pruned nodes, max_depth=7\n",
      "[17:58:46] INFO: C:\\Windows\\Temp\\abs_557yfx631l\\croots\\recipe\\xgboost-split_1659548953302\\work\\src\\tree\\updater_prune.cc:101: tree pruning end, 66 extra nodes, 0 pruned nodes, max_depth=7\n",
      "[17:58:46] INFO: C:\\Windows\\Temp\\abs_557yfx631l\\croots\\recipe\\xgboost-split_1659548953302\\work\\src\\tree\\updater_prune.cc:101: tree pruning end, 68 extra nodes, 0 pruned nodes, max_depth=7\n",
      "[17:58:46] INFO: C:\\Windows\\Temp\\abs_557yfx631l\\croots\\recipe\\xgboost-split_1659548953302\\work\\src\\tree\\updater_prune.cc:101: tree pruning end, 66 extra nodes, 0 pruned nodes, max_depth=7\n",
      "[17:58:46] INFO: C:\\Windows\\Temp\\abs_557yfx631l\\croots\\recipe\\xgboost-split_1659548953302\\work\\src\\tree\\updater_prune.cc:101: tree pruning end, 68 extra nodes, 0 pruned nodes, max_depth=7\n",
      "[17:58:46] INFO: C:\\Windows\\Temp\\abs_557yfx631l\\croots\\recipe\\xgboost-split_1659548953302\\work\\src\\tree\\updater_prune.cc:101: tree pruning end, 68 extra nodes, 0 pruned nodes, max_depth=7\n",
      "[17:58:46] INFO: C:\\Windows\\Temp\\abs_557yfx631l\\croots\\recipe\\xgboost-split_1659548953302\\work\\src\\tree\\updater_prune.cc:101: tree pruning end, 64 extra nodes, 0 pruned nodes, max_depth=7\n",
      "[17:58:46] INFO: C:\\Windows\\Temp\\abs_557yfx631l\\croots\\recipe\\xgboost-split_1659548953302\\work\\src\\tree\\updater_prune.cc:101: tree pruning end, 68 extra nodes, 0 pruned nodes, max_depth=7\n"
     ]
    },
    {
     "name": "stdout",
     "output_type": "stream",
     "text": [
      "[17:58:46] INFO: C:\\Windows\\Temp\\abs_557yfx631l\\croots\\recipe\\xgboost-split_1659548953302\\work\\src\\tree\\updater_prune.cc:101: tree pruning end, 68 extra nodes, 0 pruned nodes, max_depth=7\n",
      "[17:58:46] INFO: C:\\Windows\\Temp\\abs_557yfx631l\\croots\\recipe\\xgboost-split_1659548953302\\work\\src\\tree\\updater_prune.cc:101: tree pruning end, 64 extra nodes, 0 pruned nodes, max_depth=7\n",
      "[17:58:46] INFO: C:\\Windows\\Temp\\abs_557yfx631l\\croots\\recipe\\xgboost-split_1659548953302\\work\\src\\tree\\updater_prune.cc:101: tree pruning end, 108 extra nodes, 0 pruned nodes, max_depth=7\n",
      "[17:58:46] INFO: C:\\Windows\\Temp\\abs_557yfx631l\\croots\\recipe\\xgboost-split_1659548953302\\work\\src\\tree\\updater_prune.cc:101: tree pruning end, 70 extra nodes, 0 pruned nodes, max_depth=7\n",
      "[17:58:46] INFO: C:\\Windows\\Temp\\abs_557yfx631l\\croots\\recipe\\xgboost-split_1659548953302\\work\\src\\tree\\updater_prune.cc:101: tree pruning end, 62 extra nodes, 0 pruned nodes, max_depth=7\n",
      "[17:58:46] INFO: C:\\Windows\\Temp\\abs_557yfx631l\\croots\\recipe\\xgboost-split_1659548953302\\work\\src\\tree\\updater_prune.cc:101: tree pruning end, 70 extra nodes, 0 pruned nodes, max_depth=7\n",
      "[17:58:46] INFO: C:\\Windows\\Temp\\abs_557yfx631l\\croots\\recipe\\xgboost-split_1659548953302\\work\\src\\tree\\updater_prune.cc:101: tree pruning end, 72 extra nodes, 0 pruned nodes, max_depth=7\n",
      "[17:58:46] INFO: C:\\Windows\\Temp\\abs_557yfx631l\\croots\\recipe\\xgboost-split_1659548953302\\work\\src\\tree\\updater_prune.cc:101: tree pruning end, 88 extra nodes, 0 pruned nodes, max_depth=7\n",
      "[17:58:46] INFO: C:\\Windows\\Temp\\abs_557yfx631l\\croots\\recipe\\xgboost-split_1659548953302\\work\\src\\tree\\updater_prune.cc:101: tree pruning end, 74 extra nodes, 0 pruned nodes, max_depth=7\n",
      "[17:58:46] INFO: C:\\Windows\\Temp\\abs_557yfx631l\\croots\\recipe\\xgboost-split_1659548953302\\work\\src\\tree\\updater_prune.cc:101: tree pruning end, 74 extra nodes, 0 pruned nodes, max_depth=7\n",
      "[17:58:46] INFO: C:\\Windows\\Temp\\abs_557yfx631l\\croots\\recipe\\xgboost-split_1659548953302\\work\\src\\tree\\updater_prune.cc:101: tree pruning end, 86 extra nodes, 0 pruned nodes, max_depth=7\n",
      "[17:58:46] INFO: C:\\Windows\\Temp\\abs_557yfx631l\\croots\\recipe\\xgboost-split_1659548953302\\work\\src\\tree\\updater_prune.cc:101: tree pruning end, 72 extra nodes, 0 pruned nodes, max_depth=7\n",
      "[17:58:46] INFO: C:\\Windows\\Temp\\abs_557yfx631l\\croots\\recipe\\xgboost-split_1659548953302\\work\\src\\tree\\updater_prune.cc:101: tree pruning end, 74 extra nodes, 0 pruned nodes, max_depth=7\n",
      "[17:58:46] INFO: C:\\Windows\\Temp\\abs_557yfx631l\\croots\\recipe\\xgboost-split_1659548953302\\work\\src\\tree\\updater_prune.cc:101: tree pruning end, 74 extra nodes, 0 pruned nodes, max_depth=7\n",
      "[17:58:46] INFO: C:\\Windows\\Temp\\abs_557yfx631l\\croots\\recipe\\xgboost-split_1659548953302\\work\\src\\tree\\updater_prune.cc:101: tree pruning end, 86 extra nodes, 0 pruned nodes, max_depth=7\n",
      "[17:58:46] INFO: C:\\Windows\\Temp\\abs_557yfx631l\\croots\\recipe\\xgboost-split_1659548953302\\work\\src\\tree\\updater_prune.cc:101: tree pruning end, 82 extra nodes, 0 pruned nodes, max_depth=7\n",
      "[17:58:46] INFO: C:\\Windows\\Temp\\abs_557yfx631l\\croots\\recipe\\xgboost-split_1659548953302\\work\\src\\tree\\updater_prune.cc:101: tree pruning end, 86 extra nodes, 0 pruned nodes, max_depth=7\n",
      "[17:58:46] INFO: C:\\Windows\\Temp\\abs_557yfx631l\\croots\\recipe\\xgboost-split_1659548953302\\work\\src\\tree\\updater_prune.cc:101: tree pruning end, 72 extra nodes, 0 pruned nodes, max_depth=7\n",
      "[17:58:46] INFO: C:\\Windows\\Temp\\abs_557yfx631l\\croots\\recipe\\xgboost-split_1659548953302\\work\\src\\tree\\updater_prune.cc:101: tree pruning end, 62 extra nodes, 0 pruned nodes, max_depth=7\n",
      "[17:58:46] INFO: C:\\Windows\\Temp\\abs_557yfx631l\\croots\\recipe\\xgboost-split_1659548953302\\work\\src\\tree\\updater_prune.cc:101: tree pruning end, 82 extra nodes, 0 pruned nodes, max_depth=7\n",
      "[17:58:46] INFO: C:\\Windows\\Temp\\abs_557yfx631l\\croots\\recipe\\xgboost-split_1659548953302\\work\\src\\tree\\updater_prune.cc:101: tree pruning end, 88 extra nodes, 0 pruned nodes, max_depth=7\n",
      "[17:58:46] INFO: C:\\Windows\\Temp\\abs_557yfx631l\\croots\\recipe\\xgboost-split_1659548953302\\work\\src\\tree\\updater_prune.cc:101: tree pruning end, 70 extra nodes, 0 pruned nodes, max_depth=7\n",
      "[17:58:46] INFO: C:\\Windows\\Temp\\abs_557yfx631l\\croots\\recipe\\xgboost-split_1659548953302\\work\\src\\tree\\updater_prune.cc:101: tree pruning end, 58 extra nodes, 0 pruned nodes, max_depth=7\n",
      "[17:58:46] INFO: C:\\Windows\\Temp\\abs_557yfx631l\\croots\\recipe\\xgboost-split_1659548953302\\work\\src\\tree\\updater_prune.cc:101: tree pruning end, 66 extra nodes, 0 pruned nodes, max_depth=7\n",
      "[17:58:46] INFO: C:\\Windows\\Temp\\abs_557yfx631l\\croots\\recipe\\xgboost-split_1659548953302\\work\\src\\tree\\updater_prune.cc:101: tree pruning end, 70 extra nodes, 0 pruned nodes, max_depth=7\n",
      "[17:58:46] INFO: C:\\Windows\\Temp\\abs_557yfx631l\\croots\\recipe\\xgboost-split_1659548953302\\work\\src\\tree\\updater_prune.cc:101: tree pruning end, 58 extra nodes, 0 pruned nodes, max_depth=7\n",
      "[17:58:46] INFO: C:\\Windows\\Temp\\abs_557yfx631l\\croots\\recipe\\xgboost-split_1659548953302\\work\\src\\tree\\updater_prune.cc:101: tree pruning end, 62 extra nodes, 0 pruned nodes, max_depth=7\n",
      "[17:58:46] INFO: C:\\Windows\\Temp\\abs_557yfx631l\\croots\\recipe\\xgboost-split_1659548953302\\work\\src\\tree\\updater_prune.cc:101: tree pruning end, 58 extra nodes, 0 pruned nodes, max_depth=7\n",
      "[17:58:46] INFO: C:\\Windows\\Temp\\abs_557yfx631l\\croots\\recipe\\xgboost-split_1659548953302\\work\\src\\tree\\updater_prune.cc:101: tree pruning end, 62 extra nodes, 0 pruned nodes, max_depth=7\n",
      "[17:58:46] INFO: C:\\Windows\\Temp\\abs_557yfx631l\\croots\\recipe\\xgboost-split_1659548953302\\work\\src\\tree\\updater_prune.cc:101: tree pruning end, 86 extra nodes, 0 pruned nodes, max_depth=7\n",
      "[17:58:46] INFO: C:\\Windows\\Temp\\abs_557yfx631l\\croots\\recipe\\xgboost-split_1659548953302\\work\\src\\tree\\updater_prune.cc:101: tree pruning end, 58 extra nodes, 0 pruned nodes, max_depth=7\n",
      "[17:58:46] INFO: C:\\Windows\\Temp\\abs_557yfx631l\\croots\\recipe\\xgboost-split_1659548953302\\work\\src\\tree\\updater_prune.cc:101: tree pruning end, 82 extra nodes, 0 pruned nodes, max_depth=7\n",
      "[17:58:46] INFO: C:\\Windows\\Temp\\abs_557yfx631l\\croots\\recipe\\xgboost-split_1659548953302\\work\\src\\tree\\updater_prune.cc:101: tree pruning end, 52 extra nodes, 0 pruned nodes, max_depth=7\n",
      "[17:58:46] INFO: C:\\Windows\\Temp\\abs_557yfx631l\\croots\\recipe\\xgboost-split_1659548953302\\work\\src\\tree\\updater_prune.cc:101: tree pruning end, 66 extra nodes, 0 pruned nodes, max_depth=7\n",
      "[17:58:46] INFO: C:\\Windows\\Temp\\abs_557yfx631l\\croots\\recipe\\xgboost-split_1659548953302\\work\\src\\tree\\updater_prune.cc:101: tree pruning end, 58 extra nodes, 0 pruned nodes, max_depth=7\n",
      "[17:58:46] INFO: C:\\Windows\\Temp\\abs_557yfx631l\\croots\\recipe\\xgboost-split_1659548953302\\work\\src\\tree\\updater_prune.cc:101: tree pruning end, 88 extra nodes, 0 pruned nodes, max_depth=7\n",
      "[17:58:46] INFO: C:\\Windows\\Temp\\abs_557yfx631l\\croots\\recipe\\xgboost-split_1659548953302\\work\\src\\tree\\updater_prune.cc:101: tree pruning end, 58 extra nodes, 0 pruned nodes, max_depth=7\n",
      "[17:58:46] INFO: C:\\Windows\\Temp\\abs_557yfx631l\\croots\\recipe\\xgboost-split_1659548953302\\work\\src\\tree\\updater_prune.cc:101: tree pruning end, 86 extra nodes, 0 pruned nodes, max_depth=7\n",
      "[17:58:46] INFO: C:\\Windows\\Temp\\abs_557yfx631l\\croots\\recipe\\xgboost-split_1659548953302\\work\\src\\tree\\updater_prune.cc:101: tree pruning end, 68 extra nodes, 0 pruned nodes, max_depth=7\n",
      "[17:58:46] INFO: C:\\Windows\\Temp\\abs_557yfx631l\\croots\\recipe\\xgboost-split_1659548953302\\work\\src\\tree\\updater_prune.cc:101: tree pruning end, 48 extra nodes, 0 pruned nodes, max_depth=7\n",
      "[17:58:46] INFO: C:\\Windows\\Temp\\abs_557yfx631l\\croots\\recipe\\xgboost-split_1659548953302\\work\\src\\tree\\updater_prune.cc:101: tree pruning end, 70 extra nodes, 0 pruned nodes, max_depth=7\n",
      "[17:58:46] INFO: C:\\Windows\\Temp\\abs_557yfx631l\\croots\\recipe\\xgboost-split_1659548953302\\work\\src\\tree\\updater_prune.cc:101: tree pruning end, 88 extra nodes, 0 pruned nodes, max_depth=7\n",
      "[17:58:46] INFO: C:\\Windows\\Temp\\abs_557yfx631l\\croots\\recipe\\xgboost-split_1659548953302\\work\\src\\tree\\updater_prune.cc:101: tree pruning end, 70 extra nodes, 0 pruned nodes, max_depth=7\n",
      "[17:58:46] INFO: C:\\Windows\\Temp\\abs_557yfx631l\\croots\\recipe\\xgboost-split_1659548953302\\work\\src\\tree\\updater_prune.cc:101: tree pruning end, 48 extra nodes, 0 pruned nodes, max_depth=7\n",
      "[17:58:46] INFO: C:\\Windows\\Temp\\abs_557yfx631l\\croots\\recipe\\xgboost-split_1659548953302\\work\\src\\tree\\updater_prune.cc:101: tree pruning end, 80 extra nodes, 0 pruned nodes, max_depth=7\n",
      "[17:58:46] INFO: C:\\Windows\\Temp\\abs_557yfx631l\\croots\\recipe\\xgboost-split_1659548953302\\work\\src\\tree\\updater_prune.cc:101: tree pruning end, 40 extra nodes, 0 pruned nodes, max_depth=7\n",
      "[17:58:46] INFO: C:\\Windows\\Temp\\abs_557yfx631l\\croots\\recipe\\xgboost-split_1659548953302\\work\\src\\tree\\updater_prune.cc:101: tree pruning end, 96 extra nodes, 0 pruned nodes, max_depth=7\n",
      "[17:58:46] INFO: C:\\Windows\\Temp\\abs_557yfx631l\\croots\\recipe\\xgboost-split_1659548953302\\work\\src\\tree\\updater_prune.cc:101: tree pruning end, 58 extra nodes, 0 pruned nodes, max_depth=7\n",
      "[17:58:46] INFO: C:\\Windows\\Temp\\abs_557yfx631l\\croots\\recipe\\xgboost-split_1659548953302\\work\\src\\tree\\updater_prune.cc:101: tree pruning end, 48 extra nodes, 0 pruned nodes, max_depth=7\n",
      "[17:58:46] INFO: C:\\Windows\\Temp\\abs_557yfx631l\\croots\\recipe\\xgboost-split_1659548953302\\work\\src\\tree\\updater_prune.cc:101: tree pruning end, 40 extra nodes, 0 pruned nodes, max_depth=7\n",
      "[17:58:46] INFO: C:\\Windows\\Temp\\abs_557yfx631l\\croots\\recipe\\xgboost-split_1659548953302\\work\\src\\tree\\updater_prune.cc:101: tree pruning end, 70 extra nodes, 0 pruned nodes, max_depth=7\n",
      "[17:58:46] INFO: C:\\Windows\\Temp\\abs_557yfx631l\\croots\\recipe\\xgboost-split_1659548953302\\work\\src\\tree\\updater_prune.cc:101: tree pruning end, 94 extra nodes, 0 pruned nodes, max_depth=7\n",
      "[17:58:46] INFO: C:\\Windows\\Temp\\abs_557yfx631l\\croots\\recipe\\xgboost-split_1659548953302\\work\\src\\tree\\updater_prune.cc:101: tree pruning end, 58 extra nodes, 0 pruned nodes, max_depth=7\n",
      "[17:58:46] INFO: C:\\Windows\\Temp\\abs_557yfx631l\\croots\\recipe\\xgboost-split_1659548953302\\work\\src\\tree\\updater_prune.cc:101: tree pruning end, 48 extra nodes, 0 pruned nodes, max_depth=7\n",
      "[17:58:46] INFO: C:\\Windows\\Temp\\abs_557yfx631l\\croots\\recipe\\xgboost-split_1659548953302\\work\\src\\tree\\updater_prune.cc:101: tree pruning end, 40 extra nodes, 0 pruned nodes, max_depth=7\n",
      "[17:58:46] INFO: C:\\Windows\\Temp\\abs_557yfx631l\\croots\\recipe\\xgboost-split_1659548953302\\work\\src\\tree\\updater_prune.cc:101: tree pruning end, 80 extra nodes, 0 pruned nodes, max_depth=7\n",
      "[17:58:46] INFO: C:\\Windows\\Temp\\abs_557yfx631l\\croots\\recipe\\xgboost-split_1659548953302\\work\\src\\tree\\updater_prune.cc:101: tree pruning end, 88 extra nodes, 0 pruned nodes, max_depth=7\n",
      "[17:58:46] INFO: C:\\Windows\\Temp\\abs_557yfx631l\\croots\\recipe\\xgboost-split_1659548953302\\work\\src\\tree\\updater_prune.cc:101: tree pruning end, 40 extra nodes, 0 pruned nodes, max_depth=7\n",
      "[17:58:46] INFO: C:\\Windows\\Temp\\abs_557yfx631l\\croots\\recipe\\xgboost-split_1659548953302\\work\\src\\tree\\updater_prune.cc:101: tree pruning end, 56 extra nodes, 0 pruned nodes, max_depth=7\n",
      "[17:58:46] INFO: C:\\Windows\\Temp\\abs_557yfx631l\\croots\\recipe\\xgboost-split_1659548953302\\work\\src\\tree\\updater_prune.cc:101: tree pruning end, 52 extra nodes, 0 pruned nodes, max_depth=7\n",
      "[17:58:46] INFO: C:\\Windows\\Temp\\abs_557yfx631l\\croots\\recipe\\xgboost-split_1659548953302\\work\\src\\tree\\updater_prune.cc:101: tree pruning end, 86 extra nodes, 0 pruned nodes, max_depth=7\n",
      "[17:58:46] INFO: C:\\Windows\\Temp\\abs_557yfx631l\\croots\\recipe\\xgboost-split_1659548953302\\work\\src\\tree\\updater_prune.cc:101: tree pruning end, 40 extra nodes, 0 pruned nodes, max_depth=7\n",
      "[17:58:46] INFO: C:\\Windows\\Temp\\abs_557yfx631l\\croots\\recipe\\xgboost-split_1659548953302\\work\\src\\tree\\updater_prune.cc:101: tree pruning end, 122 extra nodes, 0 pruned nodes, max_depth=7\n",
      "[17:58:46] INFO: C:\\Windows\\Temp\\abs_557yfx631l\\croots\\recipe\\xgboost-split_1659548953302\\work\\src\\tree\\updater_prune.cc:101: tree pruning end, 80 extra nodes, 0 pruned nodes, max_depth=7\n",
      "[17:58:46] INFO: C:\\Windows\\Temp\\abs_557yfx631l\\croots\\recipe\\xgboost-split_1659548953302\\work\\src\\tree\\updater_prune.cc:101: tree pruning end, 52 extra nodes, 0 pruned nodes, max_depth=7\n",
      "[17:58:46] INFO: C:\\Windows\\Temp\\abs_557yfx631l\\croots\\recipe\\xgboost-split_1659548953302\\work\\src\\tree\\updater_prune.cc:101: tree pruning end, 52 extra nodes, 0 pruned nodes, max_depth=7\n",
      "[17:58:46] INFO: C:\\Windows\\Temp\\abs_557yfx631l\\croots\\recipe\\xgboost-split_1659548953302\\work\\src\\tree\\updater_prune.cc:101: tree pruning end, 124 extra nodes, 0 pruned nodes, max_depth=7\n",
      "[17:58:46] INFO: C:\\Windows\\Temp\\abs_557yfx631l\\croots\\recipe\\xgboost-split_1659548953302\\work\\src\\tree\\updater_prune.cc:101: tree pruning end, 80 extra nodes, 0 pruned nodes, max_depth=7\n",
      "[17:58:46] INFO: C:\\Windows\\Temp\\abs_557yfx631l\\croots\\recipe\\xgboost-split_1659548953302\\work\\src\\tree\\updater_prune.cc:101: tree pruning end, 52 extra nodes, 0 pruned nodes, max_depth=7\n",
      "[17:58:46] INFO: C:\\Windows\\Temp\\abs_557yfx631l\\croots\\recipe\\xgboost-split_1659548953302\\work\\src\\tree\\updater_prune.cc:101: tree pruning end, 124 extra nodes, 0 pruned nodes, max_depth=7\n",
      "[17:58:46] INFO: C:\\Windows\\Temp\\abs_557yfx631l\\croots\\recipe\\xgboost-split_1659548953302\\work\\src\\tree\\updater_prune.cc:101: tree pruning end, 76 extra nodes, 0 pruned nodes, max_depth=7\n",
      "[17:58:46] INFO: C:\\Windows\\Temp\\abs_557yfx631l\\croots\\recipe\\xgboost-split_1659548953302\\work\\src\\tree\\updater_prune.cc:101: tree pruning end, 52 extra nodes, 0 pruned nodes, max_depth=7\n",
      "[17:58:46] INFO: C:\\Windows\\Temp\\abs_557yfx631l\\croots\\recipe\\xgboost-split_1659548953302\\work\\src\\tree\\updater_prune.cc:101: tree pruning end, 64 extra nodes, 0 pruned nodes, max_depth=7\n"
     ]
    },
    {
     "name": "stdout",
     "output_type": "stream",
     "text": [
      "[17:58:46] INFO: C:\\Windows\\Temp\\abs_557yfx631l\\croots\\recipe\\xgboost-split_1659548953302\\work\\src\\tree\\updater_prune.cc:101: tree pruning end, 76 extra nodes, 0 pruned nodes, max_depth=7\n",
      "[17:58:46] INFO: C:\\Windows\\Temp\\abs_557yfx631l\\croots\\recipe\\xgboost-split_1659548953302\\work\\src\\tree\\updater_prune.cc:101: tree pruning end, 74 extra nodes, 0 pruned nodes, max_depth=7\n",
      "[17:58:46] INFO: C:\\Windows\\Temp\\abs_557yfx631l\\croots\\recipe\\xgboost-split_1659548953302\\work\\src\\tree\\updater_prune.cc:101: tree pruning end, 60 extra nodes, 0 pruned nodes, max_depth=7\n",
      "[17:58:46] INFO: C:\\Windows\\Temp\\abs_557yfx631l\\croots\\recipe\\xgboost-split_1659548953302\\work\\src\\tree\\updater_prune.cc:101: tree pruning end, 56 extra nodes, 0 pruned nodes, max_depth=7\n",
      "[17:58:46] INFO: C:\\Windows\\Temp\\abs_557yfx631l\\croots\\recipe\\xgboost-split_1659548953302\\work\\src\\tree\\updater_prune.cc:101: tree pruning end, 104 extra nodes, 0 pruned nodes, max_depth=7\n",
      "[17:58:46] INFO: C:\\Windows\\Temp\\abs_557yfx631l\\croots\\recipe\\xgboost-split_1659548953302\\work\\src\\tree\\updater_prune.cc:101: tree pruning end, 84 extra nodes, 0 pruned nodes, max_depth=7\n",
      "[17:58:46] INFO: C:\\Windows\\Temp\\abs_557yfx631l\\croots\\recipe\\xgboost-split_1659548953302\\work\\src\\tree\\updater_prune.cc:101: tree pruning end, 40 extra nodes, 0 pruned nodes, max_depth=7\n",
      "[17:58:46] INFO: C:\\Windows\\Temp\\abs_557yfx631l\\croots\\recipe\\xgboost-split_1659548953302\\work\\src\\tree\\updater_prune.cc:101: tree pruning end, 56 extra nodes, 0 pruned nodes, max_depth=7\n",
      "[17:58:46] INFO: C:\\Windows\\Temp\\abs_557yfx631l\\croots\\recipe\\xgboost-split_1659548953302\\work\\src\\tree\\updater_prune.cc:101: tree pruning end, 76 extra nodes, 0 pruned nodes, max_depth=7\n",
      "[17:58:47] INFO: C:\\Windows\\Temp\\abs_557yfx631l\\croots\\recipe\\xgboost-split_1659548953302\\work\\src\\tree\\updater_prune.cc:101: tree pruning end, 106 extra nodes, 0 pruned nodes, max_depth=7\n",
      "[17:58:47] INFO: C:\\Windows\\Temp\\abs_557yfx631l\\croots\\recipe\\xgboost-split_1659548953302\\work\\src\\tree\\updater_prune.cc:101: tree pruning end, 60 extra nodes, 0 pruned nodes, max_depth=7\n",
      "[17:58:47] INFO: C:\\Windows\\Temp\\abs_557yfx631l\\croots\\recipe\\xgboost-split_1659548953302\\work\\src\\tree\\updater_prune.cc:101: tree pruning end, 40 extra nodes, 0 pruned nodes, max_depth=7\n",
      "[17:58:47] INFO: C:\\Windows\\Temp\\abs_557yfx631l\\croots\\recipe\\xgboost-split_1659548953302\\work\\src\\tree\\updater_prune.cc:101: tree pruning end, 88 extra nodes, 0 pruned nodes, max_depth=7\n",
      "[17:58:47] INFO: C:\\Windows\\Temp\\abs_557yfx631l\\croots\\recipe\\xgboost-split_1659548953302\\work\\src\\tree\\updater_prune.cc:101: tree pruning end, 86 extra nodes, 0 pruned nodes, max_depth=7\n",
      "[17:58:47] INFO: C:\\Windows\\Temp\\abs_557yfx631l\\croots\\recipe\\xgboost-split_1659548953302\\work\\src\\tree\\updater_prune.cc:101: tree pruning end, 106 extra nodes, 0 pruned nodes, max_depth=7\n",
      "[17:58:47] INFO: C:\\Windows\\Temp\\abs_557yfx631l\\croots\\recipe\\xgboost-split_1659548953302\\work\\src\\tree\\updater_prune.cc:101: tree pruning end, 106 extra nodes, 0 pruned nodes, max_depth=7\n",
      "[17:58:47] INFO: C:\\Windows\\Temp\\abs_557yfx631l\\croots\\recipe\\xgboost-split_1659548953302\\work\\src\\tree\\updater_prune.cc:101: tree pruning end, 78 extra nodes, 0 pruned nodes, max_depth=7\n",
      "[17:58:47] INFO: C:\\Windows\\Temp\\abs_557yfx631l\\croots\\recipe\\xgboost-split_1659548953302\\work\\src\\tree\\updater_prune.cc:101: tree pruning end, 80 extra nodes, 0 pruned nodes, max_depth=7\n",
      "[17:58:47] INFO: C:\\Windows\\Temp\\abs_557yfx631l\\croots\\recipe\\xgboost-split_1659548953302\\work\\src\\tree\\updater_prune.cc:101: tree pruning end, 40 extra nodes, 0 pruned nodes, max_depth=7\n",
      "[17:58:47] INFO: C:\\Windows\\Temp\\abs_557yfx631l\\croots\\recipe\\xgboost-split_1659548953302\\work\\src\\tree\\updater_prune.cc:101: tree pruning end, 102 extra nodes, 0 pruned nodes, max_depth=7\n",
      "[17:58:47] INFO: C:\\Windows\\Temp\\abs_557yfx631l\\croots\\recipe\\xgboost-split_1659548953302\\work\\src\\tree\\updater_prune.cc:101: tree pruning end, 40 extra nodes, 0 pruned nodes, max_depth=7\n",
      "[17:58:47] INFO: C:\\Windows\\Temp\\abs_557yfx631l\\croots\\recipe\\xgboost-split_1659548953302\\work\\src\\tree\\updater_prune.cc:101: tree pruning end, 102 extra nodes, 0 pruned nodes, max_depth=7\n",
      "[17:58:47] INFO: C:\\Windows\\Temp\\abs_557yfx631l\\croots\\recipe\\xgboost-split_1659548953302\\work\\src\\tree\\updater_prune.cc:101: tree pruning end, 72 extra nodes, 0 pruned nodes, max_depth=7\n",
      "[17:58:47] INFO: C:\\Windows\\Temp\\abs_557yfx631l\\croots\\recipe\\xgboost-split_1659548953302\\work\\src\\tree\\updater_prune.cc:101: tree pruning end, 40 extra nodes, 0 pruned nodes, max_depth=7\n",
      "[17:58:47] INFO: C:\\Windows\\Temp\\abs_557yfx631l\\croots\\recipe\\xgboost-split_1659548953302\\work\\src\\tree\\updater_prune.cc:101: tree pruning end, 102 extra nodes, 0 pruned nodes, max_depth=7\n",
      "[17:58:47] INFO: C:\\Windows\\Temp\\abs_557yfx631l\\croots\\recipe\\xgboost-split_1659548953302\\work\\src\\tree\\updater_prune.cc:101: tree pruning end, 38 extra nodes, 0 pruned nodes, max_depth=7\n",
      "[17:58:47] INFO: C:\\Windows\\Temp\\abs_557yfx631l\\croots\\recipe\\xgboost-split_1659548953302\\work\\src\\tree\\updater_prune.cc:101: tree pruning end, 74 extra nodes, 0 pruned nodes, max_depth=7\n",
      "[17:58:47] INFO: C:\\Windows\\Temp\\abs_557yfx631l\\croots\\recipe\\xgboost-split_1659548953302\\work\\src\\tree\\updater_prune.cc:101: tree pruning end, 78 extra nodes, 0 pruned nodes, max_depth=7\n",
      "[17:58:47] INFO: C:\\Windows\\Temp\\abs_557yfx631l\\croots\\recipe\\xgboost-split_1659548953302\\work\\src\\tree\\updater_prune.cc:101: tree pruning end, 38 extra nodes, 0 pruned nodes, max_depth=7\n",
      "[17:58:47] INFO: C:\\Windows\\Temp\\abs_557yfx631l\\croots\\recipe\\xgboost-split_1659548953302\\work\\src\\tree\\updater_prune.cc:101: tree pruning end, 74 extra nodes, 0 pruned nodes, max_depth=7\n",
      "[17:58:47] INFO: C:\\Windows\\Temp\\abs_557yfx631l\\croots\\recipe\\xgboost-split_1659548953302\\work\\src\\tree\\updater_prune.cc:101: tree pruning end, 38 extra nodes, 0 pruned nodes, max_depth=7\n",
      "[17:58:47] INFO: C:\\Windows\\Temp\\abs_557yfx631l\\croots\\recipe\\xgboost-split_1659548953302\\work\\src\\tree\\updater_prune.cc:101: tree pruning end, 68 extra nodes, 0 pruned nodes, max_depth=7\n",
      "[17:58:47] INFO: C:\\Windows\\Temp\\abs_557yfx631l\\croots\\recipe\\xgboost-split_1659548953302\\work\\src\\tree\\updater_prune.cc:101: tree pruning end, 38 extra nodes, 0 pruned nodes, max_depth=7\n",
      "[17:58:47] INFO: C:\\Windows\\Temp\\abs_557yfx631l\\croots\\recipe\\xgboost-split_1659548953302\\work\\src\\tree\\updater_prune.cc:101: tree pruning end, 66 extra nodes, 0 pruned nodes, max_depth=7\n",
      "[17:58:47] INFO: C:\\Windows\\Temp\\abs_557yfx631l\\croots\\recipe\\xgboost-split_1659548953302\\work\\src\\tree\\updater_prune.cc:101: tree pruning end, 38 extra nodes, 0 pruned nodes, max_depth=7\n",
      "[17:58:47] INFO: C:\\Windows\\Temp\\abs_557yfx631l\\croots\\recipe\\xgboost-split_1659548953302\\work\\src\\tree\\updater_prune.cc:101: tree pruning end, 68 extra nodes, 0 pruned nodes, max_depth=7\n",
      "[17:58:47] INFO: C:\\Windows\\Temp\\abs_557yfx631l\\croots\\recipe\\xgboost-split_1659548953302\\work\\src\\tree\\updater_prune.cc:101: tree pruning end, 46 extra nodes, 0 pruned nodes, max_depth=7\n",
      "[17:58:47] INFO: C:\\Windows\\Temp\\abs_557yfx631l\\croots\\recipe\\xgboost-split_1659548953302\\work\\src\\tree\\updater_prune.cc:101: tree pruning end, 68 extra nodes, 0 pruned nodes, max_depth=7\n",
      "[17:58:47] INFO: C:\\Windows\\Temp\\abs_557yfx631l\\croots\\recipe\\xgboost-split_1659548953302\\work\\src\\tree\\updater_prune.cc:101: tree pruning end, 38 extra nodes, 0 pruned nodes, max_depth=7\n",
      "[17:58:47] INFO: C:\\Windows\\Temp\\abs_557yfx631l\\croots\\recipe\\xgboost-split_1659548953302\\work\\src\\tree\\updater_prune.cc:101: tree pruning end, 66 extra nodes, 0 pruned nodes, max_depth=7\n",
      "[17:58:47] INFO: C:\\Windows\\Temp\\abs_557yfx631l\\croots\\recipe\\xgboost-split_1659548953302\\work\\src\\tree\\updater_prune.cc:101: tree pruning end, 58 extra nodes, 0 pruned nodes, max_depth=7\n",
      "[17:58:47] INFO: C:\\Windows\\Temp\\abs_557yfx631l\\croots\\recipe\\xgboost-split_1659548953302\\work\\src\\tree\\updater_prune.cc:101: tree pruning end, 66 extra nodes, 0 pruned nodes, max_depth=7\n",
      "[17:58:47] INFO: C:\\Windows\\Temp\\abs_557yfx631l\\croots\\recipe\\xgboost-split_1659548953302\\work\\src\\tree\\updater_prune.cc:101: tree pruning end, 38 extra nodes, 0 pruned nodes, max_depth=7\n",
      "[17:58:47] INFO: C:\\Windows\\Temp\\abs_557yfx631l\\croots\\recipe\\xgboost-split_1659548953302\\work\\src\\tree\\updater_prune.cc:101: tree pruning end, 58 extra nodes, 0 pruned nodes, max_depth=7\n",
      "[17:58:47] INFO: C:\\Windows\\Temp\\abs_557yfx631l\\croots\\recipe\\xgboost-split_1659548953302\\work\\src\\tree\\updater_prune.cc:101: tree pruning end, 68 extra nodes, 0 pruned nodes, max_depth=7\n",
      "[17:58:47] INFO: C:\\Windows\\Temp\\abs_557yfx631l\\croots\\recipe\\xgboost-split_1659548953302\\work\\src\\tree\\updater_prune.cc:101: tree pruning end, 36 extra nodes, 0 pruned nodes, max_depth=7\n",
      "[17:58:47] INFO: C:\\Windows\\Temp\\abs_557yfx631l\\croots\\recipe\\xgboost-split_1659548953302\\work\\src\\tree\\updater_prune.cc:101: tree pruning end, 66 extra nodes, 0 pruned nodes, max_depth=7\n",
      "[17:58:47] INFO: C:\\Windows\\Temp\\abs_557yfx631l\\croots\\recipe\\xgboost-split_1659548953302\\work\\src\\tree\\updater_prune.cc:101: tree pruning end, 80 extra nodes, 0 pruned nodes, max_depth=7\n",
      "[17:58:47] INFO: C:\\Windows\\Temp\\abs_557yfx631l\\croots\\recipe\\xgboost-split_1659548953302\\work\\src\\tree\\updater_prune.cc:101: tree pruning end, 56 extra nodes, 0 pruned nodes, max_depth=7\n",
      "[17:58:47] INFO: C:\\Windows\\Temp\\abs_557yfx631l\\croots\\recipe\\xgboost-split_1659548953302\\work\\src\\tree\\updater_prune.cc:101: tree pruning end, 146 extra nodes, 0 pruned nodes, max_depth=7\n",
      "[17:58:47] INFO: C:\\Windows\\Temp\\abs_557yfx631l\\croots\\recipe\\xgboost-split_1659548953302\\work\\src\\tree\\updater_prune.cc:101: tree pruning end, 66 extra nodes, 0 pruned nodes, max_depth=7\n",
      "[17:58:47] INFO: C:\\Windows\\Temp\\abs_557yfx631l\\croots\\recipe\\xgboost-split_1659548953302\\work\\src\\tree\\updater_prune.cc:101: tree pruning end, 72 extra nodes, 0 pruned nodes, max_depth=7\n",
      "[17:58:47] INFO: C:\\Windows\\Temp\\abs_557yfx631l\\croots\\recipe\\xgboost-split_1659548953302\\work\\src\\tree\\updater_prune.cc:101: tree pruning end, 80 extra nodes, 0 pruned nodes, max_depth=7\n",
      "[17:58:47] INFO: C:\\Windows\\Temp\\abs_557yfx631l\\croots\\recipe\\xgboost-split_1659548953302\\work\\src\\tree\\updater_prune.cc:101: tree pruning end, 80 extra nodes, 0 pruned nodes, max_depth=7\n",
      "[17:58:47] INFO: C:\\Windows\\Temp\\abs_557yfx631l\\croots\\recipe\\xgboost-split_1659548953302\\work\\src\\tree\\updater_prune.cc:101: tree pruning end, 66 extra nodes, 0 pruned nodes, max_depth=7\n",
      "[17:58:47] INFO: C:\\Windows\\Temp\\abs_557yfx631l\\croots\\recipe\\xgboost-split_1659548953302\\work\\src\\tree\\updater_prune.cc:101: tree pruning end, 58 extra nodes, 0 pruned nodes, max_depth=7\n",
      "[17:58:47] INFO: C:\\Windows\\Temp\\abs_557yfx631l\\croots\\recipe\\xgboost-split_1659548953302\\work\\src\\tree\\updater_prune.cc:101: tree pruning end, 146 extra nodes, 0 pruned nodes, max_depth=7\n",
      "[17:58:47] INFO: C:\\Windows\\Temp\\abs_557yfx631l\\croots\\recipe\\xgboost-split_1659548953302\\work\\src\\tree\\updater_prune.cc:101: tree pruning end, 74 extra nodes, 0 pruned nodes, max_depth=7\n",
      "[17:58:47] INFO: C:\\Windows\\Temp\\abs_557yfx631l\\croots\\recipe\\xgboost-split_1659548953302\\work\\src\\tree\\updater_prune.cc:101: tree pruning end, 66 extra nodes, 0 pruned nodes, max_depth=7\n",
      "[17:58:47] INFO: C:\\Windows\\Temp\\abs_557yfx631l\\croots\\recipe\\xgboost-split_1659548953302\\work\\src\\tree\\updater_prune.cc:101: tree pruning end, 42 extra nodes, 0 pruned nodes, max_depth=7\n",
      "[17:58:47] INFO: C:\\Windows\\Temp\\abs_557yfx631l\\croots\\recipe\\xgboost-split_1659548953302\\work\\src\\tree\\updater_prune.cc:101: tree pruning end, 72 extra nodes, 0 pruned nodes, max_depth=7\n",
      "[17:58:47] INFO: C:\\Windows\\Temp\\abs_557yfx631l\\croots\\recipe\\xgboost-split_1659548953302\\work\\src\\tree\\updater_prune.cc:101: tree pruning end, 60 extra nodes, 0 pruned nodes, max_depth=7\n",
      "[17:58:47] INFO: C:\\Windows\\Temp\\abs_557yfx631l\\croots\\recipe\\xgboost-split_1659548953302\\work\\src\\tree\\updater_prune.cc:101: tree pruning end, 56 extra nodes, 0 pruned nodes, max_depth=7\n",
      "[17:58:47] INFO: C:\\Windows\\Temp\\abs_557yfx631l\\croots\\recipe\\xgboost-split_1659548953302\\work\\src\\tree\\updater_prune.cc:101: tree pruning end, 92 extra nodes, 0 pruned nodes, max_depth=7\n",
      "[17:58:47] INFO: C:\\Windows\\Temp\\abs_557yfx631l\\croots\\recipe\\xgboost-split_1659548953302\\work\\src\\tree\\updater_prune.cc:101: tree pruning end, 66 extra nodes, 0 pruned nodes, max_depth=7\n",
      "[17:58:47] INFO: C:\\Windows\\Temp\\abs_557yfx631l\\croots\\recipe\\xgboost-split_1659548953302\\work\\src\\tree\\updater_prune.cc:101: tree pruning end, 80 extra nodes, 0 pruned nodes, max_depth=7\n",
      "[17:58:47] INFO: C:\\Windows\\Temp\\abs_557yfx631l\\croots\\recipe\\xgboost-split_1659548953302\\work\\src\\tree\\updater_prune.cc:101: tree pruning end, 34 extra nodes, 0 pruned nodes, max_depth=7\n",
      "[17:58:47] INFO: C:\\Windows\\Temp\\abs_557yfx631l\\croots\\recipe\\xgboost-split_1659548953302\\work\\src\\tree\\updater_prune.cc:101: tree pruning end, 60 extra nodes, 0 pruned nodes, max_depth=7\n",
      "[17:58:47] INFO: C:\\Windows\\Temp\\abs_557yfx631l\\croots\\recipe\\xgboost-split_1659548953302\\work\\src\\tree\\updater_prune.cc:101: tree pruning end, 138 extra nodes, 0 pruned nodes, max_depth=7\n",
      "[17:58:47] INFO: C:\\Windows\\Temp\\abs_557yfx631l\\croots\\recipe\\xgboost-split_1659548953302\\work\\src\\tree\\updater_prune.cc:101: tree pruning end, 66 extra nodes, 0 pruned nodes, max_depth=7\n",
      "[17:58:47] INFO: C:\\Windows\\Temp\\abs_557yfx631l\\croots\\recipe\\xgboost-split_1659548953302\\work\\src\\tree\\updater_prune.cc:101: tree pruning end, 42 extra nodes, 0 pruned nodes, max_depth=7\n",
      "[17:58:47] INFO: C:\\Windows\\Temp\\abs_557yfx631l\\croots\\recipe\\xgboost-split_1659548953302\\work\\src\\tree\\updater_prune.cc:101: tree pruning end, 94 extra nodes, 0 pruned nodes, max_depth=7\n",
      "[17:58:47] INFO: C:\\Windows\\Temp\\abs_557yfx631l\\croots\\recipe\\xgboost-split_1659548953302\\work\\src\\tree\\updater_prune.cc:101: tree pruning end, 68 extra nodes, 0 pruned nodes, max_depth=7\n",
      "[17:58:47] INFO: C:\\Windows\\Temp\\abs_557yfx631l\\croots\\recipe\\xgboost-split_1659548953302\\work\\src\\tree\\updater_prune.cc:101: tree pruning end, 56 extra nodes, 0 pruned nodes, max_depth=7\n",
      "[17:58:47] INFO: C:\\Windows\\Temp\\abs_557yfx631l\\croots\\recipe\\xgboost-split_1659548953302\\work\\src\\tree\\updater_prune.cc:101: tree pruning end, 138 extra nodes, 0 pruned nodes, max_depth=7\n"
     ]
    },
    {
     "name": "stdout",
     "output_type": "stream",
     "text": [
      "[17:58:47] INFO: C:\\Windows\\Temp\\abs_557yfx631l\\croots\\recipe\\xgboost-split_1659548953302\\work\\src\\tree\\updater_prune.cc:101: tree pruning end, 72 extra nodes, 0 pruned nodes, max_depth=7\n",
      "[17:58:47] INFO: C:\\Windows\\Temp\\abs_557yfx631l\\croots\\recipe\\xgboost-split_1659548953302\\work\\src\\tree\\updater_prune.cc:101: tree pruning end, 60 extra nodes, 0 pruned nodes, max_depth=7\n",
      "[17:58:47] INFO: C:\\Windows\\Temp\\abs_557yfx631l\\croots\\recipe\\xgboost-split_1659548953302\\work\\src\\tree\\updater_prune.cc:101: tree pruning end, 40 extra nodes, 0 pruned nodes, max_depth=7\n",
      "[17:58:47] INFO: C:\\Windows\\Temp\\abs_557yfx631l\\croots\\recipe\\xgboost-split_1659548953302\\work\\src\\tree\\updater_prune.cc:101: tree pruning end, 68 extra nodes, 0 pruned nodes, max_depth=7\n",
      "[17:58:47] INFO: C:\\Windows\\Temp\\abs_557yfx631l\\croots\\recipe\\xgboost-split_1659548953302\\work\\src\\tree\\updater_prune.cc:101: tree pruning end, 92 extra nodes, 0 pruned nodes, max_depth=7\n",
      "[17:58:47] INFO: C:\\Windows\\Temp\\abs_557yfx631l\\croots\\recipe\\xgboost-split_1659548953302\\work\\src\\tree\\updater_prune.cc:101: tree pruning end, 92 extra nodes, 0 pruned nodes, max_depth=7\n",
      "[17:58:47] INFO: C:\\Windows\\Temp\\abs_557yfx631l\\croots\\recipe\\xgboost-split_1659548953302\\work\\src\\tree\\updater_prune.cc:101: tree pruning end, 108 extra nodes, 0 pruned nodes, max_depth=7\n",
      "[17:58:47] INFO: C:\\Windows\\Temp\\abs_557yfx631l\\croots\\recipe\\xgboost-split_1659548953302\\work\\src\\tree\\updater_prune.cc:101: tree pruning end, 66 extra nodes, 0 pruned nodes, max_depth=7\n",
      "[17:58:47] INFO: C:\\Windows\\Temp\\abs_557yfx631l\\croots\\recipe\\xgboost-split_1659548953302\\work\\src\\tree\\updater_prune.cc:101: tree pruning end, 44 extra nodes, 0 pruned nodes, max_depth=7\n",
      "[17:58:47] INFO: C:\\Windows\\Temp\\abs_557yfx631l\\croots\\recipe\\xgboost-split_1659548953302\\work\\src\\tree\\updater_prune.cc:101: tree pruning end, 64 extra nodes, 0 pruned nodes, max_depth=7\n",
      "[17:58:47] INFO: C:\\Windows\\Temp\\abs_557yfx631l\\croots\\recipe\\xgboost-split_1659548953302\\work\\src\\tree\\updater_prune.cc:101: tree pruning end, 40 extra nodes, 0 pruned nodes, max_depth=7\n",
      "[17:58:47] INFO: C:\\Windows\\Temp\\abs_557yfx631l\\croots\\recipe\\xgboost-split_1659548953302\\work\\src\\tree\\updater_prune.cc:101: tree pruning end, 110 extra nodes, 0 pruned nodes, max_depth=7\n",
      "[17:58:47] INFO: C:\\Windows\\Temp\\abs_557yfx631l\\croots\\recipe\\xgboost-split_1659548953302\\work\\src\\tree\\updater_prune.cc:101: tree pruning end, 40 extra nodes, 0 pruned nodes, max_depth=7\n",
      "[17:58:47] INFO: C:\\Windows\\Temp\\abs_557yfx631l\\croots\\recipe\\xgboost-split_1659548953302\\work\\src\\tree\\updater_prune.cc:101: tree pruning end, 60 extra nodes, 0 pruned nodes, max_depth=7\n",
      "[17:58:47] INFO: C:\\Windows\\Temp\\abs_557yfx631l\\croots\\recipe\\xgboost-split_1659548953302\\work\\src\\tree\\updater_prune.cc:101: tree pruning end, 64 extra nodes, 0 pruned nodes, max_depth=7\n",
      "[17:58:47] INFO: C:\\Windows\\Temp\\abs_557yfx631l\\croots\\recipe\\xgboost-split_1659548953302\\work\\src\\tree\\updater_prune.cc:101: tree pruning end, 66 extra nodes, 0 pruned nodes, max_depth=7\n",
      "[17:58:47] INFO: C:\\Windows\\Temp\\abs_557yfx631l\\croots\\recipe\\xgboost-split_1659548953302\\work\\src\\tree\\updater_prune.cc:101: tree pruning end, 62 extra nodes, 0 pruned nodes, max_depth=7\n",
      "[17:58:47] INFO: C:\\Windows\\Temp\\abs_557yfx631l\\croots\\recipe\\xgboost-split_1659548953302\\work\\src\\tree\\updater_prune.cc:101: tree pruning end, 68 extra nodes, 0 pruned nodes, max_depth=7\n",
      "[17:58:47] INFO: C:\\Windows\\Temp\\abs_557yfx631l\\croots\\recipe\\xgboost-split_1659548953302\\work\\src\\tree\\updater_prune.cc:101: tree pruning end, 92 extra nodes, 0 pruned nodes, max_depth=7\n",
      "[17:58:47] INFO: C:\\Windows\\Temp\\abs_557yfx631l\\croots\\recipe\\xgboost-split_1659548953302\\work\\src\\tree\\updater_prune.cc:101: tree pruning end, 62 extra nodes, 0 pruned nodes, max_depth=7\n",
      "[17:58:47] INFO: C:\\Windows\\Temp\\abs_557yfx631l\\croots\\recipe\\xgboost-split_1659548953302\\work\\src\\tree\\updater_prune.cc:101: tree pruning end, 84 extra nodes, 0 pruned nodes, max_depth=7\n",
      "[17:58:47] INFO: C:\\Windows\\Temp\\abs_557yfx631l\\croots\\recipe\\xgboost-split_1659548953302\\work\\src\\tree\\updater_prune.cc:101: tree pruning end, 68 extra nodes, 0 pruned nodes, max_depth=7\n",
      "[17:58:47] INFO: C:\\Windows\\Temp\\abs_557yfx631l\\croots\\recipe\\xgboost-split_1659548953302\\work\\src\\tree\\updater_prune.cc:101: tree pruning end, 106 extra nodes, 0 pruned nodes, max_depth=7\n",
      "[17:58:47] INFO: C:\\Windows\\Temp\\abs_557yfx631l\\croots\\recipe\\xgboost-split_1659548953302\\work\\src\\tree\\updater_prune.cc:101: tree pruning end, 84 extra nodes, 0 pruned nodes, max_depth=7\n",
      "[17:58:47] INFO: C:\\Windows\\Temp\\abs_557yfx631l\\croots\\recipe\\xgboost-split_1659548953302\\work\\src\\tree\\updater_prune.cc:101: tree pruning end, 92 extra nodes, 0 pruned nodes, max_depth=7\n",
      "[17:58:47] INFO: C:\\Windows\\Temp\\abs_557yfx631l\\croots\\recipe\\xgboost-split_1659548953302\\work\\src\\tree\\updater_prune.cc:101: tree pruning end, 58 extra nodes, 0 pruned nodes, max_depth=7\n",
      "[17:58:47] INFO: C:\\Windows\\Temp\\abs_557yfx631l\\croots\\recipe\\xgboost-split_1659548953302\\work\\src\\tree\\updater_prune.cc:101: tree pruning end, 68 extra nodes, 0 pruned nodes, max_depth=7\n",
      "[17:58:47] INFO: C:\\Windows\\Temp\\abs_557yfx631l\\croots\\recipe\\xgboost-split_1659548953302\\work\\src\\tree\\updater_prune.cc:101: tree pruning end, 74 extra nodes, 0 pruned nodes, max_depth=7\n",
      "[17:58:47] INFO: C:\\Windows\\Temp\\abs_557yfx631l\\croots\\recipe\\xgboost-split_1659548953302\\work\\src\\tree\\updater_prune.cc:101: tree pruning end, 68 extra nodes, 0 pruned nodes, max_depth=7\n",
      "[17:58:47] INFO: C:\\Windows\\Temp\\abs_557yfx631l\\croots\\recipe\\xgboost-split_1659548953302\\work\\src\\tree\\updater_prune.cc:101: tree pruning end, 64 extra nodes, 0 pruned nodes, max_depth=7\n",
      "[17:58:47] INFO: C:\\Windows\\Temp\\abs_557yfx631l\\croots\\recipe\\xgboost-split_1659548953302\\work\\src\\tree\\updater_prune.cc:101: tree pruning end, 64 extra nodes, 0 pruned nodes, max_depth=7\n",
      "[17:58:47] INFO: C:\\Windows\\Temp\\abs_557yfx631l\\croots\\recipe\\xgboost-split_1659548953302\\work\\src\\tree\\updater_prune.cc:101: tree pruning end, 40 extra nodes, 0 pruned nodes, max_depth=7\n",
      "[17:58:47] INFO: C:\\Windows\\Temp\\abs_557yfx631l\\croots\\recipe\\xgboost-split_1659548953302\\work\\src\\tree\\updater_prune.cc:101: tree pruning end, 68 extra nodes, 0 pruned nodes, max_depth=7\n",
      "[17:58:47] INFO: C:\\Windows\\Temp\\abs_557yfx631l\\croots\\recipe\\xgboost-split_1659548953302\\work\\src\\tree\\updater_prune.cc:101: tree pruning end, 64 extra nodes, 0 pruned nodes, max_depth=7\n",
      "[17:58:47] INFO: C:\\Windows\\Temp\\abs_557yfx631l\\croots\\recipe\\xgboost-split_1659548953302\\work\\src\\tree\\updater_prune.cc:101: tree pruning end, 68 extra nodes, 0 pruned nodes, max_depth=7\n",
      "[17:58:47] INFO: C:\\Windows\\Temp\\abs_557yfx631l\\croots\\recipe\\xgboost-split_1659548953302\\work\\src\\tree\\updater_prune.cc:101: tree pruning end, 68 extra nodes, 0 pruned nodes, max_depth=7\n",
      "[17:58:47] INFO: C:\\Windows\\Temp\\abs_557yfx631l\\croots\\recipe\\xgboost-split_1659548953302\\work\\src\\tree\\updater_prune.cc:101: tree pruning end, 64 extra nodes, 0 pruned nodes, max_depth=7\n",
      "[17:58:47] INFO: C:\\Windows\\Temp\\abs_557yfx631l\\croots\\recipe\\xgboost-split_1659548953302\\work\\src\\tree\\updater_prune.cc:101: tree pruning end, 52 extra nodes, 0 pruned nodes, max_depth=7\n",
      "[17:58:47] INFO: C:\\Windows\\Temp\\abs_557yfx631l\\croots\\recipe\\xgboost-split_1659548953302\\work\\src\\tree\\updater_prune.cc:101: tree pruning end, 44 extra nodes, 0 pruned nodes, max_depth=7\n",
      "[17:58:47] INFO: C:\\Windows\\Temp\\abs_557yfx631l\\croots\\recipe\\xgboost-split_1659548953302\\work\\src\\tree\\updater_prune.cc:101: tree pruning end, 40 extra nodes, 0 pruned nodes, max_depth=7\n",
      "[17:58:47] INFO: C:\\Windows\\Temp\\abs_557yfx631l\\croots\\recipe\\xgboost-split_1659548953302\\work\\src\\tree\\updater_prune.cc:101: tree pruning end, 64 extra nodes, 0 pruned nodes, max_depth=7\n",
      "[17:58:47] INFO: C:\\Windows\\Temp\\abs_557yfx631l\\croots\\recipe\\xgboost-split_1659548953302\\work\\src\\tree\\updater_prune.cc:101: tree pruning end, 42 extra nodes, 0 pruned nodes, max_depth=7\n",
      "[17:58:47] INFO: C:\\Windows\\Temp\\abs_557yfx631l\\croots\\recipe\\xgboost-split_1659548953302\\work\\src\\tree\\updater_prune.cc:101: tree pruning end, 68 extra nodes, 0 pruned nodes, max_depth=7\n",
      "[17:58:47] INFO: C:\\Windows\\Temp\\abs_557yfx631l\\croots\\recipe\\xgboost-split_1659548953302\\work\\src\\tree\\updater_prune.cc:101: tree pruning end, 68 extra nodes, 0 pruned nodes, max_depth=7\n",
      "[17:58:47] INFO: C:\\Windows\\Temp\\abs_557yfx631l\\croots\\recipe\\xgboost-split_1659548953302\\work\\src\\tree\\updater_prune.cc:101: tree pruning end, 52 extra nodes, 0 pruned nodes, max_depth=7\n",
      "[17:58:47] INFO: C:\\Windows\\Temp\\abs_557yfx631l\\croots\\recipe\\xgboost-split_1659548953302\\work\\src\\tree\\updater_prune.cc:101: tree pruning end, 38 extra nodes, 0 pruned nodes, max_depth=7\n",
      "[17:58:47] INFO: C:\\Windows\\Temp\\abs_557yfx631l\\croots\\recipe\\xgboost-split_1659548953302\\work\\src\\tree\\updater_prune.cc:101: tree pruning end, 64 extra nodes, 0 pruned nodes, max_depth=7\n",
      "[17:58:47] INFO: C:\\Windows\\Temp\\abs_557yfx631l\\croots\\recipe\\xgboost-split_1659548953302\\work\\src\\tree\\updater_prune.cc:101: tree pruning end, 68 extra nodes, 0 pruned nodes, max_depth=7\n",
      "[17:58:47] INFO: C:\\Windows\\Temp\\abs_557yfx631l\\croots\\recipe\\xgboost-split_1659548953302\\work\\src\\tree\\updater_prune.cc:101: tree pruning end, 62 extra nodes, 0 pruned nodes, max_depth=7\n",
      "[17:58:47] INFO: C:\\Windows\\Temp\\abs_557yfx631l\\croots\\recipe\\xgboost-split_1659548953302\\work\\src\\tree\\updater_prune.cc:101: tree pruning end, 46 extra nodes, 0 pruned nodes, max_depth=7\n",
      "[17:58:47] INFO: C:\\Windows\\Temp\\abs_557yfx631l\\croots\\recipe\\xgboost-split_1659548953302\\work\\src\\tree\\updater_prune.cc:101: tree pruning end, 64 extra nodes, 0 pruned nodes, max_depth=7\n",
      "[17:58:47] INFO: C:\\Windows\\Temp\\abs_557yfx631l\\croots\\recipe\\xgboost-split_1659548953302\\work\\src\\tree\\updater_prune.cc:101: tree pruning end, 42 extra nodes, 0 pruned nodes, max_depth=7\n",
      "[17:58:47] INFO: C:\\Windows\\Temp\\abs_557yfx631l\\croots\\recipe\\xgboost-split_1659548953302\\work\\src\\tree\\updater_prune.cc:101: tree pruning end, 50 extra nodes, 0 pruned nodes, max_depth=7\n",
      "[17:58:47] INFO: C:\\Windows\\Temp\\abs_557yfx631l\\croots\\recipe\\xgboost-split_1659548953302\\work\\src\\tree\\updater_prune.cc:101: tree pruning end, 68 extra nodes, 0 pruned nodes, max_depth=7\n",
      "[17:58:47] INFO: C:\\Windows\\Temp\\abs_557yfx631l\\croots\\recipe\\xgboost-split_1659548953302\\work\\src\\tree\\updater_prune.cc:101: tree pruning end, 64 extra nodes, 0 pruned nodes, max_depth=7\n",
      "[17:58:47] INFO: C:\\Windows\\Temp\\abs_557yfx631l\\croots\\recipe\\xgboost-split_1659548953302\\work\\src\\tree\\updater_prune.cc:101: tree pruning end, 38 extra nodes, 0 pruned nodes, max_depth=7\n",
      "[17:58:47] INFO: C:\\Windows\\Temp\\abs_557yfx631l\\croots\\recipe\\xgboost-split_1659548953302\\work\\src\\tree\\updater_prune.cc:101: tree pruning end, 28 extra nodes, 0 pruned nodes, max_depth=7\n",
      "[17:58:47] INFO: C:\\Windows\\Temp\\abs_557yfx631l\\croots\\recipe\\xgboost-split_1659548953302\\work\\src\\tree\\updater_prune.cc:101: tree pruning end, 68 extra nodes, 0 pruned nodes, max_depth=7\n",
      "[17:58:47] INFO: C:\\Windows\\Temp\\abs_557yfx631l\\croots\\recipe\\xgboost-split_1659548953302\\work\\src\\tree\\updater_prune.cc:101: tree pruning end, 50 extra nodes, 0 pruned nodes, max_depth=7\n",
      "[17:58:47] INFO: C:\\Windows\\Temp\\abs_557yfx631l\\croots\\recipe\\xgboost-split_1659548953302\\work\\src\\tree\\updater_prune.cc:101: tree pruning end, 28 extra nodes, 0 pruned nodes, max_depth=7\n",
      "[17:58:47] INFO: C:\\Windows\\Temp\\abs_557yfx631l\\croots\\recipe\\xgboost-split_1659548953302\\work\\src\\tree\\updater_prune.cc:101: tree pruning end, 64 extra nodes, 0 pruned nodes, max_depth=7\n",
      "[17:58:47] INFO: C:\\Windows\\Temp\\abs_557yfx631l\\croots\\recipe\\xgboost-split_1659548953302\\work\\src\\tree\\updater_prune.cc:101: tree pruning end, 68 extra nodes, 0 pruned nodes, max_depth=7\n",
      "[17:58:47] INFO: C:\\Windows\\Temp\\abs_557yfx631l\\croots\\recipe\\xgboost-split_1659548953302\\work\\src\\tree\\updater_prune.cc:101: tree pruning end, 52 extra nodes, 0 pruned nodes, max_depth=7\n",
      "[17:58:47] INFO: C:\\Windows\\Temp\\abs_557yfx631l\\croots\\recipe\\xgboost-split_1659548953302\\work\\src\\tree\\updater_prune.cc:101: tree pruning end, 56 extra nodes, 0 pruned nodes, max_depth=7\n",
      "[17:58:47] INFO: C:\\Windows\\Temp\\abs_557yfx631l\\croots\\recipe\\xgboost-split_1659548953302\\work\\src\\tree\\updater_prune.cc:101: tree pruning end, 54 extra nodes, 0 pruned nodes, max_depth=7\n",
      "[17:58:47] INFO: C:\\Windows\\Temp\\abs_557yfx631l\\croots\\recipe\\xgboost-split_1659548953302\\work\\src\\tree\\updater_prune.cc:101: tree pruning end, 34 extra nodes, 0 pruned nodes, max_depth=7\n",
      "[17:58:47] INFO: C:\\Windows\\Temp\\abs_557yfx631l\\croots\\recipe\\xgboost-split_1659548953302\\work\\src\\tree\\updater_prune.cc:101: tree pruning end, 52 extra nodes, 0 pruned nodes, max_depth=7\n",
      "[17:58:47] INFO: C:\\Windows\\Temp\\abs_557yfx631l\\croots\\recipe\\xgboost-split_1659548953302\\work\\src\\tree\\updater_prune.cc:101: tree pruning end, 68 extra nodes, 0 pruned nodes, max_depth=7\n",
      "[17:58:47] INFO: C:\\Windows\\Temp\\abs_557yfx631l\\croots\\recipe\\xgboost-split_1659548953302\\work\\src\\tree\\updater_prune.cc:101: tree pruning end, 38 extra nodes, 0 pruned nodes, max_depth=7\n",
      "[17:58:47] INFO: C:\\Windows\\Temp\\abs_557yfx631l\\croots\\recipe\\xgboost-split_1659548953302\\work\\src\\tree\\updater_prune.cc:101: tree pruning end, 100 extra nodes, 0 pruned nodes, max_depth=7\n"
     ]
    },
    {
     "name": "stdout",
     "output_type": "stream",
     "text": [
      "[17:58:47] INFO: C:\\Windows\\Temp\\abs_557yfx631l\\croots\\recipe\\xgboost-split_1659548953302\\work\\src\\tree\\updater_prune.cc:101: tree pruning end, 28 extra nodes, 0 pruned nodes, max_depth=7\n",
      "[17:58:47] INFO: C:\\Windows\\Temp\\abs_557yfx631l\\croots\\recipe\\xgboost-split_1659548953302\\work\\src\\tree\\updater_prune.cc:101: tree pruning end, 52 extra nodes, 0 pruned nodes, max_depth=7\n",
      "[17:58:47] INFO: C:\\Windows\\Temp\\abs_557yfx631l\\croots\\recipe\\xgboost-split_1659548953302\\work\\src\\tree\\updater_prune.cc:101: tree pruning end, 68 extra nodes, 0 pruned nodes, max_depth=7\n",
      "[17:58:47] INFO: C:\\Windows\\Temp\\abs_557yfx631l\\croots\\recipe\\xgboost-split_1659548953302\\work\\src\\tree\\updater_prune.cc:101: tree pruning end, 30 extra nodes, 0 pruned nodes, max_depth=7\n",
      "[17:58:47] INFO: C:\\Windows\\Temp\\abs_557yfx631l\\croots\\recipe\\xgboost-split_1659548953302\\work\\src\\tree\\updater_prune.cc:101: tree pruning end, 34 extra nodes, 0 pruned nodes, max_depth=7\n",
      "[17:58:47] INFO: C:\\Windows\\Temp\\abs_557yfx631l\\croots\\recipe\\xgboost-split_1659548953302\\work\\src\\tree\\updater_prune.cc:101: tree pruning end, 52 extra nodes, 0 pruned nodes, max_depth=7\n",
      "[17:58:47] INFO: C:\\Windows\\Temp\\abs_557yfx631l\\croots\\recipe\\xgboost-split_1659548953302\\work\\src\\tree\\updater_prune.cc:101: tree pruning end, 62 extra nodes, 0 pruned nodes, max_depth=7\n",
      "[17:58:47] INFO: C:\\Windows\\Temp\\abs_557yfx631l\\croots\\recipe\\xgboost-split_1659548953302\\work\\src\\tree\\updater_prune.cc:101: tree pruning end, 68 extra nodes, 0 pruned nodes, max_depth=7\n",
      "[17:58:47] INFO: C:\\Windows\\Temp\\abs_557yfx631l\\croots\\recipe\\xgboost-split_1659548953302\\work\\src\\tree\\updater_prune.cc:101: tree pruning end, 100 extra nodes, 0 pruned nodes, max_depth=7\n",
      "[17:58:47] INFO: C:\\Windows\\Temp\\abs_557yfx631l\\croots\\recipe\\xgboost-split_1659548953302\\work\\src\\tree\\updater_prune.cc:101: tree pruning end, 46 extra nodes, 0 pruned nodes, max_depth=7\n",
      "[17:58:47] INFO: C:\\Windows\\Temp\\abs_557yfx631l\\croots\\recipe\\xgboost-split_1659548953302\\work\\src\\tree\\updater_prune.cc:101: tree pruning end, 68 extra nodes, 0 pruned nodes, max_depth=7\n",
      "[17:58:47] INFO: C:\\Windows\\Temp\\abs_557yfx631l\\croots\\recipe\\xgboost-split_1659548953302\\work\\src\\tree\\updater_prune.cc:101: tree pruning end, 28 extra nodes, 0 pruned nodes, max_depth=7\n",
      "[17:58:47] INFO: C:\\Windows\\Temp\\abs_557yfx631l\\croots\\recipe\\xgboost-split_1659548953302\\work\\src\\tree\\updater_prune.cc:101: tree pruning end, 62 extra nodes, 0 pruned nodes, max_depth=7\n",
      "[17:58:47] INFO: C:\\Windows\\Temp\\abs_557yfx631l\\croots\\recipe\\xgboost-split_1659548953302\\work\\src\\tree\\updater_prune.cc:101: tree pruning end, 36 extra nodes, 0 pruned nodes, max_depth=7\n",
      "[17:58:47] INFO: C:\\Windows\\Temp\\abs_557yfx631l\\croots\\recipe\\xgboost-split_1659548953302\\work\\src\\tree\\updater_prune.cc:101: tree pruning end, 82 extra nodes, 0 pruned nodes, max_depth=7\n",
      "[17:58:47] INFO: C:\\Windows\\Temp\\abs_557yfx631l\\croots\\recipe\\xgboost-split_1659548953302\\work\\src\\tree\\updater_prune.cc:101: tree pruning end, 30 extra nodes, 0 pruned nodes, max_depth=7\n",
      "[17:58:47] INFO: C:\\Windows\\Temp\\abs_557yfx631l\\croots\\recipe\\xgboost-split_1659548953302\\work\\src\\tree\\updater_prune.cc:101: tree pruning end, 46 extra nodes, 0 pruned nodes, max_depth=7\n",
      "[17:58:47] INFO: C:\\Windows\\Temp\\abs_557yfx631l\\croots\\recipe\\xgboost-split_1659548953302\\work\\src\\tree\\updater_prune.cc:101: tree pruning end, 62 extra nodes, 0 pruned nodes, max_depth=7\n",
      "[17:58:47] INFO: C:\\Windows\\Temp\\abs_557yfx631l\\croots\\recipe\\xgboost-split_1659548953302\\work\\src\\tree\\updater_prune.cc:101: tree pruning end, 68 extra nodes, 0 pruned nodes, max_depth=7\n",
      "[17:58:47] INFO: C:\\Windows\\Temp\\abs_557yfx631l\\croots\\recipe\\xgboost-split_1659548953302\\work\\src\\tree\\updater_prune.cc:101: tree pruning end, 82 extra nodes, 0 pruned nodes, max_depth=7\n",
      "[17:58:47] INFO: C:\\Windows\\Temp\\abs_557yfx631l\\croots\\recipe\\xgboost-split_1659548953302\\work\\src\\tree\\updater_prune.cc:101: tree pruning end, 28 extra nodes, 0 pruned nodes, max_depth=7\n",
      "[17:58:47] INFO: C:\\Windows\\Temp\\abs_557yfx631l\\croots\\recipe\\xgboost-split_1659548953302\\work\\src\\tree\\updater_prune.cc:101: tree pruning end, 38 extra nodes, 0 pruned nodes, max_depth=7\n",
      "[17:58:47] INFO: C:\\Windows\\Temp\\abs_557yfx631l\\croots\\recipe\\xgboost-split_1659548953302\\work\\src\\tree\\updater_prune.cc:101: tree pruning end, 28 extra nodes, 0 pruned nodes, max_depth=7\n",
      "[17:58:47] INFO: C:\\Windows\\Temp\\abs_557yfx631l\\croots\\recipe\\xgboost-split_1659548953302\\work\\src\\tree\\updater_prune.cc:101: tree pruning end, 30 extra nodes, 0 pruned nodes, max_depth=7\n",
      "[17:58:47] INFO: C:\\Windows\\Temp\\abs_557yfx631l\\croots\\recipe\\xgboost-split_1659548953302\\work\\src\\tree\\updater_prune.cc:101: tree pruning end, 82 extra nodes, 0 pruned nodes, max_depth=7\n",
      "[17:58:47] INFO: C:\\Windows\\Temp\\abs_557yfx631l\\croots\\recipe\\xgboost-split_1659548953302\\work\\src\\tree\\updater_prune.cc:101: tree pruning end, 28 extra nodes, 0 pruned nodes, max_depth=7\n",
      "[17:58:47] INFO: C:\\Windows\\Temp\\abs_557yfx631l\\croots\\recipe\\xgboost-split_1659548953302\\work\\src\\tree\\updater_prune.cc:101: tree pruning end, 38 extra nodes, 0 pruned nodes, max_depth=7\n",
      "[17:58:47] INFO: C:\\Windows\\Temp\\abs_557yfx631l\\croots\\recipe\\xgboost-split_1659548953302\\work\\src\\tree\\updater_prune.cc:101: tree pruning end, 60 extra nodes, 0 pruned nodes, max_depth=7\n",
      "[17:58:47] INFO: C:\\Windows\\Temp\\abs_557yfx631l\\croots\\recipe\\xgboost-split_1659548953302\\work\\src\\tree\\updater_prune.cc:101: tree pruning end, 62 extra nodes, 0 pruned nodes, max_depth=7\n",
      "[17:58:47] INFO: C:\\Windows\\Temp\\abs_557yfx631l\\croots\\recipe\\xgboost-split_1659548953302\\work\\src\\tree\\updater_prune.cc:101: tree pruning end, 82 extra nodes, 0 pruned nodes, max_depth=7\n",
      "[17:58:47] INFO: C:\\Windows\\Temp\\abs_557yfx631l\\croots\\recipe\\xgboost-split_1659548953302\\work\\src\\tree\\updater_prune.cc:101: tree pruning end, 38 extra nodes, 0 pruned nodes, max_depth=7\n",
      "[17:58:47] INFO: C:\\Windows\\Temp\\abs_557yfx631l\\croots\\recipe\\xgboost-split_1659548953302\\work\\src\\tree\\updater_prune.cc:101: tree pruning end, 28 extra nodes, 0 pruned nodes, max_depth=7\n",
      "[17:58:47] INFO: C:\\Windows\\Temp\\abs_557yfx631l\\croots\\recipe\\xgboost-split_1659548953302\\work\\src\\tree\\updater_prune.cc:101: tree pruning end, 82 extra nodes, 0 pruned nodes, max_depth=7\n",
      "[17:58:47] INFO: C:\\Windows\\Temp\\abs_557yfx631l\\croots\\recipe\\xgboost-split_1659548953302\\work\\src\\tree\\updater_prune.cc:101: tree pruning end, 28 extra nodes, 0 pruned nodes, max_depth=7\n",
      "[17:58:47] INFO: C:\\Windows\\Temp\\abs_557yfx631l\\croots\\recipe\\xgboost-split_1659548953302\\work\\src\\tree\\updater_prune.cc:101: tree pruning end, 62 extra nodes, 0 pruned nodes, max_depth=7\n",
      "[17:58:47] INFO: C:\\Windows\\Temp\\abs_557yfx631l\\croots\\recipe\\xgboost-split_1659548953302\\work\\src\\tree\\updater_prune.cc:101: tree pruning end, 60 extra nodes, 0 pruned nodes, max_depth=7\n",
      "[17:58:47] INFO: C:\\Windows\\Temp\\abs_557yfx631l\\croots\\recipe\\xgboost-split_1659548953302\\work\\src\\tree\\updater_prune.cc:101: tree pruning end, 62 extra nodes, 0 pruned nodes, max_depth=7\n",
      "[17:58:47] INFO: C:\\Windows\\Temp\\abs_557yfx631l\\croots\\recipe\\xgboost-split_1659548953302\\work\\src\\tree\\updater_prune.cc:101: tree pruning end, 80 extra nodes, 0 pruned nodes, max_depth=7\n",
      "[17:58:47] INFO: C:\\Windows\\Temp\\abs_557yfx631l\\croots\\recipe\\xgboost-split_1659548953302\\work\\src\\tree\\updater_prune.cc:101: tree pruning end, 26 extra nodes, 0 pruned nodes, max_depth=7\n",
      "[17:58:47] INFO: C:\\Windows\\Temp\\abs_557yfx631l\\croots\\recipe\\xgboost-split_1659548953302\\work\\src\\tree\\updater_prune.cc:101: tree pruning end, 40 extra nodes, 0 pruned nodes, max_depth=7\n",
      "[17:58:47] INFO: C:\\Windows\\Temp\\abs_557yfx631l\\croots\\recipe\\xgboost-split_1659548953302\\work\\src\\tree\\updater_prune.cc:101: tree pruning end, 26 extra nodes, 0 pruned nodes, max_depth=7\n",
      "[17:58:48] INFO: C:\\Windows\\Temp\\abs_557yfx631l\\croots\\recipe\\xgboost-split_1659548953302\\work\\src\\tree\\updater_prune.cc:101: tree pruning end, 82 extra nodes, 0 pruned nodes, max_depth=7\n",
      "[17:58:48] INFO: C:\\Windows\\Temp\\abs_557yfx631l\\croots\\recipe\\xgboost-split_1659548953302\\work\\src\\tree\\updater_prune.cc:101: tree pruning end, 62 extra nodes, 0 pruned nodes, max_depth=7\n",
      "[17:58:48] INFO: C:\\Windows\\Temp\\abs_557yfx631l\\croots\\recipe\\xgboost-split_1659548953302\\work\\src\\tree\\updater_prune.cc:101: tree pruning end, 40 extra nodes, 0 pruned nodes, max_depth=7\n",
      "[17:58:48] INFO: C:\\Windows\\Temp\\abs_557yfx631l\\croots\\recipe\\xgboost-split_1659548953302\\work\\src\\tree\\updater_prune.cc:101: tree pruning end, 26 extra nodes, 0 pruned nodes, max_depth=7\n",
      "[17:58:48] INFO: C:\\Windows\\Temp\\abs_557yfx631l\\croots\\recipe\\xgboost-split_1659548953302\\work\\src\\tree\\updater_prune.cc:101: tree pruning end, 80 extra nodes, 0 pruned nodes, max_depth=7\n",
      "[17:58:48] INFO: C:\\Windows\\Temp\\abs_557yfx631l\\croots\\recipe\\xgboost-split_1659548953302\\work\\src\\tree\\updater_prune.cc:101: tree pruning end, 62 extra nodes, 0 pruned nodes, max_depth=7\n",
      "[17:58:48] INFO: C:\\Windows\\Temp\\abs_557yfx631l\\croots\\recipe\\xgboost-split_1659548953302\\work\\src\\tree\\updater_prune.cc:101: tree pruning end, 62 extra nodes, 0 pruned nodes, max_depth=7\n",
      "[17:58:48] INFO: C:\\Windows\\Temp\\abs_557yfx631l\\croots\\recipe\\xgboost-split_1659548953302\\work\\src\\tree\\updater_prune.cc:101: tree pruning end, 86 extra nodes, 0 pruned nodes, max_depth=7\n",
      "[17:58:48] INFO: C:\\Windows\\Temp\\abs_557yfx631l\\croots\\recipe\\xgboost-split_1659548953302\\work\\src\\tree\\updater_prune.cc:101: tree pruning end, 26 extra nodes, 0 pruned nodes, max_depth=7\n",
      "[17:58:48] INFO: C:\\Windows\\Temp\\abs_557yfx631l\\croots\\recipe\\xgboost-split_1659548953302\\work\\src\\tree\\updater_prune.cc:101: tree pruning end, 36 extra nodes, 0 pruned nodes, max_depth=7\n",
      "[17:58:48] INFO: C:\\Windows\\Temp\\abs_557yfx631l\\croots\\recipe\\xgboost-split_1659548953302\\work\\src\\tree\\updater_prune.cc:101: tree pruning end, 26 extra nodes, 0 pruned nodes, max_depth=7\n",
      "[17:58:48] INFO: C:\\Windows\\Temp\\abs_557yfx631l\\croots\\recipe\\xgboost-split_1659548953302\\work\\src\\tree\\updater_prune.cc:101: tree pruning end, 94 extra nodes, 0 pruned nodes, max_depth=7\n",
      "[17:58:48] INFO: C:\\Windows\\Temp\\abs_557yfx631l\\croots\\recipe\\xgboost-split_1659548953302\\work\\src\\tree\\updater_prune.cc:101: tree pruning end, 74 extra nodes, 0 pruned nodes, max_depth=7\n",
      "[17:58:48] INFO: C:\\Windows\\Temp\\abs_557yfx631l\\croots\\recipe\\xgboost-split_1659548953302\\work\\src\\tree\\updater_prune.cc:101: tree pruning end, 68 extra nodes, 0 pruned nodes, max_depth=7\n",
      "[17:58:48] INFO: C:\\Windows\\Temp\\abs_557yfx631l\\croots\\recipe\\xgboost-split_1659548953302\\work\\src\\tree\\updater_prune.cc:101: tree pruning end, 62 extra nodes, 0 pruned nodes, max_depth=7\n",
      "[17:58:48] INFO: C:\\Windows\\Temp\\abs_557yfx631l\\croots\\recipe\\xgboost-split_1659548953302\\work\\src\\tree\\updater_prune.cc:101: tree pruning end, 78 extra nodes, 0 pruned nodes, max_depth=7\n",
      "[17:58:48] INFO: C:\\Windows\\Temp\\abs_557yfx631l\\croots\\recipe\\xgboost-split_1659548953302\\work\\src\\tree\\updater_prune.cc:101: tree pruning end, 26 extra nodes, 0 pruned nodes, max_depth=7\n",
      "[17:58:48] INFO: C:\\Windows\\Temp\\abs_557yfx631l\\croots\\recipe\\xgboost-split_1659548953302\\work\\src\\tree\\updater_prune.cc:101: tree pruning end, 30 extra nodes, 0 pruned nodes, max_depth=7\n",
      "[17:58:48] INFO: C:\\Windows\\Temp\\abs_557yfx631l\\croots\\recipe\\xgboost-split_1659548953302\\work\\src\\tree\\updater_prune.cc:101: tree pruning end, 26 extra nodes, 0 pruned nodes, max_depth=7\n",
      "[17:58:48] INFO: C:\\Windows\\Temp\\abs_557yfx631l\\croots\\recipe\\xgboost-split_1659548953302\\work\\src\\tree\\updater_prune.cc:101: tree pruning end, 68 extra nodes, 0 pruned nodes, max_depth=7\n",
      "[17:58:48] INFO: C:\\Windows\\Temp\\abs_557yfx631l\\croots\\recipe\\xgboost-split_1659548953302\\work\\src\\tree\\updater_prune.cc:101: tree pruning end, 74 extra nodes, 0 pruned nodes, max_depth=7\n",
      "[17:58:48] INFO: C:\\Windows\\Temp\\abs_557yfx631l\\croots\\recipe\\xgboost-split_1659548953302\\work\\src\\tree\\updater_prune.cc:101: tree pruning end, 60 extra nodes, 0 pruned nodes, max_depth=7\n",
      "[17:58:48] INFO: C:\\Windows\\Temp\\abs_557yfx631l\\croots\\recipe\\xgboost-split_1659548953302\\work\\src\\tree\\updater_prune.cc:101: tree pruning end, 44 extra nodes, 0 pruned nodes, max_depth=7\n",
      "[17:58:48] INFO: C:\\Windows\\Temp\\abs_557yfx631l\\croots\\recipe\\xgboost-split_1659548953302\\work\\src\\tree\\updater_prune.cc:101: tree pruning end, 60 extra nodes, 0 pruned nodes, max_depth=7\n",
      "[17:58:48] INFO: C:\\Windows\\Temp\\abs_557yfx631l\\croots\\recipe\\xgboost-split_1659548953302\\work\\src\\tree\\updater_prune.cc:101: tree pruning end, 44 extra nodes, 0 pruned nodes, max_depth=7\n",
      "[17:58:48] INFO: C:\\Windows\\Temp\\abs_557yfx631l\\croots\\recipe\\xgboost-split_1659548953302\\work\\src\\tree\\updater_prune.cc:101: tree pruning end, 26 extra nodes, 0 pruned nodes, max_depth=7\n",
      "[17:58:48] INFO: C:\\Windows\\Temp\\abs_557yfx631l\\croots\\recipe\\xgboost-split_1659548953302\\work\\src\\tree\\updater_prune.cc:101: tree pruning end, 76 extra nodes, 0 pruned nodes, max_depth=7\n",
      "[17:58:48] INFO: C:\\Windows\\Temp\\abs_557yfx631l\\croots\\recipe\\xgboost-split_1659548953302\\work\\src\\tree\\updater_prune.cc:101: tree pruning end, 26 extra nodes, 0 pruned nodes, max_depth=7\n",
      "[17:58:48] INFO: C:\\Windows\\Temp\\abs_557yfx631l\\croots\\recipe\\xgboost-split_1659548953302\\work\\src\\tree\\updater_prune.cc:101: tree pruning end, 30 extra nodes, 0 pruned nodes, max_depth=7\n",
      "[17:58:48] INFO: C:\\Windows\\Temp\\abs_557yfx631l\\croots\\recipe\\xgboost-split_1659548953302\\work\\src\\tree\\updater_prune.cc:101: tree pruning end, 60 extra nodes, 0 pruned nodes, max_depth=7\n",
      "[17:58:48] INFO: C:\\Windows\\Temp\\abs_557yfx631l\\croots\\recipe\\xgboost-split_1659548953302\\work\\src\\tree\\updater_prune.cc:101: tree pruning end, 58 extra nodes, 0 pruned nodes, max_depth=7\n",
      "[17:58:48] INFO: C:\\Windows\\Temp\\abs_557yfx631l\\croots\\recipe\\xgboost-split_1659548953302\\work\\src\\tree\\updater_prune.cc:101: tree pruning end, 74 extra nodes, 0 pruned nodes, max_depth=7\n",
      "[17:58:48] INFO: C:\\Windows\\Temp\\abs_557yfx631l\\croots\\recipe\\xgboost-split_1659548953302\\work\\src\\tree\\updater_prune.cc:101: tree pruning end, 84 extra nodes, 0 pruned nodes, max_depth=7\n",
      "[17:58:48] INFO: C:\\Windows\\Temp\\abs_557yfx631l\\croots\\recipe\\xgboost-split_1659548953302\\work\\src\\tree\\updater_prune.cc:101: tree pruning end, 60 extra nodes, 0 pruned nodes, max_depth=7\n",
      "[17:58:48] INFO: C:\\Windows\\Temp\\abs_557yfx631l\\croots\\recipe\\xgboost-split_1659548953302\\work\\src\\tree\\updater_prune.cc:101: tree pruning end, 74 extra nodes, 0 pruned nodes, max_depth=7\n",
      "[17:58:48] INFO: C:\\Windows\\Temp\\abs_557yfx631l\\croots\\recipe\\xgboost-split_1659548953302\\work\\src\\tree\\updater_prune.cc:101: tree pruning end, 26 extra nodes, 0 pruned nodes, max_depth=7\n"
     ]
    },
    {
     "name": "stdout",
     "output_type": "stream",
     "text": [
      "[17:58:48] INFO: C:\\Windows\\Temp\\abs_557yfx631l\\croots\\recipe\\xgboost-split_1659548953302\\work\\src\\tree\\updater_prune.cc:101: tree pruning end, 42 extra nodes, 0 pruned nodes, max_depth=7\n",
      "[17:58:48] INFO: C:\\Windows\\Temp\\abs_557yfx631l\\croots\\recipe\\xgboost-split_1659548953302\\work\\src\\tree\\updater_prune.cc:101: tree pruning end, 90 extra nodes, 0 pruned nodes, max_depth=7\n",
      "[17:58:48] INFO: C:\\Windows\\Temp\\abs_557yfx631l\\croots\\recipe\\xgboost-split_1659548953302\\work\\src\\tree\\updater_prune.cc:101: tree pruning end, 26 extra nodes, 0 pruned nodes, max_depth=7\n",
      "[17:58:48] INFO: C:\\Windows\\Temp\\abs_557yfx631l\\croots\\recipe\\xgboost-split_1659548953302\\work\\src\\tree\\updater_prune.cc:101: tree pruning end, 70 extra nodes, 0 pruned nodes, max_depth=7\n",
      "[17:58:48] INFO: C:\\Windows\\Temp\\abs_557yfx631l\\croots\\recipe\\xgboost-split_1659548953302\\work\\src\\tree\\updater_prune.cc:101: tree pruning end, 26 extra nodes, 0 pruned nodes, max_depth=7\n",
      "[17:58:48] INFO: C:\\Windows\\Temp\\abs_557yfx631l\\croots\\recipe\\xgboost-split_1659548953302\\work\\src\\tree\\updater_prune.cc:101: tree pruning end, 72 extra nodes, 0 pruned nodes, max_depth=7\n",
      "[17:58:48] INFO: C:\\Windows\\Temp\\abs_557yfx631l\\croots\\recipe\\xgboost-split_1659548953302\\work\\src\\tree\\updater_prune.cc:101: tree pruning end, 34 extra nodes, 0 pruned nodes, max_depth=7\n",
      "[17:58:48] INFO: C:\\Windows\\Temp\\abs_557yfx631l\\croots\\recipe\\xgboost-split_1659548953302\\work\\src\\tree\\updater_prune.cc:101: tree pruning end, 26 extra nodes, 0 pruned nodes, max_depth=7\n",
      "[17:58:48] INFO: C:\\Windows\\Temp\\abs_557yfx631l\\croots\\recipe\\xgboost-split_1659548953302\\work\\src\\tree\\updater_prune.cc:101: tree pruning end, 66 extra nodes, 0 pruned nodes, max_depth=7\n",
      "[17:58:48] INFO: C:\\Windows\\Temp\\abs_557yfx631l\\croots\\recipe\\xgboost-split_1659548953302\\work\\src\\tree\\updater_prune.cc:101: tree pruning end, 34 extra nodes, 0 pruned nodes, max_depth=7\n",
      "[17:58:48] INFO: C:\\Windows\\Temp\\abs_557yfx631l\\croots\\recipe\\xgboost-split_1659548953302\\work\\src\\tree\\updater_prune.cc:101: tree pruning end, 48 extra nodes, 0 pruned nodes, max_depth=7\n",
      "[17:58:48] INFO: C:\\Windows\\Temp\\abs_557yfx631l\\croots\\recipe\\xgboost-split_1659548953302\\work\\src\\tree\\updater_prune.cc:101: tree pruning end, 60 extra nodes, 0 pruned nodes, max_depth=7\n",
      "[17:58:48] INFO: C:\\Windows\\Temp\\abs_557yfx631l\\croots\\recipe\\xgboost-split_1659548953302\\work\\src\\tree\\updater_prune.cc:101: tree pruning end, 90 extra nodes, 0 pruned nodes, max_depth=7\n",
      "[17:58:48] INFO: C:\\Windows\\Temp\\abs_557yfx631l\\croots\\recipe\\xgboost-split_1659548953302\\work\\src\\tree\\updater_prune.cc:101: tree pruning end, 60 extra nodes, 0 pruned nodes, max_depth=7\n",
      "[17:58:48] INFO: C:\\Windows\\Temp\\abs_557yfx631l\\croots\\recipe\\xgboost-split_1659548953302\\work\\src\\tree\\updater_prune.cc:101: tree pruning end, 26 extra nodes, 0 pruned nodes, max_depth=7\n",
      "[17:58:48] INFO: C:\\Windows\\Temp\\abs_557yfx631l\\croots\\recipe\\xgboost-split_1659548953302\\work\\src\\tree\\updater_prune.cc:101: tree pruning end, 106 extra nodes, 0 pruned nodes, max_depth=7\n",
      "[17:58:48] INFO: C:\\Windows\\Temp\\abs_557yfx631l\\croots\\recipe\\xgboost-split_1659548953302\\work\\src\\tree\\updater_prune.cc:101: tree pruning end, 34 extra nodes, 0 pruned nodes, max_depth=7\n",
      "[17:58:48] INFO: C:\\Windows\\Temp\\abs_557yfx631l\\croots\\recipe\\xgboost-split_1659548953302\\work\\src\\tree\\updater_prune.cc:101: tree pruning end, 90 extra nodes, 0 pruned nodes, max_depth=7\n",
      "[17:58:48] INFO: C:\\Windows\\Temp\\abs_557yfx631l\\croots\\recipe\\xgboost-split_1659548953302\\work\\src\\tree\\updater_prune.cc:101: tree pruning end, 34 extra nodes, 0 pruned nodes, max_depth=7\n",
      "[17:58:48] INFO: C:\\Windows\\Temp\\abs_557yfx631l\\croots\\recipe\\xgboost-split_1659548953302\\work\\src\\tree\\updater_prune.cc:101: tree pruning end, 24 extra nodes, 0 pruned nodes, max_depth=7\n",
      "[17:58:48] INFO: C:\\Windows\\Temp\\abs_557yfx631l\\croots\\recipe\\xgboost-split_1659548953302\\work\\src\\tree\\updater_prune.cc:101: tree pruning end, 48 extra nodes, 0 pruned nodes, max_depth=7\n",
      "[17:58:48] INFO: C:\\Windows\\Temp\\abs_557yfx631l\\croots\\recipe\\xgboost-split_1659548953302\\work\\src\\tree\\updater_prune.cc:101: tree pruning end, 64 extra nodes, 0 pruned nodes, max_depth=7\n",
      "[17:58:48] INFO: C:\\Windows\\Temp\\abs_557yfx631l\\croots\\recipe\\xgboost-split_1659548953302\\work\\src\\tree\\updater_prune.cc:101: tree pruning end, 26 extra nodes, 0 pruned nodes, max_depth=7\n",
      "[17:58:48] INFO: C:\\Windows\\Temp\\abs_557yfx631l\\croots\\recipe\\xgboost-split_1659548953302\\work\\src\\tree\\updater_prune.cc:101: tree pruning end, 32 extra nodes, 0 pruned nodes, max_depth=7\n",
      "[17:58:48] INFO: C:\\Windows\\Temp\\abs_557yfx631l\\croots\\recipe\\xgboost-split_1659548953302\\work\\src\\tree\\updater_prune.cc:101: tree pruning end, 92 extra nodes, 0 pruned nodes, max_depth=7\n",
      "[17:58:48] INFO: C:\\Windows\\Temp\\abs_557yfx631l\\croots\\recipe\\xgboost-split_1659548953302\\work\\src\\tree\\updater_prune.cc:101: tree pruning end, 34 extra nodes, 0 pruned nodes, max_depth=7\n",
      "[17:58:48] INFO: C:\\Windows\\Temp\\abs_557yfx631l\\croots\\recipe\\xgboost-split_1659548953302\\work\\src\\tree\\updater_prune.cc:101: tree pruning end, 24 extra nodes, 0 pruned nodes, max_depth=7\n",
      "[17:58:48] INFO: C:\\Windows\\Temp\\abs_557yfx631l\\croots\\recipe\\xgboost-split_1659548953302\\work\\src\\tree\\updater_prune.cc:101: tree pruning end, 64 extra nodes, 0 pruned nodes, max_depth=7\n",
      "[17:58:48] INFO: C:\\Windows\\Temp\\abs_557yfx631l\\croots\\recipe\\xgboost-split_1659548953302\\work\\src\\tree\\updater_prune.cc:101: tree pruning end, 48 extra nodes, 0 pruned nodes, max_depth=7\n",
      "[17:58:48] INFO: C:\\Windows\\Temp\\abs_557yfx631l\\croots\\recipe\\xgboost-split_1659548953302\\work\\src\\tree\\updater_prune.cc:101: tree pruning end, 24 extra nodes, 0 pruned nodes, max_depth=7\n",
      "[17:58:48] INFO: C:\\Windows\\Temp\\abs_557yfx631l\\croots\\recipe\\xgboost-split_1659548953302\\work\\src\\tree\\updater_prune.cc:101: tree pruning end, 60 extra nodes, 0 pruned nodes, max_depth=7\n",
      "[17:58:48] INFO: C:\\Windows\\Temp\\abs_557yfx631l\\croots\\recipe\\xgboost-split_1659548953302\\work\\src\\tree\\updater_prune.cc:101: tree pruning end, 96 extra nodes, 0 pruned nodes, max_depth=7\n",
      "[17:58:48] INFO: C:\\Windows\\Temp\\abs_557yfx631l\\croots\\recipe\\xgboost-split_1659548953302\\work\\src\\tree\\updater_prune.cc:101: tree pruning end, 70 extra nodes, 0 pruned nodes, max_depth=7\n",
      "[17:58:48] INFO: C:\\Windows\\Temp\\abs_557yfx631l\\croots\\recipe\\xgboost-split_1659548953302\\work\\src\\tree\\updater_prune.cc:101: tree pruning end, 110 extra nodes, 0 pruned nodes, max_depth=7\n",
      "[17:58:48] INFO: C:\\Windows\\Temp\\abs_557yfx631l\\croots\\recipe\\xgboost-split_1659548953302\\work\\src\\tree\\updater_prune.cc:101: tree pruning end, 80 extra nodes, 0 pruned nodes, max_depth=7\n",
      "[17:58:48] INFO: C:\\Windows\\Temp\\abs_557yfx631l\\croots\\recipe\\xgboost-split_1659548953302\\work\\src\\tree\\updater_prune.cc:101: tree pruning end, 80 extra nodes, 0 pruned nodes, max_depth=7\n",
      "[17:58:48] INFO: C:\\Windows\\Temp\\abs_557yfx631l\\croots\\recipe\\xgboost-split_1659548953302\\work\\src\\tree\\updater_prune.cc:101: tree pruning end, 50 extra nodes, 0 pruned nodes, max_depth=7\n",
      "[17:58:48] INFO: C:\\Windows\\Temp\\abs_557yfx631l\\croots\\recipe\\xgboost-split_1659548953302\\work\\src\\tree\\updater_prune.cc:101: tree pruning end, 24 extra nodes, 0 pruned nodes, max_depth=7\n",
      "[17:58:48] INFO: C:\\Windows\\Temp\\abs_557yfx631l\\croots\\recipe\\xgboost-split_1659548953302\\work\\src\\tree\\updater_prune.cc:101: tree pruning end, 116 extra nodes, 0 pruned nodes, max_depth=7\n",
      "[17:58:48] INFO: C:\\Windows\\Temp\\abs_557yfx631l\\croots\\recipe\\xgboost-split_1659548953302\\work\\src\\tree\\updater_prune.cc:101: tree pruning end, 72 extra nodes, 0 pruned nodes, max_depth=7\n",
      "[17:58:48] INFO: C:\\Windows\\Temp\\abs_557yfx631l\\croots\\recipe\\xgboost-split_1659548953302\\work\\src\\tree\\updater_prune.cc:101: tree pruning end, 80 extra nodes, 0 pruned nodes, max_depth=7\n",
      "[17:58:48] INFO: C:\\Windows\\Temp\\abs_557yfx631l\\croots\\recipe\\xgboost-split_1659548953302\\work\\src\\tree\\updater_prune.cc:101: tree pruning end, 38 extra nodes, 0 pruned nodes, max_depth=7\n",
      "[17:58:48] INFO: C:\\Windows\\Temp\\abs_557yfx631l\\croots\\recipe\\xgboost-split_1659548953302\\work\\src\\tree\\updater_prune.cc:101: tree pruning end, 120 extra nodes, 0 pruned nodes, max_depth=7\n",
      "[17:58:48] INFO: C:\\Windows\\Temp\\abs_557yfx631l\\croots\\recipe\\xgboost-split_1659548953302\\work\\src\\tree\\updater_prune.cc:101: tree pruning end, 50 extra nodes, 0 pruned nodes, max_depth=7\n",
      "[17:58:48] INFO: C:\\Windows\\Temp\\abs_557yfx631l\\croots\\recipe\\xgboost-split_1659548953302\\work\\src\\tree\\updater_prune.cc:101: tree pruning end, 72 extra nodes, 0 pruned nodes, max_depth=7\n",
      "[17:58:48] INFO: C:\\Windows\\Temp\\abs_557yfx631l\\croots\\recipe\\xgboost-split_1659548953302\\work\\src\\tree\\updater_prune.cc:101: tree pruning end, 56 extra nodes, 0 pruned nodes, max_depth=7\n",
      "[17:58:48] INFO: C:\\Windows\\Temp\\abs_557yfx631l\\croots\\recipe\\xgboost-split_1659548953302\\work\\src\\tree\\updater_prune.cc:101: tree pruning end, 26 extra nodes, 0 pruned nodes, max_depth=7\n",
      "[17:58:48] INFO: C:\\Windows\\Temp\\abs_557yfx631l\\croots\\recipe\\xgboost-split_1659548953302\\work\\src\\tree\\updater_prune.cc:101: tree pruning end, 38 extra nodes, 0 pruned nodes, max_depth=7\n",
      "[17:58:48] INFO: C:\\Windows\\Temp\\abs_557yfx631l\\croots\\recipe\\xgboost-split_1659548953302\\work\\src\\tree\\updater_prune.cc:101: tree pruning end, 24 extra nodes, 0 pruned nodes, max_depth=7\n",
      "[17:58:48] INFO: C:\\Windows\\Temp\\abs_557yfx631l\\croots\\recipe\\xgboost-split_1659548953302\\work\\src\\tree\\updater_prune.cc:101: tree pruning end, 114 extra nodes, 0 pruned nodes, max_depth=7\n",
      "[17:58:48] INFO: C:\\Windows\\Temp\\abs_557yfx631l\\croots\\recipe\\xgboost-split_1659548953302\\work\\src\\tree\\updater_prune.cc:101: tree pruning end, 76 extra nodes, 0 pruned nodes, max_depth=7\n",
      "[17:58:48] INFO: C:\\Windows\\Temp\\abs_557yfx631l\\croots\\recipe\\xgboost-split_1659548953302\\work\\src\\tree\\updater_prune.cc:101: tree pruning end, 32 extra nodes, 0 pruned nodes, max_depth=7\n",
      "[17:58:48] INFO: C:\\Windows\\Temp\\abs_557yfx631l\\croots\\recipe\\xgboost-split_1659548953302\\work\\src\\tree\\updater_prune.cc:101: tree pruning end, 24 extra nodes, 0 pruned nodes, max_depth=7\n",
      "[17:58:48] INFO: C:\\Windows\\Temp\\abs_557yfx631l\\croots\\recipe\\xgboost-split_1659548953302\\work\\src\\tree\\updater_prune.cc:101: tree pruning end, 38 extra nodes, 0 pruned nodes, max_depth=7\n",
      "[17:58:48] INFO: C:\\Windows\\Temp\\abs_557yfx631l\\croots\\recipe\\xgboost-split_1659548953302\\work\\src\\tree\\updater_prune.cc:101: tree pruning end, 50 extra nodes, 0 pruned nodes, max_depth=7\n",
      "[17:58:48] INFO: C:\\Windows\\Temp\\abs_557yfx631l\\croots\\recipe\\xgboost-split_1659548953302\\work\\src\\tree\\updater_prune.cc:101: tree pruning end, 74 extra nodes, 0 pruned nodes, max_depth=7\n",
      "[17:58:48] INFO: C:\\Windows\\Temp\\abs_557yfx631l\\croots\\recipe\\xgboost-split_1659548953302\\work\\src\\tree\\updater_prune.cc:101: tree pruning end, 26 extra nodes, 0 pruned nodes, max_depth=7\n",
      "[17:58:48] INFO: C:\\Windows\\Temp\\abs_557yfx631l\\croots\\recipe\\xgboost-split_1659548953302\\work\\src\\tree\\updater_prune.cc:101: tree pruning end, 26 extra nodes, 0 pruned nodes, max_depth=7\n",
      "[17:58:48] INFO: C:\\Windows\\Temp\\abs_557yfx631l\\croots\\recipe\\xgboost-split_1659548953302\\work\\src\\tree\\updater_prune.cc:101: tree pruning end, 66 extra nodes, 0 pruned nodes, max_depth=7\n",
      "[17:58:48] INFO: C:\\Windows\\Temp\\abs_557yfx631l\\croots\\recipe\\xgboost-split_1659548953302\\work\\src\\tree\\updater_prune.cc:101: tree pruning end, 96 extra nodes, 0 pruned nodes, max_depth=7\n",
      "[17:58:48] INFO: C:\\Windows\\Temp\\abs_557yfx631l\\croots\\recipe\\xgboost-split_1659548953302\\work\\src\\tree\\updater_prune.cc:101: tree pruning end, 38 extra nodes, 0 pruned nodes, max_depth=7\n",
      "[17:58:48] INFO: C:\\Windows\\Temp\\abs_557yfx631l\\croots\\recipe\\xgboost-split_1659548953302\\work\\src\\tree\\updater_prune.cc:101: tree pruning end, 70 extra nodes, 0 pruned nodes, max_depth=7\n",
      "[17:58:48] INFO: C:\\Windows\\Temp\\abs_557yfx631l\\croots\\recipe\\xgboost-split_1659548953302\\work\\src\\tree\\updater_prune.cc:101: tree pruning end, 26 extra nodes, 0 pruned nodes, max_depth=7\n",
      "[17:58:48] INFO: C:\\Windows\\Temp\\abs_557yfx631l\\croots\\recipe\\xgboost-split_1659548953302\\work\\src\\tree\\updater_prune.cc:101: tree pruning end, 96 extra nodes, 0 pruned nodes, max_depth=7\n",
      "[17:58:48] INFO: C:\\Windows\\Temp\\abs_557yfx631l\\croots\\recipe\\xgboost-split_1659548953302\\work\\src\\tree\\updater_prune.cc:101: tree pruning end, 118 extra nodes, 0 pruned nodes, max_depth=7\n",
      "[17:58:48] INFO: C:\\Windows\\Temp\\abs_557yfx631l\\croots\\recipe\\xgboost-split_1659548953302\\work\\src\\tree\\updater_prune.cc:101: tree pruning end, 38 extra nodes, 0 pruned nodes, max_depth=7\n",
      "[17:58:48] INFO: C:\\Windows\\Temp\\abs_557yfx631l\\croots\\recipe\\xgboost-split_1659548953302\\work\\src\\tree\\updater_prune.cc:101: tree pruning end, 66 extra nodes, 0 pruned nodes, max_depth=7\n",
      "[17:58:48] INFO: C:\\Windows\\Temp\\abs_557yfx631l\\croots\\recipe\\xgboost-split_1659548953302\\work\\src\\tree\\updater_prune.cc:101: tree pruning end, 32 extra nodes, 0 pruned nodes, max_depth=7\n",
      "[17:58:48] INFO: C:\\Windows\\Temp\\abs_557yfx631l\\croots\\recipe\\xgboost-split_1659548953302\\work\\src\\tree\\updater_prune.cc:101: tree pruning end, 26 extra nodes, 0 pruned nodes, max_depth=7\n",
      "[17:58:48] INFO: C:\\Windows\\Temp\\abs_557yfx631l\\croots\\recipe\\xgboost-split_1659548953302\\work\\src\\tree\\updater_prune.cc:101: tree pruning end, 70 extra nodes, 0 pruned nodes, max_depth=7\n",
      "[17:58:48] INFO: C:\\Windows\\Temp\\abs_557yfx631l\\croots\\recipe\\xgboost-split_1659548953302\\work\\src\\tree\\updater_prune.cc:101: tree pruning end, 50 extra nodes, 0 pruned nodes, max_depth=7\n",
      "[17:58:48] INFO: C:\\Windows\\Temp\\abs_557yfx631l\\croots\\recipe\\xgboost-split_1659548953302\\work\\src\\tree\\updater_prune.cc:101: tree pruning end, 38 extra nodes, 0 pruned nodes, max_depth=7\n",
      "[17:58:48] INFO: C:\\Windows\\Temp\\abs_557yfx631l\\croots\\recipe\\xgboost-split_1659548953302\\work\\src\\tree\\updater_prune.cc:101: tree pruning end, 96 extra nodes, 0 pruned nodes, max_depth=7\n",
      "[17:58:48] INFO: C:\\Windows\\Temp\\abs_557yfx631l\\croots\\recipe\\xgboost-split_1659548953302\\work\\src\\tree\\updater_prune.cc:101: tree pruning end, 70 extra nodes, 0 pruned nodes, max_depth=7\n",
      "[17:58:48] INFO: C:\\Windows\\Temp\\abs_557yfx631l\\croots\\recipe\\xgboost-split_1659548953302\\work\\src\\tree\\updater_prune.cc:101: tree pruning end, 26 extra nodes, 0 pruned nodes, max_depth=7\n"
     ]
    },
    {
     "name": "stdout",
     "output_type": "stream",
     "text": [
      "[17:58:48] INFO: C:\\Windows\\Temp\\abs_557yfx631l\\croots\\recipe\\xgboost-split_1659548953302\\work\\src\\tree\\updater_prune.cc:101: tree pruning end, 74 extra nodes, 0 pruned nodes, max_depth=7\n",
      "[17:58:48] INFO: C:\\Windows\\Temp\\abs_557yfx631l\\croots\\recipe\\xgboost-split_1659548953302\\work\\src\\tree\\updater_prune.cc:101: tree pruning end, 26 extra nodes, 0 pruned nodes, max_depth=7\n",
      "[17:58:48] INFO: C:\\Windows\\Temp\\abs_557yfx631l\\croots\\recipe\\xgboost-split_1659548953302\\work\\src\\tree\\updater_prune.cc:101: tree pruning end, 26 extra nodes, 0 pruned nodes, max_depth=7\n",
      "[17:58:48] INFO: C:\\Windows\\Temp\\abs_557yfx631l\\croots\\recipe\\xgboost-split_1659548953302\\work\\src\\tree\\updater_prune.cc:101: tree pruning end, 48 extra nodes, 0 pruned nodes, max_depth=7\n",
      "[17:58:48] INFO: C:\\Windows\\Temp\\abs_557yfx631l\\croots\\recipe\\xgboost-split_1659548953302\\work\\src\\tree\\updater_prune.cc:101: tree pruning end, 38 extra nodes, 0 pruned nodes, max_depth=7\n",
      "[17:58:48] INFO: C:\\Windows\\Temp\\abs_557yfx631l\\croots\\recipe\\xgboost-split_1659548953302\\work\\src\\tree\\updater_prune.cc:101: tree pruning end, 98 extra nodes, 0 pruned nodes, max_depth=7\n",
      "[17:58:48] INFO: C:\\Windows\\Temp\\abs_557yfx631l\\croots\\recipe\\xgboost-split_1659548953302\\work\\src\\tree\\updater_prune.cc:101: tree pruning end, 70 extra nodes, 0 pruned nodes, max_depth=7\n",
      "[17:58:48] INFO: C:\\Windows\\Temp\\abs_557yfx631l\\croots\\recipe\\xgboost-split_1659548953302\\work\\src\\tree\\updater_prune.cc:101: tree pruning end, 38 extra nodes, 0 pruned nodes, max_depth=7\n",
      "[17:58:48] INFO: C:\\Windows\\Temp\\abs_557yfx631l\\croots\\recipe\\xgboost-split_1659548953302\\work\\src\\tree\\updater_prune.cc:101: tree pruning end, 122 extra nodes, 0 pruned nodes, max_depth=7\n",
      "[17:58:48] INFO: C:\\Windows\\Temp\\abs_557yfx631l\\croots\\recipe\\xgboost-split_1659548953302\\work\\src\\tree\\updater_prune.cc:101: tree pruning end, 70 extra nodes, 0 pruned nodes, max_depth=7\n",
      "[17:58:48] INFO: C:\\Windows\\Temp\\abs_557yfx631l\\croots\\recipe\\xgboost-split_1659548953302\\work\\src\\tree\\updater_prune.cc:101: tree pruning end, 28 extra nodes, 0 pruned nodes, max_depth=7\n",
      "[17:58:48] INFO: C:\\Windows\\Temp\\abs_557yfx631l\\croots\\recipe\\xgboost-split_1659548953302\\work\\src\\tree\\updater_prune.cc:101: tree pruning end, 30 extra nodes, 0 pruned nodes, max_depth=7\n",
      "[17:58:48] INFO: C:\\Windows\\Temp\\abs_557yfx631l\\croots\\recipe\\xgboost-split_1659548953302\\work\\src\\tree\\updater_prune.cc:101: tree pruning end, 48 extra nodes, 0 pruned nodes, max_depth=7\n",
      "[17:58:48] INFO: C:\\Windows\\Temp\\abs_557yfx631l\\croots\\recipe\\xgboost-split_1659548953302\\work\\src\\tree\\updater_prune.cc:101: tree pruning end, 38 extra nodes, 0 pruned nodes, max_depth=7\n",
      "[17:58:48] INFO: C:\\Windows\\Temp\\abs_557yfx631l\\croots\\recipe\\xgboost-split_1659548953302\\work\\src\\tree\\updater_prune.cc:101: tree pruning end, 70 extra nodes, 0 pruned nodes, max_depth=7\n",
      "[17:58:48] INFO: C:\\Windows\\Temp\\abs_557yfx631l\\croots\\recipe\\xgboost-split_1659548953302\\work\\src\\tree\\updater_prune.cc:101: tree pruning end, 28 extra nodes, 0 pruned nodes, max_depth=7\n",
      "[17:58:48] INFO: C:\\Windows\\Temp\\abs_557yfx631l\\croots\\recipe\\xgboost-split_1659548953302\\work\\src\\tree\\updater_prune.cc:101: tree pruning end, 76 extra nodes, 0 pruned nodes, max_depth=7\n",
      "[17:58:48] INFO: C:\\Windows\\Temp\\abs_557yfx631l\\croots\\recipe\\xgboost-split_1659548953302\\work\\src\\tree\\updater_prune.cc:101: tree pruning end, 48 extra nodes, 0 pruned nodes, max_depth=7\n",
      "[17:58:48] INFO: C:\\Windows\\Temp\\abs_557yfx631l\\croots\\recipe\\xgboost-split_1659548953302\\work\\src\\tree\\updater_prune.cc:101: tree pruning end, 38 extra nodes, 0 pruned nodes, max_depth=7\n",
      "[17:58:48] INFO: C:\\Windows\\Temp\\abs_557yfx631l\\croots\\recipe\\xgboost-split_1659548953302\\work\\src\\tree\\updater_prune.cc:101: tree pruning end, 28 extra nodes, 0 pruned nodes, max_depth=7\n",
      "[17:58:48] INFO: C:\\Windows\\Temp\\abs_557yfx631l\\croots\\recipe\\xgboost-split_1659548953302\\work\\src\\tree\\updater_prune.cc:101: tree pruning end, 74 extra nodes, 0 pruned nodes, max_depth=7\n",
      "[17:58:48] INFO: C:\\Windows\\Temp\\abs_557yfx631l\\croots\\recipe\\xgboost-split_1659548953302\\work\\src\\tree\\updater_prune.cc:101: tree pruning end, 38 extra nodes, 0 pruned nodes, max_depth=7\n",
      "[17:58:48] INFO: C:\\Windows\\Temp\\abs_557yfx631l\\croots\\recipe\\xgboost-split_1659548953302\\work\\src\\tree\\updater_prune.cc:101: tree pruning end, 26 extra nodes, 0 pruned nodes, max_depth=7\n",
      "[17:58:48] INFO: C:\\Windows\\Temp\\abs_557yfx631l\\croots\\recipe\\xgboost-split_1659548953302\\work\\src\\tree\\updater_prune.cc:101: tree pruning end, 48 extra nodes, 0 pruned nodes, max_depth=7\n",
      "[17:58:48] INFO: C:\\Windows\\Temp\\abs_557yfx631l\\croots\\recipe\\xgboost-split_1659548953302\\work\\src\\tree\\updater_prune.cc:101: tree pruning end, 30 extra nodes, 0 pruned nodes, max_depth=7\n",
      "[17:58:48] INFO: C:\\Windows\\Temp\\abs_557yfx631l\\croots\\recipe\\xgboost-split_1659548953302\\work\\src\\tree\\updater_prune.cc:101: tree pruning end, 36 extra nodes, 0 pruned nodes, max_depth=7\n",
      "[17:58:48] INFO: C:\\Windows\\Temp\\abs_557yfx631l\\croots\\recipe\\xgboost-split_1659548953302\\work\\src\\tree\\updater_prune.cc:101: tree pruning end, 70 extra nodes, 0 pruned nodes, max_depth=7\n",
      "[17:58:48] INFO: C:\\Windows\\Temp\\abs_557yfx631l\\croots\\recipe\\xgboost-split_1659548953302\\work\\src\\tree\\updater_prune.cc:101: tree pruning end, 78 extra nodes, 0 pruned nodes, max_depth=7\n",
      "[17:58:48] INFO: C:\\Windows\\Temp\\abs_557yfx631l\\croots\\recipe\\xgboost-split_1659548953302\\work\\src\\tree\\updater_prune.cc:101: tree pruning end, 26 extra nodes, 0 pruned nodes, max_depth=7\n",
      "[17:58:48] INFO: C:\\Windows\\Temp\\abs_557yfx631l\\croots\\recipe\\xgboost-split_1659548953302\\work\\src\\tree\\updater_prune.cc:101: tree pruning end, 48 extra nodes, 0 pruned nodes, max_depth=7\n",
      "[17:58:48] INFO: C:\\Windows\\Temp\\abs_557yfx631l\\croots\\recipe\\xgboost-split_1659548953302\\work\\src\\tree\\updater_prune.cc:101: tree pruning end, 72 extra nodes, 0 pruned nodes, max_depth=7\n",
      "[17:58:48] INFO: C:\\Windows\\Temp\\abs_557yfx631l\\croots\\recipe\\xgboost-split_1659548953302\\work\\src\\tree\\updater_prune.cc:101: tree pruning end, 26 extra nodes, 0 pruned nodes, max_depth=7\n",
      "[17:58:48] INFO: C:\\Windows\\Temp\\abs_557yfx631l\\croots\\recipe\\xgboost-split_1659548953302\\work\\src\\tree\\updater_prune.cc:101: tree pruning end, 36 extra nodes, 0 pruned nodes, max_depth=7\n",
      "[17:58:48] INFO: C:\\Windows\\Temp\\abs_557yfx631l\\croots\\recipe\\xgboost-split_1659548953302\\work\\src\\tree\\updater_prune.cc:101: tree pruning end, 38 extra nodes, 0 pruned nodes, max_depth=7\n",
      "[17:58:48] INFO: C:\\Windows\\Temp\\abs_557yfx631l\\croots\\recipe\\xgboost-split_1659548953302\\work\\src\\tree\\updater_prune.cc:101: tree pruning end, 68 extra nodes, 0 pruned nodes, max_depth=7\n",
      "[17:58:48] INFO: C:\\Windows\\Temp\\abs_557yfx631l\\croots\\recipe\\xgboost-split_1659548953302\\work\\src\\tree\\updater_prune.cc:101: tree pruning end, 26 extra nodes, 0 pruned nodes, max_depth=7\n",
      "[17:58:48] INFO: C:\\Windows\\Temp\\abs_557yfx631l\\croots\\recipe\\xgboost-split_1659548953302\\work\\src\\tree\\updater_prune.cc:101: tree pruning end, 48 extra nodes, 0 pruned nodes, max_depth=7\n",
      "[17:58:48] INFO: C:\\Windows\\Temp\\abs_557yfx631l\\croots\\recipe\\xgboost-split_1659548953302\\work\\src\\tree\\updater_prune.cc:101: tree pruning end, 74 extra nodes, 0 pruned nodes, max_depth=7\n",
      "[17:58:48] INFO: C:\\Windows\\Temp\\abs_557yfx631l\\croots\\recipe\\xgboost-split_1659548953302\\work\\src\\tree\\updater_prune.cc:101: tree pruning end, 26 extra nodes, 0 pruned nodes, max_depth=7\n",
      "[17:58:48] INFO: C:\\Windows\\Temp\\abs_557yfx631l\\croots\\recipe\\xgboost-split_1659548953302\\work\\src\\tree\\updater_prune.cc:101: tree pruning end, 48 extra nodes, 0 pruned nodes, max_depth=7\n",
      "[17:58:48] INFO: C:\\Windows\\Temp\\abs_557yfx631l\\croots\\recipe\\xgboost-split_1659548953302\\work\\src\\tree\\updater_prune.cc:101: tree pruning end, 66 extra nodes, 0 pruned nodes, max_depth=7\n",
      "[17:58:48] INFO: C:\\Windows\\Temp\\abs_557yfx631l\\croots\\recipe\\xgboost-split_1659548953302\\work\\src\\tree\\updater_prune.cc:101: tree pruning end, 30 extra nodes, 0 pruned nodes, max_depth=7\n",
      "[17:58:48] INFO: C:\\Windows\\Temp\\abs_557yfx631l\\croots\\recipe\\xgboost-split_1659548953302\\work\\src\\tree\\updater_prune.cc:101: tree pruning end, 36 extra nodes, 0 pruned nodes, max_depth=7\n",
      "[17:58:48] INFO: C:\\Windows\\Temp\\abs_557yfx631l\\croots\\recipe\\xgboost-split_1659548953302\\work\\src\\tree\\updater_prune.cc:101: tree pruning end, 70 extra nodes, 0 pruned nodes, max_depth=7\n",
      "[17:58:48] INFO: C:\\Windows\\Temp\\abs_557yfx631l\\croots\\recipe\\xgboost-split_1659548953302\\work\\src\\tree\\updater_prune.cc:101: tree pruning end, 54 extra nodes, 0 pruned nodes, max_depth=7\n",
      "[17:58:48] INFO: C:\\Windows\\Temp\\abs_557yfx631l\\croots\\recipe\\xgboost-split_1659548953302\\work\\src\\tree\\updater_prune.cc:101: tree pruning end, 26 extra nodes, 0 pruned nodes, max_depth=7\n",
      "[17:58:48] INFO: C:\\Windows\\Temp\\abs_557yfx631l\\croots\\recipe\\xgboost-split_1659548953302\\work\\src\\tree\\updater_prune.cc:101: tree pruning end, 36 extra nodes, 0 pruned nodes, max_depth=7\n",
      "[17:58:48] INFO: C:\\Windows\\Temp\\abs_557yfx631l\\croots\\recipe\\xgboost-split_1659548953302\\work\\src\\tree\\updater_prune.cc:101: tree pruning end, 48 extra nodes, 0 pruned nodes, max_depth=7\n",
      "[17:58:48] INFO: C:\\Windows\\Temp\\abs_557yfx631l\\croots\\recipe\\xgboost-split_1659548953302\\work\\src\\tree\\updater_prune.cc:101: tree pruning end, 64 extra nodes, 0 pruned nodes, max_depth=7\n",
      "[17:58:48] INFO: C:\\Windows\\Temp\\abs_557yfx631l\\croots\\recipe\\xgboost-split_1659548953302\\work\\src\\tree\\updater_prune.cc:101: tree pruning end, 38 extra nodes, 0 pruned nodes, max_depth=7\n",
      "[17:58:48] INFO: C:\\Windows\\Temp\\abs_557yfx631l\\croots\\recipe\\xgboost-split_1659548953302\\work\\src\\tree\\updater_prune.cc:101: tree pruning end, 30 extra nodes, 0 pruned nodes, max_depth=7\n",
      "[17:58:48] INFO: C:\\Windows\\Temp\\abs_557yfx631l\\croots\\recipe\\xgboost-split_1659548953302\\work\\src\\tree\\updater_prune.cc:101: tree pruning end, 74 extra nodes, 0 pruned nodes, max_depth=7\n",
      "[17:58:48] INFO: C:\\Windows\\Temp\\abs_557yfx631l\\croots\\recipe\\xgboost-split_1659548953302\\work\\src\\tree\\updater_prune.cc:101: tree pruning end, 48 extra nodes, 0 pruned nodes, max_depth=7\n",
      "[17:58:48] INFO: C:\\Windows\\Temp\\abs_557yfx631l\\croots\\recipe\\xgboost-split_1659548953302\\work\\src\\tree\\updater_prune.cc:101: tree pruning end, 26 extra nodes, 0 pruned nodes, max_depth=7\n",
      "[17:58:48] INFO: C:\\Windows\\Temp\\abs_557yfx631l\\croots\\recipe\\xgboost-split_1659548953302\\work\\src\\tree\\updater_prune.cc:101: tree pruning end, 70 extra nodes, 0 pruned nodes, max_depth=7\n",
      "[17:58:48] INFO: C:\\Windows\\Temp\\abs_557yfx631l\\croots\\recipe\\xgboost-split_1659548953302\\work\\src\\tree\\updater_prune.cc:101: tree pruning end, 30 extra nodes, 0 pruned nodes, max_depth=7\n",
      "[17:58:48] INFO: C:\\Windows\\Temp\\abs_557yfx631l\\croots\\recipe\\xgboost-split_1659548953302\\work\\src\\tree\\updater_prune.cc:101: tree pruning end, 30 extra nodes, 0 pruned nodes, max_depth=7\n",
      "[17:58:48] INFO: C:\\Windows\\Temp\\abs_557yfx631l\\croots\\recipe\\xgboost-split_1659548953302\\work\\src\\tree\\updater_prune.cc:101: tree pruning end, 48 extra nodes, 0 pruned nodes, max_depth=7\n",
      "[17:58:48] INFO: C:\\Windows\\Temp\\abs_557yfx631l\\croots\\recipe\\xgboost-split_1659548953302\\work\\src\\tree\\updater_prune.cc:101: tree pruning end, 38 extra nodes, 0 pruned nodes, max_depth=7\n",
      "[17:58:48] INFO: C:\\Windows\\Temp\\abs_557yfx631l\\croots\\recipe\\xgboost-split_1659548953302\\work\\src\\tree\\updater_prune.cc:101: tree pruning end, 26 extra nodes, 0 pruned nodes, max_depth=7\n",
      "[17:58:48] INFO: C:\\Windows\\Temp\\abs_557yfx631l\\croots\\recipe\\xgboost-split_1659548953302\\work\\src\\tree\\updater_prune.cc:101: tree pruning end, 48 extra nodes, 0 pruned nodes, max_depth=7\n",
      "[17:58:48] INFO: C:\\Windows\\Temp\\abs_557yfx631l\\croots\\recipe\\xgboost-split_1659548953302\\work\\src\\tree\\updater_prune.cc:101: tree pruning end, 48 extra nodes, 0 pruned nodes, max_depth=7\n",
      "[17:58:48] INFO: C:\\Windows\\Temp\\abs_557yfx631l\\croots\\recipe\\xgboost-split_1659548953302\\work\\src\\tree\\updater_prune.cc:101: tree pruning end, 38 extra nodes, 0 pruned nodes, max_depth=7\n",
      "[17:58:48] INFO: C:\\Windows\\Temp\\abs_557yfx631l\\croots\\recipe\\xgboost-split_1659548953302\\work\\src\\tree\\updater_prune.cc:101: tree pruning end, 42 extra nodes, 0 pruned nodes, max_depth=7\n",
      "[17:58:48] INFO: C:\\Windows\\Temp\\abs_557yfx631l\\croots\\recipe\\xgboost-split_1659548953302\\work\\src\\tree\\updater_prune.cc:101: tree pruning end, 48 extra nodes, 0 pruned nodes, max_depth=7\n",
      "[17:58:48] INFO: C:\\Windows\\Temp\\abs_557yfx631l\\croots\\recipe\\xgboost-split_1659548953302\\work\\src\\tree\\updater_prune.cc:101: tree pruning end, 32 extra nodes, 0 pruned nodes, max_depth=7\n",
      "[17:58:48] INFO: C:\\Windows\\Temp\\abs_557yfx631l\\croots\\recipe\\xgboost-split_1659548953302\\work\\src\\tree\\updater_prune.cc:101: tree pruning end, 48 extra nodes, 0 pruned nodes, max_depth=7\n",
      "[17:58:48] INFO: C:\\Windows\\Temp\\abs_557yfx631l\\croots\\recipe\\xgboost-split_1659548953302\\work\\src\\tree\\updater_prune.cc:101: tree pruning end, 38 extra nodes, 0 pruned nodes, max_depth=7\n",
      "[17:58:48] INFO: C:\\Windows\\Temp\\abs_557yfx631l\\croots\\recipe\\xgboost-split_1659548953302\\work\\src\\tree\\updater_prune.cc:101: tree pruning end, 74 extra nodes, 0 pruned nodes, max_depth=7\n",
      "[17:58:48] INFO: C:\\Windows\\Temp\\abs_557yfx631l\\croots\\recipe\\xgboost-split_1659548953302\\work\\src\\tree\\updater_prune.cc:101: tree pruning end, 26 extra nodes, 0 pruned nodes, max_depth=7\n",
      "[17:58:48] INFO: C:\\Windows\\Temp\\abs_557yfx631l\\croots\\recipe\\xgboost-split_1659548953302\\work\\src\\tree\\updater_prune.cc:101: tree pruning end, 54 extra nodes, 0 pruned nodes, max_depth=7\n",
      "[17:58:48] INFO: C:\\Windows\\Temp\\abs_557yfx631l\\croots\\recipe\\xgboost-split_1659548953302\\work\\src\\tree\\updater_prune.cc:101: tree pruning end, 42 extra nodes, 0 pruned nodes, max_depth=7\n",
      "[17:58:48] INFO: C:\\Windows\\Temp\\abs_557yfx631l\\croots\\recipe\\xgboost-split_1659548953302\\work\\src\\tree\\updater_prune.cc:101: tree pruning end, 26 extra nodes, 0 pruned nodes, max_depth=7\n",
      "[17:58:49] INFO: C:\\Windows\\Temp\\abs_557yfx631l\\croots\\recipe\\xgboost-split_1659548953302\\work\\src\\tree\\updater_prune.cc:101: tree pruning end, 54 extra nodes, 0 pruned nodes, max_depth=7\n",
      "[17:58:49] INFO: C:\\Windows\\Temp\\abs_557yfx631l\\croots\\recipe\\xgboost-split_1659548953302\\work\\src\\tree\\updater_prune.cc:101: tree pruning end, 122 extra nodes, 0 pruned nodes, max_depth=7\n"
     ]
    },
    {
     "name": "stdout",
     "output_type": "stream",
     "text": [
      "[17:58:49] INFO: C:\\Windows\\Temp\\abs_557yfx631l\\croots\\recipe\\xgboost-split_1659548953302\\work\\src\\tree\\updater_prune.cc:101: tree pruning end, 28 extra nodes, 0 pruned nodes, max_depth=7\n",
      "[17:58:49] INFO: C:\\Windows\\Temp\\abs_557yfx631l\\croots\\recipe\\xgboost-split_1659548953302\\work\\src\\tree\\updater_prune.cc:101: tree pruning end, 46 extra nodes, 0 pruned nodes, max_depth=7\n",
      "[17:58:49] INFO: C:\\Windows\\Temp\\abs_557yfx631l\\croots\\recipe\\xgboost-split_1659548953302\\work\\src\\tree\\updater_prune.cc:101: tree pruning end, 40 extra nodes, 0 pruned nodes, max_depth=7\n",
      "[17:58:49] INFO: C:\\Windows\\Temp\\abs_557yfx631l\\croots\\recipe\\xgboost-split_1659548953302\\work\\src\\tree\\updater_prune.cc:101: tree pruning end, 42 extra nodes, 0 pruned nodes, max_depth=7\n",
      "[17:58:49] INFO: C:\\Windows\\Temp\\abs_557yfx631l\\croots\\recipe\\xgboost-split_1659548953302\\work\\src\\tree\\updater_prune.cc:101: tree pruning end, 74 extra nodes, 0 pruned nodes, max_depth=7\n",
      "[17:58:49] INFO: C:\\Windows\\Temp\\abs_557yfx631l\\croots\\recipe\\xgboost-split_1659548953302\\work\\src\\tree\\updater_prune.cc:101: tree pruning end, 54 extra nodes, 0 pruned nodes, max_depth=7\n",
      "[17:58:49] INFO: C:\\Windows\\Temp\\abs_557yfx631l\\croots\\recipe\\xgboost-split_1659548953302\\work\\src\\tree\\updater_prune.cc:101: tree pruning end, 116 extra nodes, 0 pruned nodes, max_depth=7\n",
      "[17:58:49] INFO: C:\\Windows\\Temp\\abs_557yfx631l\\croots\\recipe\\xgboost-split_1659548953302\\work\\src\\tree\\updater_prune.cc:101: tree pruning end, 24 extra nodes, 0 pruned nodes, max_depth=7\n",
      "[17:58:49] INFO: C:\\Windows\\Temp\\abs_557yfx631l\\croots\\recipe\\xgboost-split_1659548953302\\work\\src\\tree\\updater_prune.cc:101: tree pruning end, 54 extra nodes, 0 pruned nodes, max_depth=7\n",
      "[17:58:49] INFO: C:\\Windows\\Temp\\abs_557yfx631l\\croots\\recipe\\xgboost-split_1659548953302\\work\\src\\tree\\updater_prune.cc:101: tree pruning end, 114 extra nodes, 0 pruned nodes, max_depth=7\n",
      "[17:58:49] INFO: C:\\Windows\\Temp\\abs_557yfx631l\\croots\\recipe\\xgboost-split_1659548953302\\work\\src\\tree\\updater_prune.cc:101: tree pruning end, 76 extra nodes, 0 pruned nodes, max_depth=7\n",
      "[17:58:49] ======== Monitor (0): Learner ========\n",
      "[17:58:49] Configure: 0.015294s, 1 calls @ 15294us\n",
      "\n",
      "[17:58:49] EvalOneIter: 0.004557s, 521 calls @ 4557us\n",
      "\n",
      "[17:58:49] GetGradient: 0.019901s, 521 calls @ 19901us\n",
      "\n",
      "[17:58:49] PredictRaw: 0.111578s, 521 calls @ 111578us\n",
      "\n",
      "[17:58:49] UpdateOneIter: 2.81837s, 521 calls @ 2818367us\n",
      "\n",
      "[17:58:49] ======== Monitor (0): GBTree ========\n",
      "[17:58:49] BoostNewTrees: 2.63566s, 521 calls @ 2635663us\n",
      "\n",
      "[17:58:49] CommitModel: 0.002453s, 521 calls @ 2453us\n",
      "\n",
      "[17:58:49] ======== Monitor (0): TreePruner ========\n",
      "[17:58:49] PrunerUpdate: 0.082411s, 521 calls @ 82411us\n",
      "\n",
      "[17:58:49] ======== Monitor (0): Learner ========\n",
      "[17:58:49] Configure: 0.001764s, 1 calls @ 1764us\n",
      "\n",
      "[17:58:49] ======== Monitor (0): GBTree ========\n",
      "[17:58:49] ======== Monitor (0): TreePruner ========\n",
      "     0    1\n",
      "0  185   56\n",
      "1   44  195\n",
      "\n",
      "XGBoost : 0.82\n",
      "XGBoost : 0.79\n",
      "XGBoost : 0.82\n",
      "XGBoost : 0.78\n",
      "XGBoost : 0.80\n"
     ]
    }
   ],
   "source": [
    "from sklearn.metrics import accuracy_score, recall_score, precision_score,roc_auc_score, f1_score \n",
    "\n",
    "# crear lista de nombres\n",
    "classifier_names = []\n",
    "\n",
    "# crear listas de métricas de evaluacion\n",
    "classifier_spec = []# spec = 1-FPR\n",
    "\n",
    "classifier_acc = []# (TP+TN)/TOT\n",
    "classifier_rec = []# rec = 1-FNR\n",
    "classifier_prec= []# prec = 1-FDR\n",
    "classifier_f1 = []# media armonica entre prec y rec\n",
    "\n",
    "for classifier_name, classifier in classifiers:\n",
    " \n",
    "    # ajustar modelo sintonizado con datos de entrenamiento\n",
    "    classifier.fit(X_train, y_train)    \n",
    "    \n",
    "    # crear y_predict vector de predicciones\n",
    "    y_predict = classifier.predict(X_test)\n",
    "    \n",
    "    # calcular matriz de confusion\n",
    "    print(pd.DataFrame(confusion_matrix(y_test, y_predict)))\n",
    "    print('')\n",
    "    confusion = confusion_matrix(y_test, y_predict)    \n",
    "    \n",
    "    tn, fp, fn, tp = confusion_matrix(y_test, y_predict ).ravel()\n",
    "    spec = tn / (tn+fp)\n",
    "    \n",
    "    # calcular scoring = 'specificity'\n",
    "    specificity = specificity1 = confusion[1,1]/(confusion[1,0]+confusion[1,1])\n",
    "    \n",
    "    # calcular métricas de evaluación\n",
    "    accuracy = accuracy_score(y_test,y_predict)\n",
    "    recall = recall_score(y_test,y_predict)\n",
    "    precision = precision_score(y_test,y_predict)\n",
    "    f1 = f1_score(y_test,y_predict)\n",
    "    \n",
    "    \n",
    "    # Evaluación del clasificador\n",
    "    print('{:s} : {:.2f}'.format(classifier_name, specificity))\n",
    "    classifier_names.append(classifier_name)\n",
    "    classifier_spec.append(specificity)\n",
    "    \n",
    "    print('{:s} : {:.2f}'.format(classifier_name, accuracy))\n",
    "    classifier_acc.append(accuracy)\n",
    "    \n",
    "    print('{:s} : {:.2f}'.format(classifier_name, recall))\n",
    "    classifier_rec.append(recall)\n",
    "    \n",
    "    print('{:s} : {:.2f}'.format(classifier_name, precision))\n",
    "    classifier_prec.append(precision)\n",
    "    \n",
    "    print('{:s} : {:.2f}'.format(classifier_name, f1))\n",
    "    classifier_f1.append(f1)\n",
    "    \n",
    "    \n",
    "    "
   ]
  },
  {
   "cell_type": "markdown",
   "metadata": {},
   "source": [
    "# Resultados Preliminares"
   ]
  },
  {
   "cell_type": "code",
   "execution_count": 111,
   "metadata": {},
   "outputs": [
    {
     "data": {
      "text/plain": [
       "<BarContainer object of 6 artists>"
      ]
     },
     "execution_count": 111,
     "metadata": {},
     "output_type": "execute_result"
    },
    {
     "data": {
      "image/png": "[encoded data removed]",
      "text/plain": [
       "<Figure size 1500x500 with 1 Axes>"
      ]
     },
     "metadata": {},
     "output_type": "display_data"
    }
   ],
   "source": [
    "# Specificity= 1-FPR\n",
    "plt.figure(figsize=(15,5))\n",
    "plt.bar(classifier_names, classifier_spec, width=0.3)"
   ]
  },
  {
   "cell_type": "code",
   "execution_count": 110,
   "metadata": {},
   "outputs": [
    {
     "data": {
      "text/plain": [
       "<BarContainer object of 6 artists>"
      ]
     },
     "execution_count": 110,
     "metadata": {},
     "output_type": "execute_result"
    },
    {
     "data": {
      "image/png": "[encoded data removed]",
      "text/plain": [
       "<Figure size 1500x500 with 1 Axes>"
      ]
     },
     "metadata": {},
     "output_type": "display_data"
    }
   ],
   "source": [
    "# Accuracy\n",
    "plt.figure(figsize=(15,5))\n",
    "plt.bar(classifier_names, classifier_acc, width=0.3)"
   ]
  },
  {
   "cell_type": "code",
   "execution_count": 112,
   "metadata": {},
   "outputs": [
    {
     "data": {
      "text/plain": [
       "<BarContainer object of 6 artists>"
      ]
     },
     "execution_count": 112,
     "metadata": {},
     "output_type": "execute_result"
    },
    {
     "data": {
      "image/png": "[encoded data removed]",
      "text/plain": [
       "<Figure size 1500x500 with 1 Axes>"
      ]
     },
     "metadata": {},
     "output_type": "display_data"
    }
   ],
   "source": [
    "# Recall/Sensitivity= 1-FNR\n",
    "plt.figure(figsize=(15,5))\n",
    "plt.bar(classifier_names, classifier_rec, width=0.3)"
   ]
  },
  {
   "cell_type": "code",
   "execution_count": 113,
   "metadata": {},
   "outputs": [
    {
     "data": {
      "text/plain": [
       "<BarContainer object of 6 artists>"
      ]
     },
     "execution_count": 113,
     "metadata": {},
     "output_type": "execute_result"
    },
    {
     "data": {
      "image/png": "[encoded data removed]",
      "text/plain": [
       "<Figure size 1500x500 with 1 Axes>"
      ]
     },
     "metadata": {},
     "output_type": "display_data"
    }
   ],
   "source": [
    "# Precision = 1-FDR\n",
    "plt.figure(figsize=(15,5))\n",
    "plt.bar(classifier_names, classifier_rec, width=0.3)"
   ]
  },
  {
   "cell_type": "code",
   "execution_count": 114,
   "metadata": {},
   "outputs": [
    {
     "data": {
      "text/plain": [
       "<BarContainer object of 6 artists>"
      ]
     },
     "execution_count": 114,
     "metadata": {},
     "output_type": "execute_result"
    },
    {
     "data": {
      "image/png": "[encoded data removed]",
      "text/plain": [
       "<Figure size 1500x500 with 1 Axes>"
      ]
     },
     "metadata": {},
     "output_type": "display_data"
    }
   ],
   "source": [
    "# F1 = H. Mean Balance entre precision y recall/sensitividad \n",
    "plt.figure(figsize=(15,5))\n",
    "plt.bar(classifier_names, classifier_f1, width=0.3)"
   ]
  },
  {
   "cell_type": "markdown",
   "metadata": {},
   "source": [
    "## Parte 2\n",
    "\n",
    "### Análisis de Resultados\n",
    "\n",
    "Ahora usted utilizará la función `classication_report` para determinar qué clasificador se ajusta más a los resultados buscados, teniendo en cuenta el contexto del problema y la simplicidad de cada modelo.\n",
    "\n",
    "### Random Forest"
   ]
  },
  {
   "cell_type": "code",
   "execution_count": 116,
   "metadata": {},
   "outputs": [
    {
     "name": "stdout",
     "output_type": "stream",
     "text": [
      "              precision    recall  f1-score   support\n",
      "\n",
      "           0       0.71      0.83      0.77       241\n",
      "           1       0.79      0.66      0.72       239\n",
      "\n",
      "    accuracy                           0.75       480\n",
      "   macro avg       0.75      0.75      0.74       480\n",
      "weighted avg       0.75      0.75      0.74       480\n",
      "\n"
     ]
    },
    {
     "name": "stderr",
     "output_type": "stream",
     "text": [
      "[Parallel(n_jobs=4)]: Using backend ThreadingBackend with 4 concurrent workers.\n",
      "[Parallel(n_jobs=4)]: Done  42 tasks      | elapsed:    0.0s\n",
      "[Parallel(n_jobs=4)]: Done 100 out of 100 | elapsed:    0.0s finished\n"
     ]
    }
   ],
   "source": [
    "from sklearn.metrics import classification_report\n",
    "\n",
    "y_pred_rf= rf_op.predict(X_test)\n",
    "print(classification_report(y_test, y_pred_rf))"
   ]
  },
  {
   "cell_type": "markdown",
   "metadata": {},
   "source": [
    "### Árbol de Decisión"
   ]
  },
  {
   "cell_type": "code",
   "execution_count": 117,
   "metadata": {},
   "outputs": [
    {
     "name": "stdout",
     "output_type": "stream",
     "text": [
      "              precision    recall  f1-score   support\n",
      "\n",
      "           0       0.51      0.99      0.68       241\n",
      "           1       0.81      0.05      0.10       239\n",
      "\n",
      "    accuracy                           0.52       480\n",
      "   macro avg       0.66      0.52      0.39       480\n",
      "weighted avg       0.66      0.52      0.39       480\n",
      "\n"
     ]
    }
   ],
   "source": [
    "y_pred_dt = dt_op.predict(X_test)\n",
    "print(classification_report(y_test, y_pred_dt))"
   ]
  },
  {
   "cell_type": "markdown",
   "metadata": {},
   "source": [
    "### XGBoost"
   ]
  },
  {
   "cell_type": "code",
   "execution_count": 118,
   "metadata": {},
   "outputs": [
    {
     "name": "stdout",
     "output_type": "stream",
     "text": [
      "              precision    recall  f1-score   support\n",
      "\n",
      "           0       0.81      0.77      0.79       241\n",
      "           1       0.78      0.82      0.80       239\n",
      "\n",
      "    accuracy                           0.79       480\n",
      "   macro avg       0.79      0.79      0.79       480\n",
      "weighted avg       0.79      0.79      0.79       480\n",
      "\n"
     ]
    }
   ],
   "source": [
    "y_pred_xgb = xgb_op.predict(X_test)\n",
    "print(classification_report(y_test, y_pred_xgb))"
   ]
  },
  {
   "cell_type": "markdown",
   "metadata": {},
   "source": [
    "### Bagging de Árboles de Decisión"
   ]
  },
  {
   "cell_type": "code",
   "execution_count": 119,
   "metadata": {},
   "outputs": [
    {
     "name": "stderr",
     "output_type": "stream",
     "text": [
      "[Parallel(n_jobs=4)]: Using backend LokyBackend with 4 concurrent workers.\n"
     ]
    },
    {
     "name": "stdout",
     "output_type": "stream",
     "text": [
      "              precision    recall  f1-score   support\n",
      "\n",
      "           0       0.00      0.00      0.00       241\n",
      "           1       0.50      1.00      0.66       239\n",
      "\n",
      "    accuracy                           0.50       480\n",
      "   macro avg       0.25      0.50      0.33       480\n",
      "weighted avg       0.25      0.50      0.33       480\n",
      "\n"
     ]
    },
    {
     "name": "stderr",
     "output_type": "stream",
     "text": [
      "[Parallel(n_jobs=4)]: Done   2 out of   4 | elapsed:    5.6s remaining:    5.6s\n",
      "[Parallel(n_jobs=4)]: Done   4 out of   4 | elapsed:    5.7s finished\n",
      "C:\\Users\\Diego\\miniconda3\\lib\\site-packages\\sklearn\\metrics\\_classification.py:1318: UndefinedMetricWarning: Precision and F-score are ill-defined and being set to 0.0 in labels with no predicted samples. Use `zero_division` parameter to control this behavior.\n",
      "  _warn_prf(average, modifier, msg_start, len(result))\n",
      "C:\\Users\\Diego\\miniconda3\\lib\\site-packages\\sklearn\\metrics\\_classification.py:1318: UndefinedMetricWarning: Precision and F-score are ill-defined and being set to 0.0 in labels with no predicted samples. Use `zero_division` parameter to control this behavior.\n",
      "  _warn_prf(average, modifier, msg_start, len(result))\n",
      "C:\\Users\\Diego\\miniconda3\\lib\\site-packages\\sklearn\\metrics\\_classification.py:1318: UndefinedMetricWarning: Precision and F-score are ill-defined and being set to 0.0 in labels with no predicted samples. Use `zero_division` parameter to control this behavior.\n",
      "  _warn_prf(average, modifier, msg_start, len(result))\n"
     ]
    }
   ],
   "source": [
    "y_pred_bagging = bagg_op.predict(X_test)\n",
    "print(classification_report(y_test, y_pred_bagging))"
   ]
  },
  {
   "cell_type": "markdown",
   "metadata": {},
   "source": [
    "## Conclusiones\n",
    "\n",
    "Concluya a partir de los resultados obtenidos y la documentación leída sobre los métodos utilizados y las diferencias entre sus distintos rendimientos.\n",
    "\n"
   ]
  },
  {
   "cell_type": "code",
   "execution_count": null,
   "metadata": {},
   "outputs": [],
   "source": []
  }
 ],
 "metadata": {
  "kernelspec": {
   "display_name": "Python 3 (ipykernel)",
   "language": "python",
   "name": "python3"
  },
  "language_info": {
   "codemirror_mode": {
    "name": "ipython",
    "version": 3
   },
   "file_extension": ".py",
   "mimetype": "text/x-python",
   "name": "python",
   "nbconvert_exporter": "python",
   "pygments_lexer": "ipython3",
   "version": "3.8.10"
  }
 },
 "nbformat": 4,
 "nbformat_minor": 4
}
