{
 "cells": [
  {
   "cell_type": "code",
   "execution_count": 2,
   "id": "3fa7c1e1",
   "metadata": {},
   "outputs": [],
   "source": [
    "# import libraries\n",
    "import  sqlite3 as sql\n",
    "\n"
   ]
  },
  {
   "cell_type": "code",
   "execution_count": null,
   "id": "0d820f6c",
   "metadata": {},
   "outputs": [],
   "source": [
    "# Week 2: Relational Databases"
   ]
  },
  {
   "cell_type": "code",
   "execution_count": null,
   "id": "99b7322c",
   "metadata": {},
   "outputs": [],
   "source": [
    "# Relational Databases:\n",
    "# database: contains multiple tables\n",
    "# relation/table: contains multiples tuples and attributes\n",
    "# table(row): values/fields that represent an object or instance\n",
    "# attribute(column): elements/features of an object"
   ]
  },
  {
   "cell_type": "code",
   "execution_count": null,
   "id": "cf3d6b3b",
   "metadata": {},
   "outputs": [],
   "source": [
    "# SQL functions:\n",
    "# 1. create table \n",
    "# 2. read  data\n",
    "# 3. update/insert date\n",
    "# 3. delete data"
   ]
  },
  {
   "cell_type": "code",
   "execution_count": null,
   "id": "eee9837b",
   "metadata": {},
   "outputs": [],
   "source": []
  },
  {
   "cell_type": "code",
   "execution_count": null,
   "id": "9dfc7ca6",
   "metadata": {},
   "outputs": [],
   "source": [
    "# Week 2: Using databases\n",
    "# database model: structure or format (class) of a database\n",
    "# databases systems:\n",
    "# oracle: large, commercial\n",
    "# mySQL: simple but fast and scalable - commercial open source\n",
    "# SQLServer: Very nice"
   ]
  },
  {
   "cell_type": "code",
   "execution_count": null,
   "id": "ef78919c",
   "metadata": {},
   "outputs": [],
   "source": []
  },
  {
   "cell_type": "code",
   "execution_count": 4,
   "id": "7edb5510",
   "metadata": {},
   "outputs": [
    {
     "ename": "DatabaseError",
     "evalue": "file is not a database",
     "output_type": "error",
     "traceback": [
      "\u001b[1;31m---------------------------------------------------------------------------\u001b[0m",
      "\u001b[1;31mDatabaseError\u001b[0m                             Traceback (most recent call last)",
      "\u001b[1;32m~\\AppData\\Local\\Temp/ipykernel_3260/1166030345.py\u001b[0m in \u001b[0;36m<module>\u001b[1;34m\u001b[0m\n\u001b[0;32m      8\u001b[0m \u001b[1;33m\u001b[0m\u001b[0m\n\u001b[0;32m      9\u001b[0m \u001b[1;31m# SQL: DROP TABLE IF EXISTS table,  drop table to initialize\u001b[0m\u001b[1;33m\u001b[0m\u001b[1;33m\u001b[0m\u001b[1;33m\u001b[0m\u001b[0m\n\u001b[1;32m---> 10\u001b[1;33m \u001b[0mcur\u001b[0m\u001b[1;33m.\u001b[0m\u001b[0mexecute\u001b[0m\u001b[1;33m(\u001b[0m\u001b[1;34m'DROP TABLE IF EXISTS Counts'\u001b[0m\u001b[1;33m)\u001b[0m\u001b[1;33m\u001b[0m\u001b[1;33m\u001b[0m\u001b[0m\n\u001b[0m\u001b[0;32m     11\u001b[0m \u001b[1;33m\u001b[0m\u001b[0m\n\u001b[0;32m     12\u001b[0m \u001b[1;33m\u001b[0m\u001b[0m\n",
      "\u001b[1;31mDatabaseError\u001b[0m: file is not a database"
     ]
    }
   ],
   "source": [
    "# Week 2: Example Couting Email in a Database\n",
    "\n",
    "# make a connection to the database (SQL file)\n",
    "conn = sql.connect('C:/AUXILIAR_DOCUMENTOS/Coursera/introduction_to_data_science/WORKSPACE/SQL databases/databases_with_python/Week 2 - Counting Email in a DataBase.sqbpro')\n",
    "\n",
    "# SQL: execute commands from python to SQL (handle databases from python)\n",
    "cur = conn.cursor()\n",
    "\n",
    "# SQL: DROP TABLE IF EXISTS table,  drop table to initialize\n",
    "cur.execute('DROP TABLE IF EXISTS Counts')\n",
    "\n",
    "\n",
    "# SQL: CREATE TABLE new_table (dict  key VAL)\n",
    "cur.execute('CREATE TABLE Counts (email TEXT, count INTEGER)')\n",
    "\n",
    "#  user input filename\n",
    "fname = input('Enter file name: ')\n",
    "\n",
    "# if user didn't enter file name \n",
    "if(len(fname)<1): \n",
    "    fname = 'mbox-short.txt'\n",
    "\n",
    "# open file\n",
    "fh = open(fname) \n",
    "\n",
    "# iterate through lines in file\n",
    "for line in fh:\n",
    "    \n",
    "    if not line.startswith('From: '):\n",
    "        continue\n",
    "    # split line into pieces\n",
    "    pieces = line.split()\n",
    "    # get email from piece\n",
    "    email = pieces[1]\n",
    "    \n",
    "    print(email)\n",
    "    \n",
    "    # SQL: read table Counts, select key column=count, WHERE condition email = ?\n",
    "    cur.execute('SELECT count FROM Counts WHERE  email = ?', (email,))\n",
    "    \n",
    "    # get first row from database\n",
    "    row = cur.fetchone()\n",
    "    \n",
    "    # if there is NO row from database\n",
    "    if row is None:\n",
    "        # SQL: INSERT INTO  insert in table='Counts' keys=(key1,key2)  VALUES(val1,val2)\n",
    "        # VALUES(?, 1), (email,)  ? se reemplaza con email\n",
    "        cur.execute('INSERT INTO Counts (email,count) VALUES (?, 1)', (email,))\n",
    "    \n",
    "    # if there is values in row\n",
    "    else:\n",
    "        # SQL: UPDATE/EDIT edit table='Counts' SET key= new_val, WHERE key=val_cond\n",
    "        cur.execute('UPDATE Counts SET count = count + 1 WHERE email = ?', (email,))\n",
    "    \n",
    "    # commit/execute SQL commands or methods to database  SQL\n",
    "    conn.commit()\n",
    "\n",
    "# SQL: read keys= email,count FROM table=Counts ORDER BY sort key=count  DESC LIMIT 10\n",
    "sqlstr = 'SELECT email, count FROM Counts ORDER BY count DESC LIMIT 10'\n",
    "\n",
    "for row in cur.execute(sqlstr):\n",
    "    print(str(row[0]), row[1])\n",
    "\n",
    "# close connection\n",
    "cur.close()\n"
   ]
  },
  {
   "cell_type": "code",
   "execution_count": null,
   "id": "e4de6fa5",
   "metadata": {},
   "outputs": [],
   "source": [
    "#  Week 2: SQL basic commands\n",
    "\n",
    "-- CREATE TABLE()\n",
    "\n",
    "/* create a new table, table name and columns*/\n",
    "\n",
    "/* CREATE TABLE new_table(\n",
    " key 1 VARCHAR(length)\n",
    " key 2 VARCHAR(length)\n",
    " key n VARCHAR(length)\n",
    " )\n",
    " */\n",
    " \n",
    " \n",
    " -- INSERT INTO()\n",
    "\n",
    "/* insert into table given key=columns and values=val*/\n",
    "\n",
    "-- INSERT INTO table_name(key1,key2,keyn) VALUES(val1,val2,valn)\n",
    "\n",
    "\n",
    "\n",
    "-- DELETE FROM()\n",
    "\n",
    "/* delete rows with condition  key=val */\n",
    "\n",
    "/*  DELETE FROM table WHERE key='parameter'(condition)  */\n",
    "\n",
    "\n",
    "\n",
    "-- UPDATE()\n",
    "\n",
    "/* update table, SET action for key=value  WHERE a condition is satisfied */\n",
    "\n",
    "/* UPDATE Users SET action key='new_val' WHERE key=val_cond */\n",
    "\n",
    "\n",
    "\n",
    "-- SELECT*FROM()\n",
    "\n",
    "/*  READ columns (or all *) table, WHERE condition is matched  */\n",
    "\n",
    "/* SELECT columns (or all *) FROM Users WHERE key=val_cond */\n",
    "\n",
    "\n",
    " \n",
    " -- SELECT*FROM table ORDER BY key()\n",
    "\n",
    "/*  READ columns (or all *) table, ORDER BY sort key=val  */\n",
    "\n",
    "/* SELECT columns (or all *) FROM Users ORDER BY key=val */"
   ]
  }
 ],
 "metadata": {
  "kernelspec": {
   "display_name": "Python 3 (ipykernel)",
   "language": "python",
   "name": "python3"
  },
  "language_info": {
   "codemirror_mode": {
    "name": "ipython",
    "version": 3
   },
   "file_extension": ".py",
   "mimetype": "text/x-python",
   "name": "python",
   "nbconvert_exporter": "python",
   "pygments_lexer": "ipython3",
   "version": "3.8.10"
  }
 },
 "nbformat": 4,
 "nbformat_minor": 5
}
