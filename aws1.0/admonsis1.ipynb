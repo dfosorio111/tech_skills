{
 "cells": [
  {
   "cell_type": "markdown",
   "metadata": {},
   "source": [
    "### Ingreso Jupiter Admonsis (XShell)\n",
    "\n",
    "Readquirir accesso (permisos/credenciales), reestablecer ingreso a sitio web de servidor Jupiter\n",
    "\n",
    "\n",
    "* . "
   ]
  },
  {
   "cell_type": "code",
   "execution_count": null,
   "metadata": {},
   "outputs": [],
   "source": [
    "# ver nombre, direccionIP, alias\n",
    "nslookup\n",
    "\n",
    "direccionIP Jupiter = 157.253.238.233\n",
    "pass  \n",
    "root\n",
    "\n",
    "# entrar a servidor (Jupiter)\n",
    "ssh direccionIP\n",
    "\n",
    "# ver /etc/httpd\n",
    "cd /etc/httpd\n",
    "ls\n",
    "\n",
    "#ver conf.d/\n",
    "cd conf.d/\n",
    "ls\n",
    "\n",
    "# ver nano\n",
    "nano ssl.conf\n",
    "\n",
    "# ver conf.d\n",
    "cd \"/etc/httpd/conf.d\"\n",
    "\n",
    "# ver /public_html\n",
    "cd /ul/sitios/cupitaller/public_html/\n",
    "ls\n"
   ]
  },
  {
   "cell_type": "markdown",
   "metadata": {},
   "source": [
    "### Ingresar a servidor Jupiter, ver archivos de directorio /etc/httpd"
   ]
  },
  {
   "cell_type": "code",
   "execution_count": null,
   "metadata": {},
   "outputs": [],
   "source": [
    "# ingresar a servidor Jupiter\n",
    "ssh URL(IP_servidorJupiter (publico))\n",
    "\n",
    "# ver archivos en servidor\n",
    "ls -la\n",
    "\n",
    "# cambiar a directorio  carpeta /etc/httpd\n",
    "cd /etc/httpd\n",
    "\n",
    "# ver archivos\n",
    "ls \n",
    "\n",
    "# ver archivos de directorio  /u1/sitios\n",
    "cd /u1/sitios\n",
    "\n",
    "# ver archivos de carpeta\n",
    "ls -la\n",
    "\n",
    "# cambiar a directorio    cupitaller\n",
    "cd cupitaller\n",
    "\n",
    "# ver archivos de carpeta\n",
    "ls -la\n",
    "\n",
    "# cambiar a carpeta public_html\n",
    "cd public_html\n",
    "\n",
    "# ver archivos de carpeta\n",
    "ls -la\n",
    "\n",
    "\n",
    "# editar archivos con editor nano \n",
    "# ver archivo  wp-config.php\n",
    "nano wp-config.php\n",
    "\n",
    "\n",
    "\n",
    "\n"
   ]
  }
 ],
 "metadata": {
  "language_info": {
   "name": "python"
  },
  "orig_nbformat": 4
 },
 "nbformat": 4,
 "nbformat_minor": 2
}
