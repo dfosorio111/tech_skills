{
 "cells": [
  {
   "cell_type": "markdown",
   "metadata": {},
   "source": [
    "# Linux"
   ]
  },
  {
   "cell_type": "markdown",
   "metadata": {},
   "source": [
    "## Administrar Usuarios en Linux\n",
    "\n",
    "* crear usuarios tstark, cdanvers, dprince en servidor\n",
    "* crear grupo superhero\n",
    "* hacer usuario tstark  un superusuario\n",
    "* agregar grupo uperhero a los usuarios tstark, cdanvers, dprince\n",
    "* bloquear cuenta de usuario dprince\n"
   ]
  },
  {
   "cell_type": "code",
   "execution_count": null,
   "metadata": {
    "vscode": {
     "languageId": "plaintext"
    }
   },
   "outputs": [],
   "source": [
    "# abrir consola ssh Linux \n",
    "\n",
    "# entrar con usuario ssh\n",
    "# usuario: cloud_user\n",
    "# pass: pass\n",
    "# usuario: cloud_user\n",
    "# Public IP address of the Server1\n",
    "\n",
    "ssh usuario@Public IP\n",
    "password: pass# contraseña\n"
   ]
  },
  {
   "cell_type": "code",
   "execution_count": null,
   "metadata": {
    "vscode": {
     "languageId": "plaintext"
    }
   },
   "outputs": [],
   "source": [
    "# agregar usuarios\n",
    "\n",
    "useradd tstark\n",
    "useradd dprince\n",
    "useradd cdanvers "
   ]
  },
  {
   "cell_type": "code",
   "execution_count": null,
   "metadata": {
    "vscode": {
     "languageId": "plaintext"
    }
   },
   "outputs": [],
   "source": [
    "# crear grupo\n",
    "\n",
    "groupadd superhero"
   ]
  },
  {
   "cell_type": "code",
   "execution_count": null,
   "metadata": {
    "vscode": {
     "languageId": "plaintext"
    }
   },
   "outputs": [],
   "source": [
    "# cambiar grupo wheel a usuario tstark\n",
    "usermod -g wheel tstark # id usuario\n",
    "\n",
    "# agregar grupo superhero como grupo suplementario para todos los usuarios\n",
    "usermod -aG grupo usuario\n",
    "\n",
    "usermod -aG superhero tstark\n",
    "usermod -aG superhero dprince\n",
    "usermod -aG superhero cdanvers\n",
    "\n",
    "# cada usuario tiene su propio grupo y pertenece al grupo superhero\n"
   ]
  },
  {
   "cell_type": "code",
   "execution_count": null,
   "metadata": {
    "vscode": {
     "languageId": "plaintext"
    }
   },
   "outputs": [],
   "source": [
    "# bloquear usuario dprince\n",
    "usermod -L dprince"
   ]
  },
  {
   "cell_type": "markdown",
   "metadata": {},
   "source": [
    "## Crear usuarios sudo\n",
    "\n",
    "* crear 2 usuarios \n",
    "* cambiar archivo /etc/sudoers\n",
    "* probar accesos\n",
    "* set administrador web "
   ]
  },
  {
   "cell_type": "code",
   "execution_count": null,
   "metadata": {
    "vscode": {
     "languageId": "plaintext"
    }
   },
   "outputs": [],
   "source": [
    "# crear usuario sudo\n",
    "sudo useradd -m gfreeman\n",
    "\n",
    "# agregar usuario avance\n",
    "# asignar usuario avance a  grupo wheel suplementario\n",
    "sudo useradd -G wheel -m avance\n",
    "\n",
    "# set contraseña de los usuarios:  pass: LASudo321\n",
    "\n",
    "sudo passwd gfreeman\n",
    "pass: LASudo321\n",
    "\n",
    "sudo passwd avance\n",
    "pass: LASudo321\n"
   ]
  },
  {
   "cell_type": "code",
   "execution_count": null,
   "metadata": {
    "vscode": {
     "languageId": "plaintext"
    }
   },
   "outputs": [],
   "source": [
    "# comprobar archivos /etc/sudoers permiten al grupo wheel acceso a los comandos sudo\n",
    "\n",
    "sudo visudo"
   ]
  },
  {
   "cell_type": "code",
   "execution_count": null,
   "metadata": {
    "vscode": {
     "languageId": "plaintext"
    }
   },
   "outputs": [],
   "source": [
    "# cambiar a cuenta avance, - para usar login de shell\n",
    "sudo su - avance\n",
    "\n",
    "# salir de la cuenta sudo\n",
    "exit"
   ]
  },
  {
   "cell_type": "code",
   "execution_count": null,
   "metadata": {
    "vscode": {
     "languageId": "plaintext"
    }
   },
   "outputs": [],
   "source": [
    "# configurar usuario gfreeman para webmaster\n",
    "# crear nuevo archivo  sudoers en diccionario /etc/sudoers.d con entrada unica para webmasters\n",
    "\n",
    "sudo visudo -f /etc/sudoers.d/web_admin\n",
    "Cmnd_Alias  WEB = /bin/systemctl restart httpd.service, \n",
    "/bin/systemctl reload httpd.service\n",
    "\n",
    "# permitir acceso a sudo a usuario gfreeman     \n",
    "gfreeman ALL=WEB\n",
    "\n"
   ]
  },
  {
   "cell_type": "code",
   "execution_count": null,
   "metadata": {
    "vscode": {
     "languageId": "plaintext"
    }
   },
   "outputs": [],
   "source": [
    "# entrar en cuenta gfreeman\n",
    "sudo su - gfreeman\n",
    "\n",
    "# intentar reiniciar \n",
    "sudo systemctl restart httpd.service"
   ]
  },
  {
   "cell_type": "markdown",
   "metadata": {},
   "source": [
    "## Uso de Terminal SSH, redireccionamiento y Permisos de Linux\n",
    "\n",
    "* permitir ssh sin pass de dev@server1 a dev@server2\n",
    "* copiar todos los archivos .tar de  server1 a server2\n",
    "* set umask para que los nuevos archivos sean read/write por su propietario solamente\n",
    "* run el script 'deploy'\n"
   ]
  },
  {
   "cell_type": "code",
   "execution_count": null,
   "metadata": {
    "vscode": {
     "languageId": "plaintext"
    }
   },
   "outputs": [],
   "source": [
    "# entrar a ssh con usuario dev y Public IP address\n",
    "ssh usuario@Public IP address\n",
    "pass: password servidor1\n"
   ]
  },
  {
   "cell_type": "code",
   "execution_count": null,
   "metadata": {
    "vscode": {
     "languageId": "plaintext"
    }
   },
   "outputs": [],
   "source": [
    "# generar key\n",
    "ssh-keygen\n",
    "\n",
    "# copiar a  private IP de servidor2\n",
    "ssh-copy-id  private IP servidor2\n",
    "\n",
    "# entrar/loggin al servidor2 con IP publica\n",
    "ssh Public IP servidor2\n",
    " "
   ]
  },
  {
   "cell_type": "code",
   "execution_count": null,
   "metadata": {
    "vscode": {
     "languageId": "plaintext"
    }
   },
   "outputs": [],
   "source": [
    "# copiar todos los archivos .tar de servidor1 a servidor2 de  /home/dev/\n",
    "scp *.gz server2_PRIVATE_IP:~/"
   ]
  },
  {
   "cell_type": "code",
   "execution_count": null,
   "metadata": {
    "vscode": {
     "languageId": "plaintext"
    }
   },
   "outputs": [],
   "source": [
    "# ssh conectar a servidor2\n",
    "ssh <server2_PRIVATE_IP>\n",
    "\n",
    "# verificar que todos los archivos .tar desde servidor1 fueron copiados \n",
    "ll"
   ]
  },
  {
   "cell_type": "code",
   "execution_count": null,
   "metadata": {
    "vscode": {
     "languageId": "plaintext"
    }
   },
   "outputs": [],
   "source": [
    "# extraer archivos .tar en servidor2\n",
    "# >>: appending\n",
    "# >: sobreescribir\n",
    "\n",
    "tar -xvf deploy_content.tar.gz >> tar-output.log\n",
    "tar -xvf deploy_script.tar.gz >> tar-output.log\n",
    "\n",
    "# revisar directorio\n",
    "ll\n"
   ]
  },
  {
   "cell_type": "code",
   "execution_count": null,
   "metadata": {
    "vscode": {
     "languageId": "plaintext"
    }
   },
   "outputs": [],
   "source": [
    "# set unmask en servidor2 para que nuevos archivos sean ONLY READABLE and WRITEABLE por el propietario\n",
    "umask 0066\n",
    "\n",
    "# verificar permisos en deploy.sh\n",
    "# hacer script ejecutable\n",
    "chmod +x deploy.sh\n",
    "\n",
    "# run archivo deploy.sh \n",
    "./deploy.sh\n"
   ]
  }
 ],
 "metadata": {
  "language_info": {
   "name": "python"
  },
  "orig_nbformat": 4
 },
 "nbformat": 4,
 "nbformat_minor": 2
}
