{
 "cells": [
  {
   "cell_type": "markdown",
   "metadata": {},
   "source": [
    "# Linux"
   ]
  },
  {
   "cell_type": "markdown",
   "metadata": {},
   "source": [
    "## Administrar Usuarios en Linux\n",
    "\n",
    "* crear usuarios tstark, cdanvers, dprince en servidor\n",
    "* crear grupo superhero\n",
    "* hacer usuario tstark  un superusuario\n",
    "* agregar grupo uperhero a los usuarios tstark, cdanvers, dprince\n",
    "* bloquear cuenta de usuario dprince\n"
   ]
  },
  {
   "cell_type": "code",
   "execution_count": null,
   "metadata": {
    "vscode": {
     "languageId": "plaintext"
    }
   },
   "outputs": [],
   "source": [
    "# abrir consola ssh Linux \n",
    "\n",
    "# entrar con usuario ssh\n",
    "# usuario: cloud_user\n",
    "# pass: pass\n",
    "# usuario: cloud_user\n",
    "# Public IP address of the Server1\n",
    "\n",
    "ssh usuario@Public IP\n",
    "password: pass# contraseña\n"
   ]
  },
  {
   "cell_type": "code",
   "execution_count": null,
   "metadata": {
    "vscode": {
     "languageId": "plaintext"
    }
   },
   "outputs": [],
   "source": [
    "# agregar usuarios\n",
    "\n",
    "useradd tstark\n",
    "useradd dprince\n",
    "useradd cdanvers "
   ]
  },
  {
   "cell_type": "code",
   "execution_count": null,
   "metadata": {
    "vscode": {
     "languageId": "plaintext"
    }
   },
   "outputs": [],
   "source": [
    "# crear grupo\n",
    "\n",
    "groupadd superhero"
   ]
  },
  {
   "cell_type": "code",
   "execution_count": null,
   "metadata": {
    "vscode": {
     "languageId": "plaintext"
    }
   },
   "outputs": [],
   "source": [
    "# cambiar grupo wheel a usuario tstark\n",
    "usermod -g wheel tstark # id usuario\n",
    "\n",
    "# agregar grupo superhero como grupo suplementario para todos los usuarios\n",
    "usermod -aG grupo usuario\n",
    "\n",
    "usermod -aG superhero tstark\n",
    "usermod -aG superhero dprince\n",
    "usermod -aG superhero cdanvers\n",
    "\n",
    "# cada usuario tiene su propio grupo y pertenece al grupo superhero\n"
   ]
  },
  {
   "cell_type": "code",
   "execution_count": null,
   "metadata": {
    "vscode": {
     "languageId": "plaintext"
    }
   },
   "outputs": [],
   "source": [
    "# bloquear usuario dprince\n",
    "usermod -L dprince"
   ]
  },
  {
   "cell_type": "markdown",
   "metadata": {},
   "source": [
    "## Crear usuarios sudo\n",
    "\n",
    "* crear 2 usuarios \n",
    "* cambiar archivo /etc/sudoers\n",
    "* probar accesos\n",
    "* set administrador web "
   ]
  },
  {
   "cell_type": "code",
   "execution_count": null,
   "metadata": {
    "vscode": {
     "languageId": "plaintext"
    }
   },
   "outputs": [],
   "source": [
    "# crear usuario sudo\n",
    "sudo useradd -m gfreeman\n",
    "\n",
    "# agregar usuario avance\n",
    "# asignar usuario avance a  grupo wheel suplementario\n",
    "sudo useradd -G wheel -m avance\n",
    "\n",
    "# set contraseña de los usuarios:  pass: LASudo321\n",
    "\n",
    "sudo passwd gfreeman\n",
    "pass: LASudo321\n",
    "\n",
    "sudo passwd avance\n",
    "pass: LASudo321\n"
   ]
  },
  {
   "cell_type": "code",
   "execution_count": null,
   "metadata": {
    "vscode": {
     "languageId": "plaintext"
    }
   },
   "outputs": [],
   "source": [
    "# comprobar archivos /etc/sudoers permiten al grupo wheel acceso a los comandos sudo\n",
    "\n",
    "sudo visudo"
   ]
  },
  {
   "cell_type": "code",
   "execution_count": null,
   "metadata": {
    "vscode": {
     "languageId": "plaintext"
    }
   },
   "outputs": [],
   "source": [
    "# cambiar a cuenta avance, - para usar login de shell\n",
    "sudo su - avance\n",
    "\n",
    "# salir de la cuenta sudo\n",
    "exit"
   ]
  },
  {
   "cell_type": "code",
   "execution_count": null,
   "metadata": {
    "vscode": {
     "languageId": "plaintext"
    }
   },
   "outputs": [],
   "source": [
    "# configurar usuario gfreeman para webmaster\n",
    "# crear nuevo archivo  sudoers en diccionario /etc/sudoers.d con entrada unica para webmasters\n",
    "\n",
    "sudo visudo -f /etc/sudoers.d/web_admin\n",
    "Cmnd_Alias  WEB = /bin/systemctl restart httpd.service, \n",
    "/bin/systemctl reload httpd.service\n",
    "\n",
    "# permitir acceso a sudo a usuario gfreeman     \n",
    "gfreeman ALL=WEB\n",
    "\n"
   ]
  },
  {
   "cell_type": "code",
   "execution_count": null,
   "metadata": {
    "vscode": {
     "languageId": "plaintext"
    }
   },
   "outputs": [],
   "source": [
    "# entrar en cuenta gfreeman\n",
    "sudo su - gfreeman\n",
    "\n",
    "# intentar reiniciar \n",
    "sudo systemctl restart httpd.service"
   ]
  },
  {
   "cell_type": "markdown",
   "metadata": {},
   "source": [
    "## Uso de Terminal SSH, redireccionamiento y Permisos de Linux\n",
    "\n",
    "* permitir ssh sin pass de dev@server1 a dev@server2\n",
    "* copiar todos los archivos .tar de  server1 a server2\n",
    "* set umask para que los nuevos archivos sean read/write por su propietario solamente\n",
    "* run el script 'deploy'\n"
   ]
  },
  {
   "cell_type": "code",
   "execution_count": null,
   "metadata": {
    "vscode": {
     "languageId": "plaintext"
    }
   },
   "outputs": [],
   "source": []
  },
  {
   "cell_type": "code",
   "execution_count": null,
   "metadata": {
    "vscode": {
     "languageId": "plaintext"
    }
   },
   "outputs": [],
   "source": [
    "# entrar a ssh con usuario dev y Public IP address\n",
    "ssh usuario@Public IP address\n",
    "pass: password servidor1\n"
   ]
  },
  {
   "cell_type": "code",
   "execution_count": null,
   "metadata": {
    "vscode": {
     "languageId": "plaintext"
    }
   },
   "outputs": [],
   "source": [
    "# generar key\n",
    "ssh-keygen\n",
    "\n",
    "# copiar a  private IP de servidor2\n",
    "ssh-copy-id  private IP servidor2\n",
    "\n",
    "# entrar/loggin al servidor2 con IP publica\n",
    "ssh Public IP servidor2\n",
    " "
   ]
  },
  {
   "cell_type": "code",
   "execution_count": null,
   "metadata": {
    "vscode": {
     "languageId": "plaintext"
    }
   },
   "outputs": [],
   "source": [
    "# copiar todos los archivos .tar de servidor1 a servidor2 de  /home/dev/\n",
    "scp *.gz server2_PRIVATE_IP:~/"
   ]
  },
  {
   "cell_type": "code",
   "execution_count": null,
   "metadata": {
    "vscode": {
     "languageId": "plaintext"
    }
   },
   "outputs": [],
   "source": [
    "# ssh conectar a servidor2\n",
    "ssh <server2_PRIVATE_IP>\n",
    "\n",
    "# verificar que todos los archivos .tar desde servidor1 fueron copiados \n",
    "ll"
   ]
  },
  {
   "cell_type": "code",
   "execution_count": null,
   "metadata": {
    "vscode": {
     "languageId": "plaintext"
    }
   },
   "outputs": [],
   "source": [
    "# extraer archivos .tar en servidor2\n",
    "# >>: appending\n",
    "# >: sobreescribir\n",
    "\n",
    "tar -xvf deploy_content.tar.gz >> tar-output.log\n",
    "tar -xvf deploy_script.tar.gz >> tar-output.log\n",
    "\n",
    "# revisar directorio\n",
    "ll\n"
   ]
  },
  {
   "cell_type": "code",
   "execution_count": null,
   "metadata": {
    "vscode": {
     "languageId": "plaintext"
    }
   },
   "outputs": [],
   "source": [
    "# set unmask en servidor2 para que nuevos archivos sean ONLY READABLE and WRITEABLE por el propietario\n",
    "umask 0066\n",
    "\n",
    "# verificar permisos en deploy.sh\n",
    "# hacer script ejecutable\n",
    "chmod +x deploy.sh\n",
    "\n",
    "# run archivo deploy.sh \n",
    "./deploy.sh\n"
   ]
  },
  {
   "cell_type": "markdown",
   "metadata": {},
   "source": [
    "## Configurar el Boot Target por defecto"
   ]
  },
  {
   "cell_type": "code",
   "execution_count": null,
   "metadata": {
    "vscode": {
     "languageId": "plaintext"
    }
   },
   "outputs": [],
   "source": [
    "## default target actual es en multi-user\n",
    "\n",
    "# revisar que target actual es tipo multi-user\n",
    "systemctl get-default\n",
    "\n",
    "# cambiar default target para que el computedor arranque(boot) en desktop gráfico\n",
    "sudo systemctl set-default graphical.target\n",
    "\n",
    "# revisar que target actual es tipo graphical\n",
    "systemctl get-default\n"
   ]
  },
  {
   "cell_type": "markdown",
   "metadata": {},
   "source": [
    "## Agendar un servicio Systemd con Timer Units\n"
   ]
  },
  {
   "cell_type": "code",
   "execution_count": null,
   "metadata": {
    "vscode": {
     "languageId": "plaintext"
    }
   },
   "outputs": [],
   "source": [
    "\n",
    "# entrar a ssh como usuario root\n",
    "sudo su -\n",
    "\n",
    "# check directorio actual\n",
    "pwd\n",
    "\n",
    "# ver recursos en el directorio\n",
    "ls\n",
    "\n",
    "# crear archivo timer unit \n",
    "vi web-backup.timer\n",
    "\n",
    "# codigo de archivo timer unit\n",
    "\n",
    "[Unit]\n",
    "Description=Fire off the backup\n",
    "\n",
    "[Timer]\n",
    "OnCalendar=*-*-* 23:00:00\n",
    "Persistent=true\n",
    "Unit=web-backup.service\n",
    "\n",
    "[Install]\n",
    "WantedBy=multi-user.target\n",
    "\n",
    "# salir de  archivo timer unit\n",
    "### ESC\n",
    "### :wq"
   ]
  },
  {
   "cell_type": "code",
   "execution_count": null,
   "metadata": {
    "vscode": {
     "languageId": "plaintext"
    }
   },
   "outputs": [],
   "source": [
    "# copiar script shell en /usr/local/sbin\n",
    "cp web-backup.sh /usr/local/sbin/\n",
    "\n",
    "# copiar servicio y archivos timer en /etc/systemd/\n",
    "cp web-backup.{service,timer} /etc/systemd/system/\n",
    "\n",
    "# recargar el Systemd daemon para calcular las dependencias de servicio\n",
    "systemctl daemon-reload\n",
    "\n",
    "# habilitar servicios para correr un Boot\n",
    "systemctl enable web-backup.service\n",
    "systemctl enable web-backup.timer\n",
    "\n",
    "# set permisos del archivo para ejecutar\n",
    "chmod +x /usr/local/sbin/web-backup.sh\n",
    "\n",
    "# iniciar servicios manualmente\n",
    "systemctl start web-backup.timer web-backup.service\n",
    "\n",
    "# check status de timer y servicio\n",
    "systemctl status web-backup.timer\n",
    "  Loaded: loaded (/etc/systemd/system/web-backup.timer; enabled; vendor preset: disabled)\n",
    "   Active: active (waiting) since Mon 2023-08-14 10:33:07 EDT; 35s ago\n",
    "\n",
    "systemctl status web-backup.service\n",
    "● web-backup.service - Backup the web site, every day, or the boss will be mad\n",
    "   Loaded: loaded (/etc/systemd/system/web-backup.service; enabled; vendor preset: disabled)\n",
    "   Active: inactive (dead) since Mon 2023-08-14 10:33:07 EDT; 1min 17s ago\n",
    "  Process: 4359 ExecStart=/usr/local/sbin/web-backup.sh (code=exited, status=0/SUCCESS)\n",
    " Main PID: 4359 (code=exited, status=0/SUCCESS)\n",
    "\n",
    "# servidor listo para usarse\n"
   ]
  },
  {
   "cell_type": "markdown",
   "metadata": {},
   "source": [
    "## Journal Control Utility: Administrar archivos y Troubleshooting\n"
   ]
  },
  {
   "cell_type": "code",
   "execution_count": null,
   "metadata": {
    "vscode": {
     "languageId": "plaintext"
    }
   },
   "outputs": [],
   "source": [
    "# cambiar a cuenta root\n",
    "sudo su -\n",
    "\n",
    "# check el estado del servicio web\n",
    "systemctl status httpd.service\n",
    "\n",
    "# intentar iniciar el servicio web\n",
    "systemctl start httpd.service\n",
    "\n",
    "# check Journal\n",
    "journalctl -u httpd.service\n",
    "\n",
    "-- Logs begin at Mon 2023-08-14 10:10:57 EDT, end at Mon 2023-08-14 10:43:37 EDT. --\n",
    "Aug 14 10:43:37 ip-10-0-1-102.ec2.internal systemd[1]: Starting The Apache HTTP Server...\n",
    "Aug 14 10:43:37 ip-10-0-1-102.ec2.internal httpd[22861]: httpd: Could not open configuration fi\n",
    "Aug 14 10:43:37 ip-10-0-1-102.ec2.internal systemd[1]: httpd.service: main process exited, code\n",
    "Aug 14 10:43:37 ip-10-0-1-102.ec2.internal systemd[1]: Failed to start The Apache HTTP Server.\n",
    "Aug 14 10:43:37 ip-10-0-1-102.ec2.internal systemd[1]: Unit httpd.service entered failed state.\n",
    "Aug 14 10:43:37 ip-10-0-1-102.ec2.internal systemd[1]: httpd.service failed.\n",
    "\n",
    "# revisar directorio donde la configuracion httpd debe estar\n",
    "ls /etc/httpd/conf\n",
    "\n",
    "httpd.conf.bkup  magic\n",
    "\n",
    "# restaurar la configuracion httpd original del archivo  \n",
    "mv /etc/httpd/conf/httpd.conf.bkup /etc/httpd/conf/httpd.conf\n",
    "\n",
    "# reiniciar el servicio\n",
    "systemctl restart httpd.service\n",
    "\n",
    "# check el estado del servicio\n",
    "systemctl status httpd.service\n",
    "\n",
    "● httpd.service - The Apache HTTP Server\n",
    "   Loaded: loaded (/usr/lib/systemd/system/httpd.service; disabled; vendor preset: disabled)\n",
    "   Active: active (running) since Mon 2023-08-14 10:49:02 EDT; 39s ago\n",
    "     Docs: man:httpd(8)\n",
    "           man:apachectl(8)\n",
    " Main PID: 22879 (httpd)\n",
    "   Status: \"Total requests: 0; Current requests/sec: 0; Current traffic:   0 B/sec\"\n",
    "   CGroup: /system.slice/httpd.service\n",
    "           ├─22879 /usr/sbin/httpd -DFOREGROUND\n",
    "           ├─22880 /usr/sbin/httpd -DFOREGROUND\n",
    "           ├─22881 /usr/sbin/httpd -DFOREGROUND\n",
    "           ├─22882 /usr/sbin/httpd -DFOREGROUND\n",
    "           ├─22883 /usr/sbin/httpd -DFOREGROUND\n",
    "           └─22884 /usr/sbin/httpd -DFOREGROUND\n",
    "\n",
    "# navegar a pagina web local \n",
    "elinks http://localhost"
   ]
  },
  {
   "cell_type": "markdown",
   "metadata": {},
   "source": [
    "## Generar y cambiar SSH Keys para acceso seguro"
   ]
  },
  {
   "cell_type": "markdown",
   "metadata": {},
   "source": [
    "### Crear ssh keys en servidor1 y servidor2"
   ]
  },
  {
   "cell_type": "code",
   "execution_count": null,
   "metadata": {
    "vscode": {
     "languageId": "plaintext"
    }
   },
   "outputs": [],
   "source": [
    "# ingresar servidor1\n",
    "ssh usuario@ IP_servidor1\n",
    "\n",
    "# ver archivos de directorio\n",
    "ls -la\n",
    "\n",
    "# cambiar directorio a .ssh\n",
    "cd .ssh\n",
    "\n",
    "# ver archivos de directorio\n",
    "ls -la\n",
    "\n",
    "# generar ssh key para servidor1\n",
    "ssh-keygen\n",
    "# ver archivos de directorio\n",
    "ls -la\n",
    "\n",
    "# ver contenido de archivo  id_rsa.pub\n",
    "cat id_rsa.pub\n",
    "\n",
    "\n",
    "# ingresar servidor2\n",
    "ssh usuario@ IP_servidor2\n",
    "\n",
    "# cambiar directorio a .ssh\n",
    "cd .ssh\n",
    "\n",
    "# ver archivos de directorio\n",
    "ls -la\n",
    "\n",
    "# instalar editor de texto nano\n",
    "sudo yum install nano\n",
    "pass: password\n",
    "\n",
    "# abrir archivo  authorized_keys\n",
    "nano authorized_keys\n",
    "\n",
    "# agregar key\n",
    "\n",
    "control+x\n",
    "yes\n"
   ]
  },
  {
   "cell_type": "markdown",
   "metadata": {},
   "source": [
    "### Cambiar ssh key entre servidores"
   ]
  },
  {
   "cell_type": "code",
   "execution_count": null,
   "metadata": {
    "vscode": {
     "languageId": "plaintext"
    }
   },
   "outputs": [],
   "source": [
    "# en servidor2\n",
    "ssh-keygen\n",
    "\n",
    "# ver archivos de directorio\n",
    "ls -la\n",
    "\n",
    "# ver contenido de archivo id_rsa.pub\n",
    "cat id_rsa.pub\n",
    "\n",
    "# copiar key\n",
    "# salir de servidor2\n",
    "exit\n",
    "\n",
    "# instalar editor de texto nano en servidor\n",
    "sudo yum install nano\n",
    "\n",
    "# ver archivos de directorio\n",
    "ls -la\n",
    "\n",
    "# abrir archivo authorized_keys en archivo de texto nano \n",
    "nano authorized_keys\n",
    "\n"
   ]
  },
  {
   "cell_type": "markdown",
   "metadata": {},
   "source": [
    "### Probar configuración"
   ]
  },
  {
   "cell_type": "code",
   "execution_count": null,
   "metadata": {
    "vscode": {
     "languageId": "plaintext"
    }
   },
   "outputs": [],
   "source": [
    "# entrar a servidor2 desde servidor1\n",
    "ssh usuario@ IP_servidor2\n",
    "\n",
    "# entrar a servidor1 desde servidor2\n",
    "ssh usuario@ IP_servidor1\n",
    "\n"
   ]
  },
  {
   "cell_type": "markdown",
   "metadata": {},
   "source": [
    "## Crear y usar SSH tunel para tráfico de red"
   ]
  },
  {
   "cell_type": "markdown",
   "metadata": {},
   "source": [
    "### ssh para cliente a servidor sin contraseña"
   ]
  },
  {
   "cell_type": "code",
   "execution_count": null,
   "metadata": {
    "vscode": {
     "languageId": "plaintext"
    }
   },
   "outputs": [],
   "source": [
    "# ingresar a servidor CLIENT\n",
    "ssh usuario@IP_servidor CLIENT\n",
    "\n",
    "# generar key\n",
    "ssh-keygen\n",
    "ENTER\n",
    "\n",
    "# copiar key de SSH Tunnel Server\n",
    "ssh-copy-id cloud_user@IP_servidor Tunnel (privada)\n",
    "\n",
    "# salir de servidor Tunnel\n",
    "logout\n"
   ]
  },
  {
   "cell_type": "markdown",
   "metadata": {},
   "source": [
    "### verificar accesibildad a ssh Tunnel "
   ]
  },
  {
   "cell_type": "code",
   "execution_count": null,
   "metadata": {
    "vscode": {
     "languageId": "plaintext"
    }
   },
   "outputs": [],
   "source": [
    "# crear SSH Tunnel\n",
    "ssh -f cloud_user@10.0.1.100 -L 2000:10.0.1.100:80 -N\n",
    "\n",
    "# usar comando curl para verificar accesibilidad\n",
    "curl localhost:2000 \n",
    "\n",
    "Webpage worked (check)"
   ]
  },
  {
   "cell_type": "markdown",
   "metadata": {},
   "source": [
    "## Administrar seguridad con TCP Wrappers y Systemd Sockets\n",
    "\n"
   ]
  },
  {
   "cell_type": "markdown",
   "metadata": {},
   "source": [
    "### Configurar sshd para usar Sockets"
   ]
  },
  {
   "cell_type": "code",
   "execution_count": null,
   "metadata": {
    "vscode": {
     "languageId": "plaintext"
    }
   },
   "outputs": [],
   "source": [
    "# entrar a servidor\n",
    "ssh cloud_user@IP_servidor\n",
    "\n",
    "# verificar que unidad sshd.socket no esta activa\n",
    "systemctl status sshd.socket\n",
    "\n",
    "\n",
    "● sshd.socket - OpenSSH Server Socket\n",
    "   Loaded: loaded (/usr/lib/systemd/system/sshd.socket; disabled; vendor preset: disabled)\n",
    "   Active: inactive (dead)\n",
    "     Docs: man:sshd(8)\n",
    "           man:sshd_config(5)\n",
    "   Listen: [::]:22 (Stream)\n",
    " Accepted: 0; Connected: 0\n",
    "\n",
    "\n",
    "# set 'at job' que detiene la unidad sshd.service, iniciar sshd.socket\n",
    "sudo at now + 3 minutes\n",
    "pass: password\n",
    "\n",
    "# agregar\n",
    "at> systemctl stop sshd.service\n",
    "at> systemctl start sshd.socket\n",
    "\n",
    "# terminar configuracion 'at job'\n",
    "control+D\n",
    "\n",
    "# verificar que unidad sshd.socket esta activa y funcionando\n",
    "systemctl status sshd.socket\n",
    "\n",
    "# habilitar socket para SSH y deshabilitar servicio para SSH\n",
    "sudo systemctl enable sshd.socket\n",
    "sudo systemctl disable sshd.service"
   ]
  },
  {
   "cell_type": "markdown",
   "metadata": {},
   "source": [
    "### Set TCP Wrapper para permitir solo SSH\n"
   ]
  },
  {
   "cell_type": "code",
   "execution_count": null,
   "metadata": {
    "vscode": {
     "languageId": "plaintext"
    }
   },
   "outputs": [],
   "source": [
    "# verificar que el servidor sshd se compiló para usar TCP wrappers\n",
    "ldd /usr/sbin/sshd | grep libwrap\n",
    "\n",
    "# editar el archivo /etc/hosts.allow\n",
    "sudo vim /etc/hosts.allow\n",
    "\n",
    "\n",
    "# agregar linea de codigo al archivo\n",
    "sshd2 sshd : ALL\n",
    "\n",
    "# editar archivo /etc/hosts.deny\n",
    "sudo vim /etc/hosts.deny\n",
    "\n",
    "# agregar linea de codigo al archivo\n",
    "ALL : ALL\n",
    "\n",
    "# salir sesión ssh\n",
    "exit\n",
    "\n",
    "# reconectar a la sesión segura shell\n",
    "ssh cloud_user@&IP_servidor\n",
    "\n"
   ]
  },
  {
   "cell_type": "markdown",
   "metadata": {},
   "source": [
    "## Instalar y Administrar paquetes en Debian/Ubuntu"
   ]
  },
  {
   "cell_type": "markdown",
   "metadata": {},
   "source": [
    "### Instalar paquetes en servidor web Apache"
   ]
  },
  {
   "cell_type": "code",
   "execution_count": null,
   "metadata": {
    "vscode": {
     "languageId": "plaintext"
    }
   },
   "outputs": [],
   "source": [
    "\n",
    "# actualizar paquetes\n",
    "sudo apt update\n",
    "\n",
    "# instalar paquetes\n",
    "sudo apt install apache2 wget\n",
    "\n"
   ]
  },
  {
   "cell_type": "markdown",
   "metadata": {},
   "source": [
    "### Verificar que el servidor está funcionando y ver resultado\n"
   ]
  },
  {
   "cell_type": "code",
   "execution_count": null,
   "metadata": {
    "vscode": {
     "languageId": "plaintext"
    }
   },
   "outputs": [],
   "source": [
    "# verificar servidor\n",
    "curl http://localhost\n",
    "\n",
    "# capturar salida de http request\n",
    "wget --output-document=local_index.response http://localhost (local_index.response)\n",
    "\n",
    "# quitar local_index.response\n",
    "rm local_index.response\n",
    "\n",
    "# mover index.html a  local_index.response\n",
    "mv index.html local_index.response\n",
    "\n",
    "\n"
   ]
  },
  {
   "cell_type": "markdown",
   "metadata": {},
   "source": [
    "# Admon SIS 1 "
   ]
  },
  {
   "cell_type": "code",
   "execution_count": null,
   "metadata": {
    "vscode": {
     "languageId": "plaintext"
    }
   },
   "outputs": [],
   "source": [
    "contraseña llavero\n",
    "\n",
    "\n"
   ]
  },
  {
   "cell_type": "markdown",
   "metadata": {},
   "source": [
    "### "
   ]
  }
 ],
 "metadata": {
  "language_info": {
   "name": "python"
  },
  "orig_nbformat": 4
 },
 "nbformat": 4,
 "nbformat_minor": 2
}
