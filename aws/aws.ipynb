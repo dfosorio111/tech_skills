{
 "cells": [
  {
   "cell_type": "markdown",
   "metadata": {},
   "source": [
    "# Linux"
   ]
  },
  {
   "cell_type": "markdown",
   "metadata": {},
   "source": [
    "## Administrar Usuarios en Linux\n",
    "\n",
    "* crear usuarios tstark, cdanvers, dprince en servidor\n",
    "* crear grupo superhero\n",
    "* hacer usuario tstark  un superusuario\n",
    "* agregar grupo uperhero a los usuarios tstark, cdanvers, dprince\n",
    "* bloquear cuenta de usuario dprince\n"
   ]
  },
  {
   "cell_type": "code",
   "execution_count": null,
   "metadata": {
    "vscode": {
     "languageId": "plaintext"
    }
   },
   "outputs": [],
   "source": [
    "# abrir consola ssh Linux \n",
    "\n",
    "# entrar con usuario ssh\n",
    "# usuario: cloud_user\n",
    "# pass: pass\n",
    "# usuario: cloud_user\n",
    "# Public IP address of the Server1\n",
    "\n",
    "ssh usuario@Public IP\n",
    "password: pass# contraseña\n"
   ]
  },
  {
   "cell_type": "code",
   "execution_count": null,
   "metadata": {
    "vscode": {
     "languageId": "plaintext"
    }
   },
   "outputs": [],
   "source": [
    "# agregar usuarios\n",
    "\n",
    "useradd tstark\n",
    "useradd dprince\n",
    "useradd cdanvers "
   ]
  },
  {
   "cell_type": "code",
   "execution_count": null,
   "metadata": {
    "vscode": {
     "languageId": "plaintext"
    }
   },
   "outputs": [],
   "source": [
    "# crear grupo\n",
    "\n",
    "groupadd superhero"
   ]
  },
  {
   "cell_type": "code",
   "execution_count": null,
   "metadata": {
    "vscode": {
     "languageId": "plaintext"
    }
   },
   "outputs": [],
   "source": [
    "# cambiar grupo wheel a usuario tstark\n",
    "usermod -g wheel tstark # id usuario\n",
    "\n",
    "# agregar grupo superhero como grupo suplementario para todos los usuarios\n",
    "usermod -aG grupo usuario\n",
    "\n",
    "usermod -aG superhero tstark\n",
    "usermod -aG superhero dprince\n",
    "usermod -aG superhero cdanvers\n",
    "\n",
    "# cada usuario tiene su propio grupo y pertenece al grupo superhero\n"
   ]
  },
  {
   "cell_type": "code",
   "execution_count": null,
   "metadata": {
    "vscode": {
     "languageId": "plaintext"
    }
   },
   "outputs": [],
   "source": [
    "# bloquear usuario dprince\n",
    "usermod -L dprince"
   ]
  },
  {
   "cell_type": "markdown",
   "metadata": {},
   "source": [
    "## Crear usuarios sudo\n",
    "\n",
    "* crear 2 usuarios \n",
    "* cambiar archivo /etc/sudoers\n",
    "* probar accesos\n",
    "* set administrador web "
   ]
  },
  {
   "cell_type": "code",
   "execution_count": null,
   "metadata": {
    "vscode": {
     "languageId": "plaintext"
    }
   },
   "outputs": [],
   "source": [
    "# crear usuario sudo\n",
    "sudo useradd -m gfreeman\n",
    "\n",
    "# agregar usuario avance\n",
    "# asignar usuario avance a  grupo wheel suplementario\n",
    "sudo useradd -G wheel -m avance\n",
    "\n",
    "# set contraseña de los usuarios:  pass: LASudo321\n",
    "\n",
    "sudo passwd gfreeman\n",
    "pass: LASudo321\n",
    "\n",
    "sudo passwd avance\n",
    "pass: LASudo321\n"
   ]
  },
  {
   "cell_type": "code",
   "execution_count": null,
   "metadata": {
    "vscode": {
     "languageId": "plaintext"
    }
   },
   "outputs": [],
   "source": [
    "# comprobar archivos /etc/sudoers permiten al grupo wheel acceso a los comandos sudo\n",
    "\n",
    "sudo visudo"
   ]
  },
  {
   "cell_type": "code",
   "execution_count": null,
   "metadata": {
    "vscode": {
     "languageId": "plaintext"
    }
   },
   "outputs": [],
   "source": [
    "# cambiar a cuenta avance, - para usar login de shell\n",
    "sudo su - avance\n",
    "\n",
    "# salir de la cuenta sudo\n",
    "exit"
   ]
  },
  {
   "cell_type": "code",
   "execution_count": null,
   "metadata": {
    "vscode": {
     "languageId": "plaintext"
    }
   },
   "outputs": [],
   "source": [
    "# configurar usuario gfreeman para webmaster\n",
    "# crear nuevo archivo  sudoers en diccionario /etc/sudoers.d con entrada unica para webmasters\n",
    "\n",
    "sudo visudo -f /etc/sudoers.d/web_admin\n",
    "Cmnd_Alias  WEB = /bin/systemctl restart httpd.service, \n",
    "/bin/systemctl reload httpd.service\n",
    "\n",
    "# permitir acceso a sudo a usuario gfreeman     \n",
    "gfreeman ALL=WEB\n",
    "\n"
   ]
  },
  {
   "cell_type": "code",
   "execution_count": null,
   "metadata": {
    "vscode": {
     "languageId": "plaintext"
    }
   },
   "outputs": [],
   "source": [
    "# entrar en cuenta gfreeman\n",
    "sudo su - gfreeman\n",
    "\n",
    "# intentar reiniciar \n",
    "sudo systemctl restart httpd.service"
   ]
  },
  {
   "cell_type": "markdown",
   "metadata": {},
   "source": [
    "## Uso de Terminal SSH, redireccionamiento y Permisos de Linux\n",
    "\n",
    "* permitir ssh sin pass de dev@server1 a dev@server2\n",
    "* copiar todos los archivos .tar de  server1 a server2\n",
    "* set umask para que los nuevos archivos sean read/write por su propietario solamente\n",
    "* run el script 'deploy'\n"
   ]
  },
  {
   "cell_type": "code",
   "execution_count": null,
   "metadata": {
    "vscode": {
     "languageId": "plaintext"
    }
   },
   "outputs": [],
   "source": []
  },
  {
   "cell_type": "code",
   "execution_count": null,
   "metadata": {
    "vscode": {
     "languageId": "plaintext"
    }
   },
   "outputs": [],
   "source": [
    "# entrar a ssh con usuario dev y Public IP address\n",
    "ssh usuario@Public IP address\n",
    "pass: password servidor1\n"
   ]
  },
  {
   "cell_type": "code",
   "execution_count": null,
   "metadata": {
    "vscode": {
     "languageId": "plaintext"
    }
   },
   "outputs": [],
   "source": [
    "# generar key\n",
    "ssh-keygen\n",
    "\n",
    "# copiar a  private IP de servidor2\n",
    "ssh-copy-id  private IP servidor2\n",
    "\n",
    "# entrar/loggin al servidor2 con IP publica\n",
    "ssh Public IP servidor2\n",
    " "
   ]
  },
  {
   "cell_type": "code",
   "execution_count": null,
   "metadata": {
    "vscode": {
     "languageId": "plaintext"
    }
   },
   "outputs": [],
   "source": [
    "# copiar todos los archivos .tar de servidor1 a servidor2 de  /home/dev/\n",
    "scp *.gz server2_PRIVATE_IP:~/"
   ]
  },
  {
   "cell_type": "code",
   "execution_count": null,
   "metadata": {
    "vscode": {
     "languageId": "plaintext"
    }
   },
   "outputs": [],
   "source": [
    "# ssh conectar a servidor2\n",
    "ssh <server2_PRIVATE_IP>\n",
    "\n",
    "# verificar que todos los archivos .tar desde servidor1 fueron copiados \n",
    "ll"
   ]
  },
  {
   "cell_type": "code",
   "execution_count": null,
   "metadata": {
    "vscode": {
     "languageId": "plaintext"
    }
   },
   "outputs": [],
   "source": [
    "# extraer archivos .tar en servidor2\n",
    "# >>: appending\n",
    "# >: sobreescribir\n",
    "\n",
    "tar -xvf deploy_content.tar.gz >> tar-output.log\n",
    "tar -xvf deploy_script.tar.gz >> tar-output.log\n",
    "\n",
    "# revisar directorio\n",
    "ll\n"
   ]
  },
  {
   "cell_type": "code",
   "execution_count": null,
   "metadata": {
    "vscode": {
     "languageId": "plaintext"
    }
   },
   "outputs": [],
   "source": [
    "# set unmask en servidor2 para que nuevos archivos sean ONLY READABLE and WRITEABLE por el propietario\n",
    "umask 0066\n",
    "\n",
    "# verificar permisos en deploy.sh\n",
    "# hacer script ejecutable\n",
    "chmod +x deploy.sh\n",
    "\n",
    "# run archivo deploy.sh \n",
    "./deploy.sh\n"
   ]
  },
  {
   "cell_type": "markdown",
   "metadata": {},
   "source": [
    "## Configurar el Boot Target por defecto"
   ]
  },
  {
   "cell_type": "code",
   "execution_count": null,
   "metadata": {
    "vscode": {
     "languageId": "plaintext"
    }
   },
   "outputs": [],
   "source": [
    "## default target actual es en multi-user\n",
    "\n",
    "# revisar que target actual es tipo multi-user\n",
    "systemctl get-default\n",
    "\n",
    "# cambiar default target para que el computedor arranque(boot) en desktop gráfico\n",
    "sudo systemctl set-default graphical.target\n",
    "\n",
    "# revisar que target actual es tipo graphical\n",
    "systemctl get-default\n"
   ]
  },
  {
   "cell_type": "markdown",
   "metadata": {},
   "source": [
    "## Agendar un servicio Systemd con Timer Units\n"
   ]
  },
  {
   "cell_type": "code",
   "execution_count": null,
   "metadata": {
    "vscode": {
     "languageId": "plaintext"
    }
   },
   "outputs": [],
   "source": [
    "\n",
    "# entrar a ssh como usuario root\n",
    "sudo su -\n",
    "\n",
    "# check directorio actual\n",
    "pwd\n",
    "\n",
    "# ver recursos en el directorio\n",
    "ls\n",
    "\n",
    "# crear archivo timer unit \n",
    "vi web-backup.timer\n",
    "\n",
    "# codigo de archivo timer unit\n",
    "\n",
    "[Unit]\n",
    "Description=Fire off the backup\n",
    "\n",
    "[Timer]\n",
    "OnCalendar=*-*-* 23:00:00\n",
    "Persistent=true\n",
    "Unit=web-backup.service\n",
    "\n",
    "[Install]\n",
    "WantedBy=multi-user.target\n",
    "\n",
    "# salir de  archivo timer unit\n",
    "### ESC\n",
    "### :wq"
   ]
  },
  {
   "cell_type": "code",
   "execution_count": null,
   "metadata": {
    "vscode": {
     "languageId": "plaintext"
    }
   },
   "outputs": [],
   "source": [
    "# copiar script shell en /usr/local/sbin\n",
    "cp web-backup.sh /usr/local/sbin/\n",
    "\n",
    "# copiar servicio y archivos timer en /etc/systemd/\n",
    "cp web-backup.{service,timer} /etc/systemd/system/\n",
    "\n",
    "# recargar el Systemd daemon para calcular las dependencias de servicio\n",
    "systemctl daemon-reload\n",
    "\n",
    "# habilitar servicios para correr un Boot\n",
    "systemctl enable web-backup.service\n",
    "systemctl enable web-backup.timer\n",
    "\n",
    "# set permisos del archivo para ejecutar\n",
    "chmod +x /usr/local/sbin/web-backup.sh\n",
    "\n",
    "# iniciar servicios manualmente\n",
    "systemctl start web-backup.timer web-backup.service\n",
    "\n",
    "# check status de timer y servicio\n",
    "systemctl status web-backup.timer\n",
    "  Loaded: loaded (/etc/systemd/system/web-backup.timer; enabled; vendor preset: disabled)\n",
    "   Active: active (waiting) since Mon 2023-08-14 10:33:07 EDT; 35s ago\n",
    "\n",
    "systemctl status web-backup.service\n",
    "● web-backup.service - Backup the web site, every day, or the boss will be mad\n",
    "   Loaded: loaded (/etc/systemd/system/web-backup.service; enabled; vendor preset: disabled)\n",
    "   Active: inactive (dead) since Mon 2023-08-14 10:33:07 EDT; 1min 17s ago\n",
    "  Process: 4359 ExecStart=/usr/local/sbin/web-backup.sh (code=exited, status=0/SUCCESS)\n",
    " Main PID: 4359 (code=exited, status=0/SUCCESS)\n",
    "\n",
    "# servidor listo para usarse\n"
   ]
  },
  {
   "cell_type": "markdown",
   "metadata": {},
   "source": [
    "## Journal Control Utility: Administrar archivos y Troubleshooting\n"
   ]
  },
  {
   "cell_type": "code",
   "execution_count": null,
   "metadata": {
    "vscode": {
     "languageId": "plaintext"
    }
   },
   "outputs": [],
   "source": [
    "# cambiar a cuenta root\n",
    "sudo su -\n",
    "\n",
    "# check el estado del servicio web\n",
    "systemctl status httpd.service\n",
    "\n",
    "# intentar iniciar el servicio web\n",
    "systemctl start httpd.service\n",
    "\n",
    "# check Journal\n",
    "journalctl -u httpd.service\n",
    "\n",
    "-- Logs begin at Mon 2023-08-14 10:10:57 EDT, end at Mon 2023-08-14 10:43:37 EDT. --\n",
    "Aug 14 10:43:37 ip-10-0-1-102.ec2.internal systemd[1]: Starting The Apache HTTP Server...\n",
    "Aug 14 10:43:37 ip-10-0-1-102.ec2.internal httpd[22861]: httpd: Could not open configuration fi\n",
    "Aug 14 10:43:37 ip-10-0-1-102.ec2.internal systemd[1]: httpd.service: main process exited, code\n",
    "Aug 14 10:43:37 ip-10-0-1-102.ec2.internal systemd[1]: Failed to start The Apache HTTP Server.\n",
    "Aug 14 10:43:37 ip-10-0-1-102.ec2.internal systemd[1]: Unit httpd.service entered failed state.\n",
    "Aug 14 10:43:37 ip-10-0-1-102.ec2.internal systemd[1]: httpd.service failed.\n",
    "\n",
    "# revisar directorio donde la configuracion httpd debe estar\n",
    "ls /etc/httpd/conf\n",
    "\n",
    "httpd.conf.bkup  magic\n",
    "\n",
    "# restaurar la configuracion httpd original del archivo  \n",
    "mv /etc/httpd/conf/httpd.conf.bkup /etc/httpd/conf/httpd.conf\n",
    "\n",
    "# reiniciar el servicio\n",
    "systemctl restart httpd.service\n",
    "\n",
    "# check el estado del servicio\n",
    "systemctl status httpd.service\n",
    "\n",
    "● httpd.service - The Apache HTTP Server\n",
    "   Loaded: loaded (/usr/lib/systemd/system/httpd.service; disabled; vendor preset: disabled)\n",
    "   Active: active (running) since Mon 2023-08-14 10:49:02 EDT; 39s ago\n",
    "     Docs: man:httpd(8)\n",
    "           man:apachectl(8)\n",
    " Main PID: 22879 (httpd)\n",
    "   Status: \"Total requests: 0; Current requests/sec: 0; Current traffic:   0 B/sec\"\n",
    "   CGroup: /system.slice/httpd.service\n",
    "           ├─22879 /usr/sbin/httpd -DFOREGROUND\n",
    "           ├─22880 /usr/sbin/httpd -DFOREGROUND\n",
    "           ├─22881 /usr/sbin/httpd -DFOREGROUND\n",
    "           ├─22882 /usr/sbin/httpd -DFOREGROUND\n",
    "           ├─22883 /usr/sbin/httpd -DFOREGROUND\n",
    "           └─22884 /usr/sbin/httpd -DFOREGROUND\n",
    "\n",
    "# navegar a pagina web local \n",
    "elinks http://localhost"
   ]
  },
  {
   "cell_type": "markdown",
   "metadata": {},
   "source": [
    "## Generar y cambiar SSH Keys para acceso seguro"
   ]
  },
  {
   "cell_type": "markdown",
   "metadata": {},
   "source": [
    "### Crear ssh keys en servidor1 y servidor2"
   ]
  },
  {
   "cell_type": "code",
   "execution_count": null,
   "metadata": {
    "vscode": {
     "languageId": "plaintext"
    }
   },
   "outputs": [],
   "source": [
    "# ingresar servidor1\n",
    "ssh usuario@ IP_servidor1\n",
    "\n",
    "# ver archivos de directorio\n",
    "ls -la\n",
    "\n",
    "# cambiar directorio a .ssh\n",
    "cd .ssh\n",
    "\n",
    "# ver archivos de directorio\n",
    "ls -la\n",
    "\n",
    "# generar ssh key para servidor1\n",
    "ssh-keygen\n",
    "# ver archivos de directorio\n",
    "ls -la\n",
    "\n",
    "# ver contenido de archivo  id_rsa.pub\n",
    "cat id_rsa.pub\n",
    "\n",
    "\n",
    "# ingresar servidor2\n",
    "ssh usuario@ IP_servidor2\n",
    "\n",
    "# cambiar directorio a .ssh\n",
    "cd .ssh\n",
    "\n",
    "# ver archivos de directorio\n",
    "ls -la\n",
    "\n",
    "# instalar editor de texto nano\n",
    "sudo yum install nano\n",
    "pass: password\n",
    "\n",
    "# abrir archivo  authorized_keys\n",
    "nano authorized_keys\n",
    "\n",
    "# agregar key\n",
    "\n",
    "control+x\n",
    "yes\n"
   ]
  },
  {
   "cell_type": "markdown",
   "metadata": {},
   "source": [
    "### Cambiar ssh key entre servidores"
   ]
  },
  {
   "cell_type": "code",
   "execution_count": null,
   "metadata": {
    "vscode": {
     "languageId": "plaintext"
    }
   },
   "outputs": [],
   "source": [
    "# en servidor2\n",
    "ssh-keygen\n",
    "\n",
    "# ver archivos de directorio\n",
    "ls -la\n",
    "\n",
    "# ver contenido de archivo id_rsa.pub\n",
    "cat id_rsa.pub\n",
    "\n",
    "# copiar key\n",
    "# salir de servidor2\n",
    "exit\n",
    "\n",
    "# instalar editor de texto nano en servidor\n",
    "sudo yum install nano\n",
    "\n",
    "# ver archivos de directorio\n",
    "ls -la\n",
    "\n",
    "# abrir archivo authorized_keys en archivo de texto nano \n",
    "nano authorized_keys\n",
    "\n"
   ]
  },
  {
   "cell_type": "markdown",
   "metadata": {},
   "source": [
    "### Probar configuración"
   ]
  },
  {
   "cell_type": "code",
   "execution_count": null,
   "metadata": {
    "vscode": {
     "languageId": "plaintext"
    }
   },
   "outputs": [],
   "source": [
    "# entrar a servidor2 desde servidor1\n",
    "ssh usuario@ IP_servidor2\n",
    "\n",
    "# entrar a servidor1 desde servidor2\n",
    "ssh usuario@ IP_servidor1\n",
    "\n"
   ]
  },
  {
   "cell_type": "markdown",
   "metadata": {},
   "source": [
    "## Crear y usar SSH tunel para tráfico de red"
   ]
  },
  {
   "cell_type": "markdown",
   "metadata": {},
   "source": [
    "### ssh para cliente a servidor sin contraseña"
   ]
  },
  {
   "cell_type": "code",
   "execution_count": null,
   "metadata": {
    "vscode": {
     "languageId": "plaintext"
    }
   },
   "outputs": [],
   "source": [
    "# ingresar a servidor CLIENT\n",
    "ssh usuario@IP_servidor CLIENT\n",
    "\n",
    "# generar key\n",
    "ssh-keygen\n",
    "ENTER\n",
    "\n",
    "# copiar key de SSH Tunnel Server\n",
    "ssh-copy-id cloud_user@IP_servidor Tunnel (privada)\n",
    "\n",
    "# salir de servidor Tunnel\n",
    "logout\n"
   ]
  },
  {
   "cell_type": "markdown",
   "metadata": {},
   "source": [
    "### verificar accesibildad a ssh Tunnel "
   ]
  },
  {
   "cell_type": "code",
   "execution_count": null,
   "metadata": {
    "vscode": {
     "languageId": "plaintext"
    }
   },
   "outputs": [],
   "source": [
    "# crear SSH Tunnel\n",
    "ssh -f cloud_user@10.0.1.100 -L 2000:10.0.1.100:80 -N\n",
    "\n",
    "# usar comando curl para verificar accesibilidad\n",
    "curl localhost:2000 \n",
    "\n",
    "Webpage worked (check)"
   ]
  },
  {
   "cell_type": "markdown",
   "metadata": {},
   "source": [
    "## Administrar seguridad con TCP Wrappers y Systemd Sockets\n",
    "\n"
   ]
  },
  {
   "cell_type": "markdown",
   "metadata": {},
   "source": [
    "### Configurar sshd para usar Sockets"
   ]
  },
  {
   "cell_type": "code",
   "execution_count": null,
   "metadata": {
    "vscode": {
     "languageId": "plaintext"
    }
   },
   "outputs": [],
   "source": [
    "# entrar a servidor\n",
    "ssh cloud_user@IP_servidor\n",
    "\n",
    "# verificar que unidad sshd.socket no esta activa\n",
    "systemctl status sshd.socket\n",
    "\n",
    "\n",
    "● sshd.socket - OpenSSH Server Socket\n",
    "   Loaded: loaded (/usr/lib/systemd/system/sshd.socket; disabled; vendor preset: disabled)\n",
    "   Active: inactive (dead)\n",
    "     Docs: man:sshd(8)\n",
    "           man:sshd_config(5)\n",
    "   Listen: [::]:22 (Stream)\n",
    " Accepted: 0; Connected: 0\n",
    "\n",
    "\n",
    "# set 'at job' que detiene la unidad sshd.service, iniciar sshd.socket\n",
    "sudo at now + 3 minutes\n",
    "pass: password\n",
    "\n",
    "# agregar\n",
    "at> systemctl stop sshd.service\n",
    "at> systemctl start sshd.socket\n",
    "\n",
    "# terminar configuracion 'at job'\n",
    "control+D\n",
    "\n",
    "# verificar que unidad sshd.socket esta activa y funcionando\n",
    "systemctl status sshd.socket\n",
    "\n",
    "# habilitar socket para SSH y deshabilitar servicio para SSH\n",
    "sudo systemctl enable sshd.socket\n",
    "sudo systemctl disable sshd.service"
   ]
  },
  {
   "cell_type": "markdown",
   "metadata": {},
   "source": [
    "### Set TCP Wrapper para permitir solo SSH\n"
   ]
  },
  {
   "cell_type": "code",
   "execution_count": null,
   "metadata": {
    "vscode": {
     "languageId": "plaintext"
    }
   },
   "outputs": [],
   "source": [
    "# verificar que el servidor sshd se compiló para usar TCP wrappers\n",
    "ldd /usr/sbin/sshd | grep libwrap\n",
    "\n",
    "# editar el archivo /etc/hosts.allow\n",
    "sudo vim /etc/hosts.allow\n",
    "\n",
    "\n",
    "# agregar linea de codigo al archivo\n",
    "sshd2 sshd : ALL\n",
    "\n",
    "# editar archivo /etc/hosts.deny\n",
    "sudo vim /etc/hosts.deny\n",
    "\n",
    "# agregar linea de codigo al archivo\n",
    "ALL : ALL\n",
    "\n",
    "# salir sesión ssh\n",
    "exit\n",
    "\n",
    "# reconectar a la sesión segura shell\n",
    "ssh cloud_user@&IP_servidor\n",
    "\n"
   ]
  },
  {
   "cell_type": "markdown",
   "metadata": {},
   "source": [
    "## Instalar y Administrar paquetes en Debian/Ubuntu"
   ]
  },
  {
   "cell_type": "markdown",
   "metadata": {},
   "source": [
    "### Instalar paquetes en servidor web Apache"
   ]
  },
  {
   "cell_type": "code",
   "execution_count": null,
   "metadata": {
    "vscode": {
     "languageId": "plaintext"
    }
   },
   "outputs": [],
   "source": [
    "\n",
    "# actualizar paquetes\n",
    "sudo apt update\n",
    "\n",
    "# instalar paquetes\n",
    "sudo apt install apache2 wget\n",
    "\n"
   ]
  },
  {
   "cell_type": "markdown",
   "metadata": {},
   "source": [
    "### Verificar que el servidor está funcionando y ver resultado\n"
   ]
  },
  {
   "cell_type": "code",
   "execution_count": null,
   "metadata": {
    "vscode": {
     "languageId": "plaintext"
    }
   },
   "outputs": [],
   "source": [
    "# verificar servidor\n",
    "curl http://localhost\n",
    "\n",
    "# capturar salida de http request\n",
    "wget --output-document=local_index.response http://localhost (local_index.response)\n",
    "\n",
    "# quitar local_index.response\n",
    "rm local_index.response\n",
    "\n",
    "# mover index.html a  local_index.response\n",
    "mv index.html local_index.response\n",
    "\n",
    "\n"
   ]
  },
  {
   "cell_type": "markdown",
   "metadata": {},
   "source": [
    "## Instalar y Administrar paquetes en Red Hat/CentOS "
   ]
  },
  {
   "cell_type": "markdown",
   "metadata": {},
   "source": [
    "### Instalar aplicaciones E-links disponibles"
   ]
  },
  {
   "cell_type": "code",
   "execution_count": null,
   "metadata": {
    "vscode": {
     "languageId": "plaintext"
    }
   },
   "outputs": [],
   "source": [
    "\n",
    "# entrar a servidor publico \n",
    "ssh usuario@IP_servidor\n",
    "\n",
    "# ver archivos de directorio\n",
    "ls -la\n",
    "\n",
    "# ver información de carpeta 'Downloads'\n",
    "Downloads/\n",
    "\n",
    "# cambiar a directorio Downloads\n",
    "cd Downloads/\n",
    "\n",
    "# ver archivos de directorio\n",
    "ls -la\n",
    "\n",
    "# instalar el paquete e-links RPM\n",
    "sudo rpm -i elinks-0.12-0.37.pre6.el7.0.1.x86_64.rpm\n",
    "pass: password\n",
    "\n",
    "# ver dependencia que falla y ver qué provee la dependencia\n",
    "yum provides libmozjs185*\n",
    "\n",
    "# instalar el paquete js\n",
    "sudo yum install js\n",
    "y\n",
    "\n",
    "# intentar instalar el paquete e-links RPM\n",
    "sudo rpm -i elinks-0.12-0.37.pre6.el7.0.1.x86_64.rpm\n",
    "\n",
    "# ver dependencia que falla y ver qué provee la dependencia\n",
    "yum provides */libnss_compat_ossl*\n",
    "\n",
    "# instalar nss_compat_ossl\n",
    "sudo yum install nss_compat_ossl\n",
    "\n",
    "# intentar instalar el paquete e-links RPM\n",
    "sudo rpm -i elinks-0.12-0.37.pre6.el7.0.1.x86_64.rpm"
   ]
  },
  {
   "cell_type": "markdown",
   "metadata": {},
   "source": [
    "### Verificar paquetes E-links RPM existen"
   ]
  },
  {
   "cell_type": "code",
   "execution_count": null,
   "metadata": {
    "vscode": {
     "languageId": "plaintext"
    }
   },
   "outputs": [],
   "source": [
    "# ejectutar E-links\n",
    "elinks\n",
    "\n",
    "# abrir website por URL\n",
    "http://www.amazon.com"
   ]
  },
  {
   "cell_type": "markdown",
   "metadata": {},
   "source": [
    "## Troubleshooting RPM"
   ]
  },
  {
   "cell_type": "markdown",
   "metadata": {},
   "source": [
    "### Instalar telnet"
   ]
  },
  {
   "cell_type": "code",
   "execution_count": null,
   "metadata": {
    "vscode": {
     "languageId": "plaintext"
    }
   },
   "outputs": [],
   "source": [
    "# entrar a servidor publico \n",
    "ssh usuario@IP_servidor\n",
    "\n",
    "# convertirse en usuario root\n",
    "sudo -i\n",
    "\n",
    "# instalar paquete telnet\n",
    "yum install -y telnet\n",
    "\n",
    "# verificar integridad \n",
    "cd /var/lib/rpm/\n",
    "/usr/lib/rpm/rpmdb_verify Packages\n",
    "\n",
    "# mover carpeta 'Packages' a 'Packages.bad' y crear nueva base de datos RPM de 'Packages.bad'\n",
    "mv Packages Packages.bad\n",
    "/usr/lib/rpm/rpmdb_dump Packages.bad | /usr/lib/rpm/rpmdb_load Packages\n",
    "\n",
    "# verificar integridad de nueva base de datos RPM\n",
    "/usr/lib/rpm/rpmdb_verify Packages\n",
    "\n",
    "# Query los pquetes instalados para errores\n",
    "rpm -qa > /dev/null\n",
    "\n",
    "# reconstruir la base de datos RPM\n",
    "rpm -vv --rebuilddb\n",
    "\n",
    "# instalar telnet\n",
    "yum install -y telnet\n",
    "\n"
   ]
  },
  {
   "cell_type": "markdown",
   "metadata": {},
   "source": [
    "### Actualizar Apache"
   ]
  },
  {
   "cell_type": "code",
   "execution_count": null,
   "metadata": {
    "vscode": {
     "languageId": "plaintext"
    }
   },
   "outputs": [],
   "source": [
    "# intentar instalar Apache\n",
    "yum install -y httpd\n",
    "\n",
    "# editar el archivo /etc/yum.conf\n",
    "vim /etc/yum.conf\n",
    "\n",
    "# quitar la exclusión para httpd\n",
    "exclude=httpd\n",
    "\n",
    "# guardar y cerrar archivo\n",
    ":wq \n",
    "\n",
    "# instalar Apache\n",
    "yum install -y httpd"
   ]
  },
  {
   "cell_type": "markdown",
   "metadata": {},
   "source": [
    "## Crear Estructura de Directorio en Linux"
   ]
  },
  {
   "cell_type": "markdown",
   "metadata": {},
   "source": [
    "### Crear Directorio Padre"
   ]
  },
  {
   "cell_type": "code",
   "execution_count": null,
   "metadata": {
    "vscode": {
     "languageId": "plaintext"
    }
   },
   "outputs": [],
   "source": [
    "# entrar a servidor  publico\n",
    "ssh usuario@IP_servidor\n",
    "\n",
    "# manual\n",
    "mkdir -p Projects/ancient\n",
    "mkdir Projects/classical\n",
    "mkdir Projects/medieval\n",
    "\n",
    "# expasion bash\n",
    "mkdir -p Projects/{ancient,classical,medieval}"
   ]
  },
  {
   "cell_type": "markdown",
   "metadata": {},
   "source": [
    "### Crear Sub-directorios"
   ]
  },
  {
   "cell_type": "code",
   "execution_count": null,
   "metadata": {
    "vscode": {
     "languageId": "plaintext"
    }
   },
   "outputs": [],
   "source": [
    "# manual\n",
    "mkdir Projects/ancient/egyptian\n",
    "mkdir Projects/ancient/nubian\n",
    "mkdir Projects/classical/greek\n",
    "mkdir Projects/medieval/britain\n",
    "mkdir Projects/medieval/japan\n",
    "\n",
    "\n",
    "# expasion bash\n",
    "mkdir Projects/ancient/{egyptian,nubian}\n",
    "mkdir Projects/classical/greek\n",
    "mkdir Projects/medieval/{britain,japan}\n"
   ]
  },
  {
   "cell_type": "markdown",
   "metadata": {},
   "source": [
    "### Crear archivos vacios"
   ]
  },
  {
   "cell_type": "code",
   "execution_count": null,
   "metadata": {
    "vscode": {
     "languageId": "plaintext"
    }
   },
   "outputs": [],
   "source": [
    "# crear archivos vacios\n",
    "touch Projects/ancient/nubian/further_research.txt\n",
    "touch Projects/classical/greek/further_research.txt\n",
    "\n"
   ]
  },
  {
   "cell_type": "markdown",
   "metadata": {},
   "source": [
    "### Cambiar nombre de sub-directorio "
   ]
  },
  {
   "cell_type": "code",
   "execution_count": null,
   "metadata": {
    "vscode": {
     "languageId": "plaintext"
    }
   },
   "outputs": [],
   "source": [
    "\n",
    "mv Projects/classical Projects/greco-roman"
   ]
  },
  {
   "cell_type": "markdown",
   "metadata": {},
   "source": [
    "## Archivos .Tar/Archivos Comprimidos"
   ]
  },
  {
   "cell_type": "code",
   "execution_count": null,
   "metadata": {
    "vscode": {
     "languageId": "plaintext"
    }
   },
   "outputs": [],
   "source": [
    "# ingresar a servidor \n",
    "\n",
    "ssh usuario@IP_servidor"
   ]
  },
  {
   "cell_type": "markdown",
   "metadata": {},
   "source": [
    "### Tamaño de archivo .txt original"
   ]
  },
  {
   "cell_type": "code",
   "execution_count": null,
   "metadata": {
    "vscode": {
     "languageId": "plaintext"
    }
   },
   "outputs": [],
   "source": [
    "# ver tamaño original de archivo\n",
    "ls -lh junk.txt"
   ]
  },
  {
   "cell_type": "markdown",
   "metadata": {},
   "source": [
    "### Crear archivos .zip\n"
   ]
  },
  {
   "cell_type": "code",
   "execution_count": null,
   "metadata": {
    "vscode": {
     "languageId": "plaintext"
    }
   },
   "outputs": [],
   "source": [
    "# comprimir archivo con gzip\n",
    "gzip junk.txt\n",
    "\n",
    "# ver tamaño de archivo\n",
    "ls -lh\n",
    "\n",
    "# descomprimir archivo .gzip\n",
    "gunzip junk.txt.gz\n",
    "\n",
    "\n",
    "# comprimir archivo con bzip2\n",
    "bzip2 junk.txt\n",
    "\n",
    "# ver tamaño de archivo\n",
    "ls -lh junk.txt.bz2\n",
    "\n",
    "# descomprimir archivo .gzip\n",
    "bunzip2 junk.txt.bz2\n",
    "\n",
    "\n",
    "\n",
    "\n",
    "# comprimir archivo con xz\n",
    "xz junk.txt\n",
    "\n",
    "# ver tamaño de archivo\n",
    "ls -lh\n",
    "\n",
    "# descomprimir archivo .gzip\n",
    "unxz junk.txt.xz\n",
    "\n",
    "\n"
   ]
  },
  {
   "cell_type": "markdown",
   "metadata": {},
   "source": [
    "### Crear archivos .tar"
   ]
  },
  {
   "cell_type": "code",
   "execution_count": null,
   "metadata": {
    "vscode": {
     "languageId": "plaintext"
    }
   },
   "outputs": [],
   "source": [
    "# crear tarball con gzip\n",
    "tar -cvzf gztar.tar.gz junk.txt\n",
    "\n",
    "# crear tarball con bzip2\n",
    "tar -cvjf bztar.tar.bz2 junk.txt\n",
    "\n",
    "# crear tarball con xz\n",
    "tar -cvJf xztar.tar.xz junk.txt\n",
    "\n",
    "# comprar tamaños de archivos comprimidos\n",
    "ls -lh\n"
   ]
  },
  {
   "cell_type": "markdown",
   "metadata": {},
   "source": [
    "### Leer archivos comprimidos (texto)"
   ]
  },
  {
   "cell_type": "code",
   "execution_count": null,
   "metadata": {
    "vscode": {
     "languageId": "plaintext"
    }
   },
   "outputs": [],
   "source": [
    "# copiar archivo /etc/passwd a directorio principal (home)\n",
    "cp /etc/passwd /home/cloud_user/\n",
    "\n",
    "# comprimir archivo .tar con gzip\n",
    "tar -cvzf passwd.tar.gz passwd\n",
    "\n",
    "# leer archivo comprimido \n",
    "zcat passwd.tar.gz\n",
    "\n",
    "# comprimir arhivo a tarball con bzip2\n",
    "tar -cvjf passwd.tar.bz2 passwd\n",
    "\n",
    "# leer archivo comprimido \n",
    "bzcat passwd.tar.bz2\n",
    "\n",
    "# comprimir arhivo a tarball con xz\n",
    "tar -cvJf passwd.tar.xz passwd\n",
    "\n",
    "# leer archivo comprimido\n",
    "xzcat passwd.tar.xz\n"
   ]
  },
  {
   "cell_type": "markdown",
   "metadata": {},
   "source": [
    "## Administrar atributos de archivos y Permisos"
   ]
  },
  {
   "cell_type": "markdown",
   "metadata": {},
   "source": [
    "### Dar acceso al Directorio"
   ]
  },
  {
   "cell_type": "code",
   "execution_count": null,
   "metadata": {
    "vscode": {
     "languageId": "plaintext"
    }
   },
   "outputs": [],
   "source": [
    "# entrar a servidor\n",
    "ssh usuario@IP_servidor\n",
    "\n",
    "# cambiar a directorio opt\n",
    "cd /opt\n",
    "\n",
    "# ver archivos y permisos de directorio\n",
    "ls -la\n",
    "\n",
    "# intentar acceder a directorio myapp\n",
    "cd myapp/\n",
    "\n",
    "\n",
    "# permisos de acceso solo para usuario  tkirk\n",
    "# cambiar permisos de acceso\n",
    "sudo chmod 777 myapp\n",
    "\n",
    "# ver archivos y permisos de directorio\n",
    "ls -la\n",
    "\n",
    "# intentar acceder a directorio myapp con nuevos permisos\n",
    "cd myapp/\n"
   ]
  },
  {
   "cell_type": "markdown",
   "metadata": {},
   "source": [
    "### Cambiar **Permisos** del Directorio"
   ]
  },
  {
   "cell_type": "code",
   "execution_count": null,
   "metadata": {
    "vscode": {
     "languageId": "plaintext"
    }
   },
   "outputs": [],
   "source": [
    "# quitar permisos de ejecucción(ejecutar)\n",
    "sudo chmod -f -x -R *\n",
    "\n",
    "# dar permisos de leer y escribir (read/write)\n",
    "# también quitar permisos de ejecucción automáticamente\n",
    "sudo chmod 666 -f -R *\n",
    "\n",
    "# ver archivos y permisos de directorio\n",
    "ls -la\n",
    "\n",
    "# NOTA: para que los usuarios puedan navegar en los directorios, los directorios deben estar en ejecutable\n",
    "sudo find /opt/myapp -type d -exec chmod o+x {} \\;\n"
   ]
  },
  {
   "cell_type": "markdown",
   "metadata": {},
   "source": [
    "# Bash"
   ]
  },
  {
   "cell_type": "markdown",
   "metadata": {},
   "source": [
    "# Cronjob - Crontab"
   ]
  },
  {
   "cell_type": "markdown",
   "metadata": {},
   "source": [
    "## Ansible Cron"
   ]
  },
  {
   "cell_type": "code",
   "execution_count": null,
   "metadata": {
    "vscode": {
     "languageId": "plaintext"
    }
   },
   "outputs": [],
   "source": [
    "# ingresar a Cloud Server Node1\n",
    "ssh username@IP_public_Node1\n",
    "\n",
    "# convertir usuario en Ansible\n",
    "su - ansible\n",
    "\n",
    "# check que Ansible funciona via comando ad-hoc \n",
    "ansible all -m ping\n",
    "\n",
    "# crear playbook \n",
    "# task sobre los nodos a las 5am y 5pm\n",
    "\n",
    "archivo  cron-tasks.yml\n",
    "---\n",
    "- hosts: dbsystems\n",
    "  user: ansible\n",
    "  become: yes\n",
    "  gather_facts: no\n",
    "  tasks:\n",
    "  - name: Ensure a job that runs at 5am and 5pm exists. Creates an entry like \"0 5,17 * * * df -h >> /tmp/diskspace\"\n",
    "    cron:\n",
    "      name: \"Job 0001\"\n",
    "      minute: \"0\"\n",
    "      hour: \"5,17\"\n",
    "      job: \"df -h >> /tmp/diskspace\"\n",
    "\n",
    "\n",
    "# ejecutar playbook \n",
    "ansible-playbook cron-tasks.yml\n",
    "\n",
    "# corroborar que cron job existe en los nodos\n",
    "sudo crontab -l\n",
    "\n",
    "0 5,17 * * * df -h >> /tmp/diskspace\n",
    "\n"
   ]
  },
  {
   "cell_type": "code",
   "execution_count": null,
   "metadata": {
    "vscode": {
     "languageId": "plaintext"
    }
   },
   "outputs": [],
   "source": [
    "# crear playbook delete-crontask.yml\n",
    "# quitar el cron job  \n",
    "\n",
    "delete-crontask.yml\n",
    "\n",
    "---\n",
    "- hosts: dbsystems\n",
    "  user: ansible\n",
    "  become: yes\n",
    "  gather_facts: no\n",
    "  tasks:\n",
    "  - name: 'Ensure an old job is no longer present. Removes any job that is prefixed by \"#Ansible: Job 0001\" from the crontab'\n",
    "    cron:\n",
    "      name: \"Job 0001\"\n",
    "      state: absent"
   ]
  },
  {
   "cell_type": "code",
   "execution_count": null,
   "metadata": {
    "vscode": {
     "languageId": "plaintext"
    }
   },
   "outputs": [],
   "source": [
    "# modificar archivo cron-tasks.yml\n",
    "---\n",
    "- hosts: dbsystems\n",
    "  user: ansible\n",
    "  become: yes\n",
    "  gather_facts: no\n",
    "  tasks:\n",
    "  - name: Ensure a job that runs at 5am and 5pm exists. Creates an entry like \"0 5,17 * * * df -h >> /tmp/diskspace\"\n",
    "    cron:\n",
    "      name: \"Job 0002\"\n",
    "      minute: \"0\"\n",
    "      hour: \"4,17\"\n",
    "      job: \"df -h >> /tmp/diskspace\"\n",
    "\n",
    "\n",
    "# ejecutar playbook cron-tasks.yml\n",
    "ansible-playbook cron-tasks.yml\n",
    "\n",
    "# log in a uno de los nodos \n",
    "# check \n",
    "sudo crontab -l\n",
    "\n",
    "Job 0001\n",
    "Job 0002\n",
    "\n",
    "# desde maquina de control\n",
    "# ejecutar playbook\n",
    "ansible-playbook delete-crontask.yml\n"
   ]
  },
  {
   "cell_type": "markdown",
   "metadata": {},
   "source": [
    "##  CRONJOB: Crear Cronjob para ejecutar script periódicamente\n",
    "\n"
   ]
  },
  {
   "cell_type": "code",
   "execution_count": null,
   "metadata": {
    "vscode": {
     "languageId": "plaintext"
    }
   },
   "outputs": [],
   "source": [
    "# entrar a servidor\n",
    "ssh username@IP_public\n",
    "\n",
    "# convertir en usuario root\n",
    "sudo -i\n",
    "\n",
    "# verificar que servicio crond esta habilitado y ejecutandose\n",
    "systemctl status crond.service\n"
   ]
  },
  {
   "cell_type": "markdown",
   "metadata": {},
   "source": [
    "### Verificar que   /usr/local/bin/loadavg.sh esta ejecutable para todos y produce output correcta"
   ]
  },
  {
   "cell_type": "code",
   "execution_count": null,
   "metadata": {
    "vscode": {
     "languageId": "plaintext"
    }
   },
   "outputs": [],
   "source": [
    "# ver permisos de archivo /usr/local/bin/loadavg.sh \n",
    "ls -l /usr/local/bin/loadavg.sh\n",
    "\n",
    "# convertir archivo en ejecutable\n",
    "chmod a+x /usr/local/bin/loadavg.sh\n",
    "\n",
    "# ejecutar archivo \n",
    "/usr/local/bin/loadavg.sh\n",
    "\n",
    "# verificar envio de datos a /var/log/loadavg.log\n",
    "cat /var/log/loadavg.log\n"
   ]
  },
  {
   "cell_type": "markdown",
   "metadata": {},
   "source": [
    "### Crear CRON JOB que ejecuta /usr/local/bin/loadavg.sh  una vez por minuto  Entre 8am-5pm de Lunes-Viernes"
   ]
  },
  {
   "cell_type": "code",
   "execution_count": null,
   "metadata": {
    "vscode": {
     "languageId": "plaintext"
    }
   },
   "outputs": [],
   "source": [
    "\n",
    "# exportar editor de texto nano\n",
    "export EDITOR=nano\n",
    "\n",
    "# editar archivo crontab -e\n",
    "crontab -e\n",
    "\n",
    "# Min   Hour   DoM   Mon   DoW    Command\n",
    "\n",
    "   *    8-17    *     *    1-5   /usr/local/bin/loadavg.sh\n",
    "   *     *      *     *     *      echo hello\n",
    "\n",
    "# ver contenido de archivo crontab -e\n",
    "crontab -l\n",
    "\n",
    "# verificar nuevamente que servicio crond esta habilitado y ejecutandose\n",
    "systemctl status crond.service\n",
    "\n",
    "# verificar que CRONJOB se ha ejecutado\n",
    "tail /var/log/cron\n",
    "\n",
    "# verificar CRONJOB está ejecutandose y produce output correcta\n",
    "cat /var/log/loadavg.log\n"
   ]
  },
  {
   "cell_type": "markdown",
   "metadata": {},
   "source": [
    "## CRONJOB: Sistema de Utilización de Logging con Cronograma con nmon"
   ]
  },
  {
   "cell_type": "code",
   "execution_count": null,
   "metadata": {
    "vscode": {
     "languageId": "plaintext"
    }
   },
   "outputs": [],
   "source": [
    "# ingrear a servidor \n",
    "ssh username@IP_public\n",
    "\n",
    "# instalar nmon\n",
    "sudo apt install nmon\n",
    "\n",
    "# ejecutar nmon\n",
    "nmon\n"
   ]
  },
  {
   "cell_type": "markdown",
   "metadata": {},
   "source": [
    "### Crear directorio log y confirmar accesibilidad"
   ]
  },
  {
   "cell_type": "code",
   "execution_count": null,
   "metadata": {
    "vscode": {
     "languageId": "plaintext"
    }
   },
   "outputs": [],
   "source": [
    "# crear directorio nmon\n",
    "mkdir nmon\n",
    "\n",
    "# crear archivo en directorio nmon\n",
    "touch /home/cloud_user/nmon/test/txt\n",
    "\n",
    "# verificar archivo\n",
    "ls -l nmon\n"
   ]
  },
  {
   "cell_type": "markdown",
   "metadata": {},
   "source": [
    "### Verificar parámetros de Logging y confirmar contenido de Log file\n"
   ]
  },
  {
   "cell_type": "code",
   "execution_count": null,
   "metadata": {
    "vscode": {
     "languageId": "plaintext"
    }
   },
   "outputs": [],
   "source": [
    "# ejectuar test de funcionalidad  nmon\n",
    "nmon -f -s 2 -c 5 -m /home/cloud_user/nmon\n",
    "\n",
    "# verificar existencia de archivo log file\n",
    "ls -l nmon\n",
    "\n",
    "# verificar contenidos de archivo log file\n",
    "cat nmon/LOGFILENAME\n",
    "\n"
   ]
  },
  {
   "cell_type": "markdown",
   "metadata": {},
   "source": [
    "### Crear CRONJOB para ejecutar el comando programado"
   ]
  },
  {
   "cell_type": "code",
   "execution_count": null,
   "metadata": {
    "vscode": {
     "languageId": "plaintext"
    }
   },
   "outputs": [],
   "source": [
    "\n",
    "# instalar paquete\n",
    "sudo apt install package\n",
    "\n",
    "# abrir CRONTAB\n",
    "crontab -e\n",
    "\n",
    "# editar archivo crontab\n",
    "0 22 * * 2 nmon -f -s 60 -c 480 -m /home/cloud_user/nmon/\n",
    "\n",
    "# guardar archivo\n"
   ]
  },
  {
   "cell_type": "markdown",
   "metadata": {},
   "source": [
    "## CRONJOB:  Instalar y Configurar AIDE ( Advanced Intrusion Detection Environmen)"
   ]
  },
  {
   "cell_type": "markdown",
   "metadata": {},
   "source": [
    "### Instalar y Configurar AIDE"
   ]
  },
  {
   "cell_type": "code",
   "execution_count": null,
   "metadata": {
    "vscode": {
     "languageId": "plaintext"
    }
   },
   "outputs": [],
   "source": [
    "# entrar a servidor \n",
    "ssh username@IP_public\n",
    "\n",
    "# cambiar rol de usuario a root (super-user)\n",
    "sudo su\n",
    "\n",
    "# instalar AIDE\n",
    "yum install -y aide\n",
    "\n",
    "# inicializar AIDE \n",
    "/usr/sbin/aide --init\n",
    "\n",
    "# copiar base de datos inicializada para produccion\n",
    "cp /var/lib/aide/aide.db.new.gz /var/lib/aide/aide.db.gz\n",
    "\n"
   ]
  },
  {
   "cell_type": "markdown",
   "metadata": {},
   "source": [
    "### Configurar AIDE con CRONJOB para ejecutar cada dia a 1am\n",
    "\n"
   ]
  },
  {
   "cell_type": "code",
   "execution_count": null,
   "metadata": {
    "vscode": {
     "languageId": "plaintext"
    }
   },
   "outputs": [],
   "source": [
    "# crear CRONJOB\n",
    "nano /etc/crontab\n",
    "\n",
    "# ejecutar CRONJOB cada dia a 1am\n",
    "# comando check: /usr/sbin/aide --check \n",
    "0 1 * * * /usr/sbin/aide --check \n",
    "\n",
    "\n",
    "# editar CRONJOB en nano , agregar después de encabezado \n",
    "# definir directorios para monitorear\n",
    "nano /etc/aide.conf\n",
    "/patient-data    DIR\n",
    "/accounting     DIR\n",
    "\n",
    "# agregar aplicacion para monitorear en cada acceso\n",
    "# editar configuracion de AIDE\n",
    "nano /etc/aide.conf\n",
    "APP_ACCESS = a\n",
    "/applications/payroll   APP_ACCESS\n",
    "\n",
    "\n",
    "# actualizar base de datos de AIDE\n",
    "/usr/sbin/aide --update\n",
    "\n",
    "# copiar base de datos de AIDE actualizada\n",
    "cp /var/lib/aide/aide.db.new.gz /var/lib/aide/aide.db.gz"
   ]
  },
  {
   "cell_type": "markdown",
   "metadata": {},
   "source": [
    "## Configurar  CRONJOB en Kubernetes (containers)"
   ]
  },
  {
   "cell_type": "code",
   "execution_count": null,
   "metadata": {
    "vscode": {
     "languageId": "plaintext"
    }
   },
   "outputs": [],
   "source": [
    "# entrar a servidor Kube Master \n",
    "ssh username@IP_public\n",
    "\n",
    "# crear Bash script\n",
    "vi cleanup-cronjob.yml\n",
    "\n",
    "# \n",
    "apiVersion: batch/v1beta1\n",
    "kind: CronJob\n",
    "metadata:\n",
    "  name: cleanup-cronjob\n",
    "spec:\n",
    "  schedule: \"*/1 * * * *\"\n",
    "  jobTemplate:\n",
    "    spec:\n",
    "      template:\n",
    "        spec:\n",
    "          containers:\n",
    "          - name: data-cleanup\n",
    "            image: linuxacademycontent/data-cleanup:1\n",
    "          restartPolicy: OnFailure\n",
    "\n",
    "\n",
    "# crear CRONJOB en el cluster\n",
    "kubectl apply -f ~/cleanup-cronjob.yml\n",
    "\n",
    "\n"
   ]
  },
  {
   "cell_type": "markdown",
   "metadata": {},
   "source": [
    "## Configurar Timers con systemd"
   ]
  },
  {
   "cell_type": "markdown",
   "metadata": {},
   "source": [
    "### Query y ver Información de Timer"
   ]
  },
  {
   "cell_type": "code",
   "execution_count": null,
   "metadata": {
    "vscode": {
     "languageId": "plaintext"
    }
   },
   "outputs": [],
   "source": [
    "\n",
    "# ingresar a servidor\n",
    "ssh username@IP_public\n",
    "\n",
    "# ver timers activos\n",
    "systemctl list-timers\n",
    "\n",
    "# ver contenidos de archivo timer unit\n",
    "systemctl cat fstrim.timer\n",
    "\n",
    "# ver contenidos de archivo asociado unit \n",
    "systemctl cat fstrim.service\n",
    "\n",
    "# analizar varias timer notations\n",
    "systemd-analyze calendar hourly\n",
    "systemd-analyze calendar daily\n",
    "systemd-analyze calendar weekly\n",
    "systemd-analyze calendar monthly\n",
    "systemd-analyze calendar \"*-*-* 09..17:00/5\"\n",
    "systemd-analyze calendar \"Mon..Fri *-*-* 09..17:00/5\"\n",
    "\n",
    "\n",
    "# ejecutar comando\n",
    "systemd-analyze calendar \"*-*~03\"\n"
   ]
  },
  {
   "cell_type": "markdown",
   "metadata": {},
   "source": [
    "### Crear Timer, Servicio, y Script para ESCRIBIR Journal Entries"
   ]
  },
  {
   "cell_type": "code",
   "execution_count": null,
   "metadata": {
    "vscode": {
     "languageId": "plaintext"
    }
   },
   "outputs": [],
   "source": [
    "# crear archivo timer unit\n",
    "sudo systemctl edit --full --force blahwoof.timer\n",
    "\n",
    "# editar archivo timer unit\n",
    "[Unit]\n",
    "Description=Run the blahwoof service every 5 seconds\n",
    "\n",
    "[Timer]\n",
    "OnCalendar=*-*-* *:*:0/5\n",
    "AccuracySec=1s\n",
    "\n",
    "[Install]\n",
    "WantedBy=timers.target\n",
    "\n",
    "# guardar y cerrar\n",
    "control+X\n",
    "\n",
    "# crear archivo asociado de servicio unit file\n",
    "sudo systemctl edit --full --force blahwoof.service\n",
    "# editar archivo asociado de servicio \n",
    "[Unit]\n",
    "Description=Write a quick entry to the systemd journal\n",
    "\n",
    "[Service]\n",
    "Type=oneshot\n",
    "User=cloud_user\n",
    "ExecStart=\"/home/cloud_user/journo.sh\"\n",
    "\n",
    "[Install]\n",
    "WantedBy=blahwoof.timer\n",
    "# guardar y cerrar\n",
    "control+X\n",
    "\n",
    "\n",
    "# crear script\n",
    "vim journo.sh\n",
    "# editar script\n",
    "\n",
    "#!/bin/bashs\n",
    "\n",
    "echo \"blahwoof entry at `date`\" | systemd-cat\n",
    "\n",
    "# lista de timers activos\n",
    "systemctl list-timers\n",
    "\n",
    "# permitir y comenzar timer\n",
    "sudo systemctl enable blahwoof.timer\n",
    "\n",
    "# comenzar timer\n",
    "sudo systemctl start blahwoof.timer\n",
    "\n",
    "# check estado de blahwoof.timer\n",
    "systemctl status blahwoof.timer\n",
    "\n",
    "\n",
    "# Troubleshooting\n",
    "# ver dentro del System Journal \n",
    "journalctl --follow\n",
    "control+C\n",
    "\n",
    "# hacer script ejecutable\n",
    "chmod a+x ~/journo.sh\n",
    "\n",
    "# corroborar resultados\n",
    "journalctl --follow\n",
    "\n",
    "\n"
   ]
  },
  {
   "cell_type": "markdown",
   "metadata": {},
   "source": [
    "# Bash Scripts"
   ]
  },
  {
   "cell_type": "markdown",
   "metadata": {},
   "source": [
    "## Variables en Bash"
   ]
  },
  {
   "cell_type": "code",
   "execution_count": null,
   "metadata": {
    "vscode": {
     "languageId": "plaintext"
    }
   },
   "outputs": [],
   "source": [
    "# entrar a servidor\n",
    "ssh username@IP_public\n",
    "\n",
    "# examinar path actual\n",
    "# extraer directorio actual\n",
    "pwd\n",
    "\n",
    "# ver archivos de directorio actual\n",
    "ls\n",
    "\n",
    "# ver archivos de directorio  script\n",
    "ls scripts/\n",
    "\n",
    "# ejecutar test script especificando el path\n",
    "./scripts/test.sh\n",
    "\n",
    "# ejecutar test script sin path\n",
    "test.sh\n",
    "\n",
    "# ver varaibles del ambiente\n",
    "# ver variable PATH\n",
    "env\n",
    "\n",
    "# examinar variable PATH\n",
    "echo $PATH\n",
    "\n",
    "# ejecutar comando\n",
    "# agregar path a HOME/scripts\n",
    "PATH=\"$PATH:$HOME/scripts\"\n",
    "\n",
    "\n",
    "# ejecutar script test.sh SIN especificar path\n",
    "test.sh\n",
    "\n",
    "# ver contenidos de archivo .profile\n",
    "cat.profile\n",
    "\n",
    "# ver variable $PATH\n",
    "echo $PATH\n",
    "\n",
    "# hacer source el archivo .profile\n",
    "source .profile\n",
    "\n",
    "# modificar archivo ~/.profile para hacer cambio permanente\n",
    "echo 'PATH=\"$PATH:$HOME/scripts\"' >> ~/.profile\n",
    "\n",
    "# hacer source el archivo .profile otra vez\n",
    "source .profile\n",
    "\n",
    "# ver variable $PATH\n",
    "echo $PATH\n",
    "\n",
    "# ejecutar el script test.sh sin especificar PATH\n",
    "test.sh\n",
    "\n"
   ]
  },
  {
   "cell_type": "markdown",
   "metadata": {},
   "source": [
    "## Escribir un Bash script"
   ]
  },
  {
   "cell_type": "markdown",
   "metadata": {},
   "source": [
    "### Escribir script para hacer backup de los archivos solicitados "
   ]
  },
  {
   "cell_type": "code",
   "execution_count": null,
   "metadata": {
    "vscode": {
     "languageId": "plaintext"
    }
   },
   "outputs": [],
   "source": [
    "# ingresar a servidor\n",
    "ssh username@IP_public\n",
    "\n",
    "# ver directorio\n",
    "ls\n",
    "\n",
    "# ver archivos de carpeta work/\n",
    "ls work/\n",
    "\n",
    "# editar script backup (editor vim)\n",
    "sudo vim backup.sh\n",
    "\n",
    "# agregar nota echo \n",
    "echo \"Creating backup directory\" >> /home/cloud_user/backup_logs\n",
    "\n",
    "# ejecutar comando mkdir\n",
    "mkdir /home/cloud_user/work_backup\n",
    "\n",
    "# ejecutar echos en actividad \n",
    "echo \"Copying Files\" >> /home/cloud_user/backup_logs\n",
    "\n",
    "# copiar archivos en directorio de backup\n",
    "cp -v /home/cloud_user/work/*  /home/cloud_user/work_backup/ >>  /home/cloud_user/backup_logs\n",
    "\n",
    "\n",
    "echo \"Finished Copying Files\" >>  /home/cloud_user/backup_logs\n",
    "\n",
    "# guardar archivo backup.sh y salir de editor vim\n",
    ":wq\n"
   ]
  },
  {
   "cell_type": "markdown",
   "metadata": {},
   "source": [
    "### Ejecutar script de backup y verificar que se hizo backup de los archivos"
   ]
  },
  {
   "cell_type": "code",
   "execution_count": null,
   "metadata": {
    "vscode": {
     "languageId": "plaintext"
    }
   },
   "outputs": [],
   "source": [
    "# convertir script backup.sh en ejecutable\n",
    "sudo chmod +x backup.sh\n",
    "\n",
    "# ejecutar archivo backup.sh \n",
    "./backup.sh\n",
    "\n",
    "# verificar que logs tiene back-up\n",
    "ls\n",
    "\n",
    "# ejecutar comando  cat para ver historial del directorio de backup\n",
    "cat /home/cloud_user/backup_logs\n",
    "\n",
    "\n",
    "\n"
   ]
  },
  {
   "cell_type": "markdown",
   "metadata": {},
   "source": [
    "## Regex en script de backup"
   ]
  },
  {
   "cell_type": "markdown",
   "metadata": {},
   "source": [
    "### Modificar script de backup y agregar regex"
   ]
  },
  {
   "cell_type": "code",
   "execution_count": null,
   "metadata": {
    "vscode": {
     "languageId": "plaintext"
    }
   },
   "outputs": [],
   "source": [
    "# entrar a servidor\n",
    "ssh username@IP_public\n",
    "\n",
    "# ver archivos y directorios\n",
    "ls\n",
    "\n",
    "# ver archivos en directorio work\n",
    "ls work\n",
    "\n",
    "# abrir archivo de backup (editor vim)\n",
    "vim backup.sh\n",
    "\n",
    "# crear regex (regular expression/patron) que encuentra los archivos en directorio  work  para hacer backup\n",
    "# patron 'adent|financ'   adent  o financ\n",
    "ls work | grep -E 'adent|financ'\n",
    "\n",
    "\n",
    "# editar archivo backup (editor vim)\n",
    "vim backup.sh\n",
    "\n",
    "for i in $(ls work | grep -E 'adent|financ')\n",
    "do\n",
    "        cp -v /home/$USER/work/$i /home/$USER/work_backup >> /home/$USER/$MYLOG\n",
    "done\n",
    "\n",
    "\n",
    "# eliminar comando que hacia backup de todos los archivos\n",
    "#cp -v /home/$USER/work/* /home/$USER/work_backup/ >> /home/$USER/$MYLOG\n",
    "\n",
    "# guardar y salir (vim)\n",
    "ESC\n",
    ":wq\n",
    "\n",
    "\n"
   ]
  },
  {
   "cell_type": "markdown",
   "metadata": {},
   "source": [
    "### Ejecutar script y verificaar los archivos que hicieron backup"
   ]
  },
  {
   "cell_type": "code",
   "execution_count": null,
   "metadata": {
    "vscode": {
     "languageId": "plaintext"
    }
   },
   "outputs": [],
   "source": [
    "# ejecutar archivo backup\n",
    "./backup.sh mylog\n",
    "\n",
    "# ver archivos que hicieron backup\n",
    "ls\n",
    "\n",
    "# ver archivos que hicieron backup en directorio work_backup\n",
    "ls work_backup\n",
    "\n",
    "# ver que los archivos solicitados se copiaron\n",
    "# ver timestamps (hora) de las acciones\n",
    "\n",
    "cat mylog\n"
   ]
  },
  {
   "cell_type": "markdown",
   "metadata": {},
   "source": [
    "## Incorporar Sustituciones en un script de Backup "
   ]
  },
  {
   "cell_type": "markdown",
   "metadata": {},
   "source": [
    "### Modificar script de back-up "
   ]
  },
  {
   "cell_type": "code",
   "execution_count": null,
   "metadata": {
    "vscode": {
     "languageId": "plaintext"
    }
   },
   "outputs": [],
   "source": [
    "# entrar a servidor servidor\n",
    "ssh username@IP_public\n",
    "\n",
    "\n",
    "# ver archivos en el directorio\n",
    "ls- la\n",
    "\n",
    "# ver archivos en directorio  work\n",
    "ls work/\n",
    "\n",
    "# abrir script de backup existente en editor vim\n",
    "vim backup.sh\n",
    "\n",
    "# usar comando date en sustitucion de comando para agregar un timestamp al logfile antes crear el directorio backup\n",
    "echo \"Timestamp before work is done $(date +\"%D %T\")\" >> /home/$USER/$MYLOG\n",
    "\n",
    "# usar comando  date  en sustitucion de comando para agregar un timestamp al logfile después de que los archivos hayan sido copiados\n",
    "echo \"Timestamp after work is done $(date +\"%D %T\")\" >> /home/$USER/$MYLOG\n",
    "# salir \n",
    "ESC\n",
    ":wq\n",
    "\n"
   ]
  },
  {
   "cell_type": "markdown",
   "metadata": {},
   "source": [
    "### Ejectura script y verificar  que archivos tienen backup con la información requerida"
   ]
  },
  {
   "cell_type": "code",
   "execution_count": null,
   "metadata": {
    "vscode": {
     "languageId": "plaintext"
    }
   },
   "outputs": [],
   "source": [
    "# ejectuar script de backup para el logfile\n",
    "./backup.sh mylog\n",
    "\n",
    "# ver contenidos de log file\n",
    "cat mylog\n",
    "\n"
   ]
  },
  {
   "cell_type": "markdown",
   "metadata": {},
   "source": [
    "## Provisionando una imagen de Packer con Bash "
   ]
  },
  {
   "cell_type": "markdown",
   "metadata": {},
   "source": [
    "### Crear Provisionador Inline"
   ]
  },
  {
   "cell_type": "code",
   "execution_count": null,
   "metadata": {
    "vscode": {
     "languageId": "plaintext"
    }
   },
   "outputs": [],
   "source": [
    "\n",
    "# ingresar a servidor\n",
    "ssh  username@IP_servidor\n",
    "\n",
    "# cambiar a directorio para Packer build\n",
    "cd packer/bookapp/\n",
    "\n",
    "# abrir  archivo packer.json\n",
    "vim packer.json\n",
    "\n",
    "# actualizar archivo con shell provisioner block\n",
    "\n",
    "    ],\n",
    "    \"provisioners\": [\n",
    "        {\n",
    "            \"type\": \"shell\",\n",
    "            \"inline\": [\"sudo apt-get update -y && sudo apt-get upgrade -y\"]\n",
    "        }\n",
    "    ]\n",
    "\n"
   ]
  },
  {
   "cell_type": "markdown",
   "metadata": {},
   "source": [
    "### Crear el script  Provisioner"
   ]
  },
  {
   "cell_type": "code",
   "execution_count": null,
   "metadata": {
    "vscode": {
     "languageId": "plaintext"
    }
   },
   "outputs": [],
   "source": [
    "\n",
    "# actualizar archivo shell provisioner block\n",
    "# agregar comandos que crean directorio /opt/provisioning\n",
    "\n",
    "    ],\n",
    "    \"provisioners\": [\n",
    "        {\n",
    "            \"type\": \"shell\",\n",
    "            \"inline\": [\n",
    "                \"sudo apt-get update -y && sudo apt-get upgrade -y\",\n",
    "                \"sudo mkdir /opt/provisioning\",\n",
    "                \"sudo chown ubuntu:ubuntu /opt/provisioning\"\n",
    "            ]\n",
    "        },\n",
    "        {\n",
    "            \"type\": \"shell\",\n",
    "            \"scripts\": [\n",
    "                \"scripts/init.sh\",\n",
    "                \"scripts/webdeploy.sh\"\n",
    "            ],\n",
    "            \"environment_vars\": [\"HOSTNAME=bookapp\"],\n",
    "            \"remote_folder\": \"/opt/provisioning\",\n",
    "            \"skip_clean\": true\n",
    "        }\n",
    "    ]\n",
    "}"
   ]
  },
  {
   "cell_type": "markdown",
   "metadata": {},
   "source": [
    "### Test el archivo Packer"
   ]
  },
  {
   "cell_type": "code",
   "execution_count": null,
   "metadata": {
    "vscode": {
     "languageId": "plaintext"
    }
   },
   "outputs": [],
   "source": [
    "\n",
    "# validar el archivo\n",
    "packer validate packer.json\n",
    "\n",
    "# test el archivo \n",
    "packer build packer.json"
   ]
  },
  {
   "cell_type": "markdown",
   "metadata": {},
   "source": [
    "## Implementar Control de Bash Flow en un script de backup"
   ]
  },
  {
   "cell_type": "markdown",
   "metadata": {},
   "source": [
    "### Modificar script de backup para agregar Trap solicitada"
   ]
  },
  {
   "cell_type": "code",
   "execution_count": null,
   "metadata": {
    "vscode": {
     "languageId": "plaintext"
    }
   },
   "outputs": [],
   "source": [
    "# entrar a servidor \n",
    "ssh username@IP_public\n",
    "\n",
    "# editar archivo de backup en editor vim\n",
    "vim backup.sh\n",
    "\n",
    "# agregar funcion   ctrlc\n",
    "function ctrlc {\n",
    "        rm -rf /home/$USER/work_backup\n",
    "        rm -f /home/$USER/$MYLOG\n",
    "        echo \"Received Ctrl+C\"\n",
    "        exit 255\n",
    "}\n",
    "\n",
    "# habilitar trapon ctrlc\n",
    "trap ctrlc SIGINT"
   ]
  },
  {
   "cell_type": "markdown",
   "metadata": {},
   "source": [
    "### Modificar script de backup para contener el logic solicitado por parámetros "
   ]
  },
  {
   "cell_type": "code",
   "execution_count": null,
   "metadata": {
    "vscode": {
     "languageId": "plaintext"
    }
   },
   "outputs": [],
   "source": [
    "# agregar condicional if\n",
    "if [ -z \"$1\" ]; then\n",
    "        echo \"You have failed to pass a parameter. Please try again.\"\n",
    "        exit 255;\n",
    "fi\n"
   ]
  },
  {
   "cell_type": "markdown",
   "metadata": {},
   "source": [
    "### Ejecutar script y verificar que los archivos tienen backup y traping y que la lógica de parámetros funciona"
   ]
  },
  {
   "cell_type": "code",
   "execution_count": null,
   "metadata": {
    "vscode": {
     "languageId": "plaintext"
    }
   },
   "outputs": [],
   "source": [
    "# agregar comando sleep (probar logica)\n",
    "sleep 15\n",
    "# guardar archivo\n",
    "\n",
    "# ejecutar archivo backup\n",
    "./backup.sh\n",
    "\n",
    "\n",
    "# ejecutar archivo backup con mylog\n",
    "./backup.sh mylog\n",
    "# cancelar script\n",
    "control+C\n",
    "\n",
    "# verificar que se recibe  ^CReceived Ctrl+C\n",
    "\n",
    "# verificar que no hay archivos leftovers\n",
    "ls\n",
    "\n",
    "# ejecutar archivo backup con mylog otra vez\n",
    "./backup.sh mylog\n",
    "\n",
    "# ver lista de archivos que hicieron backup\n",
    "ls work_backup/\n",
    "\n",
    "# verificar que los archivos de backup se copiaron y ver timestamps(hora) de acciones\n",
    "cat mylog"
   ]
  },
  {
   "cell_type": "markdown",
   "metadata": {},
   "source": [
    "# EC2"
   ]
  },
  {
   "cell_type": "markdown",
   "metadata": {},
   "source": [
    "## Crear instancia de EC2 en VPC"
   ]
  },
  {
   "cell_type": "markdown",
   "metadata": {},
   "source": [
    "### Crear VPC"
   ]
  },
  {
   "cell_type": "code",
   "execution_count": null,
   "metadata": {
    "vscode": {
     "languageId": "plaintext"
    }
   },
   "outputs": [],
   "source": [
    "# acceder a servicio VPC->Your VPCs\n",
    "# crear VPC: VPC Only, name tag= my-vpc, IPv4 CIDR block: 10.0.0.0/16\n",
    "# valores predeterminados de  IPv6 CIDR block y Tenancy fields \n",
    "# crear VPC"
   ]
  },
  {
   "cell_type": "markdown",
   "metadata": {},
   "source": [
    "### Crear Subnet publica"
   ]
  },
  {
   "cell_type": "code",
   "execution_count": null,
   "metadata": {
    "vscode": {
     "languageId": "plaintext"
    }
   },
   "outputs": [],
   "source": [
    "# clic en menu Subnets\n",
    "# crear Subnet: VPC ID: my-vpc, Subnet name: my-public-subnet, Availability Zone: us-east-1a, IPv4 CIDR block: 10.0.0.0/24\n",
    "# crear subnet"
   ]
  },
  {
   "cell_type": "markdown",
   "metadata": {},
   "source": [
    "### Crear Route Table y configurar Internet Gateway "
   ]
  },
  {
   "cell_type": "code",
   "execution_count": null,
   "metadata": {
    "vscode": {
     "languageId": "plaintext"
    }
   },
   "outputs": [],
   "source": [
    "# seleccionar Subnet my-public-subnet\n",
    "# clic en Acciones -> Edit subnet settings\n",
    "# checkbox para Enable auto-assign public IPv4 address\n",
    "# Guardar\n",
    "\n",
    "# seleccionar Internet Gateways\n",
    "# crear Internet Gateway: name tag=my-internet-gateway\n",
    "# Create internet gateway\n",
    "# clic Acciones -> Attach to VPC\n",
    "# seleccionar my-vpc\n",
    "# clic en  Attach internet gateway\n",
    "\n",
    "# seleccionar Route Tables\n",
    "#  Route Tables\n",
    "# create route table: name=publicRT, VPC:my-vpc\n",
    "# create route table\n",
    "# clic en Edit routes\n",
    "# agregar Route: Destination=0.0.0.0/0, target= Internet Gateway, my-internet-gateway\n",
    "# guardar cambios\n",
    "\n",
    "# en menu Subnet associations \n",
    "# editar Edit subnet associations\n",
    "# checkbox my-public-subnet\n",
    "# guardar asociaciones\n"
   ]
  },
  {
   "cell_type": "markdown",
   "metadata": {},
   "source": [
    "### Lanzar instancia de EC2 en Subnet"
   ]
  },
  {
   "cell_type": "code",
   "execution_count": null,
   "metadata": {
    "vscode": {
     "languageId": "plaintext"
    }
   },
   "outputs": [],
   "source": [
    "# acceder a EC2 -> Instancias\n",
    "# Lanzar Instancia\n",
    "# en AMI, seleccionar Amazon Linux 2 AMI\n",
    "# seleccionar  t2.micro\n",
    "# Review and Launch > Launch\n",
    "# crear key-pair Create a new key pair: nombre=\"my-keypair\"\n",
    "# descargar key-pair\n",
    "# Launch Instances\n",
    "# ver instancias"
   ]
  },
  {
   "cell_type": "markdown",
   "metadata": {},
   "source": [
    "### Acceder a instancia de EC2"
   ]
  },
  {
   "cell_type": "code",
   "execution_count": null,
   "metadata": {
    "vscode": {
     "languageId": "plaintext"
    }
   },
   "outputs": [],
   "source": [
    "# seleccionar Instancia cuando esté ejecutandose\n",
    "# clic en Conectar\n",
    "# en EC2 Instance Connect section, click Conectar"
   ]
  },
  {
   "cell_type": "markdown",
   "metadata": {},
   "source": [
    "## EC2 Instance Bootstrapping"
   ]
  },
  {
   "cell_type": "markdown",
   "metadata": {},
   "source": [
    "### Instalar software en webserver-01"
   ]
  },
  {
   "cell_type": "code",
   "execution_count": null,
   "metadata": {
    "vscode": {
     "languageId": "plaintext"
    }
   },
   "outputs": [],
   "source": [
    "# Acceder a EC2\n",
    "# menu Resources, clic en Instances(running)\n",
    "# seleccionar instancia webserver-01, clic en Conectar\n",
    "# seleccionar EC2 Instance Connect\n",
    "# Conectar \n",
    "# desde terminal(consola) de webserver-01, ingresar con ssh a servidor con credenciales Cloud Server of webserver-01\n",
    "# ssh usuario@IPpublic\n",
    "\n",
    "# actualizar y mejorar paquetes\n",
    "# sudo apt-get update && sudo apt-get upgrade -y\n",
    "# instalar apache\n",
    "# sudo apt-get install apache2 -y\n",
    "\n",
    "\n",
    "# Acceder a EC2\n",
    "# EC2 dashboard > Instances\n",
    "# clic en   Instances (running)\n",
    "# seleccionar webserver-01 \n",
    "# seccion de Details, copiar Public IPv4 address y pegar en pagina web para acceder a Apache\n",
    "# en terminal EC2 de webserver-01, instalar unzip\n",
    "# sudo apt-get install unzip -y\n",
    "# descargar AWS CLI\n",
    "# curl \"https://awscli.amazonaws.com/awscli-exe-linux-x86_64.zip\" -o \"awscliv2.zip\"\n",
    "# descomprimir archivos\n",
    "# unzip awscliv2.zip\n",
    "# instalar AWS CLI\n",
    "# sudo ./aws/install\n",
    "# verificar version de AWS CLI \n",
    "# aws --version\n",
    "# hacer archivo  index.html ejecutable con acceso a usuario\n",
    "# sudo chmod 777 /var/www/html/index.html\n",
    "# instancia de Availability Zone de servidor \n",
    "# curl http://169.254.169.254/latest/meta-data/placement/availability-zone\n",
    "# agregar Availability Zone, instance ID, public IP, and local IP instance  al archivo index.html\n",
    "echo '<html><h1>Bootstrap Demo</h1><h3>Availability Zone: ' > /var/www/html/index.html\n",
    "curl http://169.254.169.254/latest/meta-data/placement/availability-zone >> /var/www/html/index.html\n",
    "echo '</h3> <h3>Instance Id: ' >> /var/www/html/index.html\n",
    "curl http://169.254.169.254/latest/meta-data/instance-id >> /var/www/html/index.html\n",
    "echo '</h3> <h3>Public IP: ' >> /var/www/html/index.html\n",
    "curl http://169.254.169.254/latest/meta-data/public-ipv4 >> /var/www/html/index.html\n",
    "echo '</h3> <h3>Local IP: ' >> /var/www/html/index.html\n",
    "curl http://169.254.169.254/latest/meta-data/local-ipv4 >> /var/www/html/index.html\n",
    "echo '</h3></html> ' >> /var/www/html/index.html\n",
    "\n",
    "# navegar a apache y refrescar pagina para ver cambios\n",
    "# regresar a terminal e instalar mysql\n",
    "# sudo apt-get install mysql-server -y\n"
   ]
  },
  {
   "cell_type": "markdown",
   "metadata": {},
   "source": [
    "### Usar Bootstrap script para construir webserver-02"
   ]
  },
  {
   "cell_type": "code",
   "execution_count": null,
   "metadata": {
    "vscode": {
     "languageId": "plaintext"
    }
   },
   "outputs": [],
   "source": [
    "# en  AWS Management Console acceder a EC2\n",
    "# en EC2 dashboard, clic en Launch instances\n",
    "# en sección  Launch an instance, en  Name and tags ingresar   webserver-02\n",
    "# Scroll down a  Application and OS Images (Amazon Machine Image- AMI), seleccionar logo de Ubuntu, clic en  dropdown menu y seleccionar Ubuntu Server 20.04 LTS (HVM), SSD Volume Type\n",
    "# Scroll down en  Instance type, seleccionar t3.micro\n",
    "# en  Key pair (login), clic en  Proceed without a key pair (Not recommended) Default value\n",
    "# en seccion r Network settings, clic en Edit\n",
    "# Auto-assign public IP: seleccionar Enable\n",
    "# Firewall (security groups):  Select existing security group\n",
    "# Common security groups: EC2SecurityGroup\n",
    "# en seccion  Advanced details, clic en dropdown\n",
    "# Metadata version y seleccionar  V1 and V2 (token optional)\n",
    "# en seccion User data pegar bootstrap script\n",
    "#!/bin/bash\n",
    "sudo apt-get update -y\n",
    "sudo apt-get install apache2 unzip -y\n",
    "sudo systemctl enable apache2\n",
    "curl \"https://awscli.amazonaws.com/awscli-exe-linux-x86_64.zip\" -o \"awscliv2.zip\"\n",
    "unzip awscliv2.zip\n",
    "sudo ./aws/install\n",
    "echo '<html><h1>Bootstrap Demo</h1><h3>Availability Zone: ' > /var/www/html/index.html\n",
    "curl http://169.254.169.254/latest/meta-data/placement/availability-zone >> /var/www/html/index.html\n",
    "echo '</h3> <h3>Instance Id: ' >> /var/www/html/index.html\n",
    "curl http://169.254.169.254/latest/meta-data/instance-id >> /var/www/html/index.html\n",
    "echo '</h3> <h3>Public IP: ' >> /var/www/html/index.html\n",
    "curl http://169.254.169.254/latest/meta-data/public-ipv4 >> /var/www/html/index.html\n",
    "echo '</h3> <h3>Local IP: ' >> /var/www/html/index.html\n",
    "curl http://169.254.169.254/latest/meta-data/local-ipv4 >> /var/www/html/index.html\n",
    "echo '</h3></html> ' >> /var/www/html/index.html\n",
    "sudo apt-get install mysql-server\n",
    "sudo systemctl enable mysql\n",
    "# clic en Launch instance\n",
    "\n",
    "# clic en View all instances\n",
    "# refrescar, esperar a que instancia webserver-02 haya pasado los status checks, clic en Connect\n",
    "#  EC2 Instance Connect y click Connect\n",
    "# check que el apache se instaló correctamente en servidor webserver-02\n",
    "sudo systemctl status apache2\n",
    "# verificar que apache 2 se esta ejecutandose\n",
    "ps aux | grep apache\n",
    "\n",
    "# verificar que los siguinetes comandos generan error, porque no se instalaron en el bootstrap script \n",
    "sudo systemctl status mysql\n",
    "sudo systemctl status mysqld\n",
    "ps aux | grep mysql\n",
    "sudo systemctl start mysql\n",
    "# usar curl para recuperar user-data\n",
    "curl http://169.254.169.254/latest/user-data\n",
    "# instalar mysql manualmente\n",
    "sudo apt-get install mysql-server -y\n",
    "# habilitar mysql\n",
    "sudo systemctl enable mysql"
   ]
  },
  {
   "cell_type": "markdown",
   "metadata": {},
   "source": [
    "### Usar Bootstrapscript para construir webserver-03"
   ]
  },
  {
   "cell_type": "code",
   "execution_count": null,
   "metadata": {
    "vscode": {
     "languageId": "plaintext"
    }
   },
   "outputs": [],
   "source": [
    "# navegar a EC2 dashboard, clic en Launch instances\n",
    "# en seccion  Launch an instance, en Name and tags :webserver-03\n",
    "# Scroll down a Application and OS Images (Amazon Machine Image) AMI, seleccionar logo Ubuntu, clicc en dropdown menu y seleccionar  Ubuntu Server 20.04 LTS (HVM), SSD Volume Type\n",
    "# scrolldown a Instance type, CLIC EN dropdown menu y seleccionar t3.micro\n",
    "# en Key pair (login), clic en dropdown y select Proceed without a key pair (Not recommended) Default value\n",
    "# en Network settings, clic en  Edit\n",
    "Auto-assign public IP:  Enable\n",
    "Firewall (security groups): Select existing security group\n",
    "Common security groups:  EC2SecurityGroup\n",
    "# en seccion Advanced details, clic en dropdown menu \n",
    "# seleccionar  Metadata version, seleccionar  V1 and V2 (token optional).\n",
    "# en  User data pegar bootstrap script\n",
    "\n",
    "#!/bin/bash\n",
    "sudo apt-get update -y\n",
    "sudo apt-get install apache2 unzip -y\n",
    "sudo systemctl enable apache2\n",
    "curl \"https://awscli.amazonaws.com/awscli-exe-linux-x86_64.zip\" -o \"awscliv2.zip\"\n",
    "unzip awscliv2.zip\n",
    "sudo ./aws/install\n",
    "echo '<html><h1>Bootstrap Demo</h1><h3>Availability Zone: ' > /var/www/html/index.html\n",
    "curl http://169.254.169.254/latest/meta-data/placement/availability-zone >> /var/www/html/index.html\n",
    "echo '</h3> <h3>Instance Id: ' >> /var/www/html/index.html\n",
    "curl http://169.254.169.254/latest/meta-data/instance-id >> /var/www/html/index.html\n",
    "echo '</h3> <h3>Public IP: ' >> /var/www/html/index.html\n",
    "curl http://169.254.169.254/latest/meta-data/public-ipv4 >> /var/www/html/index.html\n",
    "echo '</h3> <h3>Local IP: ' >> /var/www/html/index.html\n",
    "curl http://169.254.169.254/latest/meta-data/local-ipv4 >> /var/www/html/index.html\n",
    "echo '</h3></html> ' >> /var/www/html/index.html\n",
    "sudo apt-get install mysql-server -y\n",
    "sudo systemctl enable mysql\n",
    "# clic en  Launch instance\n",
    "\n",
    "# clic en View all instances\n",
    "# clic en refrescar \n",
    "# seleccionar webserver-02 de instancias en EC2, copiar Public IPv4 address\n",
    "# pegar IP address en pagina web, acceder al apache de webserver-3\n",
    "# navegar a  EC2 dashboard, refrescar para ver estatus de webserver-03\n",
    "# cuando webserver-03 haya pasado los check estatus, seleccionar la instancia y clic en Connect\n",
    "# clic en  EC2 Instance Connect y click Connect para conectar a instancia EC2 de webserver-03 en nueva terminal \n",
    "# desde la terminal corroborar que apache se instalo correctamente\n",
    "sudo systemctl status apache2\n",
    "ps aux | grep apache\n",
    "# verificar que mysql se instaló correctamente\n",
    "systemctl status mysql\n",
    "# confirmar el progreso de  mysql\n",
    "ps aux | grep mysql\n",
    "# verificar que AWS CLI se instaló\n",
    "aws --version\n",
    "3 navegar a EC2 dashboard y copiar Public IP para webserver-03\n",
    "# pegar Public IP para webserver-03 en pagina web para corroborar que el apache funciona correctamente\n"
   ]
  },
  {
   "cell_type": "markdown",
   "metadata": {},
   "source": [
    "## EC2 Roles y Instance Profiles con IAM "
   ]
  },
  {
   "cell_type": "markdown",
   "metadata": {},
   "source": [
    "### Crear Trust Policy y Role usando AWS CLI"
   ]
  },
  {
   "cell_type": "code",
   "execution_count": null,
   "metadata": {
    "vscode": {
     "languageId": "plaintext"
    }
   },
   "outputs": [],
   "source": [
    "# Acceder a S3\n",
    "# abrir bucket con nombre s3bucketlookupfiles\n",
    "# seleccionar archivo labreferences.txt\n",
    "# clic Actions > Download\n",
    "# abrir archivo labreferences.txt\n",
    "\n",
    "# Acceder a EC2>Instances\n",
    "# copiar public IP de instancia  Bastion Host\n",
    "# abrir terminal ssh, ingresar a bastion host via ssh\n",
    "ssh usuario@PublicIP_Bastion\n",
    "# aws configure\n",
    "# Enter x 2\n",
    "# region name: us-east-1\n",
    "# format: json\n",
    "\n",
    "# crear archivo trust_policy_ec2.json\n",
    "nano trust_policy_ec2.json\n",
    "{\n",
    "  \"Version\": \"2012-10-17\",\n",
    "  \"Statement\": [\n",
    "    {\n",
    "      \"Effect\": \"Allow\",\n",
    "      \"Principal\": {\"Service\": \"ec2.amazonaws.com\"},\n",
    "      \"Action\": \"sts:AssumeRole\"\n",
    "    }\n",
    "  ]\n",
    "}\n",
    "# guardar y salir de editor nano \n",
    "# ^X, Y \n",
    "\n",
    "# crear role AIM  DEV_ROLE\n",
    "aws iam create-role --role-name DEV_ROLE --assume-role-policy-document file://trust_policy_ec2.json\n",
    "# crear Politica IAM con permisos read only a un bucket de S3\n",
    "nano dev_s3_read_access.json\n",
    "{\n",
    "    \"Version\": \"2012-10-17\",\n",
    "    \"Statement\": [\n",
    "        {\n",
    "          \"Sid\": \"AllowUserToSeeBucketListInTheConsole\",\n",
    "          \"Action\": [\"s3:ListAllMyBuckets\", \"s3:GetBucketLocation\"],\n",
    "          \"Effect\": \"Allow\",\n",
    "          \"Resource\": [\"arn:aws:s3:::*\"]\n",
    "        },\n",
    "        {\n",
    "            \"Effect\": \"Allow\",\n",
    "            \"Action\": [\n",
    "                \"s3:Get*\",\n",
    "                \"s3:List*\"\n",
    "            ],\n",
    "            \"Resource\": [\n",
    "                \"arn:aws:s3:::<DEV_S3_BUCKET_NAME>/*\",\n",
    "                \"arn:aws:s3:::<DEV_S3_BUCKET_NAME>\"\n",
    "            ]\n",
    "        }\n",
    "    ]\n",
    "}\n",
    "# ^X, Y \n",
    "\n",
    "# crear politica DevS3ReadAccess\n",
    "# aws iam create-policy --policy-name DevS3ReadAccess --policy-document file://dev_s3_read_access.json\n",
    "# copiar  policy ARN\n",
    "\n"
   ]
  },
  {
   "cell_type": "markdown",
   "metadata": {},
   "source": [
    "### Crear Instance Profile y  Asignar Role a EC2 Instance"
   ]
  },
  {
   "cell_type": "code",
   "execution_count": null,
   "metadata": {
    "vscode": {
     "languageId": "plaintext"
    }
   },
   "outputs": [],
   "source": [
    "# asignar politica a role con DevS3ReadAccess_POLICY_ARN\n",
    "aws iam attach-role-policy --role-name DEV_ROLE --policy-arn \"<DevS3ReadAccess_POLICY_ARN>\"\n",
    "# verificar asignacion de politica\n",
    "aws iam list-attached-role-policies --role-name DEV_ROLE\n",
    "\n",
    "# crear Instance Profile DEV_PROFILE\n",
    "# aws iam create-instance-profile --instance-profile-name DEV_PROFILE\n",
    "# agregar role a DEV_PROFILE: DEV_ROLE\n",
    "# aws iam add-role-to-instance-profile --instance-profile-name DEV_PROFILE --role-name DEV_ROLE\n",
    "# verficar configuracion\n",
    "aws iam get-instance-profile --instance-profile-name DEV_PROFILE\n",
    "\n",
    "# Asignar role  DEV_PROFILE a Instancia\n",
    "# Acceder a  EC2 > Instances\n",
    "# copiar  instance ID de instancia Web Server\n",
    "# en terminal ssh asignar DEV_PROFILE a instancia EC2\n",
    "aws ec2 associate-iam-instance-profile --instance-id <LAB_WEB_SERVER_INSTANCE_ID> --iam-instance-profile Name=\"DEV_PROFILE\"\n",
    "# verficar configuracion con Web Server instance ID\n",
    "aws ec2 describe-instances --instance-ids <LAB_WEB_SERVER_INSTANCE_ID>"
   ]
  },
  {
   "cell_type": "markdown",
   "metadata": {},
   "source": [
    "### Test Permisos de S3 via AWS CLI (ssh)"
   ]
  },
  {
   "cell_type": "code",
   "execution_count": null,
   "metadata": {
    "vscode": {
     "languageId": "plaintext"
    }
   },
   "outputs": [],
   "source": [
    "# abrir nueva terminal ssh\n",
    "# acceder a instancia de web server instance via SSH\n",
    "ssh cloud_user@<WEB_SERVER_PUBLIC_IP>\n",
    "# verificar que la instancia asume el role DEV_ROLE\n",
    "aws sts get-caller-identity\n",
    "# ver lista de buckets en cuenta\n",
    "# aws s3 ls\n",
    "# copiar nombre de bucket: s3bucketdev\n",
    "# ver archivos en s3bucketdev-\n",
    "aws s3 ls s3://<s3bucketdev-123>"
   ]
  },
  {
   "cell_type": "markdown",
   "metadata": {},
   "source": [
    "### Crear Politica IAM y Role"
   ]
  },
  {
   "cell_type": "code",
   "execution_count": null,
   "metadata": {
    "vscode": {
     "languageId": "plaintext"
    }
   },
   "outputs": [],
   "source": [
    "# Acceder a  IAM > Policies\n",
    "# crear politica  Create policy\n",
    "# pestaña JSON\n",
    "{\n",
    "    \"Version\": \"2012-10-17\",\n",
    "    \"Statement\": [\n",
    "        {\n",
    "          \"Sid\": \"AllowUserToSeeBucketListInTheConsole\",\n",
    "          \"Action\": [\"s3:ListAllMyBuckets\", \"s3:GetBucketLocation\"],\n",
    "          \"Effect\": \"Allow\",\n",
    "          \"Resource\": [\"arn:aws:s3:::*\"]\n",
    "        },\n",
    "        {\n",
    "            \"Effect\": \"Allow\",\n",
    "            \"Action\": [\n",
    "                \"s3:Get*\",\n",
    "                \"s3:List*\"\n",
    "            ],\n",
    "            \"Resource\": [\n",
    "                \"arn:aws:s3:::<PROD_S3_BUCKET_NAME>/*\",\n",
    "                \"arn:aws:s3:::<PROD_S3_BUCKET_NAME>\"\n",
    "            ]\n",
    "        }\n",
    "    ]\n",
    "}\n",
    "# Next\n",
    "# nombre de politica  ProdS3ReadAccess\n",
    "# clic en Create policy\n",
    "\n",
    "\n",
    "# clic en Roles\n",
    "# crear role Create role\n",
    "# en scrolldown  Choose a use case: EC2.\n",
    "# Next\n",
    "# buscar politica  ProdS3ReadAccess\n",
    "# clic checkbox para seleccionar ProdS3ReadAccess\n",
    "# Next\n",
    "# asignar nombre a role PROD_ROLE\n",
    "# clic en crear role Create role"
   ]
  },
  {
   "cell_type": "markdown",
   "metadata": {},
   "source": [
    "### Asignar Role IAM  una instancia EC2 "
   ]
  },
  {
   "cell_type": "code",
   "execution_count": null,
   "metadata": {
    "vscode": {
     "languageId": "plaintext"
    }
   },
   "outputs": [],
   "source": [
    "# Acceder a  EC2 > Instances\n",
    "# seleccionar instancia de  Web Server\n",
    "# clic en Actions > Security > Modify IAM role\n",
    "# en menu dropdown  IAM role dropdown, seleccionar PROD_ROLE\n",
    "# actualizar Update IAM role\n",
    "\n",
    "# abrir terminal, ingresar por ssh a  Web Server instance\n",
    "# determinar identidad de rol actual aws sts get-caller-identity\n",
    "# ver lista de buckets \n",
    "aws s3 ls\n",
    "# copiar nombre de bucket s3bucketprod\n",
    "# ver archivos de bucket \n",
    "aws s3 ls s3://<s3bucketprod-123>\n",
    "# copiar nombre de bucket s3bucketsecret\n",
    "# ver archivos de bucket secreto (acceso denegado)\n",
    "aws s3 ls s3://<s3bucketsecret-123>"
   ]
  },
  {
   "cell_type": "markdown",
   "metadata": {},
   "source": [
    "## Reducir costos de almacenamiento con EFS"
   ]
  },
  {
   "cell_type": "markdown",
   "metadata": {},
   "source": [
    "### Crear archivo EFS"
   ]
  },
  {
   "cell_type": "code",
   "execution_count": null,
   "metadata": {
    "vscode": {
     "languageId": "plaintext"
    }
   },
   "outputs": [],
   "source": [
    "# Acceder a EC2\n",
    "# en sección de recursos Resources, seleccionar Instances (running)\n",
    "# clic checkbox webserver-01\n",
    "# seleccionar pestaña Storage y ver el disco adjunto de 10GB al volumen\n",
    "\n",
    "# Acceder a EFS\n",
    "# crear un archivo de sistema Create file system\n",
    "# Name:SharedWeb, Virtual Private Cloud (VPC): VPC\n",
    "# clic en Customize\n",
    "# Storage class:  One Zone\n",
    "# Availability Zone:  us-east-1a \n",
    "# Next > Next > Next > Create \n",
    "# clic en View file system \n",
    "# seleccionar pestaña Network\n",
    "# cuando estatus es available, clic en Manage\n",
    "# en sección Security groups, quitar grupo de seguridad adjunto \n",
    "# usar dropdown menu para seleccionar   EC2SecurityGroup (no default)\n",
    "# clic en Guardar\n",
    "\n",
    "# Acceder a EC2\n",
    "# seleccionar Security Groups\n",
    "# clic checkbox de grupo de seguridad no-default para ver los detalles del grupo de seguridad\n",
    "# seleccionar pestaña Inbound rules\n",
    "# clic en Edit Inbound rules\n",
    "# clic en  Add rule\n",
    "# Type: NFS\n",
    "# Source: 0.0.0.0/0\n",
    "# clic en  Save rules\n",
    "# clic en  EC2 Dashboard\n",
    "# seleccionar Instances(running)\n",
    "# seleccionar webserver-01, conectar a webserver-01\n",
    "# clic en Connect"
   ]
  },
  {
   "cell_type": "markdown",
   "metadata": {},
   "source": [
    "### Montar archivo EFS y hacer test "
   ]
  },
  {
   "cell_type": "code",
   "execution_count": null,
   "metadata": {
    "vscode": {
     "languageId": "plaintext"
    }
   },
   "outputs": [],
   "source": [
    "# desde terminal EC2 de webserver-01\n",
    "# ver lista de block devices\n",
    "# lsblk\n",
    "# ver data en disco de 10GB \n",
    "ls /data\n",
    "# crear directorio para adjuntar volumen EFS\n",
    "sudo mkdir /efs\n",
    "# navegar a pestaña EFS que muestra el archivo SharedWeb\n",
    "# clic en adjuntar Attach\n",
    "# seleccionar Mount via IP\n",
    "# copiar el comando NFS a clipboard\n",
    "# navegar a terminal EC2 y pegar comando, editar reemplazando efs por /efs\n",
    "sudo mount -t nfs4 -o nfsvers=4.1,rsize=1048576,wsize=1048576,hard,timeo=600,retrans=2,noresvport 10.0.0.47:/ /efs\n",
    "# Enter\n",
    "\n",
    "\n",
    "# ver volumen EFS montado\n",
    "ls /efs\n",
    "# ver lista de  block devices\n",
    "lsblk\n",
    "# ver archivos montados\n",
    "mount\n",
    "# ver archivos de sistema montados\n",
    "df -h\n",
    "# mover todos los archivos de /data a /efs \n",
    "sudo rsync -rav /data/* /efs\n",
    "# ver archivos en /efs\n",
    "ls /efs"
   ]
  },
  {
   "cell_type": "markdown",
   "metadata": {},
   "source": [
    "### Quitar data vieja"
   ]
  },
  {
   "cell_type": "code",
   "execution_count": null,
   "metadata": {
    "vscode": {
     "languageId": "plaintext"
    }
   },
   "outputs": [],
   "source": [
    "# quitar data de webserver-01\n",
    "# desmontar particion\n",
    "sudo umount /data\n",
    "# abrir archivo /etc/fstab en editor de texto\n",
    "sudo nano /etc/fstab\n",
    "# quitar linea que empieza con UUID con Ctrl+K \n",
    "# construir un nuevo mount point\n",
    "# navegar a pestaña EFS y asegurar que el dialogo de Attach esta abierto\n",
    "# copiar direccion IP\n",
    "# navegar a terminal y pegar direccion IP\n",
    "<NFS MOUNT IP>:/ \t\t/data \tnfs4 \t <OPTIONS> 0 0\n",
    "# guardar y salir Ctrl+X, Y\n",
    "# desmontar /efs \n",
    "sudo umount /efs \n",
    "# ver archivos de sistema\n",
    "df -h\n",
    "# montar todo lo que no esta montado aun\n",
    "sudo mount -a\n",
    "# ver archivos del sistema, corroborar la direccion IP montada\n",
    "df -h\n",
    "# ver contenido de data\n",
    "ls /data\n",
    "\n",
    "# quitar volumen EBS adjunto a webserver-01\n",
    "# navegar a EC2\n",
    "# clic en Volumenes\n",
    "# clic checkbox junto a volumen de 10GB adjunto a webserver-01\n",
    "# seleccionar Actions y Detach volume\n",
    "# Click Detach\n",
    "# clic checkbox junto a volumen desacoplado\n",
    "# usar Actions>Delete volume para borrar volumen\n",
    "\n",
    "# quitar data de EC2 webserver-02 y webserver-03 (se repite el procedimiento para ambas instancias)\n",
    "# Acceder a EC2>Instances\n",
    "# clic checkbox junto a webserver-02\n",
    "# clic en Connect \n",
    "# navegar a terminal webserver-01\n",
    "# ver contenidos de  /etc/fstab\n",
    "cat /etc/fstab\n",
    "# copiar  mount point \n",
    "<NFS MOUNT IP>:/ \t\t/data \tnfs4 \t <OPTIONS> 0 0\n",
    "# navegar a terminal de webserver-2 ( o webserver-3)\n",
    "# desmontar la particion de data \n",
    "sudo umount /data\n",
    "# abrir /etc/fstab en editor de texto\n",
    "sudo nano /etc/fstab\n",
    "# quitar linea con UUID\n",
    "# pegar linea\n",
    "<NFS MOUNT IP>:/ \t\t/data \tnfs4 \t <OPTIONS> 0 0\n",
    "# salir y guardar\n",
    "# montar particion\n",
    "sudo mount -a\n",
    "# ver archivos de sistema\n",
    "df -h\n",
    "# ver contenidos de /data\n",
    "ls /dataa\n",
    "\n",
    "\n",
    "# quitar volumen EBS adjunto a EC2\n",
    "# navegar a EC2\n",
    "# seleccionar Volumenes\n",
    "# checkbox de los volumenes adjuntos a webserver-2 y  webserver-3\n",
    "# usar Actions>Detach volume\n",
    "# checkbox de los volumenes desacoplados a webserver-2 y  webserver-3\n",
    "# usar Actions>Delete volume"
   ]
  },
  {
   "cell_type": "markdown",
   "metadata": {},
   "source": [
    "# S3"
   ]
  },
  {
   "cell_type": "markdown",
   "metadata": {},
   "source": [
    "# VPC"
   ]
  },
  {
   "cell_type": "markdown",
   "metadata": {},
   "source": [
    "# IAM"
   ]
  },
  {
   "cell_type": "markdown",
   "metadata": {},
   "source": [
    "## Crear y asumir roles"
   ]
  },
  {
   "cell_type": "markdown",
   "metadata": {},
   "source": [
    "### Crear politica IAM"
   ]
  },
  {
   "cell_type": "code",
   "execution_count": null,
   "metadata": {
    "vscode": {
     "languageId": "plaintext"
    }
   },
   "outputs": [],
   "source": [
    "# Acceder a servicio S3, ver buckets\n",
    "# Acceder a servicio IAM\n",
    "# En "
   ]
  },
  {
   "cell_type": "markdown",
   "metadata": {},
   "source": [
    "# CloudFormation"
   ]
  },
  {
   "cell_type": "markdown",
   "metadata": {},
   "source": [
    "# Kubernetes"
   ]
  }
 ],
 "metadata": {
  "language_info": {
   "name": "python"
  },
  "orig_nbformat": 4
 },
 "nbformat": 4,
 "nbformat_minor": 2
}
