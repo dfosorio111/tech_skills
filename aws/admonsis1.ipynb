{
 "cells": [
  {
   "cell_type": "markdown",
   "metadata": {},
   "source": [
    "# Linux"
   ]
  },
  {
   "cell_type": "markdown",
   "metadata": {},
   "source": [
    "## Ingreso Jupiter Admonsis (XShell)\n",
    "\n",
    "Readquirir accesso (permisos/credenciales), reestablecer ingreso a sitio web de servidor Jupiter\n",
    "\n",
    "\n",
    "* . "
   ]
  },
  {
   "cell_type": "code",
   "execution_count": null,
   "metadata": {},
   "outputs": [],
   "source": [
    "# ver nombre, direccionIP, alias\n",
    "nslookup\n",
    "\n",
    "direccionIP Jupiter = 157.253.238.233\n",
    "pass  \n",
    "root\n",
    "\n",
    "# entrar a servidor (Jupiter)\n",
    "ssh direccionIP\n",
    "\n",
    "# ver /etc/httpd\n",
    "cd /etc/httpd\n",
    "ls\n",
    "\n",
    "#ver conf.d/\n",
    "cd conf.d/\n",
    "ls\n",
    "\n",
    "# ver nano\n",
    "nano ssl.conf\n",
    "\n",
    "# ver conf.d\n",
    "cd \"/etc/httpd/conf.d\"\n",
    "\n",
    "# ver /public_html\n",
    "cd /ul/sitios/cupitaller/public_html/\n",
    "ls\n"
   ]
  },
  {
   "cell_type": "markdown",
   "metadata": {},
   "source": [
    "##  Ingresar a servidor Jupiter, ver archivos de directorio /etc/httpd"
   ]
  },
  {
   "cell_type": "code",
   "execution_count": null,
   "metadata": {},
   "outputs": [],
   "source": [
    "# ingresar a servidor Jupiter\n",
    "ssh URL(IP_servidorJupiter (publico))\n",
    "\n",
    "# ver archivos en servidor\n",
    "ls -la\n",
    "\n",
    "# cambiar a directorio  carpeta /etc/httpd\n",
    "cd /etc/httpd\n",
    "\n",
    "# ver archivos\n",
    "ls \n",
    "\n",
    "# ver archivos de directorio  /u1/sitios\n",
    "cd /u1/sitios\n",
    "\n",
    "# ver archivos de carpeta\n",
    "ls -la\n",
    "\n",
    "# cambiar a directorio    cupitaller\n",
    "cd cupitaller\n",
    "\n",
    "# ver archivos de carpeta\n",
    "ls -la\n",
    "\n",
    "# cambiar a carpeta public_html\n",
    "cd public_html\n",
    "\n",
    "# ver archivos de carpeta\n",
    "ls -la\n",
    "\n",
    "# editar archivos con editor nano \n",
    "# ver archivo  wp-config.php\n",
    "nano wp-config.php\n",
    "\n",
    "# hacer backup de archivo wp-config.php y cambiar nombre\n",
    "cp wp-config.php wp-config-backup.php\n",
    "\n",
    "# editar archivo wp-config.php con editor nano\n",
    "nano wp-config.php\n",
    "\n",
    "\n",
    "# cambiar credenciales de acceso\n",
    "# cambiar DB_USER y DB_PASSWORD\n",
    "define('DB_NAME', 'database_name_here');\n",
    "define('DB_USER', 'username_here');\n",
    "define('DB_PASSWORD', 'password_here');\n",
    "\n",
    "\n",
    "# guardar y salir\n",
    "control+O\n",
    "control+X\n",
    "\n",
    "# (opcional) asegurar archivo wp-config.php para que solo el dueño pueda acceder\n",
    "chmod 600 wp-config.php\n",
    "\n",
    "# verificar acceso a sitio web\n",
    "\n"
   ]
  },
  {
   "cell_type": "markdown",
   "metadata": {},
   "source": [
    "### Modificar Permisos de acceso desde Base de Datos en mySQL"
   ]
  },
  {
   "cell_type": "code",
   "execution_count": null,
   "metadata": {},
   "outputs": [],
   "source": [
    "# en directorio public_html\n",
    "\n",
    "# acceder mySQL a base de datos de wp-config\n",
    "mysql -u root -p\n",
    "pass_root_DB\n",
    "\n",
    "\n",
    "# Dentro de mySQL actualizar el rol del usuario (dar permisos de administrador)\n",
    "INSERT INTO wp_usermeta (user_id, meta_key, meta_value) VALUES (user_id, 'wp_capabilities', 'a:1:{s:13:\"administrator\";b:1;}');\n",
    "INSERT INTO wp_usermeta (user_id, meta_key, meta_value) VALUES (user_id, 'wp_user_level', '10');\n",
    "\n",
    "# salir de SQL\n",
    "exit\n",
    "\n",
    "# en archivo wp-config.php guardar cambios \n",
    "\n",
    "\n",
    "\n"
   ]
  },
  {
   "cell_type": "markdown",
   "metadata": {},
   "source": [
    "## Crontab Automatizar rechazos de logs en Máquinas Virtuales\n"
   ]
  },
  {
   "cell_type": "code",
   "execution_count": null,
   "metadata": {},
   "outputs": [],
   "source": [
    "\n",
    "#!/bin/bash\n",
    "cd /var/log\n",
    "\n",
    "# regex\n",
    "# patron=  \"*.log.[0-9]*.gz\"\n",
    "files=$(ls /var/log | grep -E '*.log.[0-9]*|*.[0-9].log*');\n",
    "\n",
    "\n",
    "# iterar sobre archivos con patron regex en directorio  /var/log\n",
    "for archivo in $files;\n",
    "do\n",
    "\n",
    "echo $archivo\n",
    "\n",
    "#gunzip $archivo\n",
    "rm $archivo \n",
    "\n",
    "done\n",
    "echo \"Se eliminaron los logs antiguos y comprimidos! \"\n",
    "\n",
    "\n",
    "#df_output = $(df -h /var/log)\n",
    "\n",
    "\n",
    "FILESYSTEM=/dev/sda5  # \n",
    "CAPACITY=80 # umbral de capacidad\n",
    "#CACHEDIR=/home/user/lotsa_cache_files/\n",
    "\n",
    "\n",
    "if [ $(df -P $FILESYSTEM | awk '{ gsub(\"%\",\"\"); capacity = $5 }; END { print capacity }') -gt $CAPACITY ]\n",
    "echo \"Servidor con más de 80% de capacidad en uso!\"\n",
    "then\n",
    "\n",
    "    #find \"$CACHEDIR\" --maxdepth 1 --type f -exec rm -f {} \\;\n",
    "    # remove \"maxdepth and type\" \n",
    "    #find \"$CACHEDIR\" -exec rm -f {} \\;\n",
    "echo \"Se eliminarion archivos de caché!!!\"\n",
    "fi \n",
    "\n",
    "\n",
    "\n",
    "\n"
   ]
  },
  {
   "cell_type": "code",
   "execution_count": null,
   "metadata": {},
   "outputs": [],
   "source": [
    "\n",
    "# crear crontab -e para ejecutar bash script check_logs.sh cada 24h\n",
    "# m h  dom mon dow   command\n",
    "0 0 * * *   /home/admonsis/check_logs.sh\n"
   ]
  }
 ],
 "metadata": {
  "language_info": {
   "name": "python"
  },
  "orig_nbformat": 4
 },
 "nbformat": 4,
 "nbformat_minor": 2
}
