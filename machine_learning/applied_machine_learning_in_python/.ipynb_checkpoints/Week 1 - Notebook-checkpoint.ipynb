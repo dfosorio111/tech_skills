{
 "cells": [
  {
   "cell_type": "code",
   "execution_count": 2,
   "id": "7176e3ca",
   "metadata": {},
   "outputs": [],
   "source": [
    "# import libraries\n",
    "import numpy as np\n",
    "import pandas as pd\n",
    "import scipy as sp\n",
    "import matplotlib.pyplot as plt\n",
    "from sklearn.model_selection import train_test_split\n",
    "from sklearn.neighbors import KNeighborsClassifier\n",
    "from mpl_toolkits.mplot3d import Axes3D\n",
    "from adspy_shared_utilities import plot_fruit_knn"
   ]
  },
  {
   "cell_type": "code",
   "execution_count": 3,
   "id": "e05fc74b",
   "metadata": {},
   "outputs": [],
   "source": [
    "# Week 1: Fundamentos de ML \n",
    "# Intro a SciKit - Learn\n",
    "\n",
    "# metodos:\n",
    "#pd.read_table(key='file') read .txt files ...   leer tablas:  \n",
    "# X_train,X_test,y_train,y_test = train_test_split(X,y,random_state=0):  dividir train-set y test-set \n",
    "# train_test_split(cols,label(index),random_state)\n",
    "\n",
    "\n",
    "# KNN: K-Nearest Neighbord \n",
    "# knn = KNeighborsClassifier(n_neighbors = k):  crear knn clasificador con k neighbors\n",
    "# knn.fit(X_train,y_train) train-set:   ajustar/entrenar el knn class\n",
    "# knn.score(X_test,y_test):  medir el accuracy del modelo \n",
    "# knn.predict(x:   y_hat predecir a partir de base x\n",
    "\n",
    "\n",
    "# plot_fruit_knn(X_train, y_train, k, 'uniform'):  graficar las regiones de decision  con base en el train-set"
   ]
  },
  {
   "cell_type": "code",
   "execution_count": 4,
   "id": "9da2aef4",
   "metadata": {
    "scrolled": true
   },
   "outputs": [
    {
     "data": {
      "text/html": [
       "<div>\n",
       "<style scoped>\n",
       "    .dataframe tbody tr th:only-of-type {\n",
       "        vertical-align: middle;\n",
       "    }\n",
       "\n",
       "    .dataframe tbody tr th {\n",
       "        vertical-align: top;\n",
       "    }\n",
       "\n",
       "    .dataframe thead th {\n",
       "        text-align: right;\n",
       "    }\n",
       "</style>\n",
       "<table border=\"1\" class=\"dataframe\">\n",
       "  <thead>\n",
       "    <tr style=\"text-align: right;\">\n",
       "      <th></th>\n",
       "      <th>fruit_label</th>\n",
       "      <th>fruit_name</th>\n",
       "      <th>fruit_subtype</th>\n",
       "      <th>mass</th>\n",
       "      <th>width</th>\n",
       "      <th>height</th>\n",
       "      <th>color_score</th>\n",
       "    </tr>\n",
       "  </thead>\n",
       "  <tbody>\n",
       "    <tr>\n",
       "      <th>0</th>\n",
       "      <td>1</td>\n",
       "      <td>apple</td>\n",
       "      <td>granny_smith</td>\n",
       "      <td>192</td>\n",
       "      <td>8.4</td>\n",
       "      <td>7.3</td>\n",
       "      <td>0.55</td>\n",
       "    </tr>\n",
       "    <tr>\n",
       "      <th>1</th>\n",
       "      <td>1</td>\n",
       "      <td>apple</td>\n",
       "      <td>granny_smith</td>\n",
       "      <td>180</td>\n",
       "      <td>8.0</td>\n",
       "      <td>6.8</td>\n",
       "      <td>0.59</td>\n",
       "    </tr>\n",
       "    <tr>\n",
       "      <th>2</th>\n",
       "      <td>1</td>\n",
       "      <td>apple</td>\n",
       "      <td>granny_smith</td>\n",
       "      <td>176</td>\n",
       "      <td>7.4</td>\n",
       "      <td>7.2</td>\n",
       "      <td>0.60</td>\n",
       "    </tr>\n",
       "    <tr>\n",
       "      <th>3</th>\n",
       "      <td>2</td>\n",
       "      <td>mandarin</td>\n",
       "      <td>mandarin</td>\n",
       "      <td>86</td>\n",
       "      <td>6.2</td>\n",
       "      <td>4.7</td>\n",
       "      <td>0.80</td>\n",
       "    </tr>\n",
       "    <tr>\n",
       "      <th>4</th>\n",
       "      <td>2</td>\n",
       "      <td>mandarin</td>\n",
       "      <td>mandarin</td>\n",
       "      <td>84</td>\n",
       "      <td>6.0</td>\n",
       "      <td>4.6</td>\n",
       "      <td>0.79</td>\n",
       "    </tr>\n",
       "    <tr>\n",
       "      <th>5</th>\n",
       "      <td>2</td>\n",
       "      <td>mandarin</td>\n",
       "      <td>mandarin</td>\n",
       "      <td>80</td>\n",
       "      <td>5.8</td>\n",
       "      <td>4.3</td>\n",
       "      <td>0.77</td>\n",
       "    </tr>\n",
       "    <tr>\n",
       "      <th>6</th>\n",
       "      <td>2</td>\n",
       "      <td>mandarin</td>\n",
       "      <td>mandarin</td>\n",
       "      <td>80</td>\n",
       "      <td>5.9</td>\n",
       "      <td>4.3</td>\n",
       "      <td>0.81</td>\n",
       "    </tr>\n",
       "    <tr>\n",
       "      <th>7</th>\n",
       "      <td>2</td>\n",
       "      <td>mandarin</td>\n",
       "      <td>mandarin</td>\n",
       "      <td>76</td>\n",
       "      <td>5.8</td>\n",
       "      <td>4.0</td>\n",
       "      <td>0.81</td>\n",
       "    </tr>\n",
       "    <tr>\n",
       "      <th>8</th>\n",
       "      <td>1</td>\n",
       "      <td>apple</td>\n",
       "      <td>braeburn</td>\n",
       "      <td>178</td>\n",
       "      <td>7.1</td>\n",
       "      <td>7.8</td>\n",
       "      <td>0.92</td>\n",
       "    </tr>\n",
       "    <tr>\n",
       "      <th>9</th>\n",
       "      <td>1</td>\n",
       "      <td>apple</td>\n",
       "      <td>braeburn</td>\n",
       "      <td>172</td>\n",
       "      <td>7.4</td>\n",
       "      <td>7.0</td>\n",
       "      <td>0.89</td>\n",
       "    </tr>\n",
       "  </tbody>\n",
       "</table>\n",
       "</div>"
      ],
      "text/plain": [
       "   fruit_label fruit_name fruit_subtype  mass  width  height  color_score\n",
       "0            1      apple  granny_smith   192    8.4     7.3         0.55\n",
       "1            1      apple  granny_smith   180    8.0     6.8         0.59\n",
       "2            1      apple  granny_smith   176    7.4     7.2         0.60\n",
       "3            2   mandarin      mandarin    86    6.2     4.7         0.80\n",
       "4            2   mandarin      mandarin    84    6.0     4.6         0.79\n",
       "5            2   mandarin      mandarin    80    5.8     4.3         0.77\n",
       "6            2   mandarin      mandarin    80    5.9     4.3         0.81\n",
       "7            2   mandarin      mandarin    76    5.8     4.0         0.81\n",
       "8            1      apple      braeburn   178    7.1     7.8         0.92\n",
       "9            1      apple      braeburn   172    7.4     7.0         0.89"
      ]
     },
     "execution_count": 4,
     "metadata": {},
     "output_type": "execute_result"
    }
   ],
   "source": [
    "# cargar base \n",
    "df_fruits = pd.read_table('fruit_data_with_colors.txt')\n",
    "df_fruits.head(10)\n"
   ]
  },
  {
   "cell_type": "code",
   "execution_count": 5,
   "id": "de9c928c",
   "metadata": {},
   "outputs": [
    {
     "data": {
      "text/plain": [
       "{1: 'apple', 2: 'mandarin', 3: 'orange', 4: 'lemon'}"
      ]
     },
     "execution_count": 5,
     "metadata": {},
     "output_type": "execute_result"
    }
   ],
   "source": [
    "# genera diccionario con key= fuit_label y key=fruit_name,  \n",
    "look_fruit_name = dict(zip(df_fruits.fruit_label.unique(), df_fruits.fruit_name.unique()) )\n",
    "look_fruit_name\n"
   ]
  },
  {
   "cell_type": "code",
   "execution_count": 6,
   "id": "be980c17",
   "metadata": {},
   "outputs": [
    {
     "name": "stdout",
     "output_type": "stream",
     "text": [
      "Vals of train set\n",
      "    mass  width  height  color_score\n",
      "42   154    7.2     7.2         0.82\n",
      "48   174    7.3    10.1         0.72\n",
      "7     76    5.8     4.0         0.81\n",
      "14   152    7.6     7.3         0.69\n",
      "32   164    7.2     7.0         0.80\n",
      "\b\n",
      "Label(index) of train set\n",
      "42    3\n",
      "48    4\n",
      "7     2\n",
      "14    1\n",
      "32    3\n",
      "Name: fruit_label, dtype: int64\n",
      "\b\n"
     ]
    }
   ],
   "source": [
    "# crear un Clasificador Lineal simple\n",
    "\n",
    "# crear train-set y test-set del DataFrame(Database)\n",
    "# over-load las columnas de values\n",
    "\n",
    "# labels(index) es con lower, vals es con UPPER\n",
    "X = df_fruits[['mass','width','height','color_score']]\n",
    "y = df_fruits['fruit_label']\n",
    "X_train,X_test,y_train,y_test = train_test_split(X,y,random_state=0)\n",
    "print(\"Vals of train set\")\n",
    "print(X_train.head(5))\n",
    "print('\\b')\n",
    "print(\"Label(index) of train set\")\n",
    "print(y_train.head(5))\n",
    "print('\\b')"
   ]
  },
  {
   "cell_type": "code",
   "execution_count": 7,
   "id": "12fcc746",
   "metadata": {},
   "outputs": [],
   "source": [
    "#cmap = cm.get_cmap('gnuplot')\n",
    "\n",
    "\n",
    "# create scatter plot\n",
    "#scatter = pd.scatter_matrix(X_train, c= y_train, marker = 'o', s=40, hist_kwds={'bins':15}, figsize=(9,9) )"
   ]
  },
  {
   "cell_type": "code",
   "execution_count": 8,
   "id": "bd7021da",
   "metadata": {},
   "outputs": [
    {
     "data": {
      "image/png": "[encoded data removed]",
      "text/plain": [
       "<Figure size 432x288 with 1 Axes>"
      ]
     },
     "metadata": {
      "needs_background": "light"
     },
     "output_type": "display_data"
    }
   ],
   "source": [
    "\n",
    "# graficar scatter-plot  3D de los valores \n",
    "from mpl_toolkits.mplot3d import Axes3D\n",
    "\n",
    "# crea una figura usando matplotlib.pyplot as plt\n",
    "fig = plt.figure()\n",
    "# crea subplot,  parametro projection = '3d'  para 3D\n",
    "ax = fig.add_subplot(111, projection = '3d')\n",
    "# importa los valores de train-set de los datos X_train del dataset\n",
    "ax.scatter(X_train['width'], X_train['height'], X_train['color_score'], c = y_train, marker = 'o', s=100)\n",
    "ax.set_xlabel('width')\n",
    "ax.set_ylabel('height')\n",
    "ax.set_zlabel('color_score')\n",
    "plt.show()"
   ]
  },
  {
   "cell_type": "code",
   "execution_count": 9,
   "id": "eec7cbb6",
   "metadata": {},
   "outputs": [],
   "source": [
    "# KNN:  Nearest Neighbor\n",
    "# 1. distancia euclideana  (Minkowski con p=2)\n",
    "# 2. parametros k: cuantos NN near neighbors calcular la distancia Euclideana\n",
    "# 3. OPTIONAL: funcion de peso en los puntos   0 (uniform)\n",
    "# 4. Agregar clases:  Simple majority vote - la moda "
   ]
  },
  {
   "cell_type": "code",
   "execution_count": 10,
   "id": "d6aa13d1",
   "metadata": {},
   "outputs": [
    {
     "name": "stderr",
     "output_type": "stream",
     "text": [
      "C:\\Users\\Diego\\miniconda3\\lib\\site-packages\\sklearn\\base.py:450: UserWarning: X does not have valid feature names, but KNeighborsClassifier was fitted with feature names\n",
      "  warnings.warn(\n"
     ]
    },
    {
     "data": {
      "text/plain": [
       "'mandarin'"
      ]
     },
     "execution_count": 10,
     "metadata": {},
     "output_type": "execute_result"
    }
   ],
   "source": [
    "# crear knn clasificador con k=5 neighbors\n",
    "knn = KNeighborsClassifier(n_neighbors = 5)\n",
    "\n",
    "# knn.fit(X_train,y_train) train-set:  entrenar el clasificador knn con el \n",
    "knn.fit(X_train,y_train)\n",
    "\n",
    "# knn.score(X_test,y_test):  accuracy de clasificación correcta \n",
    "# medir el performance del modelo knn \n",
    "knn.score(X_test,y_test)\n",
    "\n",
    "# knn.predict([[vals]] ) y_hat vector  predecir objeto a partir de nueva base\n",
    "fruit_prediction = knn.predict([[20,4.3,5.5,0.5]])\n",
    "# buscar fruit en el diccionario\n",
    "look_fruit_name[fruit_prediction[0]]"
   ]
  },
  {
   "cell_type": "code",
   "execution_count": 11,
   "id": "26c96105",
   "metadata": {},
   "outputs": [],
   "source": [
    "from adspy_shared_utilities import plot_fruit_knn\n",
    "# plot_fruit_knn(X_train,y_train,k_neigh,'uniform')\n",
    "# plot las desicion boundaries  con base en el train-set, y el knn de neighbours\n",
    "#plot_fruit_knn(X_train, y_train, 5, 'uniform')\n"
   ]
  },
  {
   "cell_type": "code",
   "execution_count": null,
   "id": "e149d474",
   "metadata": {},
   "outputs": [],
   "source": []
  }
 ],
 "metadata": {
  "kernelspec": {
   "display_name": "Python 3 (ipykernel)",
   "language": "python",
   "name": "python3"
  },
  "language_info": {
   "codemirror_mode": {
    "name": "ipython",
    "version": 3
   },
   "file_extension": ".py",
   "mimetype": "text/x-python",
   "name": "python",
   "nbconvert_exporter": "python",
   "pygments_lexer": "ipython3",
   "version": "3.8.10"
  }
 },
 "nbformat": 4,
 "nbformat_minor": 5
}
