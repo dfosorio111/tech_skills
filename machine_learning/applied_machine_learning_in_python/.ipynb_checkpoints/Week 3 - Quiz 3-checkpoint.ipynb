{
 "cells": [
  {
   "cell_type": "code",
   "execution_count": 12,
   "id": "8415ed87",
   "metadata": {},
   "outputs": [],
   "source": [
    "# Week 3 - Quiz 3\n",
    "\n",
    "%matplotlib notebook\n",
    "import numpy as np\n",
    "import pandas as pd\n",
    "import seaborn as sns\n",
    "import matplotlib.pyplot as plt\n",
    "from sklearn.model_selection import train_test_split\n",
    "from sklearn.datasets import load_digits\n"
   ]
  },
  {
   "cell_type": "code",
   "execution_count": 13,
   "id": "b787ffd2",
   "metadata": {},
   "outputs": [
    {
     "data": {
      "text/plain": [
       "0.905511811023622"
      ]
     },
     "execution_count": 13,
     "metadata": {},
     "output_type": "execute_result"
    }
   ],
   "source": [
    "# Q2\n",
    "# accuracy = (TP+TN)/Total \n",
    "accuracy = (96+19)/(96+19+4+8)\n",
    "accuracy"
   ]
  },
  {
   "cell_type": "code",
   "execution_count": 14,
   "id": "f3226a38",
   "metadata": {},
   "outputs": [
    {
     "data": {
      "text/plain": [
       "0.9230769230769231"
      ]
     },
     "execution_count": 14,
     "metadata": {},
     "output_type": "execute_result"
    }
   ],
   "source": [
    "#Q3\n",
    "# precision = (TP)/(TP+FP)\n",
    "precision = 96/(96+8)\n",
    "precision"
   ]
  },
  {
   "cell_type": "code",
   "execution_count": 15,
   "id": "a5fb9a6b",
   "metadata": {},
   "outputs": [
    {
     "data": {
      "text/plain": [
       "0.96"
      ]
     },
     "execution_count": 15,
     "metadata": {},
     "output_type": "execute_result"
    }
   ],
   "source": [
    "# recall = (TP)/(TP+FN)\n",
    "recall = 96/(96+4)\n",
    "recall"
   ]
  },
  {
   "cell_type": "code",
   "execution_count": 16,
   "id": "39c170b8",
   "metadata": {},
   "outputs": [
    {
     "ename": "NameError",
     "evalue": "name 'm' is not defined",
     "output_type": "error",
     "traceback": [
      "\u001b[1;31m---------------------------------------------------------------------------\u001b[0m",
      "\u001b[1;31mNameError\u001b[0m                                 Traceback (most recent call last)",
      "\u001b[1;32m~\\AppData\\Local\\Temp/ipykernel_9908/3401876609.py\u001b[0m in \u001b[0;36m<module>\u001b[1;34m\u001b[0m\n\u001b[0;32m      1\u001b[0m \u001b[1;31m# Q5\u001b[0m\u001b[1;33m\u001b[0m\u001b[1;33m\u001b[0m\u001b[1;33m\u001b[0m\u001b[0m\n\u001b[1;32m----> 2\u001b[1;33m \u001b[0mprint\u001b[0m\u001b[1;33m(\u001b[0m\u001b[0mm\u001b[0m\u001b[1;33m)\u001b[0m\u001b[1;33m\u001b[0m\u001b[1;33m\u001b[0m\u001b[0m\n\u001b[0m\u001b[0;32m      3\u001b[0m \u001b[1;33m\u001b[0m\u001b[0m\n\u001b[0;32m      4\u001b[0m \u001b[1;31m# decision_function(X_test),  get model score values\u001b[0m\u001b[1;33m\u001b[0m\u001b[1;33m\u001b[0m\u001b[1;33m\u001b[0m\u001b[0m\n\u001b[0;32m      5\u001b[0m \u001b[0my_scores\u001b[0m \u001b[1;33m=\u001b[0m \u001b[0mm\u001b[0m\u001b[1;33m.\u001b[0m\u001b[0mdecision_function\u001b[0m\u001b[1;33m(\u001b[0m\u001b[0mX_test\u001b[0m\u001b[1;33m)\u001b[0m\u001b[1;33m\u001b[0m\u001b[1;33m\u001b[0m\u001b[0m\n",
      "\u001b[1;31mNameError\u001b[0m: name 'm' is not defined"
     ]
    }
   ],
   "source": [
    "# Q5\n",
    "print(m)\n",
    "\n",
    "# decision_function(X_test),  get model score values\n",
    "y_scores = m.decision_function(X_test)\n",
    "\n",
    "#  create precision-recall curve\n",
    "precision, recall, thresholds = precision_recall_curve(y_test, y_scores)\n",
    "\n",
    "# plot\n",
    "plt.figure()\n",
    "plt.xlim([0.0, 1.01])\n",
    "plt.ylim([0.0, 1.01])\n",
    "plt.plot(precision, recall, label='Precision-Recall Curve')\n",
    "plt.xlabel('Precision', fontsize=16)\n",
    "plt.ylabel('Recall', fontsize=16)\n",
    "plt.axes().set_aspect('equal')\n",
    "plt.show()\n"
   ]
  },
  {
   "cell_type": "code",
   "execution_count": null,
   "id": "980f6eda",
   "metadata": {},
   "outputs": [],
   "source": [
    "# Q8\n",
    "\n",
    "print(m)\n",
    "from sklearn.metrics import confusion_matrix\n",
    "from sklearn.metrics import accuracy_score, precision_score, recall_score, f1_score\n",
    "\n",
    "\n",
    "# get y_predicted values for the model using X_test set\n",
    "svm_predicted = m.predict(X_test)\n",
    "\n",
    "# get confusion matrix\n",
    "confusion_mx = confusion_matrix(y_test,svm_predicted)\n",
    "print(confusion_mx)\n",
    "\n",
    "correct_pred  = sum(np.diag(confusion_mx))\n",
    "tot_pred = np.sum(confusion_mx)\n",
    "micro_precision = precision_score(y_test, svm_predicted, average = 'micro')"
   ]
  },
  {
   "cell_type": "code",
   "execution_count": 17,
   "id": "d8abec09",
   "metadata": {},
   "outputs": [
    {
     "ename": "NameError",
     "evalue": "name 'm' is not defined",
     "output_type": "error",
     "traceback": [
      "\u001b[1;31m---------------------------------------------------------------------------\u001b[0m",
      "\u001b[1;31mNameError\u001b[0m                                 Traceback (most recent call last)",
      "\u001b[1;32m~\\AppData\\Local\\Temp/ipykernel_9908/1146069982.py\u001b[0m in \u001b[0;36m<module>\u001b[1;34m\u001b[0m\n\u001b[0;32m      1\u001b[0m \u001b[1;31m# Q13-14\u001b[0m\u001b[1;33m\u001b[0m\u001b[1;33m\u001b[0m\u001b[1;33m\u001b[0m\u001b[0m\n\u001b[0;32m      2\u001b[0m \u001b[1;33m\u001b[0m\u001b[0m\n\u001b[1;32m----> 3\u001b[1;33m \u001b[0mprint\u001b[0m\u001b[1;33m(\u001b[0m\u001b[0mm\u001b[0m\u001b[1;33m)\u001b[0m\u001b[1;33m\u001b[0m\u001b[1;33m\u001b[0m\u001b[0m\n\u001b[0m\u001b[0;32m      4\u001b[0m \u001b[1;33m\u001b[0m\u001b[0m\n\u001b[0;32m      5\u001b[0m \u001b[1;31m# parameter range to search over for optimal value\u001b[0m\u001b[1;33m\u001b[0m\u001b[1;33m\u001b[0m\u001b[1;33m\u001b[0m\u001b[0m\n",
      "\u001b[1;31mNameError\u001b[0m: name 'm' is not defined"
     ]
    }
   ],
   "source": [
    "# Q13-14\n",
    "\n",
    "print(m)\n",
    "\n",
    "# parameter range to search over for optimal value\n",
    "param_range = {'gamma': [0.001, 0.01, 0.05, 0.1, 1, 10, 100],'C': [0.001, 0.01, 0.05, 0.1, 1, 10, 100]}\n",
    "\n",
    "# generate a GridSearchCV, parameters: m, param_range, scoring = 'recall'\n",
    "# scoring parameter = recall\n",
    "grid_clf_acc = GridSearchCV(m, param_range, scoring = 'recall')\n",
    "\n",
    "# grid_clf_acc.fit(X_train, y_train),  fit/train GridSearchCV wih train-set\n",
    "grid_clf_acc.fit(X_train, y_train)\n",
    "\n",
    "# \n",
    "\n",
    "y_predicted = grid_clf_acc.best_estimator_.predict(X_test)\n",
    "rec = recall_score(y_test, y_predicted, average='binary')\n",
    "pre = precision_score(y_test, y_predicted, average='binary')\n",
    "\n",
    "print(rec-pre)\n",
    "\n",
    "print(m)\n",
    "\n",
    "# parameter range to search over for optimal value\n",
    "param_range = {'gamma': [0.001, 0.01, 0.05, 0.1, 1, 10, 100],'C': [0.001, 0.01, 0.05, 0.1, 1, 10, 100]}\n",
    "\n",
    "# generate a GridSearchCV, parameters: m, param_range, scoring = 'precision'\n",
    "# scoring parameter = recall\n",
    "grid_clf_acc = GridSearchCV(m, param_range, scoring = 'precision')\n",
    "\n",
    "# grid_clf_acc.fit(X_train, y_train),  fit/train GridSearchCV wih train-set\n",
    "grid_clf_acc.fit(X_train, y_train)\n",
    "\n",
    "# \n",
    "\n",
    "y_predicted = grid_clf_acc.best_estimator_.predict(X_test)\n",
    "rec = recall_score(y_test, y_predicted, average='binary')\n",
    "pre = precision_score(y_test, y_predicted, average='binary')\n",
    "\n",
    "print(rec-pre)"
   ]
  },
  {
   "cell_type": "code",
   "execution_count": null,
   "id": "f45d4d4b",
   "metadata": {},
   "outputs": [],
   "source": []
  }
 ],
 "metadata": {
  "kernelspec": {
   "display_name": "Python 3 (ipykernel)",
   "language": "python",
   "name": "python3"
  },
  "language_info": {
   "codemirror_mode": {
    "name": "ipython",
    "version": 3
   },
   "file_extension": ".py",
   "mimetype": "text/x-python",
   "name": "python",
   "nbconvert_exporter": "python",
   "pygments_lexer": "ipython3",
   "version": "3.8.10"
  }
 },
 "nbformat": 4,
 "nbformat_minor": 5
}
