{
 "cells": [
  {
   "cell_type": "markdown",
   "metadata": {},
   "source": [
    "# Django"
   ]
  },
  {
   "cell_type": "markdown",
   "metadata": {},
   "source": [
    "# Librerias"
   ]
  },
  {
   "cell_type": "code",
   "execution_count": 1,
   "metadata": {},
   "outputs": [],
   "source": [
    "from django.db import models"
   ]
  },
  {
   "cell_type": "markdown",
   "metadata": {},
   "source": [
    "# Intro\n"
   ]
  },
  {
   "cell_type": "markdown",
   "metadata": {},
   "source": [
    "## Request y Respuestas"
   ]
  },
  {
   "cell_type": "code",
   "execution_count": null,
   "metadata": {},
   "outputs": [],
   "source": [
    "### Anaconda CMD: crear proyecto"
   ]
  },
  {
   "cell_type": "code",
   "execution_count": 21,
   "metadata": {},
   "outputs": [
    {
     "name": "stdout",
     "output_type": "stream",
     "text": [
      "C:\\Users\\Diego\\Documents\\GitHub\\tech_skills\\back\n"
     ]
    }
   ],
   "source": [
    "# cambiar a directorio back (desarrollo)\n",
    "cd  C:/Users/Diego/Documents/GitHub/tech_skills/back\n"
   ]
  },
  {
   "cell_type": "code",
   "execution_count": null,
   "metadata": {},
   "outputs": [],
   "source": [
    "# ejecutar comando desde Anaconda CMD\n",
    "# crear directorio mysite\n",
    "django-admin startproject mysite \n"
   ]
  },
  {
   "cell_type": "code",
   "execution_count": null,
   "metadata": {},
   "outputs": [],
   "source": [
    "# cambiar a directorio del proyecto\n",
    "cd  C:/Users/Diego/Documents/GitHub/tech_skills/back/mysite\n",
    "python manage.py runserver\n"
   ]
  },
  {
   "cell_type": "code",
   "execution_count": null,
   "metadata": {},
   "outputs": [],
   "source": [
    "# cambiar a directorio del proyecto\n",
    "cd C:/Users/Diego/Documents/GitHub/tech_skills/back/mysite\n",
    "\n",
    "# crear aplicacion Polls \n",
    "python manage.py startapp polls\n"
   ]
  },
  {
   "cell_type": "markdown",
   "metadata": {},
   "source": [
    "## Crear View"
   ]
  },
  {
   "cell_type": "code",
   "execution_count": null,
   "metadata": {},
   "outputs": [],
   "source": [
    "# en directorio mysite/polls/views.py\n",
    "# crear vista de indice simple\n",
    "\n",
    "# crear Polls index\n",
    "from django.http import HttpResponse\n",
    "\n",
    "# crear Polls index para aplicacion\n",
    "def index(request):\n",
    "    return HttpResponse(\"Hello, world. You're at the polls index.\")"
   ]
  },
  {
   "cell_type": "code",
   "execution_count": null,
   "metadata": {},
   "outputs": [],
   "source": [
    "# en directorio mysite/polls/urls.py\n",
    "\n",
    "# crear patron URL a vista de indice\n",
    "\n",
    "from django.urls import path\n",
    "\n",
    "from . import views\n",
    "\n",
    "urlpatterns = [\n",
    "    path(\"\", views.index, name=\"index\"),\n",
    "]"
   ]
  },
  {
   "cell_type": "code",
   "execution_count": null,
   "metadata": {},
   "outputs": [],
   "source": [
    "# en directorio mysite/mysite/urls.py\n",
    "\n",
    "# URL configuration for mysite project.\n",
    "\n",
    "from django.contrib import admin\n",
    "from django.urls import path, include\n",
    "\n",
    "# agregar patron URL de aplicacion polls en directorio polls/\n",
    "# incluir polls.urls\n",
    "urlpatterns = [\n",
    "    path(\"polls/\", include(\"polls.urls\")),\n",
    "    path(\"admin/\", admin.site.urls),\n",
    "]"
   ]
  },
  {
   "cell_type": "markdown",
   "metadata": {},
   "source": [
    "## Crear Modelos"
   ]
  },
  {
   "cell_type": "code",
   "execution_count": null,
   "metadata": {},
   "outputs": [],
   "source": [
    "# en directorio mysite externo\n",
    "# ejecutar comando migrate\n",
    "# crear tablas (bases de datos) a partir de aplicaciones instaladas\n",
    "python manage.py migrate\n",
    "\n"
   ]
  },
  {
   "cell_type": "code",
   "execution_count": null,
   "metadata": {},
   "outputs": [],
   "source": [
    "# en archivo polls/models.py\n",
    "# crear modelos (clases)\n",
    "\n",
    "from django.db import models\n",
    "\n",
    "\n",
    "class Question(models.Model):\n",
    "    question_text = models.CharField(max_length=200)\n",
    "    pub_date = models.DateTimeField(\"date published\")\n",
    "\n",
    "\n",
    "class Choice(models.Model):\n",
    "    question = models.ForeignKey(Question, on_delete=models.CASCADE)\n",
    "    choice_text = models.CharField(max_length=200)\n",
    "    votes = models.IntegerField(default=0)\n"
   ]
  },
  {
   "cell_type": "code",
   "execution_count": null,
   "metadata": {},
   "outputs": [],
   "source": [
    "# en archivo mysite/settings.py \n",
    "# actualizar lista de aplicaciones instaladas\n",
    "# incluir \"polls.apps.PollsConfig\"\n",
    "\n",
    "INSTALLED_APPS = [\n",
    "    \"polls.apps.PollsConfig\",\n",
    "    \"django.contrib.admin\",\n",
    "    \"django.contrib.auth\",\n",
    "    \"django.contrib.contenttypes\",\n",
    "    \"django.contrib.sessions\",\n",
    "    \"django.contrib.messages\",\n",
    "    \"django.contrib.staticfiles\",\n",
    "]"
   ]
  },
  {
   "cell_type": "code",
   "execution_count": null,
   "metadata": {},
   "outputs": [],
   "source": [
    "# en directorio mysite externo\n",
    "# ejecutar comando makemigrations polls\n",
    "# crear migraciones para los modelos nuevos/actualizados\n",
    "# añadir nuevos modelos a lista de migraciones\n",
    "python manage.py makemigrations polls"
   ]
  },
  {
   "cell_type": "code",
   "execution_count": null,
   "metadata": {},
   "outputs": [],
   "source": [
    "# en directorio mysite externo\n",
    "# ejecutar comando migrate\n",
    "# crear tablas (bases de datos) a partir de aplicaciones instaladas, incluidos los nuevos modelos (tablas)\n",
    "python manage.py migrate"
   ]
  },
  {
   "cell_type": "markdown",
   "metadata": {},
   "source": [
    "## Acceder a Shell en Django"
   ]
  },
  {
   "cell_type": "code",
   "execution_count": null,
   "metadata": {},
   "outputs": [],
   "source": [
    "# en directorio mysite externo\n",
    "# ejecutar comando mmanage.py shell\n",
    "# abrir shell en django\n",
    "python manage.py shell"
   ]
  },
  {
   "cell_type": "code",
   "execution_count": null,
   "metadata": {},
   "outputs": [],
   "source": [
    "\n",
    "# ejecutar desde shell django\n",
    ">>> from polls.models import Choice, Question  # Import the model classes we just wrote.\n",
    "\n",
    "# No questions are in the system yet.\n",
    ">>> Question.objects.all()\n",
    "<QuerySet []>\n",
    "\n",
    "# Create a new Question.\n",
    "# Support for time zones is enabled in the default settings file, so\n",
    "# Django expects a datetime with tzinfo for pub_date. Use timezone.now()\n",
    "# instead of datetime.datetime.now() and it will do the right thing.\n",
    ">>> from django.utils import timezone\n",
    ">>> q = Question(question_text=\"What's new?\", pub_date=timezone.now())\n",
    "\n",
    "# Save the object into the database. You have to call save() explicitly.\n",
    ">>> q.save()\n",
    "\n",
    "# Now it has an ID.\n",
    ">>> q.id\n",
    "1\n",
    "\n",
    "# Access model field values via Python attributes.\n",
    ">>> q.question_text\n",
    "\"What's new?\"\n",
    ">>> q.pub_date\n",
    "datetime.datetime(2012, 2, 26, 13, 0, 0, 775217, tzinfo=datetime.timezone.utc)\n",
    "\n",
    "# Change values by changing the attributes, then calling save().\n",
    ">>> q.question_text = \"What's up?\"\n",
    ">>> q.save()\n",
    "\n",
    "# objects.all() displays all the questions in the database.\n",
    ">>> Question.objects.all()\n",
    "<QuerySet [<Question: Question object (1)>]>"
   ]
  },
  {
   "cell_type": "markdown",
   "metadata": {},
   "source": [
    "## Crear usuario Admin"
   ]
  },
  {
   "cell_type": "code",
   "execution_count": null,
   "metadata": {},
   "outputs": [],
   "source": [
    "# en directorio mysite externo\n",
    "# ejecutar comando manage.py createsuperuser\n",
    "# crear usuario admin (super-user) \n",
    "python manage.py createsuperuser\n",
    "\n",
    "# ingresar credenciales usuario admin\n",
    "Username: admin\n",
    "Email address: admin@example.com\n",
    "Password: **********\n",
    "Password (again): *********\n",
    "\n",
    "Superuser created successfully."
   ]
  },
  {
   "cell_type": "code",
   "execution_count": null,
   "metadata": {},
   "outputs": [],
   "source": [
    "# en directorio mysite externo\n",
    "# ejecutar comando manage.py runserver\n",
    "# iniciar servidor de desarrollo\n",
    "python manage.py runserver\n",
    "\n"
   ]
  },
  {
   "cell_type": "code",
   "execution_count": null,
   "metadata": {},
   "outputs": [],
   "source": [
    "# cambiar pool app para modificar por usuario admin\n",
    "# en archivo polls/admin.py\n",
    "from django.contrib import admin\n",
    "\n",
    "from .models import Question\n",
    "\n",
    "admin.site.register(Question)\n"
   ]
  },
  {
   "cell_type": "markdown",
   "metadata": {},
   "source": [
    "## Crear Views\n"
   ]
  },
  {
   "cell_type": "code",
   "execution_count": null,
   "metadata": {},
   "outputs": [],
   "source": [
    "# en archivo  polls/views.py\n",
    "# agregar views (clases)\n",
    "def detail(request, question_id):\n",
    "    return HttpResponse(\"You're looking at question %s.\" % question_id)\n",
    "\n",
    "\n",
    "def results(request, question_id):\n",
    "    response = \"You're looking at the results of question %s.\"\n",
    "    return HttpResponse(response % question_id)\n",
    "\n",
    "\n",
    "def vote(request, question_id):\n",
    "    return HttpResponse(\"You're voting on question %s.\" % question_id)\n"
   ]
  },
  {
   "cell_type": "code",
   "execution_count": null,
   "metadata": {},
   "outputs": [],
   "source": [
    "# en archivo  polls/urls.py\n",
    "# agregar paths de clases agregadas en archivo view a lista de  urlpatterns\n",
    "\n",
    "urlpatterns = [\n",
    "    # ex: /polls/\n",
    "    path(\"\", views.index, name=\"index\"),\n",
    "    # ex: /polls/5/\n",
    "    path(\"<int:question_id>/\", views.detail, name=\"detail\"),\n",
    "    # ex: /polls/5/results/\n",
    "    path(\"<int:question_id>/results/\", views.results, name=\"results\"),\n",
    "    # ex: /polls/5/vote/\n",
    "    path(\"<int:question_id>/vote/\", views.vote, name=\"vote\"),\n",
    "]\n"
   ]
  },
  {
   "cell_type": "code",
   "execution_count": null,
   "metadata": {},
   "outputs": [],
   "source": [
    "# en archivo  polls/views.py\n",
    "# modificar vista index\n",
    "\n",
    "from django.http import HttpResponse\n",
    "\n",
    "from .models import Question\n",
    "\n",
    "\n",
    "def index(request):\n",
    "    latest_question_list = Question.objects.order_by(\"-pub_date\")[:5]\n",
    "    output = \", \".join([q.question_text for q in latest_question_list])\n",
    "    return HttpResponse(output)\n",
    "\n"
   ]
  },
  {
   "cell_type": "code",
   "execution_count": null,
   "metadata": {},
   "outputs": [],
   "source": [
    "# crear directorio:  /mysite/polls/templates/polls\n",
    "# crear archivo index.hmtl  en  directorio /mysite/polls/templates/polls\n",
    "\n",
    "\n",
    "{% if latest_question_list %}\n",
    "    <ul>\n",
    "    {% for question in latest_question_list %}\n",
    "        <li><a href=\"/polls/{{ question.id }}/\">{{ question.question_text }}</a></li>\n",
    "    {% endfor %}\n",
    "    </ul>\n",
    "{% else %}\n",
    "    <p>No polls are available.</p>\n",
    "{% endif %}"
   ]
  },
  {
   "cell_type": "code",
   "execution_count": null,
   "metadata": {},
   "outputs": [],
   "source": [
    "# actualizar  archivo  polls/views.py\n",
    "\n",
    "from django.http import HttpResponse\n",
    "from django.template import loader\n",
    "\n",
    "from .models import Question\n",
    "\n",
    "def index(request):\n",
    "    latest_question_list = Question.objects.order_by(\"-pub_date\")[:5]\n",
    "    template = loader.get_template(\"polls/index.html\")\n",
    "    context = {\n",
    "        \"latest_question_list\": latest_question_list,\n",
    "    }\n",
    "    return HttpResponse(template.render(context, request))"
   ]
  },
  {
   "cell_type": "markdown",
   "metadata": {},
   "source": [
    "## Render"
   ]
  },
  {
   "cell_type": "code",
   "execution_count": null,
   "metadata": {},
   "outputs": [],
   "source": [
    "# en archivo polls/views.py\n",
    "# actualizar archivo para incluir render\n",
    "\n",
    "\n",
    "# render(request, \"polls/index.html\", context)\n",
    "\n",
    "from django.shortcuts import render\n",
    "\n",
    "from .models import Question\n",
    "\n",
    "\n",
    "def index(request):\n",
    "    latest_question_list = Question.objects.order_by(\"-pub_date\")[:5]\n",
    "    context = {\"latest_question_list\": latest_question_list}\n",
    "    return render(request, \"polls/index.html\", context)"
   ]
  },
  {
   "cell_type": "markdown",
   "metadata": {},
   "source": [
    "## Raising a 404 error"
   ]
  },
  {
   "cell_type": "code",
   "execution_count": null,
   "metadata": {},
   "outputs": [],
   "source": [
    "# en archivo polls/views.py\n",
    "# incluir modelo (clase)  detail\n",
    "\n",
    "def detail(request, question_id):\n",
    "    try:\n",
    "        question = Question.objects.get(pk=question_id)\n",
    "    except Question.DoesNotExist:\n",
    "        raise Http404(\"Question does not exist\")\n",
    "    return render(request, \"polls/detail.html\", {\"question\": question})\n"
   ]
  },
  {
   "cell_type": "markdown",
   "metadata": {},
   "source": [
    "## get_object_or_404()"
   ]
  },
  {
   "cell_type": "code",
   "execution_count": null,
   "metadata": {},
   "outputs": [],
   "source": [
    "# en archivo polls/views.py\n",
    "# incluir modelo (clase)  detail\n",
    "\n",
    "from django.shortcuts import get_object_or_404, render\n",
    "from .models import Question\n",
    "\n",
    "\n",
    "# ...\n",
    "def detail(request, question_id):\n",
    "    \n",
    "    # mostrar modelo, o generar  Http404 si no existe\n",
    "    question = get_object_or_404(Question, pk=question_id)\n",
    "    return render(request, \"polls/detail.html\", {\"question\": question})"
   ]
  },
  {
   "cell_type": "markdown",
   "metadata": {},
   "source": [
    "## URL names"
   ]
  },
  {
   "cell_type": "code",
   "execution_count": null,
   "metadata": {},
   "outputs": [],
   "source": [
    "# en archivo polls/urls.py\n",
    "# agregar app_name\n",
    "# en lista de urls (urlpatterns) incluir paths de cada modelo \n",
    "\n",
    "from django.urls import path\n",
    "\n",
    "from . import views\n",
    "\n",
    "app_name = \"polls\"\n",
    "urlpatterns = [\n",
    "    path(\"\", views.index, name=\"index\"),\n",
    "    path(\"<int:question_id>/\", views.detail, name=\"detail\"),\n",
    "    path(\"<int:question_id>/results/\", views.results, name=\"results\"),\n",
    "    path(\"<int:question_id>/vote/\", views.vote, name=\"vote\"),\n",
    "]\n"
   ]
  },
  {
   "cell_type": "code",
   "execution_count": null,
   "metadata": {},
   "outputs": [],
   "source": [
    "# en archivo polls/index.html\n",
    "# actualizar template \n",
    "\n",
    "<li><a href=\"{% url 'polls:detail' question.id %}\">{{ question.question_text }}</a></li>\n"
   ]
  },
  {
   "cell_type": "markdown",
   "metadata": {},
   "source": [
    "## Formas y Views generales"
   ]
  },
  {
   "cell_type": "code",
   "execution_count": 3,
   "metadata": {},
   "outputs": [],
   "source": [
    "# en archivo polls/templates/polls/detail.html\n",
    "# actualizar detail template\n",
    "# agregar HTML <form>\n",
    "<form action=\"{% url 'polls:vote' question.id %}\" method=\"post\">\n",
    "{% csrf_token %}\n",
    "<fieldset>\n",
    "    <legend><h1>{{ question.question_text }}</h1></legend>\n",
    "    {% if error_message %}<p><strong>{{ error_message }}</strong></p>{% endif %}\n",
    "    {% for choice in question.choice_set.all %}\n",
    "        <input type=\"radio\" name=\"choice\" id=\"choice{{ forloop.counter }}\" value=\"{{ choice.id }}\">\n",
    "        <label for=\"choice{{ forloop.counter }}\">{{ choice.choice_text }}</label><br>\n",
    "    {% endfor %}\n",
    "</fieldset>\n",
    "<input type=\"submit\" value=\"Vote\">\n",
    "</form>\n"
   ]
  },
  {
   "cell_type": "code",
   "execution_count": null,
   "metadata": {},
   "outputs": [],
   "source": [
    "# en archivo polls/views.py\n",
    "# agregar modelo vote\n",
    "\n",
    "from django.http import HttpResponse, HttpResponseRedirect\n",
    "from django.shortcuts import get_object_or_404, render\n",
    "from django.urls import reverse\n",
    "\n",
    "from .models import Choice, Question\n",
    "\n",
    "# ...\n",
    "def vote(request, question_id):\n",
    "    question = get_object_or_404(Question, pk=question_id)\n",
    "    try:\n",
    "        selected_choice = question.choice_set.get(pk=request.POST[\"choice\"])\n",
    "    except (KeyError, Choice.DoesNotExist):\n",
    "        # Redisplay the question voting form.\n",
    "        return render(\n",
    "            request,\n",
    "            \"polls/detail.html\",\n",
    "            {\n",
    "                \"question\": question,\n",
    "                \"error_message\": \"You didn't select a choice.\",\n",
    "            },\n",
    "        )\n",
    "    else:\n",
    "        selected_choice.votes += 1\n",
    "        selected_choice.save()\n",
    "        # Always return an HttpResponseRedirect after successfully dealing\n",
    "        # with POST data. This prevents data from being posted twice if a\n",
    "        # user hits the Back button.\n",
    "        return HttpResponseRedirect(reverse(\"polls:results\", args=(question.id,)))\n",
    "\n"
   ]
  },
  {
   "cell_type": "code",
   "execution_count": null,
   "metadata": {},
   "outputs": [],
   "source": [
    "# en archivo polls/views.py\n",
    "# agregar modelo results\n",
    "\n",
    "def results(request, question_id):\n",
    "    question = get_object_or_404(Question, pk=question_id)\n",
    "    return render(request, \"polls/results.html\", {\"question\": question})\n"
   ]
  },
  {
   "cell_type": "code",
   "execution_count": null,
   "metadata": {},
   "outputs": [],
   "source": [
    "# en directorio polls/templates/polls/results.html\n",
    "\n",
    "<h1>{{ question.question_text }}</h1>\n",
    "\n",
    "<ul>\n",
    "{% for choice in question.choice_set.all %}\n",
    "    <li>{{ choice.choice_text }} -- {{ choice.votes }} vote{{ choice.votes|pluralize }}</li>\n",
    "{% endfor %}\n",
    "</ul>\n",
    "\n",
    "<a href=\"{% url 'polls:detail' question.id %}\">Vote again?</a>"
   ]
  },
  {
   "cell_type": "markdown",
   "metadata": {},
   "source": [
    "## Views Genericas\n",
    "\n"
   ]
  },
  {
   "cell_type": "markdown",
   "metadata": {},
   "source": [
    "### Amend URLconf"
   ]
  },
  {
   "cell_type": "code",
   "execution_count": null,
   "metadata": {},
   "outputs": [],
   "source": [
    "# en archivo polls/urls.py\n",
    "# actualizar lista urlpatterns\n",
    "from django.urls import path\n",
    "\n",
    "from . import views\n",
    "\n",
    "app_name = \"polls\"\n",
    "urlpatterns = [\n",
    "    path(\"\", views.IndexView.as_view(), name=\"index\"),\n",
    "    path(\"<int:pk>/\", views.DetailView.as_view(), name=\"detail\"),\n",
    "    path(\"<int:pk>/results/\", views.ResultsView.as_view(), name=\"results\"),\n",
    "    path(\"<int:question_id>/vote/\", views.vote, name=\"vote\"),\n",
    "]\n"
   ]
  },
  {
   "cell_type": "markdown",
   "metadata": {},
   "source": [
    "### Amend views"
   ]
  },
  {
   "cell_type": "code",
   "execution_count": null,
   "metadata": {},
   "outputs": [],
   "source": [
    "# en archivo polls/views.py\n",
    "# reemplazar views index, detail, results  por vistas genericas\n",
    "\n",
    "from django.http import HttpResponseRedirect\n",
    "from django.shortcuts import get_object_or_404, render\n",
    "from django.urls import reverse\n",
    "from django.views import generic\n",
    "\n",
    "from .models import Choice, Question\n",
    "\n",
    "\n",
    "class IndexView(generic.ListView):\n",
    "    template_name = \"polls/index.html\"\n",
    "    context_object_name = \"latest_question_list\"\n",
    "\n",
    "    def get_queryset(self):\n",
    "        \"\"\"Return the last five published questions.\"\"\"\n",
    "        return Question.objects.order_by(\"-pub_date\")[:5]\n",
    "\n",
    "\n",
    "class DetailView(generic.DetailView):\n",
    "    model = Question\n",
    "    template_name = \"polls/detail.html\"\n",
    "\n",
    "\n",
    "class ResultsView(generic.DetailView):\n",
    "    model = Question\n",
    "    template_name = \"polls/results.html\"\n",
    "\n",
    "\n",
    "def vote(request, question_id):\n",
    "    ...  # same as above, no changes needed.\n",
    "    \n",
    "    \n",
    "    "
   ]
  },
  {
   "cell_type": "markdown",
   "metadata": {},
   "source": [
    "# Model Layer"
   ]
  },
  {
   "cell_type": "markdown",
   "metadata": {},
   "source": [
    "# View Layer"
   ]
  },
  {
   "cell_type": "markdown",
   "metadata": {},
   "source": [
    "# Template Layer"
   ]
  },
  {
   "cell_type": "markdown",
   "metadata": {},
   "source": [
    "# Forms"
   ]
  },
  {
   "cell_type": "markdown",
   "metadata": {},
   "source": [
    "# Admin"
   ]
  },
  {
   "cell_type": "markdown",
   "metadata": {},
   "source": [
    "# Seguridad"
   ]
  },
  {
   "cell_type": "markdown",
   "metadata": {},
   "source": [
    "# Desarrollo"
   ]
  }
 ],
 "metadata": {
  "kernelspec": {
   "display_name": "base",
   "language": "python",
   "name": "python3"
  },
  "language_info": {
   "codemirror_mode": {
    "name": "ipython",
    "version": 3
   },
   "file_extension": ".py",
   "mimetype": "text/x-python",
   "name": "python",
   "nbconvert_exporter": "python",
   "pygments_lexer": "ipython3",
   "version": "3.11.4"
  },
  "orig_nbformat": 4
 },
 "nbformat": 4,
 "nbformat_minor": 2
}
