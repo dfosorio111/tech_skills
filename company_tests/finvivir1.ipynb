{
 "cells": [
  {
   "cell_type": "markdown",
   "id": "90f6b4d8-0e30-4df8-8e1a-4304afd55585",
   "metadata": {},
   "source": [
    "# Despliegue Clasificador XGBoost: Inference Recommender"
   ]
  },
  {
   "cell_type": "code",
   "execution_count": 1,
   "id": "23d96ef1-9d0a-4c04-8d0d-25d54249c776",
   "metadata": {},
   "outputs": [
    {
     "name": "stdout",
     "output_type": "stream",
     "text": [
      "sagemaker.config INFO - Not applying SDK defaults from location: /etc/xdg/sagemaker/config.yaml\n",
      "sagemaker.config INFO - Not applying SDK defaults from location: /home/sagemaker-user/.config/sagemaker/config.yaml\n"
     ]
    },
    {
     "name": "stderr",
     "output_type": "stream",
     "text": [
      "/opt/conda/lib/python3.10/site-packages/dask/dataframe/_pyarrow_compat.py:17: FutureWarning: Minimal version of pyarrow will soon be increased to 14.0.1. You are using 12.0.1. Please consider upgrading.\n",
      "  warnings.warn(\n"
     ]
    }
   ],
   "source": [
    "# librerias\n",
    "\n",
    "# generales\n",
    "import pandas as pd\n",
    "import numpy as np\n",
    "import joblib\n",
    "\n",
    "\n",
    "# visualización\n",
    "import matplotlib.pyplot as plt\n",
    "from warnings import warn\n",
    "from pandas.plotting import scatter_matrix\n",
    "\n",
    "\n",
    "# AWS\n",
    "from sagemaker import get_execution_role, Session, image_uris\n",
    "import boto3\n",
    "import time\n",
    "\n",
    "# modelos\n",
    "from lightgbm import LGBMClassifier, LGBMModel\n",
    "from xgboost import XGBClassifier\n",
    "import xgboost\n",
    "\n"
   ]
  },
  {
   "cell_type": "code",
   "execution_count": 2,
   "id": "19f55ef2-d29a-4eca-aa41-3bc8d4219a3d",
   "metadata": {},
   "outputs": [
    {
     "name": "stdout",
     "output_type": "stream",
     "text": [
      "sagemaker.config INFO - Not applying SDK defaults from location: /etc/xdg/sagemaker/config.yaml\n",
      "sagemaker.config INFO - Not applying SDK defaults from location: /home/sagemaker-user/.config/sagemaker/config.yaml\n",
      "sagemaker.config INFO - Not applying SDK defaults from location: /etc/xdg/sagemaker/config.yaml\n",
      "sagemaker.config INFO - Not applying SDK defaults from location: /home/sagemaker-user/.config/sagemaker/config.yaml\n"
     ]
    }
   ],
   "source": [
    "# parametros AWS\n",
    "region = boto3.Session().region_name\n",
    "role = get_execution_role()\n",
    "sagemaker_client = boto3.client(\"sagemaker\", region_name=region)\n",
    "sagemaker_session = Session()"
   ]
  },
  {
   "cell_type": "code",
   "execution_count": 3,
   "id": "7c97e913-302f-482c-bd3b-4c160eecd428",
   "metadata": {},
   "outputs": [
    {
     "data": {
      "text/plain": [
       "{'ModelMetadataSummaries': [{'Domain': 'COMPUTER_VISION',\n",
       "   'Framework': 'TENSORFLOW',\n",
       "   'Task': 'IMAGE_CLASSIFICATION',\n",
       "   'Model': 'efficientnetb7',\n",
       "   'FrameworkVersion': '1.15.5'},\n",
       "  {'Domain': 'COMPUTER_VISION',\n",
       "   'Framework': 'PYTORCH',\n",
       "   'Task': 'IMAGE_SEGMENTATION',\n",
       "   'Model': 'unet',\n",
       "   'FrameworkVersion': '1.6.0'},\n",
       "  {'Domain': 'MACHINE_LEARNING',\n",
       "   'Framework': 'XGBOOST',\n",
       "   'Task': 'CLASSIFICATION',\n",
       "   'Model': 'xgboost',\n",
       "   'FrameworkVersion': '1.0-1'},\n",
       "  {'Domain': 'COMPUTER_VISION',\n",
       "   'Framework': 'TENSORFLOW',\n",
       "   'Task': 'OBJECT_DETECTION',\n",
       "   'Model': 'faster-rcnn-resnet101',\n",
       "   'FrameworkVersion': '1.15.5'},\n",
       "  {'Domain': 'COMPUTER_VISION',\n",
       "   'Framework': 'TENSORFLOW',\n",
       "   'Task': 'IMAGE_CLASSIFICATION',\n",
       "   'Model': 'nasnetlarge',\n",
       "   'FrameworkVersion': '1.15.5'},\n",
       "  {'Domain': 'COMPUTER_VISION',\n",
       "   'Framework': 'TENSORFLOW',\n",
       "   'Task': 'IMAGE_CLASSIFICATION',\n",
       "   'Model': 'vgg16',\n",
       "   'FrameworkVersion': '1.15.5'},\n",
       "  {'Domain': 'COMPUTER_VISION',\n",
       "   'Framework': 'TENSORFLOW',\n",
       "   'Task': 'IMAGE_CLASSIFICATION',\n",
       "   'Model': 'inception-v3',\n",
       "   'FrameworkVersion': '1.15.5'},\n",
       "  {'Domain': 'COMPUTER_VISION',\n",
       "   'Framework': 'PYTORCH',\n",
       "   'Task': 'IMAGE_SEGMENTATION',\n",
       "   'Model': 'mask-rcnn',\n",
       "   'FrameworkVersion': '1.6.0'},\n",
       "  {'Domain': 'MACHINE_LEARNING',\n",
       "   'Framework': 'SAGEMAKER-SCIKIT-LEARN',\n",
       "   'Task': 'REGRESSION',\n",
       "   'Model': 'sagemaker-scikit-learn',\n",
       "   'FrameworkVersion': '0.23-1'},\n",
       "  {'Domain': 'COMPUTER_VISION',\n",
       "   'Framework': 'MXNET',\n",
       "   'Task': 'IMAGE_CLASSIFICATION',\n",
       "   'Model': 'densenet201-gluon',\n",
       "   'FrameworkVersion': '1.8.0'},\n",
       "  {'Domain': 'COMPUTER_VISION',\n",
       "   'Framework': 'MXNET',\n",
       "   'Task': 'IMAGE_CLASSIFICATION',\n",
       "   'Model': 'resnet18v2-gluon',\n",
       "   'FrameworkVersion': '1.8.0'},\n",
       "  {'Domain': 'COMPUTER_VISION',\n",
       "   'Framework': 'TENSORFLOW',\n",
       "   'Task': 'IMAGE_CLASSIFICATION',\n",
       "   'Model': 'xception',\n",
       "   'FrameworkVersion': '1.15.5'},\n",
       "  {'Domain': 'COMPUTER_VISION',\n",
       "   'Framework': 'TENSORFLOW',\n",
       "   'Task': 'IMAGE_CLASSIFICATION',\n",
       "   'Model': 'densenet201',\n",
       "   'FrameworkVersion': '1.15.5'},\n",
       "  {'Domain': 'COMPUTER_VISION',\n",
       "   'Framework': 'PYTORCH',\n",
       "   'Task': 'OBJECT_DETECTION',\n",
       "   'Model': 'yolov4',\n",
       "   'FrameworkVersion': '1.6.0'},\n",
       "  {'Domain': 'COMPUTER_VISION',\n",
       "   'Framework': 'PYTORCH',\n",
       "   'Task': 'IMAGE_CLASSIFICATION',\n",
       "   'Model': 'resnet152',\n",
       "   'FrameworkVersion': '1.6.0'},\n",
       "  {'Domain': 'MACHINE_LEARNING',\n",
       "   'Framework': 'XGBOOST',\n",
       "   'Task': 'REGRESSION',\n",
       "   'Model': 'xgboost',\n",
       "   'FrameworkVersion': '1.3-1'},\n",
       "  {'Domain': 'NATURAL_LANGUAGE_PROCESSING',\n",
       "   'Framework': 'PYTORCH',\n",
       "   'Task': 'FILL_MASK',\n",
       "   'Model': 'bert-base-cased',\n",
       "   'FrameworkVersion': '1.6.0'},\n",
       "  {'Domain': 'COMPUTER_VISION',\n",
       "   'Framework': 'TENSORFLOW',\n",
       "   'Task': 'IMAGE_CLASSIFICATION',\n",
       "   'Model': 'xceptionV1-keras',\n",
       "   'FrameworkVersion': '1.15.5'},\n",
       "  {'Domain': 'COMPUTER_VISION',\n",
       "   'Framework': 'TENSORFLOW',\n",
       "   'Task': 'IMAGE_CLASSIFICATION',\n",
       "   'Model': 'resnet50',\n",
       "   'FrameworkVersion': '1.15.5'},\n",
       "  {'Domain': 'COMPUTER_VISION',\n",
       "   'Framework': 'TENSORFLOW',\n",
       "   'Task': 'OBJECT_DETECTION',\n",
       "   'Model': 'retinanet',\n",
       "   'FrameworkVersion': '1.15.5'},\n",
       "  {'Domain': 'NATURAL_LANGUAGE_PROCESSING',\n",
       "   'Framework': 'PYTORCH',\n",
       "   'Task': 'FILL_MASK',\n",
       "   'Model': 'bert-base-uncased',\n",
       "   'FrameworkVersion': '1.6.0'}],\n",
       " 'ResponseMetadata': {'RequestId': 'c987ca57-5a65-4af9-9204-8366cb370d96',\n",
       "  'HTTPStatusCode': 200,\n",
       "  'HTTPHeaders': {'x-amzn-requestid': 'c987ca57-5a65-4af9-9204-8366cb370d96',\n",
       "   'content-type': 'application/x-amz-json-1.1',\n",
       "   'content-length': '2786',\n",
       "   'date': 'Mon, 22 Jan 2024 03:33:23 GMT'},\n",
       "  'RetryAttempts': 0}}"
      ]
     },
     "execution_count": 3,
     "metadata": {},
     "output_type": "execute_result"
    }
   ],
   "source": [
    "# ver lista de modelos Inference Recommender\n",
    "list_model_metadata_response=sagemaker_client.list_model_metadata()\n",
    "list_model_metadata_response"
   ]
  },
  {
   "cell_type": "code",
   "execution_count": 4,
   "id": "fcec8943-3a89-4bc5-888e-212c843e208f",
   "metadata": {},
   "outputs": [],
   "source": [
    "# parametros de  ML framework \n",
    "model_name = \"xgboost\"\n",
    "framework = 'XGBOOST'\n",
    "framework_version = '1.0-1'\n",
    "\n",
    "# parametros de modelo ML \n",
    "ml_domain = 'MACHINE_LEARNING'\n",
    "ml_task = 'CLASSIFICATION'\n"
   ]
  },
  {
   "cell_type": "code",
   "execution_count": 5,
   "id": "19281995-41c8-4715-a233-d228fe24cc44",
   "metadata": {},
   "outputs": [
    {
     "name": "stdout",
     "output_type": "stream",
     "text": [
      "AbandonoTC.csv\n",
      "AbandonoTC.xlsx\n",
      "artifacts/\n",
      "x_testpreprocess.csv\n",
      "x_trainpreprocess.csv\n",
      "y_testpreprocess.csv\n",
      "y_trainpreprocess.csv\n"
     ]
    }
   ],
   "source": [
    "# acceder a S3\n",
    "s3 = boto3.client('s3')\n",
    "bucket_name = 'finvivirbucket01' # nombre de bucket \n",
    "\n",
    "response = s3.list_objects_v2(Bucket=bucket_name)\n",
    "# ver object key de archivos en bucket\n",
    "for obj in response['Contents']:\n",
    "    object_key = obj['Key']\n",
    "    print(object_key)  # Print the object key of each file\n",
    "    \n",
    "# extraer keys de archivos del bucket\n",
    "data_key = 'AbandonoTC.csv'  # Adjust for different file extensions\n",
    "x_train_key = 'x_trainpreprocess.csv'\n",
    "x_test_key = 'x_testpreprocess.csv'\n",
    "y_train_key = 'y_trainpreprocess.csv'\n",
    "y_test_key = 'y_testpreprocess.csv'"
   ]
  },
  {
   "cell_type": "code",
   "execution_count": 6,
   "id": "d942a0a1-cfa3-4813-b1ac-8735ba25176a",
   "metadata": {},
   "outputs": [],
   "source": [
    "# cargar bases de datos de S3\n",
    "# Retrieve objects and create DataFrames\n",
    "data = pd.read_csv(s3.get_object(Bucket=bucket_name, Key=data_key)['Body'])\n",
    "x_train = pd.read_csv(s3.get_object(Bucket=bucket_name, Key=x_train_key)['Body'])\n",
    "x_test = pd.read_csv(s3.get_object(Bucket=bucket_name, Key=x_test_key)['Body'])\n",
    "y_train = pd.read_csv(s3.get_object(Bucket=bucket_name, Key=y_train_key)['Body'])\n",
    "y_test = pd.read_csv(s3.get_object(Bucket=bucket_name, Key=y_test_key)['Body'])\n"
   ]
  },
  {
   "cell_type": "code",
   "execution_count": 7,
   "id": "2edd42f3-69a2-4428-81fe-b15c879e1bd5",
   "metadata": {},
   "outputs": [
    {
     "name": "stdout",
     "output_type": "stream",
     "text": [
      "[03:33:24] WARNING: /home/conda/feedstock_root/build_artifacts/xgboost-split_1700181168148/work/src/learner.cc:553: \n",
      "  If you are loading a serialized model (like pickle in Python, RDS in R) generated by\n",
      "  older XGBoost, please export the model by calling `Booster.save_model` from that version\n",
      "  first, then load it back in current version. See:\n",
      "\n",
      "    https://xgboost.readthedocs.io/en/latest/tutorials/saving_model.html\n",
      "\n",
      "  for more details about differences between saving model and serializing.\n",
      "\n"
     ]
    },
    {
     "name": "stderr",
     "output_type": "stream",
     "text": [
      "/opt/conda/lib/python3.10/site-packages/sklearn/base.py:348: InconsistentVersionWarning: Trying to unpickle estimator GridSearchCV from version 1.3.0 when using version 1.3.2. This might lead to breaking code or invalid results. Use at your own risk. For more info please refer to:\n",
      "https://scikit-learn.org/stable/model_persistence.html#security-maintainability-limitations\n",
      "  warnings.warn(\n"
     ]
    },
    {
     "data": {
      "text/html": [
       "<style>#sk-container-id-1 {color: black;}#sk-container-id-1 pre{padding: 0;}#sk-container-id-1 div.sk-toggleable {background-color: white;}#sk-container-id-1 label.sk-toggleable__label {cursor: pointer;display: block;width: 100%;margin-bottom: 0;padding: 0.3em;box-sizing: border-box;text-align: center;}#sk-container-id-1 label.sk-toggleable__label-arrow:before {content: \"▸\";float: left;margin-right: 0.25em;color: #696969;}#sk-container-id-1 label.sk-toggleable__label-arrow:hover:before {color: black;}#sk-container-id-1 div.sk-estimator:hover label.sk-toggleable__label-arrow:before {color: black;}#sk-container-id-1 div.sk-toggleable__content {max-height: 0;max-width: 0;overflow: hidden;text-align: left;background-color: #f0f8ff;}#sk-container-id-1 div.sk-toggleable__content pre {margin: 0.2em;color: black;border-radius: 0.25em;background-color: #f0f8ff;}#sk-container-id-1 input.sk-toggleable__control:checked~div.sk-toggleable__content {max-height: 200px;max-width: 100%;overflow: auto;}#sk-container-id-1 input.sk-toggleable__control:checked~label.sk-toggleable__label-arrow:before {content: \"▾\";}#sk-container-id-1 div.sk-estimator input.sk-toggleable__control:checked~label.sk-toggleable__label {background-color: #d4ebff;}#sk-container-id-1 div.sk-label input.sk-toggleable__control:checked~label.sk-toggleable__label {background-color: #d4ebff;}#sk-container-id-1 input.sk-hidden--visually {border: 0;clip: rect(1px 1px 1px 1px);clip: rect(1px, 1px, 1px, 1px);height: 1px;margin: -1px;overflow: hidden;padding: 0;position: absolute;width: 1px;}#sk-container-id-1 div.sk-estimator {font-family: monospace;background-color: #f0f8ff;border: 1px dotted black;border-radius: 0.25em;box-sizing: border-box;margin-bottom: 0.5em;}#sk-container-id-1 div.sk-estimator:hover {background-color: #d4ebff;}#sk-container-id-1 div.sk-parallel-item::after {content: \"\";width: 100%;border-bottom: 1px solid gray;flex-grow: 1;}#sk-container-id-1 div.sk-label:hover label.sk-toggleable__label {background-color: #d4ebff;}#sk-container-id-1 div.sk-serial::before {content: \"\";position: absolute;border-left: 1px solid gray;box-sizing: border-box;top: 0;bottom: 0;left: 50%;z-index: 0;}#sk-container-id-1 div.sk-serial {display: flex;flex-direction: column;align-items: center;background-color: white;padding-right: 0.2em;padding-left: 0.2em;position: relative;}#sk-container-id-1 div.sk-item {position: relative;z-index: 1;}#sk-container-id-1 div.sk-parallel {display: flex;align-items: stretch;justify-content: center;background-color: white;position: relative;}#sk-container-id-1 div.sk-item::before, #sk-container-id-1 div.sk-parallel-item::before {content: \"\";position: absolute;border-left: 1px solid gray;box-sizing: border-box;top: 0;bottom: 0;left: 50%;z-index: -1;}#sk-container-id-1 div.sk-parallel-item {display: flex;flex-direction: column;z-index: 1;position: relative;background-color: white;}#sk-container-id-1 div.sk-parallel-item:first-child::after {align-self: flex-end;width: 50%;}#sk-container-id-1 div.sk-parallel-item:last-child::after {align-self: flex-start;width: 50%;}#sk-container-id-1 div.sk-parallel-item:only-child::after {width: 0;}#sk-container-id-1 div.sk-dashed-wrapped {border: 1px dashed gray;margin: 0 0.4em 0.5em 0.4em;box-sizing: border-box;padding-bottom: 0.4em;background-color: white;}#sk-container-id-1 div.sk-label label {font-family: monospace;font-weight: bold;display: inline-block;line-height: 1.2em;}#sk-container-id-1 div.sk-label-container {text-align: center;}#sk-container-id-1 div.sk-container {/* jupyter's `normalize.less` sets `[hidden] { display: none; }` but bootstrap.min.css set `[hidden] { display: none !important; }` so we also need the `!important` here to be able to override the default hidden behavior on the sphinx rendered scikit-learn.org. See: https://github.com/scikit-learn/scikit-learn/issues/21755 */display: inline-block !important;position: relative;}#sk-container-id-1 div.sk-text-repr-fallback {display: none;}</style><div id=\"sk-container-id-1\" class=\"sk-top-container\"><div class=\"sk-text-repr-fallback\"><pre>XGBClassifier(base_score=None, booster=None, callbacks=None,\n",
       "              class_weight=&#x27;balanced&#x27;, colsample_bylevel=None,\n",
       "              colsample_bynode=None, colsample_bytree=None, device=&#x27;gpu&#x27;,\n",
       "              early_stopping_rounds=None, enable_categorical=False,\n",
       "              eval_metric=None, feature_types=None, gamma=None, gpu_id=None,\n",
       "              grow_policy=None, importance_type=None,\n",
       "              interaction_constraints=None, learning_rate=0.505, max_bin=None,\n",
       "              max_cat_threshold=None, max_cat_to_onehot=None,\n",
       "              max_delta_step=None, max_depth=3, max_leaves=None,\n",
       "              min_child_weight=0.01, missing=nan, monotone_constraints=None,\n",
       "              n_estimators=225, n_jobs=-1, num_parallel_tree=None, ...)</pre><b>In a Jupyter environment, please rerun this cell to show the HTML representation or trust the notebook. <br />On GitHub, the HTML representation is unable to render, please try loading this page with nbviewer.org.</b></div><div class=\"sk-container\" hidden><div class=\"sk-item\"><div class=\"sk-estimator sk-toggleable\"><input class=\"sk-toggleable__control sk-hidden--visually\" id=\"sk-estimator-id-1\" type=\"checkbox\" checked><label for=\"sk-estimator-id-1\" class=\"sk-toggleable__label sk-toggleable__label-arrow\">XGBClassifier</label><div class=\"sk-toggleable__content\"><pre>XGBClassifier(base_score=None, booster=None, callbacks=None,\n",
       "              class_weight=&#x27;balanced&#x27;, colsample_bylevel=None,\n",
       "              colsample_bynode=None, colsample_bytree=None, device=&#x27;gpu&#x27;,\n",
       "              early_stopping_rounds=None, enable_categorical=False,\n",
       "              eval_metric=None, feature_types=None, gamma=None, gpu_id=None,\n",
       "              grow_policy=None, importance_type=None,\n",
       "              interaction_constraints=None, learning_rate=0.505, max_bin=None,\n",
       "              max_cat_threshold=None, max_cat_to_onehot=None,\n",
       "              max_delta_step=None, max_depth=3, max_leaves=None,\n",
       "              min_child_weight=0.01, missing=nan, monotone_constraints=None,\n",
       "              n_estimators=225, n_jobs=-1, num_parallel_tree=None, ...)</pre></div></div></div></div></div>"
      ],
      "text/plain": [
       "XGBClassifier(base_score=None, booster=None, callbacks=None,\n",
       "              class_weight='balanced', colsample_bylevel=None,\n",
       "              colsample_bynode=None, colsample_bytree=None, device='gpu',\n",
       "              early_stopping_rounds=None, enable_categorical=False,\n",
       "              eval_metric=None, feature_types=None, gamma=None, gpu_id=None,\n",
       "              grow_policy=None, importance_type=None,\n",
       "              interaction_constraints=None, learning_rate=0.505, max_bin=None,\n",
       "              max_cat_threshold=None, max_cat_to_onehot=None,\n",
       "              max_delta_step=None, max_depth=3, max_leaves=None,\n",
       "              min_child_weight=0.01, missing=nan, monotone_constraints=None,\n",
       "              n_estimators=225, n_jobs=-1, num_parallel_tree=None, ...)"
      ]
     },
     "execution_count": 7,
     "metadata": {},
     "output_type": "execute_result"
    }
   ],
   "source": [
    "# cargar modelos pre-entrenados\n",
    "# mejor modelo escogido para la evaluación final\n",
    "#modelo_top = joblib.load('modelos/modelo_top.pkl')\n",
    "grid_xgb = joblib.load('modelos/XGBoostClassifier.pkl')\n",
    "xgb_op = grid_xgb.best_estimator_\n",
    "xgb_op"
   ]
  },
  {
   "cell_type": "code",
   "execution_count": 8,
   "id": "9853b377-39eb-40bf-b03e-addbc092b471",
   "metadata": {},
   "outputs": [
    {
     "name": "stderr",
     "output_type": "stream",
     "text": [
      "/opt/conda/lib/python3.10/site-packages/xgboost/sklearn.py:761: UserWarning: n_estimators is not saved in Scikit-Learn meta.\n",
      "  warnings.warn(\n",
      "/opt/conda/lib/python3.10/site-packages/xgboost/sklearn.py:761: UserWarning: max_depth is not saved in Scikit-Learn meta.\n",
      "  warnings.warn(\n"
     ]
    }
   ],
   "source": [
    "# guardar modelo\n",
    "model_fname = \"xgboost.model\"\n",
    "xgb_op.save_model(model_fname)"
   ]
  },
  {
   "cell_type": "code",
   "execution_count": 9,
   "id": "f7f64e69-2b4b-4354-a961-784d51433044",
   "metadata": {},
   "outputs": [
    {
     "name": "stdout",
     "output_type": "stream",
     "text": [
      "xgboost.model\n"
     ]
    },
    {
     "data": {
      "text/plain": [
       "'xgbmodel.tar.gz'"
      ]
     },
     "execution_count": 9,
     "metadata": {},
     "output_type": "execute_result"
    }
   ],
   "source": [
    "# crear tarball\n",
    "model_archive_name = \"xgbmodel.tar.gz\"\n",
    "!tar -cvpzf {model_archive_name} 'xgboost.model'\n",
    "model_archive_name"
   ]
  },
  {
   "cell_type": "code",
   "execution_count": 10,
   "id": "5e23ee45-829b-4ed2-a789-aff994fc5d96",
   "metadata": {},
   "outputs": [
    {
     "name": "stdout",
     "output_type": "stream",
     "text": [
      "model uploaded to: s3://sagemaker-us-east-1-735423154527/xgbmodel/xgbmodel.tar.gz\n"
     ]
    }
   ],
   "source": [
    "# cargar modelo a S3\n",
    "model_url = sagemaker_session.upload_data(path=model_archive_name, key_prefix=\"xgbmodel\")\n",
    "print(\"model uploaded to: {}\".format(model_url))"
   ]
  },
  {
   "cell_type": "code",
   "execution_count": 11,
   "id": "6ac452e2-e1cd-438b-925a-fe55bad97045",
   "metadata": {},
   "outputs": [
    {
     "name": "stdout",
     "output_type": "stream",
     "text": [
      "(2026, 33)\n"
     ]
    },
    {
     "data": {
      "text/plain": [
       "100"
      ]
     },
     "execution_count": 11,
     "metadata": {},
     "output_type": "execute_result"
    }
   ],
   "source": [
    "# crear archivo de payload\n",
    "payload_archive_name = \"xgb_payload.tar.gz\"\n",
    "print(x_test.shape)\n",
    "batch_size = 100\n",
    "batch_size\n"
   ]
  },
  {
   "cell_type": "code",
   "execution_count": 12,
   "id": "6df504fe-7629-4553-89de-af0196ec98f7",
   "metadata": {},
   "outputs": [
    {
     "name": "stdout",
     "output_type": "stream",
     "text": [
      "100 payload_sample.csv\n"
     ]
    }
   ],
   "source": [
    "np.savetxt(\"payload_sample.csv\", x_test[0:batch_size], delimiter=\",\")\n",
    "!wc -l payload_sample.csv"
   ]
  },
  {
   "cell_type": "code",
   "execution_count": 13,
   "id": "5bfa928a-7aca-4b48-8a43-1b4f19be2119",
   "metadata": {},
   "outputs": [
    {
     "name": "stdout",
     "output_type": "stream",
     "text": [
      "payload_sample.csv\n"
     ]
    }
   ],
   "source": [
    "# crear tarball\n",
    "!tar -cvzf {payload_archive_name} payload_sample.csv"
   ]
  },
  {
   "cell_type": "code",
   "execution_count": 14,
   "id": "0467892a-2c03-417a-b817-ac90db7cae8e",
   "metadata": {},
   "outputs": [],
   "source": [
    "# cargar payload a bucket S3\n",
    "sample_payload_url = sagemaker_session.upload_data(\n",
    "    path=payload_archive_name, key_prefix=\"xgb_payload\"\n",
    ")"
   ]
  },
  {
   "cell_type": "code",
   "execution_count": 15,
   "id": "2fd0ac10-0d2e-4907-84c2-fc8fb74c4b54",
   "metadata": {},
   "outputs": [
    {
     "data": {
      "text/plain": [
       "'683313688378.dkr.ecr.us-east-1.amazonaws.com/sagemaker-xgboost:1.2-1'"
      ]
     },
     "execution_count": 15,
     "metadata": {},
     "output_type": "execute_result"
    }
   ],
   "source": [
    "# cargar imagen del container URL\n",
    "dlc_uri = image_uris.retrieve(\"xgboost\", region, \"1.2-1\")\n",
    "dlc_uri\n"
   ]
  },
  {
   "cell_type": "code",
   "execution_count": 16,
   "id": "3902de75-f65d-4b87-9a65-bbfe12e6ab2f",
   "metadata": {},
   "outputs": [
    {
     "name": "stdout",
     "output_type": "stream",
     "text": [
      "ModelPackageGroup Arn : arn:aws:sagemaker:us-east-1:735423154527:model-package-group/XGBOOST-cpu-models-1705894406\n"
     ]
    }
   ],
   "source": [
    "# crear Model Group\n",
    "model_package_group_name = \"{}-cpu-models-\".format(framework) + str(round(time.time()))\n",
    "model_package_group_description = \"{} models\".format(ml_task.lower())\n",
    "\n",
    "model_package_group_input_dict = {\n",
    "    \"ModelPackageGroupName\": model_package_group_name,\n",
    "    \"ModelPackageGroupDescription\": model_package_group_description,\n",
    "}\n",
    "\n",
    "create_model_package_group_response = sagemaker_client.create_model_package_group(\n",
    "    **model_package_group_input_dict\n",
    ")\n",
    "print(\n",
    "    \"ModelPackageGroup Arn : {}\".format(create_model_package_group_response[\"ModelPackageGroupArn\"])\n",
    ")"
   ]
  },
  {
   "cell_type": "code",
   "execution_count": 17,
   "id": "20b611b5-7781-41e0-beaf-b64b33dbb0f8",
   "metadata": {},
   "outputs": [
    {
     "data": {
      "text/plain": [
       "{'ModelPackageGroupName': 'XGBOOST-cpu-models-1705894406',\n",
       " 'Domain': 'MACHINE_LEARNING',\n",
       " 'Task': 'CLASSIFICATION',\n",
       " 'SamplePayloadUrl': 's3://sagemaker-us-east-1-735423154527/xgb_payload/xgb_payload.tar.gz',\n",
       " 'ModelPackageDescription': 'XGBOOST xgboost inference recommender',\n",
       " 'ModelApprovalStatus': 'PendingManualApproval'}"
      ]
     },
     "execution_count": 17,
     "metadata": {},
     "output_type": "execute_result"
    }
   ],
   "source": [
    "# registrar Model Version/Package\n",
    "model_package_description = \"{} {} inference recommender\".format(framework, model_name)\n",
    "\n",
    "model_approval_status = \"PendingManualApproval\"\n",
    "\n",
    "create_model_package_input_dict = {\n",
    "    \"ModelPackageGroupName\": model_package_group_name,\n",
    "    \"Domain\": ml_domain.upper(),\n",
    "    \"Task\": ml_task.upper(),\n",
    "    \"SamplePayloadUrl\": sample_payload_url,\n",
    "    \"ModelPackageDescription\": model_package_description,\n",
    "    \"ModelApprovalStatus\": model_approval_status,\n",
    "}\n",
    "create_model_package_input_dict"
   ]
  },
  {
   "cell_type": "code",
   "execution_count": 18,
   "id": "5d4970dc-2033-490f-a379-86d1c73750bc",
   "metadata": {},
   "outputs": [
    {
     "data": {
      "text/plain": [
       "['text/csv']"
      ]
     },
     "execution_count": 18,
     "metadata": {},
     "output_type": "execute_result"
    }
   ],
   "source": [
    "# configurar parametros de inferencia\n",
    "input_mime_types = [\"text/csv\"]\n",
    "input_mime_types"
   ]
  },
  {
   "cell_type": "code",
   "execution_count": 19,
   "id": "0f6f2d1b-9bec-4f27-914c-4bbe32b07475",
   "metadata": {},
   "outputs": [],
   "source": [
    "supported_realtime_inference_types = [\n",
    "    \"ml.m4.2xlarge\",\n",
    "    \"ml.c5.2xlarge\",\n",
    "    \"ml.c5.xlarge\",\n",
    "    \"ml.c5.9xlarge\",\n",
    "]"
   ]
  },
  {
   "cell_type": "code",
   "execution_count": 20,
   "id": "f2eaedd7-bf52-4ab3-b383-8e7861b4a048",
   "metadata": {},
   "outputs": [],
   "source": [
    "modelpackage_inference_specification = {\n",
    "    \"InferenceSpecification\": {\n",
    "        \"Containers\": [\n",
    "            {\n",
    "                \"Image\": dlc_uri,\n",
    "                \"Framework\": framework.upper(),\n",
    "                \"FrameworkVersion\": framework_version,\n",
    "                \"NearestModelName\": model_name,\n",
    "            }\n",
    "        ],\n",
    "        \"SupportedContentTypes\": input_mime_types,  # required, must be non-null\n",
    "        \"SupportedResponseMIMETypes\": [],\n",
    "        \"SupportedRealtimeInferenceInstanceTypes\": supported_realtime_inference_types,  # optional\n",
    "    }\n",
    "}\n",
    "\n",
    "# Specify the model data\n",
    "modelpackage_inference_specification[\"InferenceSpecification\"][\"Containers\"][0][\n",
    "    \"ModelDataUrl\"\n",
    "] = model_url\n"
   ]
  },
  {
   "cell_type": "code",
   "execution_count": 21,
   "id": "e3a9e4a2-3c6d-412f-9a1e-c23c82d9f20e",
   "metadata": {},
   "outputs": [
    {
     "name": "stdout",
     "output_type": "stream",
     "text": [
      "ModelPackage Version ARN : arn:aws:sagemaker:us-east-1:735423154527:model-package/XGBOOST-cpu-models-1705894406/1\n"
     ]
    }
   ],
   "source": [
    "# crear model package/version en SageMaker Model Registry\n",
    "create_model_package_input_dict.update(modelpackage_inference_specification)\n",
    "create_mode_package_response = sagemaker_client.create_model_package(**create_model_package_input_dict)\n",
    "model_package_arn = create_mode_package_response[\"ModelPackageArn\"]\n",
    "print(\"ModelPackage Version ARN : {}\".format(model_package_arn))"
   ]
  },
  {
   "cell_type": "code",
   "execution_count": 22,
   "id": "d676a210-2279-409e-8647-b6d2b9c3f1e8",
   "metadata": {},
   "outputs": [
    {
     "name": "stdout",
     "output_type": "stream",
     "text": [
      "xgboost-instance-1705894407\n",
      "{'JobArn': 'arn:aws:sagemaker:us-east-1:735423154527:inference-recommendations-job/xgboost-instance-1705894407', 'ResponseMetadata': {'RequestId': '07ac8186-0963-47a0-8ded-f1e75879a4a7', 'HTTPStatusCode': 200, 'HTTPHeaders': {'x-amzn-requestid': '07ac8186-0963-47a0-8ded-f1e75879a4a7', 'content-type': 'application/x-amz-json-1.1', 'content-length': '111', 'date': 'Mon, 22 Jan 2024 03:33:26 GMT'}, 'RetryAttempts': 0}}\n"
     ]
    }
   ],
   "source": [
    "# crear  Inference Recommender Default Job\n",
    "job_name = model_name + \"-instance-\" + str(round(time.time()))\n",
    "job_description = \"{} {}\".format(framework, model_name)\n",
    "job_type = \"Default\"\n",
    "print(job_name)\n",
    "\n",
    "# recomendaciones\n",
    "recom = sagemaker_client.create_inference_recommendations_job(\n",
    "    JobName=job_name,\n",
    "    JobDescription=job_description,  # optional\n",
    "    JobType=job_type,\n",
    "    RoleArn=role,\n",
    "    InputConfig={\"ModelPackageVersionArn\": model_package_arn},\n",
    ")\n",
    "\n",
    "print(recom)"
   ]
  },
  {
   "cell_type": "code",
   "execution_count": 23,
   "id": "83eecaab-b1d8-45cf-badc-c55dbd0c8e68",
   "metadata": {},
   "outputs": [
    {
     "data": {
      "text/plain": [
       "'\\nfinished = False\\nwhile not finished:\\n    inference_recommender_job = sagemaker_client.describe_inference_recommendations_job(JobName=job_name)\\n    if inference_recommender_job[\"Status\"] in [\"COMPLETED\", \"STOPPED\", \"FAILED\"]:\\n        finished = True\\n    else:\\n        print(\"In progress\")\\n        time.sleep(300)\\n\\nif inference_recommender_job[\"Status\"] == \"FAILED\":\\n    print(\"Inference recommender job failed \")\\n    print(\"Failed Reason: {}\".inference_recommender_job[\"FailedReason\"])\\nelse:\\n    print(\"Inference recommender job completed\")\\n\\ndata = [\\n    {**x[\"EndpointConfiguration\"], **x[\"ModelConfiguration\"], **x[\"Metrics\"]}\\n    for x in inference_recommender_job[\"InferenceRecommendations\"]\\n]\\ndf = pd.DataFrame(data)\\ndropFilter = df.filter([\"VariantName\"])\\ndf.drop(dropFilter, inplace=True, axis=1)\\npd.set_option(\"max_colwidth\", 400)\\ndf.head()\\n    \\n'"
      ]
     },
     "execution_count": 23,
     "metadata": {},
     "output_type": "execute_result"
    }
   ],
   "source": [
    "\"\"\"\n",
    "finished = False\n",
    "while not finished:\n",
    "    inference_recommender_job = sagemaker_client.describe_inference_recommendations_job(JobName=job_name)\n",
    "    if inference_recommender_job[\"Status\"] in [\"COMPLETED\", \"STOPPED\", \"FAILED\"]:\n",
    "        finished = True\n",
    "    else:\n",
    "        print(\"In progress\")\n",
    "        time.sleep(300)\n",
    "\n",
    "if inference_recommender_job[\"Status\"] == \"FAILED\":\n",
    "    print(\"Inference recommender job failed \")\n",
    "    print(\"Failed Reason: {}\".inference_recommender_job[\"FailedReason\"])\n",
    "else:\n",
    "    print(\"Inference recommender job completed\")\n",
    "\n",
    "data = [\n",
    "    {**x[\"EndpointConfiguration\"], **x[\"ModelConfiguration\"], **x[\"Metrics\"]}\n",
    "    for x in inference_recommender_job[\"InferenceRecommendations\"]\n",
    "]\n",
    "df = pd.DataFrame(data)\n",
    "dropFilter = df.filter([\"VariantName\"])\n",
    "df.drop(dropFilter, inplace=True, axis=1)\n",
    "pd.set_option(\"max_colwidth\", 400)\n",
    "df.head()\n",
    "    \n",
    "\"\"\" "
   ]
  },
  {
   "cell_type": "code",
   "execution_count": 24,
   "id": "bbdfca40-9ef7-4eb6-802a-00fdc4ceb980",
   "metadata": {},
   "outputs": [
    {
     "name": "stdout",
     "output_type": "stream",
     "text": [
      "{'Steps': [], 'ResponseMetadata': {'RequestId': '2cb6f1b3-7874-401f-aa5c-ef49e816d5ca', 'HTTPStatusCode': 200, 'HTTPHeaders': {'x-amzn-requestid': '2cb6f1b3-7874-401f-aa5c-ef49e816d5ca', 'content-type': 'application/x-amz-json-1.1', 'content-length': '12', 'date': 'Mon, 22 Jan 2024 03:33:28 GMT'}, 'RetryAttempts': 0}}\n"
     ]
    }
   ],
   "source": [
    "# ver sub-tareas para Inference Recommender job\n",
    "list_job_steps_response = sagemaker_client.list_inference_recommendations_job_steps(JobName=job_name)\n",
    "print(list_job_steps_response)"
   ]
  }
 ],
 "metadata": {
  "kernelspec": {
   "display_name": "Python 3 (ipykernel)",
   "language": "python",
   "name": "python3"
  },
  "language_info": {
   "codemirror_mode": {
    "name": "ipython",
    "version": 3
   },
   "file_extension": ".py",
   "mimetype": "text/x-python",
   "name": "python",
   "nbconvert_exporter": "python",
   "pygments_lexer": "ipython3",
   "version": "3.10.13"
  }
 },
 "nbformat": 4,
 "nbformat_minor": 5
}
