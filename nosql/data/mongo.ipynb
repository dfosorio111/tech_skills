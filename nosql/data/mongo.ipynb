{
 "cells": [
  {
   "cell_type": "markdown",
   "metadata": {},
   "source": [
    "\n",
    "# Mongo"
   ]
  },
  {
   "cell_type": "code",
   "execution_count": null,
   "metadata": {},
   "outputs": [],
   "source": [
    "# iniciar Mongo Shell\n",
    "# acceder a MongoDB\n",
    "mongosh"
   ]
  },
  {
   "cell_type": "markdown",
   "metadata": {},
   "source": [
    "## Crear base de datos MongoDB y usuario"
   ]
  },
  {
   "cell_type": "code",
   "execution_count": null,
   "metadata": {},
   "outputs": [],
   "source": [
    "# mostrar bases de datos \n",
    "show dbs"
   ]
  },
  {
   "cell_type": "code",
   "execution_count": null,
   "metadata": {},
   "outputs": [],
   "source": [
    "# crear base de datos\n",
    "use database_name\n",
    "\n",
    "# ver  base de datos actual\n",
    "db"
   ]
  },
  {
   "cell_type": "code",
   "execution_count": null,
   "metadata": {},
   "outputs": [],
   "source": [
    "# crear usuario \n",
    "\n",
    "db.createUser(\n",
    "  {\n",
    "    user: \"cherry\",\n",
    "    pwd: \"some_password\",\n",
    "    roles: [ { role: \"readWrite\", db: \"employees\" } ]\n",
    "  }\n",
    ")\n",
    "\n",
    "# ver lista de usuarios\n",
    "db.getUsers();\n",
    "\n",
    "# ver usuarios  \n",
    "show users\n",
    "\n",
    "\n",
    "# eliminar usuario\n",
    "\n",
    "db.dropUser(\"cherry\", {w: \"majority\", wtimeout: 4000})\n",
    "\n",
    "\n"
   ]
  },
  {
   "cell_type": "markdown",
   "metadata": {},
   "source": [
    "## Asegurar MongoDB (Ubuntu)"
   ]
  },
  {
   "cell_type": "code",
   "execution_count": null,
   "metadata": {},
   "outputs": [],
   "source": [
    "# acceder a Mongo Shell\n",
    "mongosh\n",
    "\n",
    "# cambiar a usuario admin\n",
    "use admin\n",
    "\n",
    "# crear usuario administrator\n",
    "# dar permisos read and write a admin\n",
    "db.createUser(\n",
    "  {\n",
    "    user: \"admonsis\",\n",
    "    pwd: \"Y0uB3l0ngW1thAdm523#\",\n",
    "    roles: [ { role: \"userAdmin\", db: \"ISIS2304\" }, \"readWriteAnyDatabase\" ]\n",
    " }\n",
    ")\n",
    "\n",
    "\n",
    "exit"
   ]
  },
  {
   "cell_type": "code",
   "execution_count": null,
   "metadata": {},
   "outputs": [],
   "source": [
    "# abrir mongod.conf en nano\n",
    "sudo nano /etc/mongod.conf\n",
    "\n",
    "\n",
    "# descomentar seccion  security\n",
    "# agregar directiva \n",
    "\n",
    "security:\n",
    "    authorization: enabled\n",
    "\n",
    "exit \n",
    "\n",
    "# reiniciar mongod\n",
    "sudo systemctl restart mongod\n",
    "\n",
    "\n",
    "# verificar estatus de mongod\n",
    "sudo systemctl status mongod\n",
    "\n",
    "# iniciar Mongo Shell \n",
    "mongosh\n",
    "\n",
    "\n",
    "# intentar ver bases de datos\n",
    "show dbs\n",
    "\n",
    "\n",
    "# entrar como usuario administrador\n",
    "mongosh -u AdminCherry -p --authenticationDatabase admin"
   ]
  },
  {
   "cell_type": "markdown",
   "metadata": {},
   "source": [
    "## Configurar Acceso Remoto"
   ]
  },
  {
   "cell_type": "code",
   "execution_count": null,
   "metadata": {},
   "outputs": [],
   "source": [
    "# editar archivo /etc/mongod.conf   (nano)\n",
    "sudo nano /etc/mongod.conf  \n",
    "\n",
    "\n",
    "# agregar a sección  network interfaces  bindIp\n",
    "bindIp: 127.0.0.1, mongo-server-ip\n",
    "\n",
    "# reiniciar MongoDB \n",
    "sudo systemctl restart mongod\n",
    "\n",
    "# permitir conexiones de maquina remota \n",
    "sudo ufw allow from remote_machine_ip to any port 27017\n",
    "\n",
    "\n",
    "# reiniciar firewall\n",
    "sudo ufw reload\n"
   ]
  },
  {
   "cell_type": "code",
   "execution_count": null,
   "metadata": {},
   "outputs": [],
   "source": [
    "# instalar  Netcat\n",
    "sudo apt install netcat\n",
    "\n",
    "# establecer conexion\n",
    "nc -zv mongodb_server_ip 27017\n",
    "\n"
   ]
  }
 ],
 "metadata": {
  "language_info": {
   "name": "python"
  }
 },
 "nbformat": 4,
 "nbformat_minor": 2
}
